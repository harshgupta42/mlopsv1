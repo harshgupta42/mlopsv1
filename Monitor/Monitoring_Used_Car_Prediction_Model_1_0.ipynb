{
  "nbformat": 4,
  "nbformat_minor": 0,
  "metadata": {
    "colab": {
      "name": "Monitoring Used Car Prediction Model 1.0.ipynb",
      "provenance": [],
      "collapsed_sections": []
    },
    "kernelspec": {
      "name": "python3",
      "display_name": "Python 3"
    },
    "language_info": {
      "name": "python"
    }
  },
  "cells": [
    {
      "cell_type": "markdown",
      "metadata": {
        "id": "3VBbPBFRCv2E"
      },
      "source": [
        "## Building and storing the file as pickle file"
      ]
    },
    {
      "cell_type": "code",
      "metadata": {
        "id": "c9gF4R9gFds_"
      },
      "source": [
        "import pandas as pd\n",
        "import numpy as np\n",
        "from sklearn.model_selection import train_test_split\n",
        "from sklearn.metrics import r2_score, mean_squared_error\n",
        "from sklearn.compose import ColumnTransformer\n",
        "from sklearn.pipeline import Pipeline\n",
        "from sklearn.impute import SimpleImputer\n",
        "from sklearn.preprocessing import StandardScaler, OneHotEncoder\n",
        "from xgboost import XGBRegressor"
      ],
      "execution_count": null,
      "outputs": []
    },
    {
      "cell_type": "code",
      "metadata": {
        "colab": {
          "base_uri": "https://localhost:8080/",
          "height": 35
        },
        "id": "ng7uCyjHidfV",
        "outputId": "d366e61e-8891-4b3c-acd4-54e4715e239f"
      },
      "source": [
        "import xgboost\n",
        "xgboost.__version__"
      ],
      "execution_count": null,
      "outputs": [
        {
          "output_type": "execute_result",
          "data": {
            "application/vnd.google.colaboratory.intrinsic+json": {
              "type": "string"
            },
            "text/plain": [
              "'0.90'"
            ]
          },
          "metadata": {},
          "execution_count": 2
        }
      ]
    },
    {
      "cell_type": "code",
      "metadata": {
        "colab": {
          "base_uri": "https://localhost:8080/",
          "height": 35
        },
        "id": "7k6teGK8ow9L",
        "outputId": "f43e2b66-9a1e-4d89-bc27-d56c026aec83"
      },
      "source": [
        "import sklearn\n",
        "sklearn.__version__"
      ],
      "execution_count": null,
      "outputs": [
        {
          "output_type": "execute_result",
          "data": {
            "application/vnd.google.colaboratory.intrinsic+json": {
              "type": "string"
            },
            "text/plain": [
              "'0.22.2.post1'"
            ]
          },
          "metadata": {},
          "execution_count": 3
        }
      ]
    },
    {
      "cell_type": "markdown",
      "metadata": {
        "id": "wH75ib_uC3Gc"
      },
      "source": [
        "## Loading the dataset: Used Car Price Prediction"
      ]
    },
    {
      "cell_type": "code",
      "metadata": {
        "id": "E2eCp6WPFjCQ"
      },
      "source": [
        "cars_df = pd.read_csv( \"https://drive.google.com/uc?export=download&id=1V_VBbyjGj6vvD0A90S5Lk0DG90djz28B\" )"
      ],
      "execution_count": null,
      "outputs": []
    },
    {
      "cell_type": "code",
      "metadata": {
        "colab": {
          "base_uri": "https://localhost:8080/",
          "height": 405
        },
        "id": "9w_Ywj6SFwrc",
        "outputId": "2fdfb7ad-1c80-4511-f1b3-64b08d16db47"
      },
      "source": [
        "cars_df.head(5)"
      ],
      "execution_count": null,
      "outputs": [
        {
          "output_type": "execute_result",
          "data": {
            "text/html": [
              "<div>\n",
              "<style scoped>\n",
              "    .dataframe tbody tr th:only-of-type {\n",
              "        vertical-align: middle;\n",
              "    }\n",
              "\n",
              "    .dataframe tbody tr th {\n",
              "        vertical-align: top;\n",
              "    }\n",
              "\n",
              "    .dataframe thead th {\n",
              "        text-align: right;\n",
              "    }\n",
              "</style>\n",
              "<table border=\"1\" class=\"dataframe\">\n",
              "  <thead>\n",
              "    <tr style=\"text-align: right;\">\n",
              "      <th></th>\n",
              "      <th>Name</th>\n",
              "      <th>Location</th>\n",
              "      <th>Year</th>\n",
              "      <th>Kilometers_Driven</th>\n",
              "      <th>Fuel_Type</th>\n",
              "      <th>Transmission</th>\n",
              "      <th>Owner_Type</th>\n",
              "      <th>Mileage</th>\n",
              "      <th>Engine</th>\n",
              "      <th>Power</th>\n",
              "      <th>Seats</th>\n",
              "      <th>New_Price</th>\n",
              "      <th>Price</th>\n",
              "      <th>mileage_new</th>\n",
              "      <th>engine_new</th>\n",
              "      <th>power_new</th>\n",
              "      <th>age</th>\n",
              "      <th>make</th>\n",
              "      <th>model</th>\n",
              "      <th>KM_Driven</th>\n",
              "    </tr>\n",
              "  </thead>\n",
              "  <tbody>\n",
              "    <tr>\n",
              "      <th>0</th>\n",
              "      <td>Honda Jazz V</td>\n",
              "      <td>Chennai</td>\n",
              "      <td>2011</td>\n",
              "      <td>46000</td>\n",
              "      <td>Petrol</td>\n",
              "      <td>Manual</td>\n",
              "      <td>First</td>\n",
              "      <td>18.2 kmpl</td>\n",
              "      <td>1199 CC</td>\n",
              "      <td>88.7 bhp</td>\n",
              "      <td>5.0</td>\n",
              "      <td>8.61 Lakh</td>\n",
              "      <td>4.50</td>\n",
              "      <td>18.20</td>\n",
              "      <td>1199</td>\n",
              "      <td>88.70</td>\n",
              "      <td>9</td>\n",
              "      <td>honda</td>\n",
              "      <td>jazz</td>\n",
              "      <td>46</td>\n",
              "    </tr>\n",
              "    <tr>\n",
              "      <th>1</th>\n",
              "      <td>Maruti Ertiga VDI</td>\n",
              "      <td>Chennai</td>\n",
              "      <td>2012</td>\n",
              "      <td>87000</td>\n",
              "      <td>Diesel</td>\n",
              "      <td>Manual</td>\n",
              "      <td>First</td>\n",
              "      <td>20.77 kmpl</td>\n",
              "      <td>1248 CC</td>\n",
              "      <td>88.76 bhp</td>\n",
              "      <td>7.0</td>\n",
              "      <td>NaN</td>\n",
              "      <td>6.00</td>\n",
              "      <td>20.77</td>\n",
              "      <td>1248</td>\n",
              "      <td>88.76</td>\n",
              "      <td>8</td>\n",
              "      <td>maruti</td>\n",
              "      <td>ertiga</td>\n",
              "      <td>87</td>\n",
              "    </tr>\n",
              "    <tr>\n",
              "      <th>2</th>\n",
              "      <td>Nissan Micra Diesel XV</td>\n",
              "      <td>Jaipur</td>\n",
              "      <td>2013</td>\n",
              "      <td>86999</td>\n",
              "      <td>Diesel</td>\n",
              "      <td>Manual</td>\n",
              "      <td>First</td>\n",
              "      <td>23.08 kmpl</td>\n",
              "      <td>1461 CC</td>\n",
              "      <td>63.1 bhp</td>\n",
              "      <td>5.0</td>\n",
              "      <td>NaN</td>\n",
              "      <td>3.50</td>\n",
              "      <td>23.08</td>\n",
              "      <td>1461</td>\n",
              "      <td>63.10</td>\n",
              "      <td>7</td>\n",
              "      <td>nissan</td>\n",
              "      <td>micra</td>\n",
              "      <td>86</td>\n",
              "    </tr>\n",
              "    <tr>\n",
              "      <th>3</th>\n",
              "      <td>Tata Indica Vista Quadrajet LS</td>\n",
              "      <td>Chennai</td>\n",
              "      <td>2012</td>\n",
              "      <td>65932</td>\n",
              "      <td>Diesel</td>\n",
              "      <td>Manual</td>\n",
              "      <td>Second</td>\n",
              "      <td>22.3 kmpl</td>\n",
              "      <td>1248 CC</td>\n",
              "      <td>74 bhp</td>\n",
              "      <td>5.0</td>\n",
              "      <td>NaN</td>\n",
              "      <td>1.95</td>\n",
              "      <td>22.30</td>\n",
              "      <td>1248</td>\n",
              "      <td>74.00</td>\n",
              "      <td>8</td>\n",
              "      <td>tata</td>\n",
              "      <td>indica</td>\n",
              "      <td>65</td>\n",
              "    </tr>\n",
              "    <tr>\n",
              "      <th>4</th>\n",
              "      <td>Maruti Swift VDI BSIV</td>\n",
              "      <td>Jaipur</td>\n",
              "      <td>2015</td>\n",
              "      <td>64424</td>\n",
              "      <td>Diesel</td>\n",
              "      <td>Manual</td>\n",
              "      <td>First</td>\n",
              "      <td>25.2 kmpl</td>\n",
              "      <td>1248 CC</td>\n",
              "      <td>74 bhp</td>\n",
              "      <td>5.0</td>\n",
              "      <td>NaN</td>\n",
              "      <td>5.60</td>\n",
              "      <td>25.20</td>\n",
              "      <td>1248</td>\n",
              "      <td>74.00</td>\n",
              "      <td>5</td>\n",
              "      <td>maruti</td>\n",
              "      <td>swift</td>\n",
              "      <td>64</td>\n",
              "    </tr>\n",
              "  </tbody>\n",
              "</table>\n",
              "</div>"
            ],
            "text/plain": [
              "                             Name Location  Year  ...    make   model KM_Driven\n",
              "0                    Honda Jazz V  Chennai  2011  ...   honda    jazz        46\n",
              "1               Maruti Ertiga VDI  Chennai  2012  ...  maruti  ertiga        87\n",
              "2          Nissan Micra Diesel XV   Jaipur  2013  ...  nissan   micra        86\n",
              "3  Tata Indica Vista Quadrajet LS  Chennai  2012  ...    tata  indica        65\n",
              "4           Maruti Swift VDI BSIV   Jaipur  2015  ...  maruti   swift        64\n",
              "\n",
              "[5 rows x 20 columns]"
            ]
          },
          "metadata": {},
          "execution_count": 5
        }
      ]
    },
    {
      "cell_type": "code",
      "metadata": {
        "id": "9Dj_UunmFGLt"
      },
      "source": [
        "cars_df_dev, cars_df_prod = train_test_split(cars_df,\n",
        "                                             train_size = 0.8,\n",
        "                                             random_state = 42)"
      ],
      "execution_count": null,
      "outputs": []
    },
    {
      "cell_type": "code",
      "metadata": {
        "id": "4X1nQXYZS1tY"
      },
      "source": [
        "cars_df_prod = cars_df_prod.reset_index()\n",
        "cars_df_dev = cars_df_dev.reset_index()"
      ],
      "execution_count": null,
      "outputs": []
    },
    {
      "cell_type": "code",
      "metadata": {
        "id": "sehIIbSBFnD1"
      },
      "source": [
        "x_columns = ['KM_Driven', 'Fuel_Type', 'age',\n",
        "              'Transmission', 'Owner_Type', 'Seats',\n",
        "              'make', 'mileage_new', 'engine_new', \n",
        "              'power_new', 'Location']\n",
        "## model of the car is not included in the model"
      ],
      "execution_count": null,
      "outputs": []
    },
    {
      "cell_type": "code",
      "metadata": {
        "colab": {
          "base_uri": "https://localhost:8080/"
        },
        "id": "-JteBYVPShF3",
        "outputId": "8ebc4ac3-078b-450c-b1d5-bd697b9b9f92"
      },
      "source": [
        "cars_df.shape"
      ],
      "execution_count": null,
      "outputs": [
        {
          "output_type": "execute_result",
          "data": {
            "text/plain": [
              "(3092, 20)"
            ]
          },
          "metadata": {},
          "execution_count": 9
        }
      ]
    },
    {
      "cell_type": "code",
      "metadata": {
        "id": "pVC9f4QISa2h"
      },
      "source": [
        "cars_df = cars_df[x_columns + ['Price']].dropna()"
      ],
      "execution_count": null,
      "outputs": []
    },
    {
      "cell_type": "code",
      "metadata": {
        "colab": {
          "base_uri": "https://localhost:8080/"
        },
        "id": "l_bULZE0SjBf",
        "outputId": "abc71da1-ca79-4a0a-881f-4e5122392a3c"
      },
      "source": [
        "cars_df.shape"
      ],
      "execution_count": null,
      "outputs": [
        {
          "output_type": "execute_result",
          "data": {
            "text/plain": [
              "(3091, 12)"
            ]
          },
          "metadata": {},
          "execution_count": 11
        }
      ]
    },
    {
      "cell_type": "markdown",
      "metadata": {
        "id": "pJxhn2VxDAdG"
      },
      "source": [
        "## Identifying numerical and categorical features"
      ]
    },
    {
      "cell_type": "code",
      "metadata": {
        "id": "PuezADwYFsWd"
      },
      "source": [
        "cat_features = ['Fuel_Type',\n",
        "                'Transmission', 'Owner_Type', \n",
        "                'make', 'Location']"
      ],
      "execution_count": null,
      "outputs": []
    },
    {
      "cell_type": "code",
      "metadata": {
        "id": "IyzKKTogFs_l"
      },
      "source": [
        "num_features = list(set(x_columns) - set(cat_features))"
      ],
      "execution_count": null,
      "outputs": []
    },
    {
      "cell_type": "markdown",
      "metadata": {
        "id": "4tyTBzVVDDrX"
      },
      "source": [
        "## Split the dataset"
      ]
    },
    {
      "cell_type": "code",
      "metadata": {
        "id": "-ZXkTZdAkjFT"
      },
      "source": [
        "x_train, x_test, y_train, y_test = train_test_split(cars_df_dev[x_columns],\n",
        "                                                    cars_df_dev.Price,\n",
        "                                                    train_size = 0.8,\n",
        "                                                    random_state = 100)"
      ],
      "execution_count": null,
      "outputs": []
    },
    {
      "cell_type": "code",
      "metadata": {
        "colab": {
          "base_uri": "https://localhost:8080/"
        },
        "id": "IpkiJcu7T0g4",
        "outputId": "d87a1d84-cb61-4f19-f4b9-901f71bbb505"
      },
      "source": [
        "x_train.shape"
      ],
      "execution_count": null,
      "outputs": [
        {
          "output_type": "execute_result",
          "data": {
            "text/plain": [
              "(1978, 11)"
            ]
          },
          "metadata": {},
          "execution_count": 15
        }
      ]
    },
    {
      "cell_type": "markdown",
      "metadata": {
        "id": "ZJBs5b9MDGXr"
      },
      "source": [
        "## Creating the pipeline for the deployment"
      ]
    },
    {
      "cell_type": "code",
      "metadata": {
        "id": "hj4QG6V7dZHd"
      },
      "source": [
        "numeric_transformer = Pipeline(steps=[('scaler', StandardScaler())])\n",
        "\n",
        "categorical_transformer = OneHotEncoder(handle_unknown='ignore')\n",
        "\n",
        "preprocessor = ColumnTransformer(\n",
        "    transformers=[\n",
        "        ('num', numeric_transformer, num_features),                  \n",
        "        ('cat', categorical_transformer, cat_features),\n",
        "    ])\n",
        "\n",
        "params = { \"n_estimators\": 400,\n",
        "           \"max_depth\": 4,\n",
        "           \"objective\": 'reg:squarederror' }\n",
        "\n",
        "xgb_regressor = XGBRegressor(**params)\n",
        "\n",
        "reg = Pipeline(steps=[('preprocessor', preprocessor),\n",
        "                      ('regressor', xgb_regressor)])           \n",
        "\n",
        "reg.fit(x_train, \n",
        "        y_train)\n",
        "\n",
        "rmse = np.sqrt(mean_squared_error(y_test, \n",
        "                                  reg.predict(x_test)))"
      ],
      "execution_count": null,
      "outputs": []
    },
    {
      "cell_type": "code",
      "metadata": {
        "colab": {
          "base_uri": "https://localhost:8080/"
        },
        "id": "_sgMnRCllduv",
        "outputId": "23e4bb32-6bbe-473d-f330-61e63cac411f"
      },
      "source": [
        "print(rmse)"
      ],
      "execution_count": null,
      "outputs": [
        {
          "output_type": "stream",
          "name": "stdout",
          "text": [
            "0.6934366425383253\n"
          ]
        }
      ]
    },
    {
      "cell_type": "code",
      "metadata": {
        "colab": {
          "base_uri": "https://localhost:8080/"
        },
        "id": "celqIUHqFZNp",
        "outputId": "a5303e85-58a5-4834-943a-3a4e45590683"
      },
      "source": [
        "!pip install evidently"
      ],
      "execution_count": null,
      "outputs": [
        {
          "output_type": "stream",
          "name": "stdout",
          "text": [
            "Collecting evidently\n",
            "  Downloading evidently-0.1.27.dev0-py3-none-any.whl (13.3 MB)\n",
            "\u001b[K     |████████████████████████████████| 13.3 MB 5.4 MB/s \n",
            "\u001b[?25hRequirement already satisfied: scipy<=1.6.3 in /usr/local/lib/python3.7/dist-packages (from evidently) (1.4.1)\n",
            "Requirement already satisfied: scikit-learn>=0.22.1 in /usr/local/lib/python3.7/dist-packages (from evidently) (0.22.2.post1)\n",
            "Requirement already satisfied: requests in /usr/local/lib/python3.7/dist-packages (from evidently) (2.23.0)\n",
            "Requirement already satisfied: plotly in /usr/local/lib/python3.7/dist-packages (from evidently) (4.4.1)\n",
            "Collecting dataclasses\n",
            "  Downloading dataclasses-0.6-py3-none-any.whl (14 kB)\n",
            "Requirement already satisfied: numpy in /usr/local/lib/python3.7/dist-packages (from evidently) (1.19.5)\n",
            "Requirement already satisfied: pyyaml in /usr/local/lib/python3.7/dist-packages (from evidently) (3.13)\n",
            "Requirement already satisfied: statsmodels in /usr/local/lib/python3.7/dist-packages (from evidently) (0.10.2)\n",
            "Requirement already satisfied: pandas in /usr/local/lib/python3.7/dist-packages (from evidently) (1.1.5)\n",
            "Requirement already satisfied: joblib>=0.11 in /usr/local/lib/python3.7/dist-packages (from scikit-learn>=0.22.1->evidently) (1.0.1)\n",
            "Requirement already satisfied: pytz>=2017.2 in /usr/local/lib/python3.7/dist-packages (from pandas->evidently) (2018.9)\n",
            "Requirement already satisfied: python-dateutil>=2.7.3 in /usr/local/lib/python3.7/dist-packages (from pandas->evidently) (2.8.2)\n",
            "Requirement already satisfied: six>=1.5 in /usr/local/lib/python3.7/dist-packages (from python-dateutil>=2.7.3->pandas->evidently) (1.15.0)\n",
            "Requirement already satisfied: retrying>=1.3.3 in /usr/local/lib/python3.7/dist-packages (from plotly->evidently) (1.3.3)\n",
            "Requirement already satisfied: urllib3!=1.25.0,!=1.25.1,<1.26,>=1.21.1 in /usr/local/lib/python3.7/dist-packages (from requests->evidently) (1.24.3)\n",
            "Requirement already satisfied: idna<3,>=2.5 in /usr/local/lib/python3.7/dist-packages (from requests->evidently) (2.10)\n",
            "Requirement already satisfied: certifi>=2017.4.17 in /usr/local/lib/python3.7/dist-packages (from requests->evidently) (2021.5.30)\n",
            "Requirement already satisfied: chardet<4,>=3.0.2 in /usr/local/lib/python3.7/dist-packages (from requests->evidently) (3.0.4)\n",
            "Requirement already satisfied: patsy>=0.4.0 in /usr/local/lib/python3.7/dist-packages (from statsmodels->evidently) (0.5.2)\n",
            "Installing collected packages: dataclasses, evidently\n",
            "Successfully installed dataclasses-0.6 evidently-0.1.27.dev0\n"
          ]
        }
      ]
    },
    {
      "cell_type": "markdown",
      "metadata": {
        "id": "s6S-RZe2M088"
      },
      "source": [
        "## Predicting on Production Set"
      ]
    },
    {
      "cell_type": "code",
      "metadata": {
        "id": "X8F6WK6IM3ok"
      },
      "source": [
        "cars_df_prod['prediction'] = reg.predict(cars_df_prod[x_columns])"
      ],
      "execution_count": null,
      "outputs": []
    },
    {
      "cell_type": "markdown",
      "metadata": {
        "id": "5v7GNOn1e7rM"
      },
      "source": [
        "### Retriving the dummy variables from the pipeline"
      ]
    },
    {
      "cell_type": "code",
      "metadata": {
        "id": "vePQ2mREOngh"
      },
      "source": [
        "new_cat_features = list(reg['preprocessor'].transformers_[1][1].get_feature_names())"
      ],
      "execution_count": null,
      "outputs": []
    },
    {
      "cell_type": "code",
      "metadata": {
        "colab": {
          "base_uri": "https://localhost:8080/"
        },
        "id": "hdbDnfLDey-5",
        "outputId": "2a9d40d9-0025-4d9e-9b5a-1380fbde9591"
      },
      "source": [
        "new_cat_features"
      ],
      "execution_count": null,
      "outputs": [
        {
          "output_type": "execute_result",
          "data": {
            "text/plain": [
              "['x0_Diesel',\n",
              " 'x0_Petrol',\n",
              " 'x1_Automatic',\n",
              " 'x1_Manual',\n",
              " 'x2_First',\n",
              " 'x2_Fourth & Above',\n",
              " 'x2_Second',\n",
              " 'x2_Third',\n",
              " 'x3_chevrolet',\n",
              " 'x3_datsun',\n",
              " 'x3_fiat',\n",
              " 'x3_ford',\n",
              " 'x3_honda',\n",
              " 'x3_hyundai',\n",
              " 'x3_mahindra',\n",
              " 'x3_maruti',\n",
              " 'x3_mitsubishi',\n",
              " 'x3_nissan',\n",
              " 'x3_renault',\n",
              " 'x3_skoda',\n",
              " 'x3_tata',\n",
              " 'x3_toyota',\n",
              " 'x3_volkswagen',\n",
              " 'x4_Ahmedabad',\n",
              " 'x4_Bangalore',\n",
              " 'x4_Chennai',\n",
              " 'x4_Coimbatore',\n",
              " 'x4_Delhi',\n",
              " 'x4_Hyderabad',\n",
              " 'x4_Jaipur',\n",
              " 'x4_Kochi',\n",
              " 'x4_Kolkata',\n",
              " 'x4_Mumbai',\n",
              " 'x4_Pune']"
            ]
          },
          "metadata": {},
          "execution_count": 75
        }
      ]
    },
    {
      "cell_type": "code",
      "metadata": {
        "colab": {
          "base_uri": "https://localhost:8080/"
        },
        "id": "Go6F5qU0Qnlx",
        "outputId": "1824a4b0-07a4-4fcd-af51-8e275626b515"
      },
      "source": [
        "len(num_features + new_cat_features)"
      ],
      "execution_count": null,
      "outputs": [
        {
          "output_type": "execute_result",
          "data": {
            "text/plain": [
              "40"
            ]
          },
          "metadata": {},
          "execution_count": 21
        }
      ]
    },
    {
      "cell_type": "markdown",
      "metadata": {
        "id": "qYKiu76fTGXX"
      },
      "source": [
        "## Prepare Production Data\n",
        "\n",
        "We need to use unscaed numerical data and new categorical (dummy) variables"
      ]
    },
    {
      "cell_type": "code",
      "metadata": {
        "colab": {
          "base_uri": "https://localhost:8080/",
          "height": 451
        },
        "id": "0rkowy2ENlEB",
        "outputId": "cf7f9f61-81e5-465d-e377-f93aee2fd4f1"
      },
      "source": [
        "cars_df_prod_x_cols = reg.named_steps['preprocessor'].transform(cars_df_prod[x_columns])\n",
        "cars_df_prod_x_cols_df = pd.DataFrame( cars_df_prod_x_cols.toarray(), columns  = num_features + new_cat_features)\n",
        "cars_df_prod_x_cols_df_final = pd.concat([cars_df_prod[num_features], cars_df_prod_x_cols_df[new_cat_features]], axis = 1)\n",
        "cars_df_prod_x_cols_df_final['prediction'] = reg.predict(cars_df_prod[x_columns])\n",
        "cars_df_prod_x_cols_df_final"
      ],
      "execution_count": null,
      "outputs": [
        {
          "output_type": "execute_result",
          "data": {
            "text/html": [
              "<div>\n",
              "<style scoped>\n",
              "    .dataframe tbody tr th:only-of-type {\n",
              "        vertical-align: middle;\n",
              "    }\n",
              "\n",
              "    .dataframe tbody tr th {\n",
              "        vertical-align: top;\n",
              "    }\n",
              "\n",
              "    .dataframe thead th {\n",
              "        text-align: right;\n",
              "    }\n",
              "</style>\n",
              "<table border=\"1\" class=\"dataframe\">\n",
              "  <thead>\n",
              "    <tr style=\"text-align: right;\">\n",
              "      <th></th>\n",
              "      <th>engine_new</th>\n",
              "      <th>power_new</th>\n",
              "      <th>KM_Driven</th>\n",
              "      <th>mileage_new</th>\n",
              "      <th>Seats</th>\n",
              "      <th>age</th>\n",
              "      <th>x0_Diesel</th>\n",
              "      <th>x0_Petrol</th>\n",
              "      <th>x1_Automatic</th>\n",
              "      <th>x1_Manual</th>\n",
              "      <th>x2_First</th>\n",
              "      <th>x2_Fourth &amp; Above</th>\n",
              "      <th>x2_Second</th>\n",
              "      <th>x2_Third</th>\n",
              "      <th>x3_chevrolet</th>\n",
              "      <th>x3_datsun</th>\n",
              "      <th>x3_fiat</th>\n",
              "      <th>x3_ford</th>\n",
              "      <th>x3_honda</th>\n",
              "      <th>x3_hyundai</th>\n",
              "      <th>x3_mahindra</th>\n",
              "      <th>x3_maruti</th>\n",
              "      <th>x3_mitsubishi</th>\n",
              "      <th>x3_nissan</th>\n",
              "      <th>x3_renault</th>\n",
              "      <th>x3_skoda</th>\n",
              "      <th>x3_tata</th>\n",
              "      <th>x3_toyota</th>\n",
              "      <th>x3_volkswagen</th>\n",
              "      <th>x4_Ahmedabad</th>\n",
              "      <th>x4_Bangalore</th>\n",
              "      <th>x4_Chennai</th>\n",
              "      <th>x4_Coimbatore</th>\n",
              "      <th>x4_Delhi</th>\n",
              "      <th>x4_Hyderabad</th>\n",
              "      <th>x4_Jaipur</th>\n",
              "      <th>x4_Kochi</th>\n",
              "      <th>x4_Kolkata</th>\n",
              "      <th>x4_Mumbai</th>\n",
              "      <th>x4_Pune</th>\n",
              "      <th>prediction</th>\n",
              "    </tr>\n",
              "  </thead>\n",
              "  <tbody>\n",
              "    <tr>\n",
              "      <th>0</th>\n",
              "      <td>1396</td>\n",
              "      <td>98.6</td>\n",
              "      <td>55</td>\n",
              "      <td>15.00</td>\n",
              "      <td>5.0</td>\n",
              "      <td>8</td>\n",
              "      <td>0.0</td>\n",
              "      <td>1.0</td>\n",
              "      <td>1.0</td>\n",
              "      <td>0.0</td>\n",
              "      <td>0.0</td>\n",
              "      <td>0.0</td>\n",
              "      <td>1.0</td>\n",
              "      <td>0.0</td>\n",
              "      <td>0.0</td>\n",
              "      <td>0.0</td>\n",
              "      <td>0.0</td>\n",
              "      <td>0.0</td>\n",
              "      <td>0.0</td>\n",
              "      <td>1.0</td>\n",
              "      <td>0.0</td>\n",
              "      <td>0.0</td>\n",
              "      <td>0.0</td>\n",
              "      <td>0.0</td>\n",
              "      <td>0.0</td>\n",
              "      <td>0.0</td>\n",
              "      <td>0.0</td>\n",
              "      <td>0.0</td>\n",
              "      <td>0.0</td>\n",
              "      <td>0.0</td>\n",
              "      <td>0.0</td>\n",
              "      <td>0.0</td>\n",
              "      <td>0.0</td>\n",
              "      <td>0.0</td>\n",
              "      <td>0.0</td>\n",
              "      <td>0.0</td>\n",
              "      <td>0.0</td>\n",
              "      <td>0.0</td>\n",
              "      <td>0.0</td>\n",
              "      <td>1.0</td>\n",
              "      <td>3.563105</td>\n",
              "    </tr>\n",
              "    <tr>\n",
              "      <th>1</th>\n",
              "      <td>814</td>\n",
              "      <td>55.2</td>\n",
              "      <td>38</td>\n",
              "      <td>21.10</td>\n",
              "      <td>5.0</td>\n",
              "      <td>5</td>\n",
              "      <td>0.0</td>\n",
              "      <td>1.0</td>\n",
              "      <td>0.0</td>\n",
              "      <td>1.0</td>\n",
              "      <td>1.0</td>\n",
              "      <td>0.0</td>\n",
              "      <td>0.0</td>\n",
              "      <td>0.0</td>\n",
              "      <td>0.0</td>\n",
              "      <td>0.0</td>\n",
              "      <td>0.0</td>\n",
              "      <td>0.0</td>\n",
              "      <td>0.0</td>\n",
              "      <td>1.0</td>\n",
              "      <td>0.0</td>\n",
              "      <td>0.0</td>\n",
              "      <td>0.0</td>\n",
              "      <td>0.0</td>\n",
              "      <td>0.0</td>\n",
              "      <td>0.0</td>\n",
              "      <td>0.0</td>\n",
              "      <td>0.0</td>\n",
              "      <td>0.0</td>\n",
              "      <td>0.0</td>\n",
              "      <td>0.0</td>\n",
              "      <td>0.0</td>\n",
              "      <td>0.0</td>\n",
              "      <td>0.0</td>\n",
              "      <td>0.0</td>\n",
              "      <td>1.0</td>\n",
              "      <td>0.0</td>\n",
              "      <td>0.0</td>\n",
              "      <td>0.0</td>\n",
              "      <td>0.0</td>\n",
              "      <td>2.665395</td>\n",
              "    </tr>\n",
              "    <tr>\n",
              "      <th>2</th>\n",
              "      <td>1198</td>\n",
              "      <td>86.8</td>\n",
              "      <td>22</td>\n",
              "      <td>18.50</td>\n",
              "      <td>5.0</td>\n",
              "      <td>5</td>\n",
              "      <td>0.0</td>\n",
              "      <td>1.0</td>\n",
              "      <td>0.0</td>\n",
              "      <td>1.0</td>\n",
              "      <td>1.0</td>\n",
              "      <td>0.0</td>\n",
              "      <td>0.0</td>\n",
              "      <td>0.0</td>\n",
              "      <td>0.0</td>\n",
              "      <td>0.0</td>\n",
              "      <td>0.0</td>\n",
              "      <td>0.0</td>\n",
              "      <td>1.0</td>\n",
              "      <td>0.0</td>\n",
              "      <td>0.0</td>\n",
              "      <td>0.0</td>\n",
              "      <td>0.0</td>\n",
              "      <td>0.0</td>\n",
              "      <td>0.0</td>\n",
              "      <td>0.0</td>\n",
              "      <td>0.0</td>\n",
              "      <td>0.0</td>\n",
              "      <td>0.0</td>\n",
              "      <td>0.0</td>\n",
              "      <td>0.0</td>\n",
              "      <td>0.0</td>\n",
              "      <td>0.0</td>\n",
              "      <td>0.0</td>\n",
              "      <td>0.0</td>\n",
              "      <td>0.0</td>\n",
              "      <td>0.0</td>\n",
              "      <td>0.0</td>\n",
              "      <td>1.0</td>\n",
              "      <td>0.0</td>\n",
              "      <td>4.280173</td>\n",
              "    </tr>\n",
              "    <tr>\n",
              "      <th>3</th>\n",
              "      <td>814</td>\n",
              "      <td>55.2</td>\n",
              "      <td>45</td>\n",
              "      <td>21.10</td>\n",
              "      <td>5.0</td>\n",
              "      <td>8</td>\n",
              "      <td>0.0</td>\n",
              "      <td>1.0</td>\n",
              "      <td>0.0</td>\n",
              "      <td>1.0</td>\n",
              "      <td>1.0</td>\n",
              "      <td>0.0</td>\n",
              "      <td>0.0</td>\n",
              "      <td>0.0</td>\n",
              "      <td>0.0</td>\n",
              "      <td>0.0</td>\n",
              "      <td>0.0</td>\n",
              "      <td>0.0</td>\n",
              "      <td>0.0</td>\n",
              "      <td>1.0</td>\n",
              "      <td>0.0</td>\n",
              "      <td>0.0</td>\n",
              "      <td>0.0</td>\n",
              "      <td>0.0</td>\n",
              "      <td>0.0</td>\n",
              "      <td>0.0</td>\n",
              "      <td>0.0</td>\n",
              "      <td>0.0</td>\n",
              "      <td>0.0</td>\n",
              "      <td>0.0</td>\n",
              "      <td>0.0</td>\n",
              "      <td>1.0</td>\n",
              "      <td>0.0</td>\n",
              "      <td>0.0</td>\n",
              "      <td>0.0</td>\n",
              "      <td>0.0</td>\n",
              "      <td>0.0</td>\n",
              "      <td>0.0</td>\n",
              "      <td>0.0</td>\n",
              "      <td>0.0</td>\n",
              "      <td>2.618295</td>\n",
              "    </tr>\n",
              "    <tr>\n",
              "      <th>4</th>\n",
              "      <td>1199</td>\n",
              "      <td>88.7</td>\n",
              "      <td>3</td>\n",
              "      <td>19.00</td>\n",
              "      <td>5.0</td>\n",
              "      <td>2</td>\n",
              "      <td>0.0</td>\n",
              "      <td>1.0</td>\n",
              "      <td>1.0</td>\n",
              "      <td>0.0</td>\n",
              "      <td>1.0</td>\n",
              "      <td>0.0</td>\n",
              "      <td>0.0</td>\n",
              "      <td>0.0</td>\n",
              "      <td>0.0</td>\n",
              "      <td>0.0</td>\n",
              "      <td>0.0</td>\n",
              "      <td>0.0</td>\n",
              "      <td>1.0</td>\n",
              "      <td>0.0</td>\n",
              "      <td>0.0</td>\n",
              "      <td>0.0</td>\n",
              "      <td>0.0</td>\n",
              "      <td>0.0</td>\n",
              "      <td>0.0</td>\n",
              "      <td>0.0</td>\n",
              "      <td>0.0</td>\n",
              "      <td>0.0</td>\n",
              "      <td>0.0</td>\n",
              "      <td>0.0</td>\n",
              "      <td>0.0</td>\n",
              "      <td>0.0</td>\n",
              "      <td>0.0</td>\n",
              "      <td>0.0</td>\n",
              "      <td>0.0</td>\n",
              "      <td>0.0</td>\n",
              "      <td>0.0</td>\n",
              "      <td>0.0</td>\n",
              "      <td>1.0</td>\n",
              "      <td>0.0</td>\n",
              "      <td>8.667166</td>\n",
              "    </tr>\n",
              "    <tr>\n",
              "      <th>...</th>\n",
              "      <td>...</td>\n",
              "      <td>...</td>\n",
              "      <td>...</td>\n",
              "      <td>...</td>\n",
              "      <td>...</td>\n",
              "      <td>...</td>\n",
              "      <td>...</td>\n",
              "      <td>...</td>\n",
              "      <td>...</td>\n",
              "      <td>...</td>\n",
              "      <td>...</td>\n",
              "      <td>...</td>\n",
              "      <td>...</td>\n",
              "      <td>...</td>\n",
              "      <td>...</td>\n",
              "      <td>...</td>\n",
              "      <td>...</td>\n",
              "      <td>...</td>\n",
              "      <td>...</td>\n",
              "      <td>...</td>\n",
              "      <td>...</td>\n",
              "      <td>...</td>\n",
              "      <td>...</td>\n",
              "      <td>...</td>\n",
              "      <td>...</td>\n",
              "      <td>...</td>\n",
              "      <td>...</td>\n",
              "      <td>...</td>\n",
              "      <td>...</td>\n",
              "      <td>...</td>\n",
              "      <td>...</td>\n",
              "      <td>...</td>\n",
              "      <td>...</td>\n",
              "      <td>...</td>\n",
              "      <td>...</td>\n",
              "      <td>...</td>\n",
              "      <td>...</td>\n",
              "      <td>...</td>\n",
              "      <td>...</td>\n",
              "      <td>...</td>\n",
              "      <td>...</td>\n",
              "    </tr>\n",
              "    <tr>\n",
              "      <th>614</th>\n",
              "      <td>1198</td>\n",
              "      <td>74.0</td>\n",
              "      <td>22</td>\n",
              "      <td>16.47</td>\n",
              "      <td>5.0</td>\n",
              "      <td>6</td>\n",
              "      <td>0.0</td>\n",
              "      <td>1.0</td>\n",
              "      <td>0.0</td>\n",
              "      <td>1.0</td>\n",
              "      <td>1.0</td>\n",
              "      <td>0.0</td>\n",
              "      <td>0.0</td>\n",
              "      <td>0.0</td>\n",
              "      <td>0.0</td>\n",
              "      <td>0.0</td>\n",
              "      <td>0.0</td>\n",
              "      <td>0.0</td>\n",
              "      <td>0.0</td>\n",
              "      <td>0.0</td>\n",
              "      <td>0.0</td>\n",
              "      <td>0.0</td>\n",
              "      <td>0.0</td>\n",
              "      <td>0.0</td>\n",
              "      <td>0.0</td>\n",
              "      <td>0.0</td>\n",
              "      <td>0.0</td>\n",
              "      <td>0.0</td>\n",
              "      <td>1.0</td>\n",
              "      <td>0.0</td>\n",
              "      <td>0.0</td>\n",
              "      <td>0.0</td>\n",
              "      <td>0.0</td>\n",
              "      <td>0.0</td>\n",
              "      <td>0.0</td>\n",
              "      <td>0.0</td>\n",
              "      <td>0.0</td>\n",
              "      <td>1.0</td>\n",
              "      <td>0.0</td>\n",
              "      <td>0.0</td>\n",
              "      <td>3.447949</td>\n",
              "    </tr>\n",
              "    <tr>\n",
              "      <th>615</th>\n",
              "      <td>1248</td>\n",
              "      <td>74.0</td>\n",
              "      <td>88</td>\n",
              "      <td>22.90</td>\n",
              "      <td>5.0</td>\n",
              "      <td>7</td>\n",
              "      <td>1.0</td>\n",
              "      <td>0.0</td>\n",
              "      <td>0.0</td>\n",
              "      <td>1.0</td>\n",
              "      <td>1.0</td>\n",
              "      <td>0.0</td>\n",
              "      <td>0.0</td>\n",
              "      <td>0.0</td>\n",
              "      <td>0.0</td>\n",
              "      <td>0.0</td>\n",
              "      <td>0.0</td>\n",
              "      <td>0.0</td>\n",
              "      <td>0.0</td>\n",
              "      <td>0.0</td>\n",
              "      <td>0.0</td>\n",
              "      <td>1.0</td>\n",
              "      <td>0.0</td>\n",
              "      <td>0.0</td>\n",
              "      <td>0.0</td>\n",
              "      <td>0.0</td>\n",
              "      <td>0.0</td>\n",
              "      <td>0.0</td>\n",
              "      <td>0.0</td>\n",
              "      <td>0.0</td>\n",
              "      <td>0.0</td>\n",
              "      <td>0.0</td>\n",
              "      <td>0.0</td>\n",
              "      <td>0.0</td>\n",
              "      <td>0.0</td>\n",
              "      <td>1.0</td>\n",
              "      <td>0.0</td>\n",
              "      <td>0.0</td>\n",
              "      <td>0.0</td>\n",
              "      <td>0.0</td>\n",
              "      <td>4.497047</td>\n",
              "    </tr>\n",
              "    <tr>\n",
              "      <th>616</th>\n",
              "      <td>1197</td>\n",
              "      <td>78.9</td>\n",
              "      <td>59</td>\n",
              "      <td>20.36</td>\n",
              "      <td>5.0</td>\n",
              "      <td>8</td>\n",
              "      <td>0.0</td>\n",
              "      <td>1.0</td>\n",
              "      <td>0.0</td>\n",
              "      <td>1.0</td>\n",
              "      <td>1.0</td>\n",
              "      <td>0.0</td>\n",
              "      <td>0.0</td>\n",
              "      <td>0.0</td>\n",
              "      <td>0.0</td>\n",
              "      <td>0.0</td>\n",
              "      <td>0.0</td>\n",
              "      <td>0.0</td>\n",
              "      <td>0.0</td>\n",
              "      <td>1.0</td>\n",
              "      <td>0.0</td>\n",
              "      <td>0.0</td>\n",
              "      <td>0.0</td>\n",
              "      <td>0.0</td>\n",
              "      <td>0.0</td>\n",
              "      <td>0.0</td>\n",
              "      <td>0.0</td>\n",
              "      <td>0.0</td>\n",
              "      <td>0.0</td>\n",
              "      <td>0.0</td>\n",
              "      <td>0.0</td>\n",
              "      <td>0.0</td>\n",
              "      <td>0.0</td>\n",
              "      <td>1.0</td>\n",
              "      <td>0.0</td>\n",
              "      <td>0.0</td>\n",
              "      <td>0.0</td>\n",
              "      <td>0.0</td>\n",
              "      <td>0.0</td>\n",
              "      <td>0.0</td>\n",
              "      <td>2.545256</td>\n",
              "    </tr>\n",
              "    <tr>\n",
              "      <th>617</th>\n",
              "      <td>1197</td>\n",
              "      <td>78.9</td>\n",
              "      <td>70</td>\n",
              "      <td>20.36</td>\n",
              "      <td>5.0</td>\n",
              "      <td>10</td>\n",
              "      <td>0.0</td>\n",
              "      <td>1.0</td>\n",
              "      <td>0.0</td>\n",
              "      <td>1.0</td>\n",
              "      <td>1.0</td>\n",
              "      <td>0.0</td>\n",
              "      <td>0.0</td>\n",
              "      <td>0.0</td>\n",
              "      <td>0.0</td>\n",
              "      <td>0.0</td>\n",
              "      <td>0.0</td>\n",
              "      <td>0.0</td>\n",
              "      <td>0.0</td>\n",
              "      <td>1.0</td>\n",
              "      <td>0.0</td>\n",
              "      <td>0.0</td>\n",
              "      <td>0.0</td>\n",
              "      <td>0.0</td>\n",
              "      <td>0.0</td>\n",
              "      <td>0.0</td>\n",
              "      <td>0.0</td>\n",
              "      <td>0.0</td>\n",
              "      <td>0.0</td>\n",
              "      <td>0.0</td>\n",
              "      <td>0.0</td>\n",
              "      <td>0.0</td>\n",
              "      <td>0.0</td>\n",
              "      <td>0.0</td>\n",
              "      <td>1.0</td>\n",
              "      <td>0.0</td>\n",
              "      <td>0.0</td>\n",
              "      <td>0.0</td>\n",
              "      <td>0.0</td>\n",
              "      <td>0.0</td>\n",
              "      <td>2.934929</td>\n",
              "    </tr>\n",
              "    <tr>\n",
              "      <th>618</th>\n",
              "      <td>1198</td>\n",
              "      <td>73.9</td>\n",
              "      <td>58</td>\n",
              "      <td>16.47</td>\n",
              "      <td>5.0</td>\n",
              "      <td>9</td>\n",
              "      <td>0.0</td>\n",
              "      <td>1.0</td>\n",
              "      <td>0.0</td>\n",
              "      <td>1.0</td>\n",
              "      <td>1.0</td>\n",
              "      <td>0.0</td>\n",
              "      <td>0.0</td>\n",
              "      <td>0.0</td>\n",
              "      <td>0.0</td>\n",
              "      <td>0.0</td>\n",
              "      <td>0.0</td>\n",
              "      <td>0.0</td>\n",
              "      <td>0.0</td>\n",
              "      <td>0.0</td>\n",
              "      <td>0.0</td>\n",
              "      <td>0.0</td>\n",
              "      <td>0.0</td>\n",
              "      <td>0.0</td>\n",
              "      <td>0.0</td>\n",
              "      <td>0.0</td>\n",
              "      <td>0.0</td>\n",
              "      <td>0.0</td>\n",
              "      <td>1.0</td>\n",
              "      <td>0.0</td>\n",
              "      <td>0.0</td>\n",
              "      <td>0.0</td>\n",
              "      <td>0.0</td>\n",
              "      <td>0.0</td>\n",
              "      <td>0.0</td>\n",
              "      <td>0.0</td>\n",
              "      <td>1.0</td>\n",
              "      <td>0.0</td>\n",
              "      <td>0.0</td>\n",
              "      <td>0.0</td>\n",
              "      <td>3.392910</td>\n",
              "    </tr>\n",
              "  </tbody>\n",
              "</table>\n",
              "<p>619 rows × 41 columns</p>\n",
              "</div>"
            ],
            "text/plain": [
              "     engine_new  power_new  KM_Driven  ...  x4_Mumbai  x4_Pune  prediction\n",
              "0          1396       98.6         55  ...        0.0      1.0    3.563105\n",
              "1           814       55.2         38  ...        0.0      0.0    2.665395\n",
              "2          1198       86.8         22  ...        1.0      0.0    4.280173\n",
              "3           814       55.2         45  ...        0.0      0.0    2.618295\n",
              "4          1199       88.7          3  ...        1.0      0.0    8.667166\n",
              "..          ...        ...        ...  ...        ...      ...         ...\n",
              "614        1198       74.0         22  ...        0.0      0.0    3.447949\n",
              "615        1248       74.0         88  ...        0.0      0.0    4.497047\n",
              "616        1197       78.9         59  ...        0.0      0.0    2.545256\n",
              "617        1197       78.9         70  ...        0.0      0.0    2.934929\n",
              "618        1198       73.9         58  ...        0.0      0.0    3.392910\n",
              "\n",
              "[619 rows x 41 columns]"
            ]
          },
          "metadata": {},
          "execution_count": 22
        }
      ]
    },
    {
      "cell_type": "markdown",
      "metadata": {
        "id": "1aamgxxYM-0S"
      },
      "source": [
        "## Preparing the training data"
      ]
    },
    {
      "cell_type": "code",
      "metadata": {
        "colab": {
          "base_uri": "https://localhost:8080/",
          "height": 486
        },
        "id": "1_V5v822Q0d-",
        "outputId": "a135f09b-b95b-4f19-e69c-c5e48472fe3e"
      },
      "source": [
        "x_train_new = x_train.reset_index()\n",
        "x_train_x_cols = reg.named_steps['preprocessor'].transform(x_train_new)\n",
        "x_train_x_cols_df = pd.DataFrame( x_train_x_cols.toarray(), columns  = num_features + new_cat_features)\n",
        "x_train_x_cols_df_final = pd.concat([x_train_new[num_features], x_train_x_cols_df[new_cat_features]], axis = 1)\n",
        "x_train_x_cols_df_final['prediction'] = reg.predict(x_train[x_columns])\n",
        "x_train_x_cols_df_final['Price'] = np.array(y_train)\n",
        "x_train_x_cols_df_final"
      ],
      "execution_count": null,
      "outputs": [
        {
          "output_type": "stream",
          "name": "stderr",
          "text": [
            "/usr/local/lib/python3.7/dist-packages/sklearn/compose/_column_transformer.py:430: FutureWarning: Given feature/column names or counts do not match the ones for the data given during fit. This will fail from v0.24.\n",
            "  FutureWarning)\n"
          ]
        },
        {
          "output_type": "execute_result",
          "data": {
            "text/html": [
              "<div>\n",
              "<style scoped>\n",
              "    .dataframe tbody tr th:only-of-type {\n",
              "        vertical-align: middle;\n",
              "    }\n",
              "\n",
              "    .dataframe tbody tr th {\n",
              "        vertical-align: top;\n",
              "    }\n",
              "\n",
              "    .dataframe thead th {\n",
              "        text-align: right;\n",
              "    }\n",
              "</style>\n",
              "<table border=\"1\" class=\"dataframe\">\n",
              "  <thead>\n",
              "    <tr style=\"text-align: right;\">\n",
              "      <th></th>\n",
              "      <th>engine_new</th>\n",
              "      <th>power_new</th>\n",
              "      <th>KM_Driven</th>\n",
              "      <th>mileage_new</th>\n",
              "      <th>Seats</th>\n",
              "      <th>age</th>\n",
              "      <th>x0_Diesel</th>\n",
              "      <th>x0_Petrol</th>\n",
              "      <th>x1_Automatic</th>\n",
              "      <th>x1_Manual</th>\n",
              "      <th>x2_First</th>\n",
              "      <th>x2_Fourth &amp; Above</th>\n",
              "      <th>x2_Second</th>\n",
              "      <th>x2_Third</th>\n",
              "      <th>x3_chevrolet</th>\n",
              "      <th>x3_datsun</th>\n",
              "      <th>x3_fiat</th>\n",
              "      <th>x3_ford</th>\n",
              "      <th>x3_honda</th>\n",
              "      <th>x3_hyundai</th>\n",
              "      <th>x3_mahindra</th>\n",
              "      <th>x3_maruti</th>\n",
              "      <th>x3_mitsubishi</th>\n",
              "      <th>x3_nissan</th>\n",
              "      <th>x3_renault</th>\n",
              "      <th>x3_skoda</th>\n",
              "      <th>x3_tata</th>\n",
              "      <th>x3_toyota</th>\n",
              "      <th>x3_volkswagen</th>\n",
              "      <th>x4_Ahmedabad</th>\n",
              "      <th>x4_Bangalore</th>\n",
              "      <th>x4_Chennai</th>\n",
              "      <th>x4_Coimbatore</th>\n",
              "      <th>x4_Delhi</th>\n",
              "      <th>x4_Hyderabad</th>\n",
              "      <th>x4_Jaipur</th>\n",
              "      <th>x4_Kochi</th>\n",
              "      <th>x4_Kolkata</th>\n",
              "      <th>x4_Mumbai</th>\n",
              "      <th>x4_Pune</th>\n",
              "      <th>prediction</th>\n",
              "      <th>Price</th>\n",
              "    </tr>\n",
              "  </thead>\n",
              "  <tbody>\n",
              "    <tr>\n",
              "      <th>0</th>\n",
              "      <td>1248</td>\n",
              "      <td>74.00</td>\n",
              "      <td>25</td>\n",
              "      <td>28.40</td>\n",
              "      <td>5.0</td>\n",
              "      <td>3</td>\n",
              "      <td>1.0</td>\n",
              "      <td>0.0</td>\n",
              "      <td>0.0</td>\n",
              "      <td>1.0</td>\n",
              "      <td>1.0</td>\n",
              "      <td>0.0</td>\n",
              "      <td>0.0</td>\n",
              "      <td>0.0</td>\n",
              "      <td>0.0</td>\n",
              "      <td>0.0</td>\n",
              "      <td>0.0</td>\n",
              "      <td>0.0</td>\n",
              "      <td>0.0</td>\n",
              "      <td>0.0</td>\n",
              "      <td>0.0</td>\n",
              "      <td>1.0</td>\n",
              "      <td>0.0</td>\n",
              "      <td>0.0</td>\n",
              "      <td>0.0</td>\n",
              "      <td>0.0</td>\n",
              "      <td>0.0</td>\n",
              "      <td>0.0</td>\n",
              "      <td>0.0</td>\n",
              "      <td>0.0</td>\n",
              "      <td>0.0</td>\n",
              "      <td>0.0</td>\n",
              "      <td>0.0</td>\n",
              "      <td>0.0</td>\n",
              "      <td>0.0</td>\n",
              "      <td>1.0</td>\n",
              "      <td>0.0</td>\n",
              "      <td>0.0</td>\n",
              "      <td>0.0</td>\n",
              "      <td>0.0</td>\n",
              "      <td>6.427374</td>\n",
              "      <td>5.99</td>\n",
              "    </tr>\n",
              "    <tr>\n",
              "      <th>1</th>\n",
              "      <td>1197</td>\n",
              "      <td>80.00</td>\n",
              "      <td>58</td>\n",
              "      <td>17.00</td>\n",
              "      <td>5.0</td>\n",
              "      <td>8</td>\n",
              "      <td>0.0</td>\n",
              "      <td>1.0</td>\n",
              "      <td>0.0</td>\n",
              "      <td>1.0</td>\n",
              "      <td>1.0</td>\n",
              "      <td>0.0</td>\n",
              "      <td>0.0</td>\n",
              "      <td>0.0</td>\n",
              "      <td>0.0</td>\n",
              "      <td>0.0</td>\n",
              "      <td>0.0</td>\n",
              "      <td>0.0</td>\n",
              "      <td>0.0</td>\n",
              "      <td>1.0</td>\n",
              "      <td>0.0</td>\n",
              "      <td>0.0</td>\n",
              "      <td>0.0</td>\n",
              "      <td>0.0</td>\n",
              "      <td>0.0</td>\n",
              "      <td>0.0</td>\n",
              "      <td>0.0</td>\n",
              "      <td>0.0</td>\n",
              "      <td>0.0</td>\n",
              "      <td>0.0</td>\n",
              "      <td>0.0</td>\n",
              "      <td>0.0</td>\n",
              "      <td>0.0</td>\n",
              "      <td>0.0</td>\n",
              "      <td>1.0</td>\n",
              "      <td>0.0</td>\n",
              "      <td>0.0</td>\n",
              "      <td>0.0</td>\n",
              "      <td>0.0</td>\n",
              "      <td>0.0</td>\n",
              "      <td>4.149638</td>\n",
              "      <td>4.00</td>\n",
              "    </tr>\n",
              "    <tr>\n",
              "      <th>2</th>\n",
              "      <td>998</td>\n",
              "      <td>67.10</td>\n",
              "      <td>73</td>\n",
              "      <td>24.07</td>\n",
              "      <td>5.0</td>\n",
              "      <td>5</td>\n",
              "      <td>0.0</td>\n",
              "      <td>1.0</td>\n",
              "      <td>1.0</td>\n",
              "      <td>0.0</td>\n",
              "      <td>1.0</td>\n",
              "      <td>0.0</td>\n",
              "      <td>0.0</td>\n",
              "      <td>0.0</td>\n",
              "      <td>0.0</td>\n",
              "      <td>0.0</td>\n",
              "      <td>0.0</td>\n",
              "      <td>0.0</td>\n",
              "      <td>0.0</td>\n",
              "      <td>0.0</td>\n",
              "      <td>0.0</td>\n",
              "      <td>1.0</td>\n",
              "      <td>0.0</td>\n",
              "      <td>0.0</td>\n",
              "      <td>0.0</td>\n",
              "      <td>0.0</td>\n",
              "      <td>0.0</td>\n",
              "      <td>0.0</td>\n",
              "      <td>0.0</td>\n",
              "      <td>0.0</td>\n",
              "      <td>0.0</td>\n",
              "      <td>0.0</td>\n",
              "      <td>0.0</td>\n",
              "      <td>0.0</td>\n",
              "      <td>0.0</td>\n",
              "      <td>0.0</td>\n",
              "      <td>0.0</td>\n",
              "      <td>0.0</td>\n",
              "      <td>0.0</td>\n",
              "      <td>1.0</td>\n",
              "      <td>3.177943</td>\n",
              "      <td>3.30</td>\n",
              "    </tr>\n",
              "    <tr>\n",
              "      <th>3</th>\n",
              "      <td>1196</td>\n",
              "      <td>86.80</td>\n",
              "      <td>21</td>\n",
              "      <td>18.16</td>\n",
              "      <td>5.0</td>\n",
              "      <td>3</td>\n",
              "      <td>0.0</td>\n",
              "      <td>1.0</td>\n",
              "      <td>0.0</td>\n",
              "      <td>1.0</td>\n",
              "      <td>1.0</td>\n",
              "      <td>0.0</td>\n",
              "      <td>0.0</td>\n",
              "      <td>0.0</td>\n",
              "      <td>0.0</td>\n",
              "      <td>0.0</td>\n",
              "      <td>0.0</td>\n",
              "      <td>1.0</td>\n",
              "      <td>0.0</td>\n",
              "      <td>0.0</td>\n",
              "      <td>0.0</td>\n",
              "      <td>0.0</td>\n",
              "      <td>0.0</td>\n",
              "      <td>0.0</td>\n",
              "      <td>0.0</td>\n",
              "      <td>0.0</td>\n",
              "      <td>0.0</td>\n",
              "      <td>0.0</td>\n",
              "      <td>0.0</td>\n",
              "      <td>0.0</td>\n",
              "      <td>0.0</td>\n",
              "      <td>0.0</td>\n",
              "      <td>1.0</td>\n",
              "      <td>0.0</td>\n",
              "      <td>0.0</td>\n",
              "      <td>0.0</td>\n",
              "      <td>0.0</td>\n",
              "      <td>0.0</td>\n",
              "      <td>0.0</td>\n",
              "      <td>0.0</td>\n",
              "      <td>6.403126</td>\n",
              "      <td>6.42</td>\n",
              "    </tr>\n",
              "    <tr>\n",
              "      <th>4</th>\n",
              "      <td>1461</td>\n",
              "      <td>83.80</td>\n",
              "      <td>55</td>\n",
              "      <td>19.87</td>\n",
              "      <td>5.0</td>\n",
              "      <td>6</td>\n",
              "      <td>1.0</td>\n",
              "      <td>0.0</td>\n",
              "      <td>0.0</td>\n",
              "      <td>1.0</td>\n",
              "      <td>1.0</td>\n",
              "      <td>0.0</td>\n",
              "      <td>0.0</td>\n",
              "      <td>0.0</td>\n",
              "      <td>0.0</td>\n",
              "      <td>0.0</td>\n",
              "      <td>0.0</td>\n",
              "      <td>0.0</td>\n",
              "      <td>0.0</td>\n",
              "      <td>0.0</td>\n",
              "      <td>0.0</td>\n",
              "      <td>0.0</td>\n",
              "      <td>0.0</td>\n",
              "      <td>0.0</td>\n",
              "      <td>1.0</td>\n",
              "      <td>0.0</td>\n",
              "      <td>0.0</td>\n",
              "      <td>0.0</td>\n",
              "      <td>0.0</td>\n",
              "      <td>1.0</td>\n",
              "      <td>0.0</td>\n",
              "      <td>0.0</td>\n",
              "      <td>0.0</td>\n",
              "      <td>0.0</td>\n",
              "      <td>0.0</td>\n",
              "      <td>0.0</td>\n",
              "      <td>0.0</td>\n",
              "      <td>0.0</td>\n",
              "      <td>0.0</td>\n",
              "      <td>0.0</td>\n",
              "      <td>5.100860</td>\n",
              "      <td>4.75</td>\n",
              "    </tr>\n",
              "    <tr>\n",
              "      <th>...</th>\n",
              "      <td>...</td>\n",
              "      <td>...</td>\n",
              "      <td>...</td>\n",
              "      <td>...</td>\n",
              "      <td>...</td>\n",
              "      <td>...</td>\n",
              "      <td>...</td>\n",
              "      <td>...</td>\n",
              "      <td>...</td>\n",
              "      <td>...</td>\n",
              "      <td>...</td>\n",
              "      <td>...</td>\n",
              "      <td>...</td>\n",
              "      <td>...</td>\n",
              "      <td>...</td>\n",
              "      <td>...</td>\n",
              "      <td>...</td>\n",
              "      <td>...</td>\n",
              "      <td>...</td>\n",
              "      <td>...</td>\n",
              "      <td>...</td>\n",
              "      <td>...</td>\n",
              "      <td>...</td>\n",
              "      <td>...</td>\n",
              "      <td>...</td>\n",
              "      <td>...</td>\n",
              "      <td>...</td>\n",
              "      <td>...</td>\n",
              "      <td>...</td>\n",
              "      <td>...</td>\n",
              "      <td>...</td>\n",
              "      <td>...</td>\n",
              "      <td>...</td>\n",
              "      <td>...</td>\n",
              "      <td>...</td>\n",
              "      <td>...</td>\n",
              "      <td>...</td>\n",
              "      <td>...</td>\n",
              "      <td>...</td>\n",
              "      <td>...</td>\n",
              "      <td>...</td>\n",
              "      <td>...</td>\n",
              "    </tr>\n",
              "    <tr>\n",
              "      <th>1973</th>\n",
              "      <td>1248</td>\n",
              "      <td>74.00</td>\n",
              "      <td>37</td>\n",
              "      <td>26.59</td>\n",
              "      <td>5.0</td>\n",
              "      <td>5</td>\n",
              "      <td>1.0</td>\n",
              "      <td>0.0</td>\n",
              "      <td>0.0</td>\n",
              "      <td>1.0</td>\n",
              "      <td>1.0</td>\n",
              "      <td>0.0</td>\n",
              "      <td>0.0</td>\n",
              "      <td>0.0</td>\n",
              "      <td>0.0</td>\n",
              "      <td>0.0</td>\n",
              "      <td>0.0</td>\n",
              "      <td>0.0</td>\n",
              "      <td>0.0</td>\n",
              "      <td>0.0</td>\n",
              "      <td>0.0</td>\n",
              "      <td>1.0</td>\n",
              "      <td>0.0</td>\n",
              "      <td>0.0</td>\n",
              "      <td>0.0</td>\n",
              "      <td>0.0</td>\n",
              "      <td>0.0</td>\n",
              "      <td>0.0</td>\n",
              "      <td>0.0</td>\n",
              "      <td>0.0</td>\n",
              "      <td>0.0</td>\n",
              "      <td>0.0</td>\n",
              "      <td>0.0</td>\n",
              "      <td>1.0</td>\n",
              "      <td>0.0</td>\n",
              "      <td>0.0</td>\n",
              "      <td>0.0</td>\n",
              "      <td>0.0</td>\n",
              "      <td>0.0</td>\n",
              "      <td>0.0</td>\n",
              "      <td>5.084397</td>\n",
              "      <td>4.85</td>\n",
              "    </tr>\n",
              "    <tr>\n",
              "      <th>1974</th>\n",
              "      <td>1364</td>\n",
              "      <td>67.04</td>\n",
              "      <td>179</td>\n",
              "      <td>23.59</td>\n",
              "      <td>5.0</td>\n",
              "      <td>7</td>\n",
              "      <td>1.0</td>\n",
              "      <td>0.0</td>\n",
              "      <td>0.0</td>\n",
              "      <td>1.0</td>\n",
              "      <td>1.0</td>\n",
              "      <td>0.0</td>\n",
              "      <td>0.0</td>\n",
              "      <td>0.0</td>\n",
              "      <td>0.0</td>\n",
              "      <td>0.0</td>\n",
              "      <td>0.0</td>\n",
              "      <td>0.0</td>\n",
              "      <td>0.0</td>\n",
              "      <td>0.0</td>\n",
              "      <td>0.0</td>\n",
              "      <td>0.0</td>\n",
              "      <td>0.0</td>\n",
              "      <td>0.0</td>\n",
              "      <td>0.0</td>\n",
              "      <td>0.0</td>\n",
              "      <td>0.0</td>\n",
              "      <td>1.0</td>\n",
              "      <td>0.0</td>\n",
              "      <td>0.0</td>\n",
              "      <td>0.0</td>\n",
              "      <td>1.0</td>\n",
              "      <td>0.0</td>\n",
              "      <td>0.0</td>\n",
              "      <td>0.0</td>\n",
              "      <td>0.0</td>\n",
              "      <td>0.0</td>\n",
              "      <td>0.0</td>\n",
              "      <td>0.0</td>\n",
              "      <td>0.0</td>\n",
              "      <td>3.958296</td>\n",
              "      <td>3.80</td>\n",
              "    </tr>\n",
              "    <tr>\n",
              "      <th>1975</th>\n",
              "      <td>1172</td>\n",
              "      <td>67.00</td>\n",
              "      <td>72</td>\n",
              "      <td>15.70</td>\n",
              "      <td>5.0</td>\n",
              "      <td>10</td>\n",
              "      <td>0.0</td>\n",
              "      <td>1.0</td>\n",
              "      <td>0.0</td>\n",
              "      <td>1.0</td>\n",
              "      <td>1.0</td>\n",
              "      <td>0.0</td>\n",
              "      <td>0.0</td>\n",
              "      <td>0.0</td>\n",
              "      <td>0.0</td>\n",
              "      <td>0.0</td>\n",
              "      <td>1.0</td>\n",
              "      <td>0.0</td>\n",
              "      <td>0.0</td>\n",
              "      <td>0.0</td>\n",
              "      <td>0.0</td>\n",
              "      <td>0.0</td>\n",
              "      <td>0.0</td>\n",
              "      <td>0.0</td>\n",
              "      <td>0.0</td>\n",
              "      <td>0.0</td>\n",
              "      <td>0.0</td>\n",
              "      <td>0.0</td>\n",
              "      <td>0.0</td>\n",
              "      <td>0.0</td>\n",
              "      <td>0.0</td>\n",
              "      <td>1.0</td>\n",
              "      <td>0.0</td>\n",
              "      <td>0.0</td>\n",
              "      <td>0.0</td>\n",
              "      <td>0.0</td>\n",
              "      <td>0.0</td>\n",
              "      <td>0.0</td>\n",
              "      <td>0.0</td>\n",
              "      <td>0.0</td>\n",
              "      <td>2.264123</td>\n",
              "      <td>2.25</td>\n",
              "    </tr>\n",
              "    <tr>\n",
              "      <th>1976</th>\n",
              "      <td>1396</td>\n",
              "      <td>90.00</td>\n",
              "      <td>77</td>\n",
              "      <td>23.00</td>\n",
              "      <td>5.0</td>\n",
              "      <td>4</td>\n",
              "      <td>1.0</td>\n",
              "      <td>0.0</td>\n",
              "      <td>0.0</td>\n",
              "      <td>1.0</td>\n",
              "      <td>1.0</td>\n",
              "      <td>0.0</td>\n",
              "      <td>0.0</td>\n",
              "      <td>0.0</td>\n",
              "      <td>0.0</td>\n",
              "      <td>0.0</td>\n",
              "      <td>0.0</td>\n",
              "      <td>0.0</td>\n",
              "      <td>0.0</td>\n",
              "      <td>1.0</td>\n",
              "      <td>0.0</td>\n",
              "      <td>0.0</td>\n",
              "      <td>0.0</td>\n",
              "      <td>0.0</td>\n",
              "      <td>0.0</td>\n",
              "      <td>0.0</td>\n",
              "      <td>0.0</td>\n",
              "      <td>0.0</td>\n",
              "      <td>0.0</td>\n",
              "      <td>0.0</td>\n",
              "      <td>0.0</td>\n",
              "      <td>0.0</td>\n",
              "      <td>0.0</td>\n",
              "      <td>0.0</td>\n",
              "      <td>1.0</td>\n",
              "      <td>0.0</td>\n",
              "      <td>0.0</td>\n",
              "      <td>0.0</td>\n",
              "      <td>0.0</td>\n",
              "      <td>0.0</td>\n",
              "      <td>7.162492</td>\n",
              "      <td>6.75</td>\n",
              "    </tr>\n",
              "    <tr>\n",
              "      <th>1977</th>\n",
              "      <td>1248</td>\n",
              "      <td>73.90</td>\n",
              "      <td>100</td>\n",
              "      <td>19.30</td>\n",
              "      <td>5.0</td>\n",
              "      <td>10</td>\n",
              "      <td>1.0</td>\n",
              "      <td>0.0</td>\n",
              "      <td>0.0</td>\n",
              "      <td>1.0</td>\n",
              "      <td>1.0</td>\n",
              "      <td>0.0</td>\n",
              "      <td>0.0</td>\n",
              "      <td>0.0</td>\n",
              "      <td>0.0</td>\n",
              "      <td>0.0</td>\n",
              "      <td>0.0</td>\n",
              "      <td>0.0</td>\n",
              "      <td>0.0</td>\n",
              "      <td>0.0</td>\n",
              "      <td>0.0</td>\n",
              "      <td>1.0</td>\n",
              "      <td>0.0</td>\n",
              "      <td>0.0</td>\n",
              "      <td>0.0</td>\n",
              "      <td>0.0</td>\n",
              "      <td>0.0</td>\n",
              "      <td>0.0</td>\n",
              "      <td>0.0</td>\n",
              "      <td>0.0</td>\n",
              "      <td>0.0</td>\n",
              "      <td>1.0</td>\n",
              "      <td>0.0</td>\n",
              "      <td>0.0</td>\n",
              "      <td>0.0</td>\n",
              "      <td>0.0</td>\n",
              "      <td>0.0</td>\n",
              "      <td>0.0</td>\n",
              "      <td>0.0</td>\n",
              "      <td>0.0</td>\n",
              "      <td>3.431774</td>\n",
              "      <td>4.50</td>\n",
              "    </tr>\n",
              "  </tbody>\n",
              "</table>\n",
              "<p>1978 rows × 42 columns</p>\n",
              "</div>"
            ],
            "text/plain": [
              "      engine_new  power_new  KM_Driven  ...  x4_Pune  prediction  Price\n",
              "0           1248      74.00         25  ...      0.0    6.427374   5.99\n",
              "1           1197      80.00         58  ...      0.0    4.149638   4.00\n",
              "2            998      67.10         73  ...      1.0    3.177943   3.30\n",
              "3           1196      86.80         21  ...      0.0    6.403126   6.42\n",
              "4           1461      83.80         55  ...      0.0    5.100860   4.75\n",
              "...          ...        ...        ...  ...      ...         ...    ...\n",
              "1973        1248      74.00         37  ...      0.0    5.084397   4.85\n",
              "1974        1364      67.04        179  ...      0.0    3.958296   3.80\n",
              "1975        1172      67.00         72  ...      0.0    2.264123   2.25\n",
              "1976        1396      90.00         77  ...      0.0    7.162492   6.75\n",
              "1977        1248      73.90        100  ...      0.0    3.431774   4.50\n",
              "\n",
              "[1978 rows x 42 columns]"
            ]
          },
          "metadata": {},
          "execution_count": 23
        }
      ]
    },
    {
      "cell_type": "markdown",
      "metadata": {
        "id": "jxyoA405fOx3"
      },
      "source": [
        "# Creating Data Drift Report"
      ]
    },
    {
      "cell_type": "code",
      "metadata": {
        "id": "T_0vUUqxFo9Z"
      },
      "source": [
        "from evidently.dashboard import Dashboard\n",
        "from evidently.tabs import DataDriftTab, NumTargetDriftTab\n",
        "\n",
        "from evidently.model_profile import Profile\n",
        "from evidently.profile_sections import DataDriftProfileSection"
      ],
      "execution_count": null,
      "outputs": []
    },
    {
      "cell_type": "code",
      "metadata": {
        "id": "0NOqvoo0ICA1"
      },
      "source": [
        "column_mapping = {}\n",
        "\n",
        "column_mapping['target'] = 'Price'\n",
        "column_mapping['prediction'] = 'prediction'\n",
        "column_mapping['datetime'] = None\n",
        "\n",
        "column_mapping['numerical_features'] = num_features\n",
        "column_mapping['categorical_features'] = new_cat_features"
      ],
      "execution_count": null,
      "outputs": []
    },
    {
      "cell_type": "code",
      "metadata": {
        "colab": {
          "base_uri": "https://localhost:8080/"
        },
        "id": "lqm1KnJ0K0wn",
        "outputId": "01847598-3dbf-4f6f-92aa-f1007eb2654c"
      },
      "source": [
        "column_mapping"
      ],
      "execution_count": null,
      "outputs": [
        {
          "output_type": "execute_result",
          "data": {
            "text/plain": [
              "{'categorical_features': ['x0_Diesel',\n",
              "  'x0_Petrol',\n",
              "  'x1_Automatic',\n",
              "  'x1_Manual',\n",
              "  'x2_First',\n",
              "  'x2_Fourth & Above',\n",
              "  'x2_Second',\n",
              "  'x2_Third',\n",
              "  'x3_chevrolet',\n",
              "  'x3_datsun',\n",
              "  'x3_fiat',\n",
              "  'x3_ford',\n",
              "  'x3_honda',\n",
              "  'x3_hyundai',\n",
              "  'x3_mahindra',\n",
              "  'x3_maruti',\n",
              "  'x3_mitsubishi',\n",
              "  'x3_nissan',\n",
              "  'x3_renault',\n",
              "  'x3_skoda',\n",
              "  'x3_tata',\n",
              "  'x3_toyota',\n",
              "  'x3_volkswagen',\n",
              "  'x4_Ahmedabad',\n",
              "  'x4_Bangalore',\n",
              "  'x4_Chennai',\n",
              "  'x4_Coimbatore',\n",
              "  'x4_Delhi',\n",
              "  'x4_Hyderabad',\n",
              "  'x4_Jaipur',\n",
              "  'x4_Kochi',\n",
              "  'x4_Kolkata',\n",
              "  'x4_Mumbai',\n",
              "  'x4_Pune'],\n",
              " 'datetime': None,\n",
              " 'numerical_features': ['engine_new',\n",
              "  'power_new',\n",
              "  'KM_Driven',\n",
              "  'mileage_new',\n",
              "  'Seats',\n",
              "  'age'],\n",
              " 'prediction': 'prediction',\n",
              " 'target': 'Price'}"
            ]
          },
          "metadata": {},
          "execution_count": 26
        }
      ]
    },
    {
      "cell_type": "code",
      "metadata": {
        "id": "X83Ph8RzF52f"
      },
      "source": [
        "cars_data_drift_dashboard = Dashboard(tabs=[DataDriftTab])\n",
        "cars_data_drift_dashboard.calculate(x_train_x_cols_df_final, \n",
        "                                    cars_df_prod_x_cols_df_final, \n",
        "                                    column_mapping = column_mapping)"
      ],
      "execution_count": null,
      "outputs": []
    },
    {
      "cell_type": "code",
      "metadata": {
        "id": "wIHyWjuTGXib"
      },
      "source": [
        "cars_data_drift_dashboard.save(\"newreports/cars_datadriftV1.html\")"
      ],
      "execution_count": null,
      "outputs": []
    },
    {
      "cell_type": "code",
      "metadata": {
        "colab": {
          "base_uri": "https://localhost:8080/",
          "height": 124
        },
        "id": "8MjRkjabHZRr",
        "outputId": "06f863f5-6f52-4e7a-8d0e-75fe0fb05af6"
      },
      "source": [
        "cars_data_drift_profile = Profile(sections=[DataDriftProfileSection])\n",
        "cars_data_drift_profile.calculate(x_train_x_cols_df_final, \n",
        "                                  cars_df_prod_x_cols_df_final, \n",
        "                                  column_mapping = column_mapping)\n",
        "cars_data_drift_profile.json()"
      ],
      "execution_count": null,
      "outputs": [
        {
          "output_type": "execute_result",
          "data": {
            "application/vnd.google.colaboratory.intrinsic+json": {
              "type": "string"
            },
            "text/plain": [
              "'{\"data_drift\": {\"name\": \"data_drift\", \"datetime\": \"2021-10-30 08:34:53.435418\", \"data\": {\"utility_columns\": {\"date\": null, \"id\": null, \"target\": \"Price\", \"prediction\": \"prediction\", \"drift_conf_level\": 0.95, \"drift_features_share\": 0.5, \"nbinsx\": null, \"xbins\": null}, \"cat_feature_names\": [\"x0_Diesel\", \"x0_Petrol\", \"x1_Automatic\", \"x1_Manual\", \"x2_First\", \"x2_Fourth & Above\", \"x2_Second\", \"x2_Third\", \"x3_chevrolet\", \"x3_datsun\", \"x3_fiat\", \"x3_ford\", \"x3_honda\", \"x3_hyundai\", \"x3_mahindra\", \"x3_maruti\", \"x3_mitsubishi\", \"x3_nissan\", \"x3_renault\", \"x3_skoda\", \"x3_tata\", \"x3_toyota\", \"x3_volkswagen\", \"x4_Ahmedabad\", \"x4_Bangalore\", \"x4_Chennai\", \"x4_Coimbatore\", \"x4_Delhi\", \"x4_Hyderabad\", \"x4_Jaipur\", \"x4_Kochi\", \"x4_Kolkata\", \"x4_Mumbai\", \"x4_Pune\"], \"num_feature_names\": [\"engine_new\", \"power_new\", \"KM_Driven\", \"mileage_new\", \"Seats\", \"age\"], \"target_names\": null, \"metrics\": {\"engine_new\": {\"current_small_hist\": [[0.0002909578609886471, 0.000491857336433189, 0.0023207353197904016, 0.0010737730584104831, 6.92756811877731e-06, 1.3855136237554636e-05, 0.0, 6.927568118777304e-06, 7.620324930655049e-05, 6.927568118777304e-06], [624.0, 857.2, 1090.4, 1323.6, 1556.8, 1790.0, 2023.1999999999998, 2256.3999999999996, 2489.6, 2722.7999999999997, 2956.0]], \"ref_small_hist\": [[0.0003403649405900583, 0.0005203030938956305, 0.0022849977540249796, 0.0010579496242544488, 6.503788673695382e-06, 1.7343436463187705e-05, 0.0, 1.300757734739075e-05, 4.552652071586772e-05, 2.1679295578984584e-06], [624.0, 857.2, 1090.4, 1323.6, 1556.8, 1790.0, 2023.1999999999998, 2256.3999999999996, 2489.6, 2722.7999999999997, 2956.0]], \"feature_type\": \"num\", \"p_value\": 0.7279504251655885}, \"power_new\": {\"current_small_hist\": [[0.0019883186280601466, 0.0037280974276127747, 0.00149123897104511, 0.00596495588418044, 0.019634646452093948, 0.02112588542313906, 0.02932769976388716, 0.030321859077917238, 0.02634522182179694, 0.013918230396421026], [35.0, 41.5, 48.0, 54.5, 61.0, 67.5, 74.0, 80.5, 87.0, 93.5, 100.0]], \"ref_small_hist\": [[0.003073320200011679, 0.004609980300017519, 0.0019976581300075896, 0.004533147295017227, 0.012677445825048192, 0.01890091923007179, 0.03557368131513519, 0.03211619609012205, 0.024432895590092853, 0.014060439915053433], [34.2, 40.78, 47.36, 53.940000000000005, 60.52, 67.1, 73.68, 80.26, 86.84, 93.42, 100.0]], \"feature_type\": \"num\", \"p_value\": 0.9573490201801237}, \"KM_Driven\": {\"current_small_hist\": [[0.006389018190447505, 0.011043874300630687, 0.014329655084289409, 0.0104962441700209, 0.008031908582276863, 0.0027381506530489326, 0.0009127168843496435, 0.0011865319496545364, 0.0007301735074797153, 0.0006389018190447499], [1.0, 18.7, 36.4, 54.099999999999994, 71.8, 89.5, 107.19999999999999, 124.89999999999999, 142.6, 160.29999999999998, 178.0]], \"ref_small_hist\": [[0.005308392315470172, 0.011599820244916301, 0.012947983372654757, 0.01345354454555668, 0.006600381979552859, 0.0028367599146163353, 0.00143242332322211, 0.0008145152230086507, 0.00042130097741826763, 0.00014043365913942254], [0.0, 18.0, 36.0, 54.0, 72.0, 90.0, 108.0, 126.0, 144.0, 162.0, 180.0]], \"feature_type\": \"num\", \"p_value\": 0.40514506684400076}, \"mileage_new\": {\"current_small_hist\": [[0.007557936305491789, 0.01795009872554298, 0.031176487260153634, 0.09447420381864727, 0.12659543311698734, 0.10770059235325811, 0.0831372993604096, 0.051960812100256104, 0.047237101909323634, 0.01700535668735651], [11.3, 13.01, 14.72, 16.43, 18.14, 19.85, 21.56, 23.27, 24.979999999999997, 26.689999999999998, 28.4]], \"ref_small_hist\": [[0.010172877259611824, 0.016954795432686392, 0.046856889195787746, 0.08569878418703313, 0.13902932254802824, 0.09001455029717129, 0.0937137783915758, 0.052714000345261275, 0.05209746232952722, 0.02250363757429282], [12.0, 13.64, 15.28, 16.92, 18.56, 20.2, 21.84, 23.479999999999997, 25.119999999999997, 26.759999999999998, 28.4]], \"feature_type\": \"num\", \"p_value\": 0.3254120002307854}, \"Seats\": {\"current_small_hist\": [[0.005393743257820931, 1.548004314994605, 0.0, 0.010787486515641846, 0.0, 0.08360302049622444, 0.010787486515641861, 0.0, 0.002696871628910473, 0.005393743257820915], [4.0, 4.6, 5.2, 5.8, 6.4, 7.0, 7.6, 8.2, 8.8, 9.399999999999999, 10.0]], \"ref_small_hist\": [[0.024435456690259538, 1.5419615773508581, 0.0, 0.004213009774182673, 0.0, 0.08004718570947089, 0.014324233232221107, 0.0, 0.0, 0.0016852039096730664], [4.0, 4.6, 5.2, 5.8, 6.4, 7.0, 7.6, 8.2, 8.8, 9.399999999999999, 10.0]], \"feature_type\": \"num\", \"p_value\": 0.9999999250332691}, \"age\": {\"current_small_hist\": [[0.03706167442744464, 0.13874370426684404, 0.15774969115271317, 0.05891855934619405, 0.09312933574075832, 0.054167062624726814, 0.02090658557445594, 0.015204789508695245, 0.006652095410054177, 0.005701796065760705], [1.0, 2.7, 4.4, 6.1, 7.8, 9.5, 11.2, 12.9, 14.6, 16.299999999999997, 18.0]], \"ref_small_hist\": [[0.08666762964032933, 0.12879772738215609, 0.11435312244210119, 0.07463045885695027, 0.036592999181472394, 0.01853724300640376, 0.008907506379700517, 0.003611151235013723, 0.002407434156675813, 0.001685203909673072], [1.0, 3.1, 5.2, 7.300000000000001, 9.4, 11.5, 13.600000000000001, 15.700000000000001, 17.8, 19.900000000000002, 22.0]], \"feature_type\": \"num\", \"p_value\": 0.5377664300989129}, \"x0_Diesel\": {\"current_small_hist\": [[5.718901453957997, 0.0, 0.0, 0.0, 0.0, 0.0, 0.0, 0.0, 0.0, 4.281098546042004], [0.0, 0.1, 0.2, 0.30000000000000004, 0.4, 0.5, 0.6000000000000001, 0.7000000000000001, 0.8, 0.9, 1.0]], \"ref_small_hist\": [[5.753286147623863, 0.0, 0.0, 0.0, 0.0, 0.0, 0.0, 0.0, 0.0, 4.246713852376138], [0.0, 0.1, 0.2, 0.30000000000000004, 0.4, 0.5, 0.6000000000000001, 0.7000000000000001, 0.8, 0.9, 1.0]], \"feature_type\": \"cat\", \"p_value\": 0.8799710244841337}, \"x0_Petrol\": {\"current_small_hist\": [[4.281098546042003, 0.0, 0.0, 0.0, 0.0, 0.0, 0.0, 0.0, 0.0, 5.718901453957998], [0.0, 0.1, 0.2, 0.30000000000000004, 0.4, 0.5, 0.6000000000000001, 0.7000000000000001, 0.8, 0.9, 1.0]], \"ref_small_hist\": [[4.246713852376137, 0.0, 0.0, 0.0, 0.0, 0.0, 0.0, 0.0, 0.0, 5.7532861476238635], [0.0, 0.1, 0.2, 0.30000000000000004, 0.4, 0.5, 0.6000000000000001, 0.7000000000000001, 0.8, 0.9, 1.0]], \"feature_type\": \"cat\", \"p_value\": 0.8799710244841299}, \"x1_Automatic\": {\"current_small_hist\": [[9.192245557350565, 0.0, 0.0, 0.0, 0.0, 0.0, 0.0, 0.0, 0.0, 0.8077544426494347], [0.0, 0.1, 0.2, 0.30000000000000004, 0.4, 0.5, 0.6000000000000001, 0.7000000000000001, 0.8, 0.9, 1.0]], \"ref_small_hist\": [[9.29726996966633, 0.0, 0.0, 0.0, 0.0, 0.0, 0.0, 0.0, 0.0, 0.7027300303336705], [0.0, 0.1, 0.2, 0.30000000000000004, 0.4, 0.5, 0.6000000000000001, 0.7000000000000001, 0.8, 0.9, 1.0]], \"feature_type\": \"cat\", \"p_value\": 0.380019370807567}, \"x1_Manual\": {\"current_small_hist\": [[0.8077544426494345, 0.0, 0.0, 0.0, 0.0, 0.0, 0.0, 0.0, 0.0, 9.192245557350567], [0.0, 0.1, 0.2, 0.30000000000000004, 0.4, 0.5, 0.6000000000000001, 0.7000000000000001, 0.8, 0.9, 1.0]], \"ref_small_hist\": [[0.7027300303336703, 0.0, 0.0, 0.0, 0.0, 0.0, 0.0, 0.0, 0.0, 9.297269969666331], [0.0, 0.1, 0.2, 0.30000000000000004, 0.4, 0.5, 0.6000000000000001, 0.7000000000000001, 0.8, 0.9, 1.0]], \"feature_type\": \"cat\", \"p_value\": 0.38001937080756854}, \"x2_First\": {\"current_small_hist\": [[1.6639741518578353, 0.0, 0.0, 0.0, 0.0, 0.0, 0.0, 0.0, 0.0, 8.336025848142166], [0.0, 0.1, 0.2, 0.30000000000000004, 0.4, 0.5, 0.6000000000000001, 0.7000000000000001, 0.8, 0.9, 1.0]], \"ref_small_hist\": [[1.557128412537917, 0.0, 0.0, 0.0, 0.0, 0.0, 0.0, 0.0, 0.0, 8.442871587462085], [0.0, 0.1, 0.2, 0.30000000000000004, 0.4, 0.5, 0.6000000000000001, 0.7000000000000001, 0.8, 0.9, 1.0]], \"feature_type\": \"cat\", \"p_value\": 0.5250163943795536}, \"x2_Fourth & Above\": {\"current_small_hist\": [[0.0, 0.0, 0.0, 0.0, 0.0, 9.999999999999991, 0.0, 0.0, 0.0, 0.0], [-0.5, -0.4, -0.3, -0.19999999999999996, -0.09999999999999998, 0.0, 0.10000000000000009, 0.20000000000000007, 0.30000000000000004, 0.4, 0.5]], \"ref_small_hist\": [[9.989888776541962, 0.0, 0.0, 0.0, 0.0, 0.0, 0.0, 0.0, 0.0, 0.010111223458038424], [0.0, 0.1, 0.2, 0.30000000000000004, 0.4, 0.5, 0.6000000000000001, 0.7000000000000001, 0.8, 0.9, 1.0]], \"feature_type\": \"cat\", \"p_value\": 0.4286910217246698}, \"x2_Second\": {\"current_small_hist\": [[8.594507269789984, 0.0, 0.0, 0.0, 0.0, 0.0, 0.0, 0.0, 0.0, 1.4054927302100164], [0.0, 0.1, 0.2, 0.30000000000000004, 0.4, 0.5, 0.6000000000000001, 0.7000000000000001, 0.8, 0.9, 1.0]], \"ref_small_hist\": [[8.599595551061679, 0.0, 0.0, 0.0, 0.0, 0.0, 0.0, 0.0, 0.0, 1.4004044489383218], [0.0, 0.1, 0.2, 0.30000000000000004, 0.4, 0.5, 0.6000000000000001, 0.7000000000000001, 0.8, 0.9, 1.0]], \"feature_type\": \"cat\", \"p_value\": 0.9746114876139398}, \"x2_Third\": {\"current_small_hist\": [[9.741518578352181, 0.0, 0.0, 0.0, 0.0, 0.0, 0.0, 0.0, 0.0, 0.2584814216478191], [0.0, 0.1, 0.2, 0.30000000000000004, 0.4, 0.5, 0.6000000000000001, 0.7000000000000001, 0.8, 0.9, 1.0]], \"ref_small_hist\": [[9.853387259858442, 0.0, 0.0, 0.0, 0.0, 0.0, 0.0, 0.0, 0.0, 0.14661274014155715], [0.0, 0.1, 0.2, 0.30000000000000004, 0.4, 0.5, 0.6000000000000001, 0.7000000000000001, 0.8, 0.9, 1.0]], \"feature_type\": \"cat\", \"p_value\": 0.0626776343019213}, \"x3_chevrolet\": {\"current_small_hist\": [[9.676898222940226, 0.0, 0.0, 0.0, 0.0, 0.0, 0.0, 0.0, 0.0, 0.32310177705977394], [0.0, 0.1, 0.2, 0.30000000000000004, 0.4, 0.5, 0.6000000000000001, 0.7000000000000001, 0.8, 0.9, 1.0]], \"ref_small_hist\": [[9.706774519716886, 0.0, 0.0, 0.0, 0.0, 0.0, 0.0, 0.0, 0.0, 0.2932254802831143], [0.0, 0.1, 0.2, 0.30000000000000004, 0.4, 0.5, 0.6000000000000001, 0.7000000000000001, 0.8, 0.9, 1.0]], \"feature_type\": \"cat\", \"p_value\": 0.7038959021092062}, \"x3_datsun\": {\"current_small_hist\": [[9.919224555735056, 0.0, 0.0, 0.0, 0.0, 0.0, 0.0, 0.0, 0.0, 0.08077544426494349], [0.0, 0.1, 0.2, 0.30000000000000004, 0.4, 0.5, 0.6000000000000001, 0.7000000000000001, 0.8, 0.9, 1.0]], \"ref_small_hist\": [[9.974721941354904, 0.0, 0.0, 0.0, 0.0, 0.0, 0.0, 0.0, 0.0, 0.025278058645096062], [0.0, 0.1, 0.2, 0.30000000000000004, 0.4, 0.5, 0.6000000000000001, 0.7000000000000001, 0.8, 0.9, 1.0]], \"feature_type\": \"cat\", \"p_value\": 0.05169462367112221}, \"x3_fiat\": {\"current_small_hist\": [[9.967689822294023, 0.0, 0.0, 0.0, 0.0, 0.0, 0.0, 0.0, 0.0, 0.03231017770597739], [0.0, 0.1, 0.2, 0.30000000000000004, 0.4, 0.5, 0.6000000000000001, 0.7000000000000001, 0.8, 0.9, 1.0]], \"ref_small_hist\": [[9.914054600606674, 0.0, 0.0, 0.0, 0.0, 0.0, 0.0, 0.0, 0.0, 0.08594539939332661], [0.0, 0.1, 0.2, 0.30000000000000004, 0.4, 0.5, 0.6000000000000001, 0.7000000000000001, 0.8, 0.9, 1.0]], \"feature_type\": \"cat\", \"p_value\": 0.17176566873440247}, \"x3_ford\": {\"current_small_hist\": [[9.337641357027463, 0.0, 0.0, 0.0, 0.0, 0.0, 0.0, 0.0, 0.0, 0.6623586429725365], [0.0, 0.1, 0.2, 0.30000000000000004, 0.4, 0.5, 0.6000000000000001, 0.7000000000000001, 0.8, 0.9, 1.0]], \"ref_small_hist\": [[9.261880687563195, 0.0, 0.0, 0.0, 0.0, 0.0, 0.0, 0.0, 0.0, 0.738119312436805], [0.0, 0.1, 0.2, 0.30000000000000004, 0.4, 0.5, 0.6000000000000001, 0.7000000000000001, 0.8, 0.9, 1.0]], \"feature_type\": \"cat\", \"p_value\": 0.5245360303352284}, \"x3_honda\": {\"current_small_hist\": [[8.9983844911147, 0.0, 0.0, 0.0, 0.0, 0.0, 0.0, 0.0, 0.0, 1.0016155088852992], [0.0, 0.1, 0.2, 0.30000000000000004, 0.4, 0.5, 0.6000000000000001, 0.7000000000000001, 0.8, 0.9, 1.0]], \"ref_small_hist\": [[9.019211324570273, 0.0, 0.0, 0.0, 0.0, 0.0, 0.0, 0.0, 0.0, 0.9807886754297273], [0.0, 0.1, 0.2, 0.30000000000000004, 0.4, 0.5, 0.6000000000000001, 0.7000000000000001, 0.8, 0.9, 1.0]], \"feature_type\": \"cat\", \"p_value\": 0.879420411635844}, \"x3_hyundai\": {\"current_small_hist\": [[7.512116316639742, 0.0, 0.0, 0.0, 0.0, 0.0, 0.0, 0.0, 0.0, 2.487883683360259], [0.0, 0.1, 0.2, 0.30000000000000004, 0.4, 0.5, 0.6000000000000001, 0.7000000000000001, 0.8, 0.9, 1.0]], \"ref_small_hist\": [[7.608695652173913, 0.0, 0.0, 0.0, 0.0, 0.0, 0.0, 0.0, 0.0, 2.3913043478260874], [0.0, 0.1, 0.2, 0.30000000000000004, 0.4, 0.5, 0.6000000000000001, 0.7000000000000001, 0.8, 0.9, 1.0]], \"feature_type\": \"cat\", \"p_value\": 0.624121369889413}, \"x3_mahindra\": {\"current_small_hist\": [[9.725363489499193, 0.0, 0.0, 0.0, 0.0, 0.0, 0.0, 0.0, 0.0, 0.2746365105008078], [0.0, 0.1, 0.2, 0.30000000000000004, 0.4, 0.5, 0.6000000000000001, 0.7000000000000001, 0.8, 0.9, 1.0]], \"ref_small_hist\": [[9.833164812942366, 0.0, 0.0, 0.0, 0.0, 0.0, 0.0, 0.0, 0.0, 0.166835187057634], [0.0, 0.1, 0.2, 0.30000000000000004, 0.4, 0.5, 0.6000000000000001, 0.7000000000000001, 0.8, 0.9, 1.0]], \"feature_type\": \"cat\", \"p_value\": 0.08849146412117648}, \"x3_maruti\": {\"current_small_hist\": [[6.607431340872375, 0.0, 0.0, 0.0, 0.0, 0.0, 0.0, 0.0, 0.0, 3.392568659127626], [0.0, 0.1, 0.2, 0.30000000000000004, 0.4, 0.5, 0.6000000000000001, 0.7000000000000001, 0.8, 0.9, 1.0]], \"ref_small_hist\": [[6.486349848331648, 0.0, 0.0, 0.0, 0.0, 0.0, 0.0, 0.0, 0.0, 3.5136501516683527], [0.0, 0.1, 0.2, 0.30000000000000004, 0.4, 0.5, 0.6000000000000001, 0.7000000000000001, 0.8, 0.9, 1.0]], \"feature_type\": \"cat\", \"p_value\": 0.5811149489898682}, \"x3_mitsubishi\": {\"current_small_hist\": [[0.0, 0.0, 0.0, 0.0, 0.0, 9.999999999999991, 0.0, 0.0, 0.0, 0.0], [-0.5, -0.4, -0.3, -0.19999999999999996, -0.09999999999999998, 0.0, 0.10000000000000009, 0.20000000000000007, 0.30000000000000004, 0.4, 0.5]], \"ref_small_hist\": [[9.989888776541962, 0.0, 0.0, 0.0, 0.0, 0.0, 0.0, 0.0, 0.0, 0.010111223458038424], [0.0, 0.1, 0.2, 0.30000000000000004, 0.4, 0.5, 0.6000000000000001, 0.7000000000000001, 0.8, 0.9, 1.0]], \"feature_type\": \"cat\", \"p_value\": 0.4286910217246698}, \"x3_nissan\": {\"current_small_hist\": [[9.773828756058158, 0.0, 0.0, 0.0, 0.0, 0.0, 0.0, 0.0, 0.0, 0.22617124394184174], [0.0, 0.1, 0.2, 0.30000000000000004, 0.4, 0.5, 0.6000000000000001, 0.7000000000000001, 0.8, 0.9, 1.0]], \"ref_small_hist\": [[9.792719919110212, 0.0, 0.0, 0.0, 0.0, 0.0, 0.0, 0.0, 0.0, 0.20728008088978772], [0.0, 0.1, 0.2, 0.30000000000000004, 0.4, 0.5, 0.6000000000000001, 0.7000000000000001, 0.8, 0.9, 1.0]], \"feature_type\": \"cat\", \"p_value\": 0.7757249916853666}, \"x3_renault\": {\"current_small_hist\": [[9.854604200323102, 0.0, 0.0, 0.0, 0.0, 0.0, 0.0, 0.0, 0.0, 0.14539579967689825], [0.0, 0.1, 0.2, 0.30000000000000004, 0.4, 0.5, 0.6000000000000001, 0.7000000000000001, 0.8, 0.9, 1.0]], \"ref_small_hist\": [[9.711830131445906, 0.0, 0.0, 0.0, 0.0, 0.0, 0.0, 0.0, 0.0, 0.2881698685540951], [0.0, 0.1, 0.2, 0.30000000000000004, 0.4, 0.5, 0.6000000000000001, 0.7000000000000001, 0.8, 0.9, 1.0]], \"feature_type\": \"cat\", \"p_value\": 0.048859421401935554}, \"x3_skoda\": {\"current_small_hist\": [[9.935379644588044, 0.0, 0.0, 0.0, 0.0, 0.0, 0.0, 0.0, 0.0, 0.06462035541195478], [0.0, 0.1, 0.2, 0.30000000000000004, 0.4, 0.5, 0.6000000000000001, 0.7000000000000001, 0.8, 0.9, 1.0]], \"ref_small_hist\": [[9.944388270980788, 0.0, 0.0, 0.0, 0.0, 0.0, 0.0, 0.0, 0.0, 0.05561172901921134], [0.0, 0.1, 0.2, 0.30000000000000004, 0.4, 0.5, 0.6000000000000001, 0.7000000000000001, 0.8, 0.9, 1.0]], \"feature_type\": \"cat\", \"p_value\": 0.7963108041860905}, \"x3_tata\": {\"current_small_hist\": [[9.51534733441034, 0.0, 0.0, 0.0, 0.0, 0.0, 0.0, 0.0, 0.0, 0.48465266558966086], [0.0, 0.1, 0.2, 0.30000000000000004, 0.4, 0.5, 0.6000000000000001, 0.7000000000000001, 0.8, 0.9, 1.0]], \"ref_small_hist\": [[9.504550050556118, 0.0, 0.0, 0.0, 0.0, 0.0, 0.0, 0.0, 0.0, 0.4954499494438828], [0.0, 0.1, 0.2, 0.30000000000000004, 0.4, 0.5, 0.6000000000000001, 0.7000000000000001, 0.8, 0.9, 1.0]], \"feature_type\": \"cat\", \"p_value\": 0.9137547603556344}, \"x3_toyota\": {\"current_small_hist\": [[9.709208400646203, 0.0, 0.0, 0.0, 0.0, 0.0, 0.0, 0.0, 0.0, 0.2907915993537965], [0.0, 0.1, 0.2, 0.30000000000000004, 0.4, 0.5, 0.6000000000000001, 0.7000000000000001, 0.8, 0.9, 1.0]], \"ref_small_hist\": [[9.74216380182002, 0.0, 0.0, 0.0, 0.0, 0.0, 0.0, 0.0, 0.0, 0.2578361981799798], [0.0, 0.1, 0.2, 0.30000000000000004, 0.4, 0.5, 0.6000000000000001, 0.7000000000000001, 0.8, 0.9, 1.0]], \"feature_type\": \"cat\", \"p_value\": 0.6563582910316006}, \"x3_volkswagen\": {\"current_small_hist\": [[9.483037156704363, 0.0, 0.0, 0.0, 0.0, 0.0, 0.0, 0.0, 0.0, 0.5169628432956382], [0.0, 0.1, 0.2, 0.30000000000000004, 0.4, 0.5, 0.6000000000000001, 0.7000000000000001, 0.8, 0.9, 1.0]], \"ref_small_hist\": [[9.509605662285136, 0.0, 0.0, 0.0, 0.0, 0.0, 0.0, 0.0, 0.0, 0.4903943377148636], [0.0, 0.1, 0.2, 0.30000000000000004, 0.4, 0.5, 0.6000000000000001, 0.7000000000000001, 0.8, 0.9, 1.0]], \"feature_type\": \"cat\", \"p_value\": 0.7906103657480901}, \"x4_Ahmedabad\": {\"current_small_hist\": [[9.547657512116317, 0.0, 0.0, 0.0, 0.0, 0.0, 0.0, 0.0, 0.0, 0.4523424878836835], [0.0, 0.1, 0.2, 0.30000000000000004, 0.4, 0.5, 0.6000000000000001, 0.7000000000000001, 0.8, 0.9, 1.0]], \"ref_small_hist\": [[9.635995955510618, 0.0, 0.0, 0.0, 0.0, 0.0, 0.0, 0.0, 0.0, 0.3640040444893833], [0.0, 0.1, 0.2, 0.30000000000000004, 0.4, 0.5, 0.6000000000000001, 0.7000000000000001, 0.8, 0.9, 1.0]], \"feature_type\": \"cat\", \"p_value\": 0.3188316404257767}, \"x4_Bangalore\": {\"current_small_hist\": [[9.660743134087237, 0.0, 0.0, 0.0, 0.0, 0.0, 0.0, 0.0, 0.0, 0.3392568659127626], [0.0, 0.1, 0.2, 0.30000000000000004, 0.4, 0.5, 0.6000000000000001, 0.7000000000000001, 0.8, 0.9, 1.0]], \"ref_small_hist\": [[9.565217391304348, 0.0, 0.0, 0.0, 0.0, 0.0, 0.0, 0.0, 0.0, 0.4347826086956523], [0.0, 0.1, 0.2, 0.30000000000000004, 0.4, 0.5, 0.6000000000000001, 0.7000000000000001, 0.8, 0.9, 1.0]], \"feature_type\": \"cat\", \"p_value\": 0.2966824677888611}, \"x4_Chennai\": {\"current_small_hist\": [[9.046849757673668, 0.0, 0.0, 0.0, 0.0, 0.0, 0.0, 0.0, 0.0, 0.9531502423263329], [0.0, 0.1, 0.2, 0.30000000000000004, 0.4, 0.5, 0.6000000000000001, 0.7000000000000001, 0.8, 0.9, 1.0]], \"ref_small_hist\": [[9.160768452982811, 0.0, 0.0, 0.0, 0.0, 0.0, 0.0, 0.0, 0.0, 0.8392315470171893], [0.0, 0.1, 0.2, 0.30000000000000004, 0.4, 0.5, 0.6000000000000001, 0.7000000000000001, 0.8, 0.9, 1.0]], \"feature_type\": \"cat\", \"p_value\": 0.37923449745622917}, \"x4_Coimbatore\": {\"current_small_hist\": [[9.079159935379645, 0.0, 0.0, 0.0, 0.0, 0.0, 0.0, 0.0, 0.0, 0.9208400646203556], [0.0, 0.1, 0.2, 0.30000000000000004, 0.4, 0.5, 0.6000000000000001, 0.7000000000000001, 0.8, 0.9, 1.0]], \"ref_small_hist\": [[8.968655207280081, 0.0, 0.0, 0.0, 0.0, 0.0, 0.0, 0.0, 0.0, 1.0313447927199193], [0.0, 0.1, 0.2, 0.30000000000000004, 0.4, 0.5, 0.6000000000000001, 0.7000000000000001, 0.8, 0.9, 1.0]], \"feature_type\": \"cat\", \"p_value\": 0.4248537075107679}, \"x4_Delhi\": {\"current_small_hist\": [[9.27302100161551, 0.0, 0.0, 0.0, 0.0, 0.0, 0.0, 0.0, 0.0, 0.7269789983844913], [0.0, 0.1, 0.2, 0.30000000000000004, 0.4, 0.5, 0.6000000000000001, 0.7000000000000001, 0.8, 0.9, 1.0]], \"ref_small_hist\": [[9.17593528816987, 0.0, 0.0, 0.0, 0.0, 0.0, 0.0, 0.0, 0.0, 0.8240647118301316], [0.0, 0.1, 0.2, 0.30000000000000004, 0.4, 0.5, 0.6000000000000001, 0.7000000000000001, 0.8, 0.9, 1.0]], \"feature_type\": \"cat\", \"p_value\": 0.4373814611880007}, \"x4_Hyderabad\": {\"current_small_hist\": [[8.481421647819063, 0.0, 0.0, 0.0, 0.0, 0.0, 0.0, 0.0, 0.0, 1.5185783521809373], [0.0, 0.1, 0.2, 0.30000000000000004, 0.4, 0.5, 0.6000000000000001, 0.7000000000000001, 0.8, 0.9, 1.0]], \"ref_small_hist\": [[8.725985844287159, 0.0, 0.0, 0.0, 0.0, 0.0, 0.0, 0.0, 0.0, 1.2740141557128415], [0.0, 0.1, 0.2, 0.30000000000000004, 0.4, 0.5, 0.6000000000000001, 0.7000000000000001, 0.8, 0.9, 1.0]], \"feature_type\": \"cat\", \"p_value\": 0.11813510382156389}, \"x4_Jaipur\": {\"current_small_hist\": [[9.192245557350565, 0.0, 0.0, 0.0, 0.0, 0.0, 0.0, 0.0, 0.0, 0.8077544426494347], [0.0, 0.1, 0.2, 0.30000000000000004, 0.4, 0.5, 0.6000000000000001, 0.7000000000000001, 0.8, 0.9, 1.0]], \"ref_small_hist\": [[9.084934277047523, 0.0, 0.0, 0.0, 0.0, 0.0, 0.0, 0.0, 0.0, 0.9150657229524775], [0.0, 0.1, 0.2, 0.30000000000000004, 0.4, 0.5, 0.6000000000000001, 0.7000000000000001, 0.8, 0.9, 1.0]], \"feature_type\": \"cat\", \"p_value\": 0.41306337779872226}, \"x4_Kochi\": {\"current_small_hist\": [[8.917609046849758, 0.0, 0.0, 0.0, 0.0, 0.0, 0.0, 0.0, 0.0, 1.0823909531502425], [0.0, 0.1, 0.2, 0.30000000000000004, 0.4, 0.5, 0.6000000000000001, 0.7000000000000001, 0.8, 0.9, 1.0]], \"ref_small_hist\": [[8.877654196157735, 0.0, 0.0, 0.0, 0.0, 0.0, 0.0, 0.0, 0.0, 1.1223458038422651], [0.0, 0.1, 0.2, 0.30000000000000004, 0.4, 0.5, 0.6000000000000001, 0.7000000000000001, 0.8, 0.9, 1.0]], \"feature_type\": \"cat\", \"p_value\": 0.7826514995065625}, \"x4_Kolkata\": {\"current_small_hist\": [[8.852988691437803, 0.0, 0.0, 0.0, 0.0, 0.0, 0.0, 0.0, 0.0, 1.1470113085621974], [0.0, 0.1, 0.2, 0.30000000000000004, 0.4, 0.5, 0.6000000000000001, 0.7000000000000001, 0.8, 0.9, 1.0]], \"ref_small_hist\": [[8.948432760364003, 0.0, 0.0, 0.0, 0.0, 0.0, 0.0, 0.0, 0.0, 1.051567239635996], [0.0, 0.1, 0.2, 0.30000000000000004, 0.4, 0.5, 0.6000000000000001, 0.7000000000000001, 0.8, 0.9, 1.0]], \"feature_type\": \"cat\", \"p_value\": 0.5033397593107043}, \"x4_Mumbai\": {\"current_small_hist\": [[8.917609046849758, 0.0, 0.0, 0.0, 0.0, 0.0, 0.0, 0.0, 0.0, 1.0823909531502425], [0.0, 0.1, 0.2, 0.30000000000000004, 0.4, 0.5, 0.6000000000000001, 0.7000000000000001, 0.8, 0.9, 1.0]], \"ref_small_hist\": [[8.98382204246714, 0.0, 0.0, 0.0, 0.0, 0.0, 0.0, 0.0, 0.0, 1.0161779575328618], [0.0, 0.1, 0.2, 0.30000000000000004, 0.4, 0.5, 0.6000000000000001, 0.7000000000000001, 0.8, 0.9, 1.0]], \"feature_type\": \"cat\", \"p_value\": 0.6365049334552433}, \"x4_Pune\": {\"current_small_hist\": [[9.03069466882068, 0.0, 0.0, 0.0, 0.0, 0.0, 0.0, 0.0, 0.0, 0.9693053311793217], [0.0, 0.1, 0.2, 0.30000000000000004, 0.4, 0.5, 0.6000000000000001, 0.7000000000000001, 0.8, 0.9, 1.0]], \"ref_small_hist\": [[8.872598584428715, 0.0, 0.0, 0.0, 0.0, 0.0, 0.0, 0.0, 0.0, 1.1274014155712844], [0.0, 0.1, 0.2, 0.30000000000000004, 0.4, 0.5, 0.6000000000000001, 0.7000000000000001, 0.8, 0.9, 1.0]], \"feature_type\": \"cat\", \"p_value\": 0.2706171464806362}, \"n_features\": 40, \"n_drifted_features\": 1, \"share_drifted_features\": 0.025, \"dataset_drift\": false}}}, \"timestamp\": \"2021-10-30 08:34:53.435441\"}'"
            ]
          },
          "metadata": {},
          "execution_count": 29
        }
      ]
    },
    {
      "cell_type": "markdown",
      "metadata": {
        "id": "D3lnSRT4Q52t"
      },
      "source": [
        "## Generating Regression Performance Report\n",
        "\n",
        "This report is generated after the actual ground truth is obtained i.e. after the actual sales of the cars in production environment."
      ]
    },
    {
      "cell_type": "code",
      "metadata": {
        "id": "deJQyhXaWqFL"
      },
      "source": [
        "cars_df_prod_x_cols_df_final['Price'] = cars_df_prod['Price']"
      ],
      "execution_count": null,
      "outputs": []
    },
    {
      "cell_type": "code",
      "metadata": {
        "id": "z75sJafhKwPg"
      },
      "source": [
        "from evidently.tabs import RegressionPerformanceTab"
      ],
      "execution_count": null,
      "outputs": []
    },
    {
      "cell_type": "code",
      "metadata": {
        "id": "HNbqb8w8Q-Tb"
      },
      "source": [
        "dashboard = Dashboard(tabs=[RegressionPerformanceTab])"
      ],
      "execution_count": null,
      "outputs": []
    },
    {
      "cell_type": "code",
      "metadata": {
        "id": "3Im65GZGQb8r"
      },
      "source": [
        "dashboard.calculate(x_train_x_cols_df_final, \n",
        "                    cars_df_prod_x_cols_df_final, \n",
        "                    column_mapping=column_mapping)"
      ],
      "execution_count": null,
      "outputs": []
    },
    {
      "cell_type": "code",
      "metadata": {
        "id": "MRXP-a7sRIil"
      },
      "source": [
        "dashboard.save(\"newreports/cars_dataPerormanceV1.html\")"
      ],
      "execution_count": null,
      "outputs": []
    },
    {
      "cell_type": "markdown",
      "metadata": {
        "id": "ZZ3ubyUVYhgC"
      },
      "source": [
        "### Comparing Errors by Segments"
      ]
    },
    {
      "cell_type": "code",
      "metadata": {
        "id": "q6zC82kIVc17"
      },
      "source": [
        "cars_df_prod['prediction'] = reg.predict(cars_df_prod[x_columns])"
      ],
      "execution_count": null,
      "outputs": []
    },
    {
      "cell_type": "code",
      "metadata": {
        "id": "9Xqqx19IY0zj"
      },
      "source": [
        "x_train['prediction'] = reg.predict(x_train[x_columns])\n",
        "x_train['Price'] = np.array(y_train)"
      ],
      "execution_count": null,
      "outputs": []
    },
    {
      "cell_type": "code",
      "metadata": {
        "id": "5IMraYUJY1mL"
      },
      "source": [
        "import matplotlib.pyplot as plt\n",
        "import seaborn as sn"
      ],
      "execution_count": null,
      "outputs": []
    },
    {
      "cell_type": "code",
      "metadata": {
        "id": "JNOCiieYZNXf"
      },
      "source": [
        "cars_df_prod['error'] = cars_df_prod['Price'] - cars_df_prod['prediction']\n",
        "x_train['error'] = x_train['Price'] - cars_df_prod['prediction']"
      ],
      "execution_count": null,
      "outputs": []
    },
    {
      "cell_type": "code",
      "metadata": {
        "id": "-9MsRWOzcM-L"
      },
      "source": [
        "car_makes = list(cars_df_prod.make.unique())"
      ],
      "execution_count": null,
      "outputs": []
    },
    {
      "cell_type": "code",
      "metadata": {
        "colab": {
          "base_uri": "https://localhost:8080/"
        },
        "id": "qmXGfOVYcRLv",
        "outputId": "e1fdb0af-9d4d-44c1-ce43-64c6e7f65e3e"
      },
      "source": [
        "car_makes"
      ],
      "execution_count": null,
      "outputs": [
        {
          "output_type": "execute_result",
          "data": {
            "text/plain": [
              "['hyundai',\n",
              " 'honda',\n",
              " 'ford',\n",
              " 'maruti',\n",
              " 'skoda',\n",
              " 'volkswagen',\n",
              " 'fiat',\n",
              " 'tata',\n",
              " 'toyota',\n",
              " 'mahindra',\n",
              " 'chevrolet',\n",
              " 'datsun',\n",
              " 'renault',\n",
              " 'nissan',\n",
              " 'ambassador']"
            ]
          },
          "metadata": {},
          "execution_count": 55
        }
      ]
    },
    {
      "cell_type": "code",
      "metadata": {
        "colab": {
          "base_uri": "https://localhost:8080/",
          "height": 387
        },
        "id": "SotCB7s3bmOa",
        "outputId": "8b8daf1c-d49e-44d9-9a49-3807986eb6ea"
      },
      "source": [
        "plt.figure(figsize = (16, 6))\n",
        "sn.boxplot( data = cars_df_prod,\n",
        "            x = 'make',\n",
        "            y = 'error',\n",
        "            order = car_makes);"
      ],
      "execution_count": null,
      "outputs": [
        {
          "output_type": "display_data",
          "data": {
            "image/png": "[encoded data removed]",
            "text/plain": [
              "<Figure size 1152x432 with 1 Axes>"
            ]
          },
          "metadata": {
            "needs_background": "light"
          }
        }
      ]
    },
    {
      "cell_type": "code",
      "metadata": {
        "colab": {
          "base_uri": "https://localhost:8080/",
          "height": 390
        },
        "id": "Qz4J43pQb3nv",
        "outputId": "089cdcab-bdbe-4d5d-846c-a029f7bd54ab"
      },
      "source": [
        "plt.figure(figsize = (16, 6))\n",
        "sn.boxplot( data = x_train,\n",
        "            x = 'make',\n",
        "            y = 'error',\n",
        "            order = car_makes);"
      ],
      "execution_count": null,
      "outputs": [
        {
          "output_type": "display_data",
          "data": {
            "image/png": "[encoded data removed]",
            "text/plain": [
              "<Figure size 1152x432 with 1 Axes>"
            ]
          },
          "metadata": {
            "needs_background": "light"
          }
        }
      ]
    },
    {
      "cell_type": "code",
      "metadata": {
        "id": "86LNXjhCb9Wm"
      },
      "source": [
        "error_by_make_location = pd.crosstab(cars_df_prod.make, cars_df_prod.Location, values = cars_df_prod.error, aggfunc = 'median' )"
      ],
      "execution_count": null,
      "outputs": []
    },
    {
      "cell_type": "code",
      "metadata": {
        "colab": {
          "base_uri": "https://localhost:8080/",
          "height": 538
        },
        "id": "kvEJxMMXdEJc",
        "outputId": "75c280e4-6ab8-4203-a3c0-60941a00958b"
      },
      "source": [
        "error_by_make_location"
      ],
      "execution_count": null,
      "outputs": [
        {
          "output_type": "execute_result",
          "data": {
            "text/html": [
              "<div>\n",
              "<style scoped>\n",
              "    .dataframe tbody tr th:only-of-type {\n",
              "        vertical-align: middle;\n",
              "    }\n",
              "\n",
              "    .dataframe tbody tr th {\n",
              "        vertical-align: top;\n",
              "    }\n",
              "\n",
              "    .dataframe thead th {\n",
              "        text-align: right;\n",
              "    }\n",
              "</style>\n",
              "<table border=\"1\" class=\"dataframe\">\n",
              "  <thead>\n",
              "    <tr style=\"text-align: right;\">\n",
              "      <th>Location</th>\n",
              "      <th>Ahmedabad</th>\n",
              "      <th>Bangalore</th>\n",
              "      <th>Chennai</th>\n",
              "      <th>Coimbatore</th>\n",
              "      <th>Delhi</th>\n",
              "      <th>Hyderabad</th>\n",
              "      <th>Jaipur</th>\n",
              "      <th>Kochi</th>\n",
              "      <th>Kolkata</th>\n",
              "      <th>Mumbai</th>\n",
              "      <th>Pune</th>\n",
              "    </tr>\n",
              "    <tr>\n",
              "      <th>make</th>\n",
              "      <th></th>\n",
              "      <th></th>\n",
              "      <th></th>\n",
              "      <th></th>\n",
              "      <th></th>\n",
              "      <th></th>\n",
              "      <th></th>\n",
              "      <th></th>\n",
              "      <th></th>\n",
              "      <th></th>\n",
              "      <th></th>\n",
              "    </tr>\n",
              "  </thead>\n",
              "  <tbody>\n",
              "    <tr>\n",
              "      <th>ambassador</th>\n",
              "      <td>NaN</td>\n",
              "      <td>NaN</td>\n",
              "      <td>-0.194561</td>\n",
              "      <td>NaN</td>\n",
              "      <td>NaN</td>\n",
              "      <td>NaN</td>\n",
              "      <td>NaN</td>\n",
              "      <td>NaN</td>\n",
              "      <td>NaN</td>\n",
              "      <td>NaN</td>\n",
              "      <td>NaN</td>\n",
              "    </tr>\n",
              "    <tr>\n",
              "      <th>chevrolet</th>\n",
              "      <td>NaN</td>\n",
              "      <td>NaN</td>\n",
              "      <td>0.312349</td>\n",
              "      <td>0.765063</td>\n",
              "      <td>-0.083956</td>\n",
              "      <td>-0.236328</td>\n",
              "      <td>0.356681</td>\n",
              "      <td>0.168901</td>\n",
              "      <td>0.035563</td>\n",
              "      <td>-1.072914</td>\n",
              "      <td>0.044936</td>\n",
              "    </tr>\n",
              "    <tr>\n",
              "      <th>datsun</th>\n",
              "      <td>NaN</td>\n",
              "      <td>-0.408578</td>\n",
              "      <td>NaN</td>\n",
              "      <td>NaN</td>\n",
              "      <td>NaN</td>\n",
              "      <td>-0.682382</td>\n",
              "      <td>NaN</td>\n",
              "      <td>NaN</td>\n",
              "      <td>-0.101900</td>\n",
              "      <td>NaN</td>\n",
              "      <td>NaN</td>\n",
              "    </tr>\n",
              "    <tr>\n",
              "      <th>fiat</th>\n",
              "      <td>NaN</td>\n",
              "      <td>NaN</td>\n",
              "      <td>NaN</td>\n",
              "      <td>NaN</td>\n",
              "      <td>NaN</td>\n",
              "      <td>NaN</td>\n",
              "      <td>NaN</td>\n",
              "      <td>-0.395802</td>\n",
              "      <td>-0.377295</td>\n",
              "      <td>NaN</td>\n",
              "      <td>NaN</td>\n",
              "    </tr>\n",
              "    <tr>\n",
              "      <th>ford</th>\n",
              "      <td>-0.334962</td>\n",
              "      <td>-0.041202</td>\n",
              "      <td>-0.303526</td>\n",
              "      <td>0.415444</td>\n",
              "      <td>0.329158</td>\n",
              "      <td>-0.186911</td>\n",
              "      <td>-0.800900</td>\n",
              "      <td>-0.545331</td>\n",
              "      <td>0.491474</td>\n",
              "      <td>-0.122527</td>\n",
              "      <td>-0.045079</td>\n",
              "    </tr>\n",
              "    <tr>\n",
              "      <th>honda</th>\n",
              "      <td>0.667762</td>\n",
              "      <td>NaN</td>\n",
              "      <td>0.074400</td>\n",
              "      <td>-0.300661</td>\n",
              "      <td>0.079569</td>\n",
              "      <td>0.300399</td>\n",
              "      <td>-0.313666</td>\n",
              "      <td>-0.212612</td>\n",
              "      <td>-0.246278</td>\n",
              "      <td>-0.029431</td>\n",
              "      <td>0.001028</td>\n",
              "    </tr>\n",
              "    <tr>\n",
              "      <th>hyundai</th>\n",
              "      <td>0.094362</td>\n",
              "      <td>-0.081213</td>\n",
              "      <td>-0.105923</td>\n",
              "      <td>0.025142</td>\n",
              "      <td>-0.051453</td>\n",
              "      <td>0.108640</td>\n",
              "      <td>0.102118</td>\n",
              "      <td>-0.288992</td>\n",
              "      <td>-0.142343</td>\n",
              "      <td>-0.103721</td>\n",
              "      <td>0.056616</td>\n",
              "    </tr>\n",
              "    <tr>\n",
              "      <th>mahindra</th>\n",
              "      <td>NaN</td>\n",
              "      <td>NaN</td>\n",
              "      <td>-0.652540</td>\n",
              "      <td>-0.759328</td>\n",
              "      <td>NaN</td>\n",
              "      <td>-1.045593</td>\n",
              "      <td>0.206724</td>\n",
              "      <td>-0.642366</td>\n",
              "      <td>NaN</td>\n",
              "      <td>-2.058483</td>\n",
              "      <td>-0.454044</td>\n",
              "    </tr>\n",
              "    <tr>\n",
              "      <th>maruti</th>\n",
              "      <td>-0.278485</td>\n",
              "      <td>-0.176520</td>\n",
              "      <td>-0.062289</td>\n",
              "      <td>0.329648</td>\n",
              "      <td>-0.130322</td>\n",
              "      <td>-0.022825</td>\n",
              "      <td>-0.029735</td>\n",
              "      <td>0.009647</td>\n",
              "      <td>0.092319</td>\n",
              "      <td>0.059084</td>\n",
              "      <td>-0.059468</td>\n",
              "    </tr>\n",
              "    <tr>\n",
              "      <th>nissan</th>\n",
              "      <td>0.545191</td>\n",
              "      <td>NaN</td>\n",
              "      <td>0.231912</td>\n",
              "      <td>0.869982</td>\n",
              "      <td>NaN</td>\n",
              "      <td>0.355465</td>\n",
              "      <td>0.262482</td>\n",
              "      <td>0.925449</td>\n",
              "      <td>-0.109100</td>\n",
              "      <td>NaN</td>\n",
              "      <td>0.167337</td>\n",
              "    </tr>\n",
              "    <tr>\n",
              "      <th>renault</th>\n",
              "      <td>NaN</td>\n",
              "      <td>-0.249583</td>\n",
              "      <td>NaN</td>\n",
              "      <td>NaN</td>\n",
              "      <td>NaN</td>\n",
              "      <td>0.467917</td>\n",
              "      <td>-0.475334</td>\n",
              "      <td>0.599443</td>\n",
              "      <td>-0.017767</td>\n",
              "      <td>NaN</td>\n",
              "      <td>-0.313360</td>\n",
              "    </tr>\n",
              "    <tr>\n",
              "      <th>skoda</th>\n",
              "      <td>NaN</td>\n",
              "      <td>NaN</td>\n",
              "      <td>NaN</td>\n",
              "      <td>NaN</td>\n",
              "      <td>-0.705896</td>\n",
              "      <td>-0.590389</td>\n",
              "      <td>NaN</td>\n",
              "      <td>NaN</td>\n",
              "      <td>NaN</td>\n",
              "      <td>-0.023365</td>\n",
              "      <td>-0.619528</td>\n",
              "    </tr>\n",
              "    <tr>\n",
              "      <th>tata</th>\n",
              "      <td>-0.268779</td>\n",
              "      <td>-0.231361</td>\n",
              "      <td>-0.093032</td>\n",
              "      <td>-0.402160</td>\n",
              "      <td>-0.297622</td>\n",
              "      <td>-0.202868</td>\n",
              "      <td>-0.216983</td>\n",
              "      <td>0.954761</td>\n",
              "      <td>1.074724</td>\n",
              "      <td>0.006852</td>\n",
              "      <td>0.587175</td>\n",
              "    </tr>\n",
              "    <tr>\n",
              "      <th>toyota</th>\n",
              "      <td>0.252866</td>\n",
              "      <td>0.795888</td>\n",
              "      <td>0.383797</td>\n",
              "      <td>0.270391</td>\n",
              "      <td>0.010622</td>\n",
              "      <td>0.888608</td>\n",
              "      <td>NaN</td>\n",
              "      <td>-0.472288</td>\n",
              "      <td>0.347457</td>\n",
              "      <td>-3.526027</td>\n",
              "      <td>2.560451</td>\n",
              "    </tr>\n",
              "    <tr>\n",
              "      <th>volkswagen</th>\n",
              "      <td>0.004924</td>\n",
              "      <td>-0.286483</td>\n",
              "      <td>NaN</td>\n",
              "      <td>-0.219114</td>\n",
              "      <td>-0.134304</td>\n",
              "      <td>-0.183121</td>\n",
              "      <td>-0.284331</td>\n",
              "      <td>-0.072910</td>\n",
              "      <td>-0.318629</td>\n",
              "      <td>-0.018234</td>\n",
              "      <td>0.109729</td>\n",
              "    </tr>\n",
              "  </tbody>\n",
              "</table>\n",
              "</div>"
            ],
            "text/plain": [
              "Location    Ahmedabad  Bangalore   Chennai  ...   Kolkata    Mumbai      Pune\n",
              "make                                        ...                              \n",
              "ambassador        NaN        NaN -0.194561  ...       NaN       NaN       NaN\n",
              "chevrolet         NaN        NaN  0.312349  ...  0.035563 -1.072914  0.044936\n",
              "datsun            NaN  -0.408578       NaN  ... -0.101900       NaN       NaN\n",
              "fiat              NaN        NaN       NaN  ... -0.377295       NaN       NaN\n",
              "ford        -0.334962  -0.041202 -0.303526  ...  0.491474 -0.122527 -0.045079\n",
              "honda        0.667762        NaN  0.074400  ... -0.246278 -0.029431  0.001028\n",
              "hyundai      0.094362  -0.081213 -0.105923  ... -0.142343 -0.103721  0.056616\n",
              "mahindra          NaN        NaN -0.652540  ...       NaN -2.058483 -0.454044\n",
              "maruti      -0.278485  -0.176520 -0.062289  ...  0.092319  0.059084 -0.059468\n",
              "nissan       0.545191        NaN  0.231912  ... -0.109100       NaN  0.167337\n",
              "renault           NaN  -0.249583       NaN  ... -0.017767       NaN -0.313360\n",
              "skoda             NaN        NaN       NaN  ...       NaN -0.023365 -0.619528\n",
              "tata        -0.268779  -0.231361 -0.093032  ...  1.074724  0.006852  0.587175\n",
              "toyota       0.252866   0.795888  0.383797  ...  0.347457 -3.526027  2.560451\n",
              "volkswagen   0.004924  -0.286483       NaN  ... -0.318629 -0.018234  0.109729\n",
              "\n",
              "[15 rows x 11 columns]"
            ]
          },
          "metadata": {},
          "execution_count": 62
        }
      ]
    },
    {
      "cell_type": "code",
      "metadata": {
        "colab": {
          "base_uri": "https://localhost:8080/",
          "height": 546
        },
        "id": "fUpKEOrfdHzc",
        "outputId": "a68046de-de40-4535-e2b7-99b7a26197d7"
      },
      "source": [
        "plt.figure(figsize = (10, 8))\n",
        "sn.heatmap(error_by_make_location, annot = True, fmt = \"0.2f\", cmap = sn.diverging_palette(150, 275, s=80, l=55, n=9));"
      ],
      "execution_count": null,
      "outputs": [
        {
          "output_type": "display_data",
          "data": {
            "image/png": "[encoded data removed]",
            "text/plain": [
              "<Figure size 720x576 with 2 Axes>"
            ]
          },
          "metadata": {
            "needs_background": "light"
          }
        }
      ]
    },
    {
      "cell_type": "code",
      "metadata": {
        "colab": {
          "base_uri": "https://localhost:8080/",
          "height": 546
        },
        "id": "7jNotzYZdXpB",
        "outputId": "312cf56e-69fc-4e6f-f24a-9550b8ca806e"
      },
      "source": [
        "train_error_by_make_location = pd.crosstab(x_train.make, x_train.Location, values = cars_df_prod.error, aggfunc = 'median' )\n",
        "plt.figure(figsize = (10, 8))\n",
        "sn.heatmap(train_error_by_make_location, annot = True, fmt = \"0.2f\", cmap = sn.diverging_palette(150, 275, s=80, l=55, n=9));"
      ],
      "execution_count": null,
      "outputs": [
        {
          "output_type": "display_data",
          "data": {
            "image/png": "[encoded data removed]",
            "text/plain": [
              "<Figure size 720x576 with 2 Axes>"
            ]
          },
          "metadata": {
            "needs_background": "light"
          }
        }
      ]
    },
    {
      "cell_type": "code",
      "metadata": {
        "id": "NM1Z6dFaeLDr"
      },
      "source": [
        ""
      ],
      "execution_count": null,
      "outputs": []
    }
  ]
}