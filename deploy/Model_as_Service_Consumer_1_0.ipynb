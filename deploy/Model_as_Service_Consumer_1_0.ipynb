{
 "cells": [
  {
   "cell_type": "markdown",
   "metadata": {
    "id": "TYp2Y929gX2L"
   },
   "source": [
    "## Model as Service Consumer"
   ]
  },
  {
   "cell_type": "markdown",
   "metadata": {
    "id": "_GppI_a6gj2i"
   },
   "source": [
    "### Creating the request"
   ]
  },
  {
   "cell_type": "code",
   "execution_count": 1,
   "metadata": {
    "id": "z7w7kOffcrB-"
   },
   "outputs": [],
   "source": [
    "import requests"
   ]
  },
  {
   "cell_type": "code",
   "execution_count": 2,
   "metadata": {
    "id": "t5rRz5XJdJ7-"
   },
   "outputs": [],
   "source": [
    "data = \"\"\"{\"KM_Driven\":10,\"Fuel_Type\":\"Petrol\",\"age\":4,\"Transmission\":\"Automatic\",\"Owner_Type\":\"First\",\"Seats\":4,\"make\":\"maruti\",\"mileage_new\":21,\"engine_new\":900,\"model\":\"swift\",\"power_new\":90,\"Location\":\"Bangalore\"}\"\"\"\n"
   ]
  },
  {
   "cell_type": "code",
   "execution_count": 3,
   "metadata": {
    "colab": {
     "base_uri": "https://localhost:8080/",
     "height": 52
    },
    "id": "CFV4ar0lgQwg",
    "outputId": "d6d9cb5d-3d80-4222-98d6-bdcd71c6db64"
   },
   "outputs": [
    {
     "data": {
      "text/plain": [
       "'{\"KM_Driven\":10,\"Fuel_Type\":\"Petrol\",\"age\":4,\"Transmission\":\"Automatic\",\"Owner_Type\":\"First\",\"Seats\":4,\"make\":\"maruti\",\"mileage_new\":21,\"engine_new\":900,\"model\":\"swift\",\"power_new\":90,\"Location\":\"Bangalore\"}'"
      ]
     },
     "execution_count": 3,
     "metadata": {},
     "output_type": "execute_result"
    }
   ],
   "source": [
    "data"
   ]
  },
  {
   "cell_type": "markdown",
   "metadata": {
    "id": "cPCK5XpSgnZV"
   },
   "source": [
    "### Sending the request"
   ]
  },
  {
   "cell_type": "code",
   "execution_count": 4,
   "metadata": {
    "id": "XRKfDAukdICp"
   },
   "outputs": [],
   "source": [
    "response = requests.post('http://127.0.0.1:5000/predict', data=data)"
   ]
  },
  {
   "cell_type": "markdown",
   "metadata": {
    "id": "y89cHPXsgp50"
   },
   "source": [
    "### Printing the response"
   ]
  },
  {
   "cell_type": "code",
   "execution_count": 5,
   "metadata": {
    "colab": {
     "base_uri": "https://localhost:8080/"
    },
    "id": "1TpqkeqfdI3h",
    "outputId": "fd15c7b2-ded9-43ad-dbb6-b2279f44ed1f"
   },
   "outputs": [
    {
     "name": "stdout",
     "output_type": "stream",
     "text": [
      "Expected Sale Price of your car is: INR 8.0 Lakhs\n"
     ]
    }
   ],
   "source": [
    "print(response.json())"
   ]
  },
  {
   "cell_type": "code",
   "execution_count": null,
   "metadata": {
    "id": "Bnbb8sVKdPSQ"
   },
   "outputs": [],
   "source": []
  },
  {
   "cell_type": "code",
   "execution_count": null,
   "metadata": {},
   "outputs": [],
   "source": []
  }
 ],
 "metadata": {
  "colab": {
   "name": "Model as Service - Consumer 1.0.ipynb",
   "provenance": []
  },
  "kernelspec": {
   "display_name": "Python 3",
   "language": "python",
   "name": "python3"
  },
  "language_info": {
   "codemirror_mode": {
    "name": "ipython",
    "version": 3
   },
   "file_extension": ".py",
   "mimetype": "text/x-python",
   "name": "python",
   "nbconvert_exporter": "python",
   "pygments_lexer": "ipython3",
   "version": "3.8.5"
  }
 },
 "nbformat": 4,
 "nbformat_minor": 1
}
