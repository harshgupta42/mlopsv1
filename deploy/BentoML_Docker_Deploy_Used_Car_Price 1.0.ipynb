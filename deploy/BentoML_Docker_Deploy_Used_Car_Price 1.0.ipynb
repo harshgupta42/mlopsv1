{
 "cells": [
  {
   "cell_type": "code",
   "execution_count": 1,
   "metadata": {
    "colab": {
     "base_uri": "https://localhost:8080/"
    },
    "id": "cYCpJOvvDE7E",
    "outputId": "0ca2b92d-cd93-4a09-9d32-03d310a41da3"
   },
   "outputs": [
    {
     "name": "stdout",
     "output_type": "stream",
     "text": [
      "Requirement already satisfied: wandb in /opt/anaconda3/envs/mlopslab/lib/python3.8/site-packages (0.11.2)\n",
      "Requirement already satisfied: psutil>=5.0.0 in /opt/anaconda3/envs/mlopslab/lib/python3.8/site-packages (from wandb) (5.8.0)\n",
      "Requirement already satisfied: six>=1.13.0 in /opt/anaconda3/envs/mlopslab/lib/python3.8/site-packages (from wandb) (1.16.0)\n",
      "Requirement already satisfied: PyYAML in /opt/anaconda3/envs/mlopslab/lib/python3.8/site-packages (from wandb) (5.3.1)\n",
      "Requirement already satisfied: Click!=8.0.0,>=7.0 in /opt/anaconda3/envs/mlopslab/lib/python3.8/site-packages (from wandb) (7.1.2)\n",
      "Requirement already satisfied: shortuuid>=0.5.0 in /opt/anaconda3/envs/mlopslab/lib/python3.8/site-packages (from wandb) (1.0.1)\n",
      "Requirement already satisfied: python-dateutil>=2.6.1 in /opt/anaconda3/envs/mlopslab/lib/python3.8/site-packages (from wandb) (2.8.1)\n",
      "Requirement already satisfied: promise<3,>=2.0 in /opt/anaconda3/envs/mlopslab/lib/python3.8/site-packages (from wandb) (2.3)\n",
      "Requirement already satisfied: docker-pycreds>=0.4.0 in /opt/anaconda3/envs/mlopslab/lib/python3.8/site-packages (from wandb) (0.4.0)\n",
      "Requirement already satisfied: configparser>=3.8.1 in /opt/anaconda3/envs/mlopslab/lib/python3.8/site-packages (from wandb) (5.0.2)\n",
      "Requirement already satisfied: pathtools in /opt/anaconda3/envs/mlopslab/lib/python3.8/site-packages (from wandb) (0.1.2)\n",
      "Collecting urllib3>=1.26.5\n",
      "  Using cached urllib3-1.26.8-py2.py3-none-any.whl (138 kB)\n",
      "Requirement already satisfied: subprocess32>=3.5.3 in /opt/anaconda3/envs/mlopslab/lib/python3.8/site-packages (from wandb) (3.5.4)\n",
      "Requirement already satisfied: sentry-sdk>=1.0.0 in /opt/anaconda3/envs/mlopslab/lib/python3.8/site-packages (from wandb) (1.3.1)\n",
      "Requirement already satisfied: GitPython>=1.0.0 in /opt/anaconda3/envs/mlopslab/lib/python3.8/site-packages (from wandb) (3.1.18)\n",
      "Requirement already satisfied: protobuf>=3.12.0 in /opt/anaconda3/envs/mlopslab/lib/python3.8/site-packages (from wandb) (3.17.2)\n",
      "Requirement already satisfied: requests<3,>=2.0.0 in /opt/anaconda3/envs/mlopslab/lib/python3.8/site-packages (from wandb) (2.24.0)\n",
      "Requirement already satisfied: certifi in /opt/anaconda3/envs/mlopslab/lib/python3.8/site-packages (from sentry-sdk>=1.0.0->wandb) (2021.5.30)\n",
      "Requirement already satisfied: gitdb<5,>=4.0.1 in /opt/anaconda3/envs/mlopslab/lib/python3.8/site-packages (from GitPython>=1.0.0->wandb) (4.0.7)\n",
      "Requirement already satisfied: idna<3,>=2.5 in /opt/anaconda3/envs/mlopslab/lib/python3.8/site-packages (from requests<3,>=2.0.0->wandb) (2.10)\n",
      "Requirement already satisfied: chardet<4,>=3.0.2 in /opt/anaconda3/envs/mlopslab/lib/python3.8/site-packages (from requests<3,>=2.0.0->wandb) (3.0.4)\n",
      "Requirement already satisfied: smmap<5,>=3.0.1 in /opt/anaconda3/envs/mlopslab/lib/python3.8/site-packages (from gitdb<5,>=4.0.1->GitPython>=1.0.0->wandb) (4.0.0)\n",
      "Installing collected packages: urllib3\n",
      "  Attempting uninstall: urllib3\n",
      "    Found existing installation: urllib3 1.25.11\n",
      "    Uninstalling urllib3-1.25.11:\n",
      "      Successfully uninstalled urllib3-1.25.11\n",
      "\u001b[31mERROR: After October 2020 you may experience errors when installing or updating packages. This is because pip will change the way that it resolves dependency conflicts.\n",
      "\n",
      "We recommend you use --use-feature=2020-resolver to test your packages with the new resolver before it becomes the default.\n",
      "\n",
      "conda 4.10.3 requires ruamel_yaml_conda>=0.11.14, which is not installed.\n",
      "requests 2.24.0 requires urllib3!=1.25.0,!=1.25.1,<1.26,>=1.21.1, but you'll have urllib3 1.26.8 which is incompatible.\n",
      "dvc 2.5.4 requires ruamel.yaml>=0.16.1, but you'll have ruamel-yaml 0.15.87 which is incompatible.\n",
      "bentoml 0.13.1 requires urllib3<=1.25.11, but you'll have urllib3 1.26.8 which is incompatible.\u001b[0m\n",
      "Successfully installed urllib3-1.26.8\n",
      "Requirement already satisfied: onnxruntime==1.9.0 in /opt/anaconda3/envs/mlopslab/lib/python3.8/site-packages (1.9.0)\n",
      "Requirement already satisfied: flatbuffers in /opt/anaconda3/envs/mlopslab/lib/python3.8/site-packages (from onnxruntime==1.9.0) (2.0)\n",
      "Requirement already satisfied: numpy>=1.16.6 in /opt/anaconda3/envs/mlopslab/lib/python3.8/site-packages (from onnxruntime==1.9.0) (1.19.2)\n",
      "Requirement already satisfied: protobuf in /opt/anaconda3/envs/mlopslab/lib/python3.8/site-packages (from onnxruntime==1.9.0) (3.17.2)\n",
      "Requirement already satisfied: six>=1.9 in /opt/anaconda3/envs/mlopslab/lib/python3.8/site-packages (from protobuf->onnxruntime==1.9.0) (1.16.0)\n"
     ]
    }
   ],
   "source": [
    "!pip install wandb\n",
    "!pip install onnxruntime==1.9.0"
   ]
  },
  {
   "cell_type": "code",
   "execution_count": 6,
   "metadata": {
    "colab": {
     "base_uri": "https://localhost:8080/"
    },
    "id": "S9xNz5mMCfAT",
    "outputId": "344b0f32-a9b6-4a66-c6c4-c3bfd25f793f"
   },
   "outputs": [],
   "source": [
    "!pip install -q bentoml --use-feature=2020-resolver \"skl2onnx==1.10.0\" \"onnx==1.10.1\" \"onnxmltools==1.10.0\""
   ]
  },
  {
   "cell_type": "code",
   "execution_count": 7,
   "metadata": {
    "id": "w8TJUoD9Df6k"
   },
   "outputs": [],
   "source": [
    "import os\n",
    "import wandb\n",
    "import pandas as pd\n",
    "import numpy as np\n",
    "import onnxruntime as rt"
   ]
  },
  {
   "cell_type": "code",
   "execution_count": 8,
   "metadata": {},
   "outputs": [],
   "source": [
    "import onnxruntime"
   ]
  },
  {
   "cell_type": "code",
   "execution_count": 9,
   "metadata": {},
   "outputs": [
    {
     "data": {
      "text/plain": [
       "'1.9.0'"
      ]
     },
     "execution_count": 9,
     "metadata": {},
     "output_type": "execute_result"
    }
   ],
   "source": [
    "onnxruntime.__version__"
   ]
  },
  {
   "cell_type": "markdown",
   "metadata": {
    "id": "UKzPB1OgDQmf"
   },
   "source": [
    "## Download the model from Weights and Biases"
   ]
  },
  {
   "cell_type": "code",
   "execution_count": 10,
   "metadata": {
    "id": "7PJE9ndIDO1f"
   },
   "outputs": [],
   "source": [
    "import os\n",
    "os.environ[\"WANDB_API_KEY\"] = \"2217d1580a9bb6478b3f7d6b4a501bb5a7f2d49d\""
   ]
  },
  {
   "cell_type": "code",
   "execution_count": 11,
   "metadata": {
    "colab": {
     "base_uri": "https://localhost:8080/",
     "height": 134
    },
    "id": "THqh3T_ZDaf9",
    "outputId": "160088b5-0da7-4a85-df14-9b840565c30c"
   },
   "outputs": [
    {
     "name": "stderr",
     "output_type": "stream",
     "text": [
      "\u001b[34m\u001b[1mwandb\u001b[0m: Currently logged in as: \u001b[33mmanaranjan\u001b[0m (use `wandb login --relogin` to force relogin)\n",
      "\u001b[34m\u001b[1mwandb\u001b[0m: wandb version 0.12.10 is available!  To upgrade, please run:\n",
      "\u001b[34m\u001b[1mwandb\u001b[0m:  $ pip install wandb --upgrade\n"
     ]
    },
    {
     "data": {
      "text/html": [
       "\n",
       "                Tracking run with wandb version 0.11.2<br/>\n",
       "                Syncing run <strong style=\"color:#cdcd00\">curious-sea-7</strong> to <a href=\"https://wandb.ai\" target=\"_blank\">Weights & Biases</a> <a href=\"https://docs.wandb.com/integrations/jupyter.html\" target=\"_blank\">(Documentation)</a>.<br/>\n",
       "                Project page: <a href=\"https://wandb.ai/manaranjan/usedCarV2\" target=\"_blank\">https://wandb.ai/manaranjan/usedCarV2</a><br/>\n",
       "                Run page: <a href=\"https://wandb.ai/manaranjan/usedCarV2/runs/2gsvshz5\" target=\"_blank\">https://wandb.ai/manaranjan/usedCarV2/runs/2gsvshz5</a><br/>\n",
       "                Run data is saved locally in <code>/Users/manaranjan/Documents/Work/MyLearnings/MLOps/class material/demo/wandb/run-20220218_150149-2gsvshz5</code><br/><br/>\n",
       "            "
      ],
      "text/plain": [
       "<IPython.core.display.HTML object>"
      ]
     },
     "metadata": {},
     "output_type": "display_data"
    }
   ],
   "source": [
    "run = wandb.init(project='usedCarV2')"
   ]
  },
  {
   "cell_type": "code",
   "execution_count": 12,
   "metadata": {
    "colab": {
     "base_uri": "https://localhost:8080/",
     "height": 35
    },
    "id": "64-tMM6JDkPb",
    "outputId": "45b53436-ea41-4fc7-c847-0bf9b01e5f9a"
   },
   "outputs": [
    {
     "data": {
      "text/plain": [
       "'./artifacts/XGBoost_UserCar:v0'"
      ]
     },
     "execution_count": 12,
     "metadata": {},
     "output_type": "execute_result"
    }
   ],
   "source": [
    "ARTIFACT_NAME = 'XGBoost_UserCar:v0'\n",
    "#run = wandb.init()\n",
    "artifact = run.use_artifact('manaranjan/usedCarV2/' + ARTIFACT_NAME, type='model')\n",
    "artifact_dir = artifact.download()\n",
    "artifact_dir"
   ]
  },
  {
   "cell_type": "code",
   "execution_count": 13,
   "metadata": {
    "colab": {
     "base_uri": "https://localhost:8080/"
    },
    "id": "clU8tNyHDrKS",
    "outputId": "abd86a2f-e41b-45a0-9796-0296a52e6655"
   },
   "outputs": [
    {
     "name": "stdout",
     "output_type": "stream",
     "text": [
      "ls: artifacts/XGBoost_UserCar:v4: No such file or directory\r\n"
     ]
    }
   ],
   "source": [
    "!ls -al  artifacts/XGBoost_UserCar:v4"
   ]
  },
  {
   "cell_type": "code",
   "execution_count": 14,
   "metadata": {
    "colab": {
     "base_uri": "https://localhost:8080/"
    },
    "id": "2LhPVQLwCqEk",
    "outputId": "ac491e37-e4bd-4c44-8c64-73043b2481a9"
   },
   "outputs": [
    {
     "name": "stdout",
     "output_type": "stream",
     "text": [
      "Overwriting usedcar_price_prediction.py\n"
     ]
    }
   ],
   "source": [
    "%%writefile usedcar_price_prediction.py\n",
    "\n",
    "import pandas as pd\n",
    "import numpy as np\n",
    "import bentoml\n",
    "from bentoml.adapters import JsonInput\n",
    "from bentoml.frameworks.onnx import OnnxModelArtifact\n",
    "\n",
    "@bentoml.artifacts([OnnxModelArtifact('model')])\n",
    "@bentoml.env(infer_pip_packages=True)\n",
    "class UsedCarPriceOnnx(bentoml.BentoService):\n",
    "    \n",
    "    @bentoml.api(input=JsonInput(), batch=False)\n",
    "    def predict(self, json):\n",
    "\n",
    "      print(json)\n",
    "\n",
    "      df = pd.DataFrame(json, index = [0])\n",
    "\n",
    "      x_columns = ['KM_Driven', 'Fuel_Type', 'age',\n",
    "                    'Transmission', 'Owner_Type', 'Seats',\n",
    "                    'make', 'mileage_new', 'engine_new', 'model',\n",
    "                    'power_new', 'Location']\n",
    "\n",
    "      cat_features = ['Fuel_Type',\n",
    "                      'Transmission', 'Owner_Type', 'model',\n",
    "                      'make', 'Location']\n",
    "\n",
    "      num_features = list(set(x_columns) - set(cat_features))       \n",
    "\n",
    "      inputs = {c: df[c].values for c in df.columns}\n",
    "      for c in num_features:\n",
    "        inputs[c] = inputs[c].astype(np.float32)\n",
    "      for k in inputs:\n",
    "        inputs[k] = inputs[k].reshape((inputs[k].shape[0], 1))  \n",
    "\n",
    "      outputs = self.artifacts.model.run(None, inputs)\n",
    "\n",
    "      return f\"Expected Sale Price of your car is: INR {np.round(float(outputs[0][0,0]), 1)} Lakhs\""
   ]
  },
  {
   "cell_type": "code",
   "execution_count": 15,
   "metadata": {
    "id": "NOvjRxo9GSdw"
   },
   "outputs": [],
   "source": [
    "import onnx\n",
    "\n",
    "# onnx_model is an in-memory ModelProto\n",
    "onnx_model = onnx.load(artifact_dir + \"/usedcar_xgboost.onnx\")"
   ]
  },
  {
   "cell_type": "code",
   "execution_count": 16,
   "metadata": {
    "colab": {
     "base_uri": "https://localhost:8080/"
    },
    "id": "I_0MUS9xErFk",
    "outputId": "58106452-f3e2-479d-9e87-4045e686299a"
   },
   "outputs": [],
   "source": [
    "from usedcar_price_prediction import UsedCarPriceOnnx"
   ]
  },
  {
   "cell_type": "code",
   "execution_count": 17,
   "metadata": {
    "colab": {
     "base_uri": "https://localhost:8080/"
    },
    "id": "HiO71NlmGIpQ",
    "outputId": "205b9837-7408-4b0c-ef20-72c3a5cce40d"
   },
   "outputs": [
    {
     "name": "stdout",
     "output_type": "stream",
     "text": [
      "[2022-02-18 15:02:01,721] INFO - BentoService bundle 'UsedCarPriceOnnx:20220218150200_27AECF' saved to: /Users/manaranjan/bentoml/repository/UsedCarPriceOnnx/20220218150200_27AECF\n"
     ]
    }
   ],
   "source": [
    "svc = UsedCarPriceOnnx()\n",
    "svc.pack('model', onnx_model)\n",
    "\n",
    "saved_path = svc.save()"
   ]
  },
  {
   "cell_type": "code",
   "execution_count": 19,
   "metadata": {},
   "outputs": [
    {
     "name": "stdout",
     "output_type": "stream",
     "text": [
      "[2022-02-18 15:22:40,725] INFO - Getting latest version UsedCarPriceOnnx:20220218150200_27AECF\n",
      "\u001b[39mFound Bento: /Users/manaranjan/bentoml/repository/UsedCarPriceOnnx/20220218150200_27AECF\u001b[0m\n",
      "Containerizing UsedCarPriceOnnx:20220218150200_27AECF with local YataiService and docker daemon from local environment/\u001b[32m\n",
      "Build container image: usedcarprice-mlops-18feb2022:20220218150200_27AECF\u001b[0m\n",
      "\b \r"
     ]
    }
   ],
   "source": [
    "!bentoml containerize UsedCarPriceOnnx:latest -t usedcarprice-mlops-18feb2022"
   ]
  },
  {
   "cell_type": "markdown",
   "metadata": {},
   "source": [
    "### Basic Docker Commands\n",
    "\n",
    "1. Listing docker images\n",
    "\n",
    "```\n",
    "docker images\n",
    "```\n",
    "2.  Running the docker image\n",
    "\n",
    "```\n",
    "docker run -p 5000:5000 usedcarprice-mlopsv0 --workers=1\n",
    "```\n",
    "\n",
    "3. Go to browser and connect to the port\n",
    "\n",
    "http://localhost:5000/\n",
    "\n",
    "And then enter the following request in the request textbox"
   ]
  },
  {
   "cell_type": "markdown",
   "metadata": {
    "id": "IWDZoEehRhJp"
   },
   "source": [
    "{\"KM_Driven\":10.0,\"Fuel_Type\":\"Petrol\",\"age\":4.0,\"Transmission\":\"Automatic\",\"Owner_Type\":\"First\",\"Seats\":4.0,\"make\":\"maruti\",\"mileage_new\":21.0,\"engine_new\":900.0,\"model\":\"swift\",\"power_new\":90.0,\"Location\":\"Bangalore\"}"
   ]
  },
  {
   "cell_type": "markdown",
   "metadata": {},
   "source": [
    "4. Deleting a docker image"
   ]
  },
  {
   "cell_type": "code",
   "execution_count": 20,
   "metadata": {},
   "outputs": [],
   "source": [
    "import sklearn"
   ]
  },
  {
   "cell_type": "code",
   "execution_count": 21,
   "metadata": {},
   "outputs": [
    {
     "data": {
      "text/plain": [
       "'1.0.2'"
      ]
     },
     "execution_count": 21,
     "metadata": {},
     "output_type": "execute_result"
    }
   ],
   "source": [
    "sklearn.__version__"
   ]
  },
  {
   "cell_type": "code",
   "execution_count": 22,
   "metadata": {},
   "outputs": [
    {
     "name": "stdout",
     "output_type": "stream",
     "text": [
      "\r\n",
      "     active environment : base\r\n",
      "    active env location : /opt/anaconda3/envs/mlopslab\r\n",
      "            shell level : 2\r\n",
      "       user config file : /Users/manaranjan/.condarc\r\n",
      " populated config files : /Users/manaranjan/.condarc\r\n",
      "          conda version : 4.10.3\r\n",
      "    conda-build version : not installed\r\n",
      "         python version : 3.8.5.final.0\r\n",
      "       virtual packages : __osx=10.15.7=0\r\n",
      "                          __unix=0=0\r\n",
      "                          __archspec=1=x86_64\r\n",
      "       base environment : /opt/anaconda3/envs/mlopslab  (writable)\r\n",
      "      conda av data dir : /opt/anaconda3/envs/mlopslab/etc/conda\r\n",
      "  conda av metadata url : None\r\n",
      "           channel URLs : https://repo.anaconda.com/pkgs/main/osx-64\r\n",
      "                          https://repo.anaconda.com/pkgs/main/noarch\r\n",
      "                          https://repo.anaconda.com/pkgs/r/osx-64\r\n",
      "                          https://repo.anaconda.com/pkgs/r/noarch\r\n",
      "          package cache : /opt/anaconda3/envs/mlopslab/pkgs\r\n",
      "                          /Users/manaranjan/.conda/pkgs\r\n",
      "       envs directories : /opt/anaconda3/envs/mlopslab\r\n",
      "                          /opt/anaconda3/envs/mlopslab/envs\r\n",
      "                          /Users/manaranjan/.conda/envs\r\n",
      "               platform : osx-64\r\n",
      "             user-agent : conda/4.10.3 requests/2.24.0 CPython/3.8.5 Darwin/19.6.0 OSX/10.15.7\r\n",
      "                UID:GID : 501:20\r\n",
      "             netrc file : None\r\n",
      "           offline mode : False\r\n",
      "\r\n"
     ]
    }
   ],
   "source": [
    "!conda info"
   ]
  },
  {
   "cell_type": "code",
   "execution_count": null,
   "metadata": {},
   "outputs": [],
   "source": []
  }
 ],
 "metadata": {
  "colab": {
   "name": "BentoML Docker Deploy - Used Car Price.ipynb",
   "provenance": []
  },
  "kernelspec": {
   "display_name": "Python 3",
   "language": "python",
   "name": "python3"
  },
  "language_info": {
   "codemirror_mode": {
    "name": "ipython",
    "version": 3
   },
   "file_extension": ".py",
   "mimetype": "text/x-python",
   "name": "python",
   "nbconvert_exporter": "python",
   "pygments_lexer": "ipython3",
   "version": "3.8.5"
  }
 },
 "nbformat": 4,
 "nbformat_minor": 1
}
