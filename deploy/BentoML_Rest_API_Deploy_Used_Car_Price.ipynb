{
 "cells": [
  {
   "cell_type": "markdown",
   "metadata": {
    "id": "3p-vMcsWX7ZK"
   },
   "source": [
    "# Deploying the model as service "
   ]
  },
  {
   "cell_type": "code",
   "execution_count": 1,
   "metadata": {
    "colab": {
     "base_uri": "https://localhost:8080/"
    },
    "id": "cYCpJOvvDE7E",
    "outputId": "156202c8-af2d-41a7-b0e4-5afe3b35c99c"
   },
   "outputs": [
    {
     "name": "stdout",
     "output_type": "stream",
     "text": [
      "Requirement already satisfied: wandb in /opt/anaconda3/envs/mlopslab/lib/python3.8/site-packages (0.11.2)\n",
      "Requirement already satisfied: protobuf>=3.12.0 in /opt/anaconda3/envs/mlopslab/lib/python3.8/site-packages (from wandb) (3.17.2)\n",
      "Requirement already satisfied: GitPython>=1.0.0 in /opt/anaconda3/envs/mlopslab/lib/python3.8/site-packages (from wandb) (3.1.18)\n",
      "Requirement already satisfied: Click!=8.0.0,>=7.0 in /opt/anaconda3/envs/mlopslab/lib/python3.8/site-packages (from wandb) (7.1.2)\n",
      "Requirement already satisfied: requests<3,>=2.0.0 in /opt/anaconda3/envs/mlopslab/lib/python3.8/site-packages (from wandb) (2.24.0)\n",
      "Requirement already satisfied: promise<3,>=2.0 in /opt/anaconda3/envs/mlopslab/lib/python3.8/site-packages (from wandb) (2.3)\n",
      "Requirement already satisfied: docker-pycreds>=0.4.0 in /opt/anaconda3/envs/mlopslab/lib/python3.8/site-packages (from wandb) (0.4.0)\n",
      "Requirement already satisfied: sentry-sdk>=1.0.0 in /opt/anaconda3/envs/mlopslab/lib/python3.8/site-packages (from wandb) (1.3.1)\n",
      "Requirement already satisfied: python-dateutil>=2.6.1 in /opt/anaconda3/envs/mlopslab/lib/python3.8/site-packages (from wandb) (2.8.1)\n",
      "Requirement already satisfied: configparser>=3.8.1 in /opt/anaconda3/envs/mlopslab/lib/python3.8/site-packages (from wandb) (5.0.2)\n",
      "Collecting urllib3>=1.26.5\n",
      "  Downloading urllib3-1.26.8-py2.py3-none-any.whl (138 kB)\n",
      "\u001b[K     |████████████████████████████████| 138 kB 5.0 MB/s eta 0:00:01\n",
      "\u001b[?25hRequirement already satisfied: six>=1.13.0 in /opt/anaconda3/envs/mlopslab/lib/python3.8/site-packages (from wandb) (1.16.0)\n",
      "Requirement already satisfied: subprocess32>=3.5.3 in /opt/anaconda3/envs/mlopslab/lib/python3.8/site-packages (from wandb) (3.5.4)\n",
      "Requirement already satisfied: shortuuid>=0.5.0 in /opt/anaconda3/envs/mlopslab/lib/python3.8/site-packages (from wandb) (1.0.1)\n",
      "Requirement already satisfied: PyYAML in /opt/anaconda3/envs/mlopslab/lib/python3.8/site-packages (from wandb) (5.3.1)\n",
      "Requirement already satisfied: pathtools in /opt/anaconda3/envs/mlopslab/lib/python3.8/site-packages (from wandb) (0.1.2)\n",
      "Requirement already satisfied: psutil>=5.0.0 in /opt/anaconda3/envs/mlopslab/lib/python3.8/site-packages (from wandb) (5.8.0)\n",
      "Requirement already satisfied: gitdb<5,>=4.0.1 in /opt/anaconda3/envs/mlopslab/lib/python3.8/site-packages (from GitPython>=1.0.0->wandb) (4.0.7)\n",
      "Requirement already satisfied: idna<3,>=2.5 in /opt/anaconda3/envs/mlopslab/lib/python3.8/site-packages (from requests<3,>=2.0.0->wandb) (2.10)\n",
      "Requirement already satisfied: certifi>=2017.4.17 in /opt/anaconda3/envs/mlopslab/lib/python3.8/site-packages (from requests<3,>=2.0.0->wandb) (2021.5.30)\n",
      "Requirement already satisfied: chardet<4,>=3.0.2 in /opt/anaconda3/envs/mlopslab/lib/python3.8/site-packages (from requests<3,>=2.0.0->wandb) (3.0.4)\n",
      "Requirement already satisfied: smmap<5,>=3.0.1 in /opt/anaconda3/envs/mlopslab/lib/python3.8/site-packages (from gitdb<5,>=4.0.1->GitPython>=1.0.0->wandb) (4.0.0)\n",
      "Installing collected packages: urllib3\n",
      "  Attempting uninstall: urllib3\n",
      "    Found existing installation: urllib3 1.25.11\n",
      "    Uninstalling urllib3-1.25.11:\n",
      "      Successfully uninstalled urllib3-1.25.11\n",
      "\u001b[31mERROR: After October 2020 you may experience errors when installing or updating packages. This is because pip will change the way that it resolves dependency conflicts.\n",
      "\n",
      "We recommend you use --use-feature=2020-resolver to test your packages with the new resolver before it becomes the default.\n",
      "\n",
      "conda 4.10.3 requires ruamel_yaml_conda>=0.11.14, which is not installed.\n",
      "requests 2.24.0 requires urllib3!=1.25.0,!=1.25.1,<1.26,>=1.21.1, but you'll have urllib3 1.26.8 which is incompatible.\n",
      "dvc 2.5.4 requires ruamel.yaml>=0.16.1, but you'll have ruamel-yaml 0.15.87 which is incompatible.\n",
      "bentoml 0.13.1 requires urllib3<=1.25.11, but you'll have urllib3 1.26.8 which is incompatible.\u001b[0m\n",
      "Successfully installed urllib3-1.26.8\n",
      "Requirement already satisfied: onnxruntime in /opt/anaconda3/envs/mlopslab/lib/python3.8/site-packages (1.9.0)\n",
      "Requirement already satisfied: protobuf in /opt/anaconda3/envs/mlopslab/lib/python3.8/site-packages (from onnxruntime) (3.17.2)\n",
      "Requirement already satisfied: flatbuffers in /opt/anaconda3/envs/mlopslab/lib/python3.8/site-packages (from onnxruntime) (2.0)\n",
      "Requirement already satisfied: numpy>=1.16.6 in /opt/anaconda3/envs/mlopslab/lib/python3.8/site-packages (from onnxruntime) (1.19.2)\n",
      "Requirement already satisfied: six>=1.9 in /opt/anaconda3/envs/mlopslab/lib/python3.8/site-packages (from protobuf->onnxruntime) (1.16.0)\n"
     ]
    }
   ],
   "source": [
    "!pip install wandb\n",
    "!pip install onnxruntime"
   ]
  },
  {
   "cell_type": "code",
   "execution_count": 3,
   "metadata": {
    "colab": {
     "base_uri": "https://localhost:8080/"
    },
    "id": "S9xNz5mMCfAT",
    "outputId": "646ac68f-2515-4a8e-dd6b-ce4d2e5404cc"
   },
   "outputs": [],
   "source": [
    "!pip install -q bentoml --use-feature=2020-resolver \"skl2onnx==1.7.0\" \"onnx==1.7.0\" \"onnxmltools==1.7.0\""
   ]
  },
  {
   "cell_type": "code",
   "execution_count": 4,
   "metadata": {
    "id": "w8TJUoD9Df6k"
   },
   "outputs": [],
   "source": [
    "import os\n",
    "import wandb\n",
    "import pandas as pd\n",
    "import numpy as np\n",
    "import onnxruntime as rt"
   ]
  },
  {
   "cell_type": "markdown",
   "metadata": {
    "id": "UKzPB1OgDQmf"
   },
   "source": [
    "## Download the model from Weights and Biases"
   ]
  },
  {
   "cell_type": "code",
   "execution_count": 5,
   "metadata": {
    "id": "7PJE9ndIDO1f"
   },
   "outputs": [],
   "source": [
    "import os\n",
    "os.environ[\"WANDB_API_KEY\"] = \"2217d1580a9bb6478b3f7d6b4a501bb5a7f2d49d\""
   ]
  },
  {
   "cell_type": "code",
   "execution_count": 6,
   "metadata": {
    "colab": {
     "base_uri": "https://localhost:8080/",
     "height": 52
    },
    "id": "THqh3T_ZDaf9",
    "outputId": "a80b0aa1-6d84-42cb-c02d-c5297f08ded4"
   },
   "outputs": [
    {
     "name": "stderr",
     "output_type": "stream",
     "text": [
      "\u001b[34m\u001b[1mwandb\u001b[0m: Currently logged in as: \u001b[33mmanaranjan\u001b[0m (use `wandb login --relogin` to force relogin)\n",
      "\u001b[34m\u001b[1mwandb\u001b[0m: wandb version 0.12.10 is available!  To upgrade, please run:\n",
      "\u001b[34m\u001b[1mwandb\u001b[0m:  $ pip install wandb --upgrade\n"
     ]
    },
    {
     "data": {
      "text/html": [
       "\n",
       "                Tracking run with wandb version 0.11.2<br/>\n",
       "                Syncing run <strong style=\"color:#cdcd00\">dandy-brook-6</strong> to <a href=\"https://wandb.ai\" target=\"_blank\">Weights & Biases</a> <a href=\"https://docs.wandb.com/integrations/jupyter.html\" target=\"_blank\">(Documentation)</a>.<br/>\n",
       "                Project page: <a href=\"https://wandb.ai/manaranjan/usedCarV2\" target=\"_blank\">https://wandb.ai/manaranjan/usedCarV2</a><br/>\n",
       "                Run page: <a href=\"https://wandb.ai/manaranjan/usedCarV2/runs/1t60ehj4\" target=\"_blank\">https://wandb.ai/manaranjan/usedCarV2/runs/1t60ehj4</a><br/>\n",
       "                Run data is saved locally in <code>/Users/manaranjan/Documents/Work/MyLearnings/MLOps/class material/demo/wandb/run-20220218_121256-1t60ehj4</code><br/><br/>\n",
       "            "
      ],
      "text/plain": [
       "<IPython.core.display.HTML object>"
      ]
     },
     "metadata": {},
     "output_type": "display_data"
    }
   ],
   "source": [
    "run = wandb.init(project='usedCarV2')"
   ]
  },
  {
   "cell_type": "code",
   "execution_count": 7,
   "metadata": {
    "colab": {
     "base_uri": "https://localhost:8080/",
     "height": 35
    },
    "id": "64-tMM6JDkPb",
    "outputId": "3c45943a-8496-40e2-f583-0ba44fe0592a"
   },
   "outputs": [
    {
     "data": {
      "text/plain": [
       "'./artifacts/XGBoost_UserCar:v0'"
      ]
     },
     "execution_count": 7,
     "metadata": {},
     "output_type": "execute_result"
    }
   ],
   "source": [
    "ARTIFACT_NAME = 'XGBoost_UserCar:v0'\n",
    "#run = wandb.init()\n",
    "artifact = run.use_artifact('manaranjan/usedCarV2/' + ARTIFACT_NAME, type='model')\n",
    "artifact_dir = artifact.download()\n",
    "artifact_dir"
   ]
  },
  {
   "cell_type": "code",
   "execution_count": 8,
   "metadata": {
    "colab": {
     "base_uri": "https://localhost:8080/"
    },
    "id": "clU8tNyHDrKS",
    "outputId": "e031cb51-b1d8-482c-d2e4-a3b343f5b354"
   },
   "outputs": [
    {
     "name": "stdout",
     "output_type": "stream",
     "text": [
      "total 584\r\n",
      "drwxr-xr-x  3 manaranjan  staff      96 Feb 18 12:13 \u001b[1m\u001b[36m.\u001b[m\u001b[m\r\n",
      "drwxr-xr-x  3 manaranjan  staff      96 Feb 18 12:13 \u001b[1m\u001b[36m..\u001b[m\u001b[m\r\n",
      "-rw-r--r--  1 manaranjan  staff  296292 Feb 18 12:13 usedcar_xgboost.onnx\r\n"
     ]
    }
   ],
   "source": [
    "!ls -al  {artifact_dir}"
   ]
  },
  {
   "cell_type": "markdown",
   "metadata": {
    "id": "azSTk7dIYIT8"
   },
   "source": [
    "## Creating the Model Service"
   ]
  },
  {
   "cell_type": "code",
   "execution_count": 9,
   "metadata": {
    "colab": {
     "base_uri": "https://localhost:8080/"
    },
    "id": "2LhPVQLwCqEk",
    "outputId": "76e6674f-ec2c-4883-e4ff-559b2488c8f9"
   },
   "outputs": [
    {
     "name": "stdout",
     "output_type": "stream",
     "text": [
      "Writing usedcar_price_prediction.py\n"
     ]
    }
   ],
   "source": [
    "%%writefile usedcar_price_prediction.py\n",
    "\n",
    "import pandas as pd\n",
    "import numpy as np\n",
    "import bentoml\n",
    "from bentoml.adapters import JsonInput\n",
    "from bentoml.frameworks.onnx import OnnxModelArtifact\n",
    "\n",
    "@bentoml.artifacts([OnnxModelArtifact('model')])\n",
    "@bentoml.env(infer_pip_packages=True)\n",
    "class UsedCarPriceOnnx(bentoml.BentoService):\n",
    "    \n",
    "    @bentoml.api(input=JsonInput(), batch=False)\n",
    "    def predict(self, json):\n",
    "\n",
    "      print(json)\n",
    "\n",
    "      df = pd.DataFrame(json, index = [0])\n",
    "\n",
    "      x_columns = ['KM_Driven', 'Fuel_Type', 'age',\n",
    "                    'Transmission', 'Owner_Type', 'Seats',\n",
    "                    'make', 'mileage_new', 'engine_new', 'model',\n",
    "                    'power_new', 'Location']\n",
    "\n",
    "      cat_features = ['Fuel_Type',\n",
    "                      'Transmission', 'Owner_Type', 'model',\n",
    "                      'make', 'Location']\n",
    "\n",
    "      num_features = list(set(x_columns) - set(cat_features))       \n",
    "\n",
    "      inputs = {c: df[c].values for c in df.columns}\n",
    "      for c in num_features:\n",
    "        inputs[c] = inputs[c].astype(np.float32)\n",
    "      for k in inputs:\n",
    "        inputs[k] = inputs[k].reshape((inputs[k].shape[0], 1))  \n",
    "\n",
    "      outputs = self.artifacts.model.run(None, inputs)\n",
    "\n",
    "      return f\"Expected Sale Price of your car is: INR {np.round(float(outputs[0][0,0]), 1)} Lakhs\""
   ]
  },
  {
   "cell_type": "code",
   "execution_count": 10,
   "metadata": {
    "id": "NOvjRxo9GSdw"
   },
   "outputs": [],
   "source": [
    "import onnx\n",
    "\n",
    "# onnx_model is an in-memory ModelProto\n",
    "onnx_model = onnx.load(artifact_dir + \"/usedcar_xgboost.onnx\")"
   ]
  },
  {
   "cell_type": "code",
   "execution_count": 11,
   "metadata": {
    "colab": {
     "base_uri": "https://localhost:8080/"
    },
    "id": "I_0MUS9xErFk",
    "outputId": "7050681e-dd4c-4750-df07-ba57a2194abd"
   },
   "outputs": [],
   "source": [
    "from usedcar_price_prediction import UsedCarPriceOnnx"
   ]
  },
  {
   "cell_type": "code",
   "execution_count": 12,
   "metadata": {
    "colab": {
     "base_uri": "https://localhost:8080/"
    },
    "id": "HiO71NlmGIpQ",
    "outputId": "fe0f2bf8-c77e-4eb9-aeab-d9454fd10590"
   },
   "outputs": [
    {
     "name": "stdout",
     "output_type": "stream",
     "text": [
      "[2022-02-18 12:13:14,992] INFO - BentoService bundle 'UsedCarPriceOnnx:20220218121313_B9610B' saved to: /Users/manaranjan/bentoml/repository/UsedCarPriceOnnx/20220218121313_B9610B\n"
     ]
    }
   ],
   "source": [
    "svc = UsedCarPriceOnnx()\n",
    "svc.pack('model', onnx_model)\n",
    "\n",
    "saved_path = svc.save()"
   ]
  },
  {
   "cell_type": "code",
   "execution_count": 13,
   "metadata": {
    "colab": {
     "base_uri": "https://localhost:8080/",
     "height": 35
    },
    "id": "YVzjiabMHHM8",
    "outputId": "69f94577-e604-4a7c-e038-fb52504fe3dc"
   },
   "outputs": [
    {
     "data": {
      "text/plain": [
       "'/Users/manaranjan/bentoml/repository/UsedCarPriceOnnx/20220218121313_B9610B'"
      ]
     },
     "execution_count": 13,
     "metadata": {},
     "output_type": "execute_result"
    }
   ],
   "source": [
    "saved_path"
   ]
  },
  {
   "cell_type": "markdown",
   "metadata": {
    "id": "i1J56W4LZy7f"
   },
   "source": [
    "## Serving the model as service\n",
    "\n",
    "### Starting the service"
   ]
  },
  {
   "cell_type": "code",
   "execution_count": 14,
   "metadata": {
    "colab": {
     "base_uri": "https://localhost:8080/"
    },
    "id": "qUjSVE5CHI4Z",
    "outputId": "819ec12a-c9d7-4e8f-fabd-a78bfdcac99c"
   },
   "outputs": [
    {
     "name": "stdout",
     "output_type": "stream",
     "text": [
      "[2022-02-18 12:13:19,113] INFO - Getting latest version UsedCarPriceOnnx:20220218121313_B9610B\n",
      "[2022-02-18 12:13:19,130] INFO - Starting BentoML API proxy in development mode..\n",
      "[2022-02-18 12:13:19,694] INFO - Starting BentoML API server in development mode..\n",
      " * Serving Flask app \"UsedCarPriceOnnx\" (lazy loading)\n",
      " * Environment: production\n",
      "\u001b[31m   WARNING: This is a development server. Do not use it in a production deployment.\u001b[0m\n",
      "\u001b[2m   Use a production WSGI server instead.\u001b[0m\n",
      " * Debug mode: off\n",
      " * Running on http://127.0.0.1:60088/ (Press CTRL+C to quit)\n",
      "[2022-02-18 12:13:21,565] INFO - Your system nofile limit is 4864, which means each instance of microbatch service is able to hold this number of connections at same time. You can increase the number of file descriptors for the server process, or launch more microbatch instances to accept more concurrent connection.\n",
      "======== Running on http://0.0.0.0:5000 ========\n",
      "(Press CTRL+C to quit)\n",
      "127.0.0.1 - - [18/Feb/2022 12:13:26] \"\u001b[37mGET / HTTP/1.1\u001b[0m\" 200 -\n",
      "127.0.0.1 - - [18/Feb/2022 12:13:26] \"\u001b[37mGET /static_content/main.css HTTP/1.1\u001b[0m\" 200 -\n",
      "127.0.0.1 - - [18/Feb/2022 12:13:26] \"\u001b[37mGET /static_content/readme.css HTTP/1.1\u001b[0m\" 200 -\n",
      "127.0.0.1 - - [18/Feb/2022 12:13:26] \"\u001b[37mGET /static_content/swagger-ui.css HTTP/1.1\u001b[0m\" 200 -\n",
      "127.0.0.1 - - [18/Feb/2022 12:13:26] \"\u001b[37mGET /static_content/marked.min.js HTTP/1.1\u001b[0m\" 200 -\n",
      "127.0.0.1 - - [18/Feb/2022 12:13:26] \"\u001b[37mGET /static_content/swagger-ui-bundle.js HTTP/1.1\u001b[0m\" 200 -\n",
      "127.0.0.1 - - [18/Feb/2022 12:13:26] \"\u001b[37mGET /docs.json HTTP/1.1\u001b[0m\" 200 -\n",
      "127.0.0.1 - - [18/Feb/2022 12:13:27] \"\u001b[33mGET /favicon.ico HTTP/1.1\u001b[0m\" 404 -\n",
      "\u001b7\u001b[?47h\u001b[?1h\u001b=\u0002\u0007\u001b[H\u001b[2J\u001b[m\u001b[38;5;6m\u001b[48;5;16m\u001b[1m\u001b[1;1Hngrok\u001b[m\u001b[38;5;16m\u001b[48;5;16m \u001b[m\u001b[38;5;7m\u001b[48;5;16mby\u001b[m\u001b[38;5;16m\u001b[48;5;16m \u001b[m\u001b[38;5;6m\u001b[48;5;16m\u001b[1m@inconshreveable\u001b[m\u001b[38;5;16m\u001b[48;5;16m                                       \u001b[m\u001b[38;5;7m\u001b[48;5;16m(Ctrl+C to quit)\u001b[m\u001b[38;5;16m\u001b[48;5;16m\u001b[2;1H                                                                                \u001b[m\u001b[38;5;6m\u001b[48;5;16m\u001b[3;1HSession Status                connecting\u001b[m\u001b[38;5;16m\u001b[48;5;16m                                        \u001b[m\u001b[38;5;7m\u001b[48;5;16m\u001b[4;1HVersion                       2.3.40\u001b[m\u001b[38;5;16m\u001b[48;5;16m                                            \u001b[m\u001b[38;5;7m\u001b[48;5;16m\u001b[5;1HRegion                        United States (us)\u001b[m\u001b[38;5;16m\u001b[48;5;16m                                \u001b[m\u001b[38;5;7m\u001b[48;5;16m\u001b[6;1HWeb Interface                 http://127.0.0.1:4040\u001b[m\u001b[38;5;16m\u001b[48;5;16m                             \u001b[7;1H                                                                                \u001b[m\u001b[38;5;7m\u001b[48;5;16m\u001b[8;1HConnections                   ttl     opn     rt1     rt5     p50     p90     \u001b[m\u001b[38;5;16m\u001b[48;5;16m  \u001b[m\u001b[38;5;7m\u001b[48;5;16m\u001b[9;1H                              0       0       0.00    0.00    0.00    0.00    \u001b[m\u001b[38;5;16m\u001b[48;5;16m  \u001b[10;1H                                                                                \u001b[11;1H                                                                                \u001b[12;1H                                                                                \u001b[13;1H                                                                                \u001b[14;1H                                                                                \u001b[15;1H                                                                                \u001b[16;1H                                                                                \u001b[17;1H                                                                                \u001b[18;1H                                                                                \u001b[19;1H                                                                                \u001b[20;1H                                                                                \u001b[21;1H                                                                                \u001b[22;1H                                                                                \u001b[23;1H                                                                                \u001b[24;1H                                                                                Exception in thread Thread-1:\n",
      "Traceback (most recent call last):\n",
      "  File \"/opt/anaconda3/envs/mlopslab/lib/python3.8/threading.py\", line 932, in _bootstrap_inner\n",
      "    self.run()\n",
      "  File \"/opt/anaconda3/envs/mlopslab/lib/python3.8/threading.py\", line 1254, in run\n",
      "    self.function(*self.args, **self.kwargs)\n",
      "  File \"/opt/anaconda3/envs/mlopslab/lib/python3.8/site-packages/bentoml/utils/flask_ngrok.py\", line 90, in start_ngrok\n",
      "    ngrok_address = _run_ngrok(port)\n",
      "  File \"/opt/anaconda3/envs/mlopslab/lib/python3.8/site-packages/bentoml/utils/flask_ngrok.py\", line 47, in _run_ngrok\n",
      "    tunnel_url = j['tunnels'][0]['public_url']  # Do the parsing of the get\n",
      "IndexError: list index out of range\n",
      "\u001b[m\u001b[38;5;2m\u001b[48;5;16m\u001b[3;1HSession Status                online\u001b[m\u001b[38;5;16m\u001b[48;5;16m    \u001b[m\u001b[38;5;7m\u001b[48;5;16m\u001b[4;1HS\u001b[4;3Hs\u001b[4;9HExpires\u001b[4;31H1 hour, 59 minutes\u001b[5;1HV\u001b[5;3Hrsion\u001b[5;31H2.3.40\u001b[m\u001b[38;5;16m\u001b[48;5;16m            \u001b[m\u001b[38;5;7m\u001b[48;5;16m\u001b[6;1HR\u001b[6;3Hgio\u001b[6;7H       \u001b[6;31HUnited States (us)\u001b[m\u001b[38;5;16m\u001b[48;5;16m   \u001b[m\u001b[38;5;7m\u001b[48;5;16m\u001b[7;1HWeb Interface                 http://127.0.0.1:4040\u001b[m\u001b[38;5;16m\u001b[48;5;16m\u001b[8;1H                                                                              \u001b[m\u001b[38;5;7m\u001b[48;5;16m\u001b[9;1HConnections\u001b[9;31Httl\u001b[9;39Hopn\u001b[9;47Hrt1 \u001b[9;55Hrt5 \u001b[9;63Hp5\u001b[9;66H \u001b[9;71Hp9\u001b[9;74H \u001b[10;1H                              0       0       0.00    0.00    0.00    0.00    \u001b[8;1HForwarding                    https://b26f-122-171-165-156.ngrok.io -> http://lo\u001b[m\u001b[38;5;16m\u001b[48;5;16m\u001b[9;1H                                                                              \u001b[m\u001b[38;5;7m\u001b[48;5;16m\u001b[10;1HConnections\u001b[10;31Httl\u001b[10;39Hopn\u001b[10;47Hrt1 \u001b[10;55Hrt5 \u001b[10;63Hp5\u001b[10;66H \u001b[10;71Hp9\u001b[10;74H \u001b[11;1H                              0       0       0.00    0.00    0.00    0.00    \u001b[8;35H:/\u001b[8;38Hb26f-12\u001b[8;46H-171-165-156.ngrok.io -> ht\u001b[8;74Hp:/\u001b[8;78Hloc\u001b[9;1HForwarding                    https://b26f-122-171-165-156.ngrok.io -> http://lo\u001b[m\u001b[38;5;16m\u001b[48;5;16m\u001b[10;1H                                                                              \u001b[m\u001b[38;5;7m\u001b[48;5;16m\u001b[11;1HConnections\u001b[11;31Httl\u001b[11;39Hopn\u001b[11;47Hrt1 \u001b[11;55Hrt5 \u001b[11;63Hp5\u001b[11;66H \u001b[11;71Hp9\u001b[11;74H \u001b[12;1H                              0       0       0.00    0.00    0.00    0.00    \u001b[4;40H8{'KM_Driven': 10, 'Fuel_Type': 'Petrol', 'age': 4, 'Transmission': 'Automatic', 'Owner_Type': 'First', 'Seats': 4, 'make': 'maruti', 'mileage_new': 21, 'engine_new': 900, 'model': 'swift', 'power_new': 90, 'Location': 'Bangalore'}\n",
      "[2022-02-18 12:14:56,591] INFO - Initializing onnxruntime InferenceSession from onnx file:'/Users/manaranjan/bentoml/repository/UsedCarPriceOnnx/20220218121313_B9610B/UsedCarPriceOnnx/artifacts/model.onnx'\n",
      "[2022-02-18 12:14:56,617] INFO - {'service_name': 'UsedCarPriceOnnx', 'service_version': '20220218121313_B9610B', 'api': 'predict', 'task': {'data': '{\"KM_Driven\":10,\"Fuel_Type\":\"Petrol\",\"age\":4,\"Transmission\":\"Automatic\",\"Owner_Type\":\"First\",\"Seats\":4,\"make\":\"maruti\",\"mileage_new\":21,\"engine_new\":900,\"model\":\"swift\",\"power_new\":90,\"Location\":\"Bangalore\"}', 'task_id': '250712c2-a7f3-4630-921c-8bfcfb13d0ed', 'http_headers': (('Host', '127.0.0.1:60088'), ('Connection', 'keep-alive'), ('Content-Length', '207'), ('Sec-Ch-Ua', '\" Not A;Brand\";v=\"99\", \"Chromium\";v=\"98\", \"Google Chrome\";v=\"98\"'), ('Accept', '*/*'), ('Content-Type', 'application/json'), ('Sec-Ch-Ua-Mobile', '?0'), ('User-Agent', 'Mozilla/5.0 (Macintosh; Intel Mac OS X 10_15_7) AppleWebKit/537.36 (KHTML, like Gecko) Chrome/98.0.4758.102 Safari/537.36'), ('Sec-Ch-Ua-Platform', '\"macOS\"'), ('Origin', 'http://127.0.0.1:60088'), ('Sec-Fetch-Site', 'same-origin'), ('Sec-Fetch-Mode', 'cors'), ('Sec-Fetch-Dest', 'empty'), ('Referer', 'http://127.0.0.1:60088/'), ('Accept-Encoding', 'gzip, deflate, br'), ('Accept-Language', 'en-US,en;q=0.9'))}, 'result': {'data': '\"Expected Sale Price of your car is: INR 8.0 Lakhs\"', 'http_status': 200, 'http_headers': (('Content-Type', 'application/json'),)}, 'request_id': '250712c2-a7f3-4630-921c-8bfcfb13d0ed'}\n",
      "127.0.0.1 - - [18/Feb/2022 12:14:56] \"\u001b[37mPOST /predict HTTP/1.1\u001b[0m\" 200 -\n"
     ]
    },
    {
     "name": "stdout",
     "output_type": "stream",
     "text": [
      "\u001b[4;40H7\u001b[4;40H6\u001b[4;40H5{'KM_Driven': 10, 'Fuel_Type': 'Petrol', 'age': 4, 'Transmission': 'Automatic', 'Owner_Type': 'First', 'Seats': 4, 'make': 'maruti', 'mileage_new': 21, 'engine_new': 900, 'model': 'swift', 'power_new': 90, 'Location': 'Bangalore'}\n",
      "[2022-02-18 12:17:46,955] INFO - {'service_name': 'UsedCarPriceOnnx', 'service_version': '20220218121313_B9610B', 'api': 'predict', 'task': {'data': '{\"KM_Driven\":10,\"Fuel_Type\":\"Petrol\",\"age\":4,\"Transmission\":\"Automatic\",\"Owner_Type\":\"First\",\"Seats\":4,\"make\":\"maruti\",\"mileage_new\":21,\"engine_new\":900,\"model\":\"swift\",\"power_new\":90,\"Location\":\"Bangalore\"}', 'task_id': '73967499-58b0-4c76-8f87-1fb5d431cc35', 'http_headers': (('Host', '127.0.0.1:60088'), ('User-Agent', 'python-requests/2.24.0'), ('Accept-Encoding', 'gzip, deflate'), ('Accept', '*/*'), ('Connection', 'keep-alive'), ('Content-Length', '207'))}, 'result': {'data': '\"Expected Sale Price of your car is: INR 8.0 Lakhs\"', 'http_status': 200, 'http_headers': (('Content-Type', 'application/json'),)}, 'request_id': '73967499-58b0-4c76-8f87-1fb5d431cc35'}\n",
      "127.0.0.1 - - [18/Feb/2022 12:17:46] \"\u001b[37mPOST /predict HTTP/1.1\u001b[0m\" 200 -\n",
      "\u001b[4;40H4\u001b[4;40H3\u001b[4;40H2\u001b[4;40H1\u001b[4;40H0\u001b[4;39H49\u001b[4;40H8\u001b[4;40H7\u001b[4;40H6\u001b[4;40H5\u001b[4;40H4\u001b[4;40H3\u001b[4;40H2\u001b[4;40H1\u001b[4;40H0\u001b[4;39H39\u001b[4;40H8\u001b[4;40H7\u001b[4;40H6\u001b[4;40H5\u001b[4;40H4\u001b[4;40H3\u001b[4;40H2\u001b[4;40H1\u001b[4;40H0\u001b[4;39H29\u001b[4;40H8\u001b[4;40H7\u001b[4;40H6\u001b[4;40H5\u001b[4;40H4\u001b[4;40H3\u001b[4;40H2\u001b[4;40H1\u001b[4;40H0\u001b[4;39H19\u001b[4;40H8\u001b[4;40H7\u001b[4;40H6\u001b[4;40H5\u001b[4;40H4\u001b[m\u001b[38;5;1m\u001b[48;5;16m\u001b[3;1HSession Status                reconnecting\u001b[3;44H(session closed)\u001b[m\u001b[38;5;2m\u001b[48;5;16m\u001b[3;1HSession Status                online\u001b[m\u001b[38;5;16m\u001b[48;5;16m      \u001b[3;44H                \u001b[m\u001b[38;5;7m\u001b[48;5;16m\u001b[4;40H3\u001b[4;40H2\u001b[4;40H1\u001b[4;40H0\u001b[m\u001b[38;5;1m\u001b[48;5;16m\u001b[3;1HSession Status                reconnecting\u001b[3;44H(read tcp 192.168.0.125:60525->3.133.\u001b[m\u001b[38;5;2m\u001b[48;5;16m\u001b[3;1HSession Status                online\u001b[m\u001b[38;5;16m\u001b[48;5;16m      \u001b[3;44H                                     \u001b[m\u001b[38;5;7m\u001b[48;5;16m\u001b[4;31H54 minutes\u001b[m\u001b[38;5;16m\u001b[48;5;16m        \u001b[m\u001b[38;5;1m\u001b[48;5;16m\u001b[3;1HSession Status                reconnecting\u001b[3;44H(dial tcp: lookup tunnel.us.ngrok.com\u001b[m\u001b[38;5;2m\u001b[48;5;16m\u001b[3;1HSession Status                online\u001b[m\u001b[38;5;16m\u001b[48;5;16m      \u001b[3;44H                                     \u001b[m\u001b[38;5;1m\u001b[48;5;16m\u001b[4;1HSession Expires               4 minutes\u001b[m\u001b[38;5;16m\u001b[48;5;16m \u001b[m\u001b[38;5;1m\u001b[48;5;16m\u001b[4;31H3\u0002\u0007\u001b[m\u001b[H\u001b[2J\u001b[2J\u001b[?47l\u001b8\u001b[?1l\u001b>\u001b[?1006l\u001b[?1015l\u001b[?1002l\u001b[?1000l"
     ]
    }
   ],
   "source": [
    "!bentoml serve UsedCarPriceOnnx:latest --run-with-ngrok"
   ]
  },
  {
   "cell_type": "markdown",
   "metadata": {
    "id": "IWDZoEehRhJp"
   },
   "source": [
    "{\"KM_Driven\":10.0,\"Fuel_Type\":\"Petrol\",\"age\":4.0,\"Transmission\":\"Automatic\",\"Owner_Type\":\"First\",\"Seats\":4.0,\"make\":\"maruti\",\"mileage_new\":21.0,\"engine_new\":900.0,\"model\":\"swift\",\"power_new\":90.0,\"Location\":\"Bangalore\"}"
   ]
  },
  {
   "cell_type": "markdown",
   "metadata": {
    "id": "2LUgm8QWrBDI"
   },
   "source": [
    "curl -X POST \"http://c19f-34-125-188-233.ngrok.io/predict\" -H \"accept: */*\" -H \"Content-Type: application/json\" -d \"{\\\"KM_Driven\\\":10,\\\"Fuel_Type\\\":\\\"Petrol\\\",\\\"age\\\":4,\\\"Transmission\\\":\\\"Automatic\\\",\\\"Owner_Type\\\":\\\"First\\\",\\\"Seats\\\":4,\\\"make\\\":\\\"maruti\\\",\\\"mileage_new\\\":21,\\\"engine_new\\\":900,\\\"model\\\":\\\"swift\\\",\\\"power_new\\\":90,\\\"Location\\\":\\\"Bangalore\\\"}\""
   ]
  }
 ],
 "metadata": {
  "colab": {
   "name": "BentoML Rest API Deploy - Used Car Price.ipynb",
   "provenance": []
  },
  "kernelspec": {
   "display_name": "Python 3",
   "language": "python",
   "name": "python3"
  },
  "language_info": {
   "codemirror_mode": {
    "name": "ipython",
    "version": 3
   },
   "file_extension": ".py",
   "mimetype": "text/x-python",
   "name": "python",
   "nbconvert_exporter": "python",
   "pygments_lexer": "ipython3",
   "version": "3.8.5"
  }
 },
 "nbformat": 4,
 "nbformat_minor": 1
}
