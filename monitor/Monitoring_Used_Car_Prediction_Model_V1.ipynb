{
  "nbformat": 4,
  "nbformat_minor": 0,
  "metadata": {
    "colab": {
      "name": "Monitoring Used Car Prediction Model 1.0.ipynb",
      "provenance": [],
      "collapsed_sections": []
    },
    "kernelspec": {
      "name": "python3",
      "display_name": "Python 3"
    },
    "language_info": {
      "name": "python"
    }
  },
  "cells": [
    {
      "cell_type": "markdown",
      "metadata": {
        "id": "3VBbPBFRCv2E"
      },
      "source": [
        "## Building and storing the file as pickle file"
      ]
    },
    {
      "cell_type": "code",
      "metadata": {
        "id": "c9gF4R9gFds_"
      },
      "source": [
        "import pandas as pd\n",
        "import numpy as np\n",
        "from sklearn.model_selection import train_test_split\n",
        "from sklearn.metrics import r2_score, mean_squared_error\n",
        "from sklearn.compose import ColumnTransformer\n",
        "from sklearn.pipeline import Pipeline\n",
        "from sklearn.impute import SimpleImputer\n",
        "from sklearn.preprocessing import StandardScaler, OneHotEncoder\n",
        "from xgboost import XGBRegressor"
      ],
      "execution_count": 1,
      "outputs": []
    },
    {
      "cell_type": "code",
      "metadata": {
        "colab": {
          "base_uri": "https://localhost:8080/",
          "height": 35
        },
        "id": "ng7uCyjHidfV",
        "outputId": "c91bc1ee-b5fa-48c2-d913-908f2128cfee"
      },
      "source": [
        "import xgboost\n",
        "xgboost.__version__"
      ],
      "execution_count": 2,
      "outputs": [
        {
          "output_type": "execute_result",
          "data": {
            "application/vnd.google.colaboratory.intrinsic+json": {
              "type": "string"
            },
            "text/plain": [
              "'0.90'"
            ]
          },
          "metadata": {},
          "execution_count": 2
        }
      ]
    },
    {
      "cell_type": "code",
      "metadata": {
        "colab": {
          "base_uri": "https://localhost:8080/",
          "height": 35
        },
        "id": "7k6teGK8ow9L",
        "outputId": "ac9f5be2-caa9-4364-b6ff-2965df0c2956"
      },
      "source": [
        "import sklearn\n",
        "sklearn.__version__"
      ],
      "execution_count": 3,
      "outputs": [
        {
          "output_type": "execute_result",
          "data": {
            "application/vnd.google.colaboratory.intrinsic+json": {
              "type": "string"
            },
            "text/plain": [
              "'1.0.2'"
            ]
          },
          "metadata": {},
          "execution_count": 3
        }
      ]
    },
    {
      "cell_type": "markdown",
      "metadata": {
        "id": "wH75ib_uC3Gc"
      },
      "source": [
        "## Loading the dataset: Used Car Price Prediction"
      ]
    },
    {
      "cell_type": "code",
      "metadata": {
        "id": "E2eCp6WPFjCQ"
      },
      "source": [
        "cars_df = pd.read_csv( \"https://drive.google.com/uc?export=download&id=1V_VBbyjGj6vvD0A90S5Lk0DG90djz28B\" )"
      ],
      "execution_count": 4,
      "outputs": []
    },
    {
      "cell_type": "code",
      "metadata": {
        "colab": {
          "base_uri": "https://localhost:8080/",
          "height": 461
        },
        "id": "9w_Ywj6SFwrc",
        "outputId": "730b2ee1-60ce-4b27-b9b9-97c51585e2e5"
      },
      "source": [
        "cars_df.head(5)"
      ],
      "execution_count": 5,
      "outputs": [
        {
          "output_type": "execute_result",
          "data": {
            "text/html": [
              "\n",
              "  <div id=\"df-71218dc0-5550-44b0-9cc4-6ed72a6ef027\">\n",
              "    <div class=\"colab-df-container\">\n",
              "      <div>\n",
              "<style scoped>\n",
              "    .dataframe tbody tr th:only-of-type {\n",
              "        vertical-align: middle;\n",
              "    }\n",
              "\n",
              "    .dataframe tbody tr th {\n",
              "        vertical-align: top;\n",
              "    }\n",
              "\n",
              "    .dataframe thead th {\n",
              "        text-align: right;\n",
              "    }\n",
              "</style>\n",
              "<table border=\"1\" class=\"dataframe\">\n",
              "  <thead>\n",
              "    <tr style=\"text-align: right;\">\n",
              "      <th></th>\n",
              "      <th>Name</th>\n",
              "      <th>Location</th>\n",
              "      <th>Year</th>\n",
              "      <th>Kilometers_Driven</th>\n",
              "      <th>Fuel_Type</th>\n",
              "      <th>Transmission</th>\n",
              "      <th>Owner_Type</th>\n",
              "      <th>Mileage</th>\n",
              "      <th>Engine</th>\n",
              "      <th>Power</th>\n",
              "      <th>Seats</th>\n",
              "      <th>New_Price</th>\n",
              "      <th>Price</th>\n",
              "      <th>mileage_new</th>\n",
              "      <th>engine_new</th>\n",
              "      <th>power_new</th>\n",
              "      <th>age</th>\n",
              "      <th>make</th>\n",
              "      <th>model</th>\n",
              "      <th>KM_Driven</th>\n",
              "    </tr>\n",
              "  </thead>\n",
              "  <tbody>\n",
              "    <tr>\n",
              "      <th>0</th>\n",
              "      <td>Honda Jazz V</td>\n",
              "      <td>Chennai</td>\n",
              "      <td>2011</td>\n",
              "      <td>46000</td>\n",
              "      <td>Petrol</td>\n",
              "      <td>Manual</td>\n",
              "      <td>First</td>\n",
              "      <td>18.2 kmpl</td>\n",
              "      <td>1199 CC</td>\n",
              "      <td>88.7 bhp</td>\n",
              "      <td>5.0</td>\n",
              "      <td>8.61 Lakh</td>\n",
              "      <td>4.50</td>\n",
              "      <td>18.20</td>\n",
              "      <td>1199</td>\n",
              "      <td>88.70</td>\n",
              "      <td>9</td>\n",
              "      <td>honda</td>\n",
              "      <td>jazz</td>\n",
              "      <td>46</td>\n",
              "    </tr>\n",
              "    <tr>\n",
              "      <th>1</th>\n",
              "      <td>Maruti Ertiga VDI</td>\n",
              "      <td>Chennai</td>\n",
              "      <td>2012</td>\n",
              "      <td>87000</td>\n",
              "      <td>Diesel</td>\n",
              "      <td>Manual</td>\n",
              "      <td>First</td>\n",
              "      <td>20.77 kmpl</td>\n",
              "      <td>1248 CC</td>\n",
              "      <td>88.76 bhp</td>\n",
              "      <td>7.0</td>\n",
              "      <td>NaN</td>\n",
              "      <td>6.00</td>\n",
              "      <td>20.77</td>\n",
              "      <td>1248</td>\n",
              "      <td>88.76</td>\n",
              "      <td>8</td>\n",
              "      <td>maruti</td>\n",
              "      <td>ertiga</td>\n",
              "      <td>87</td>\n",
              "    </tr>\n",
              "    <tr>\n",
              "      <th>2</th>\n",
              "      <td>Nissan Micra Diesel XV</td>\n",
              "      <td>Jaipur</td>\n",
              "      <td>2013</td>\n",
              "      <td>86999</td>\n",
              "      <td>Diesel</td>\n",
              "      <td>Manual</td>\n",
              "      <td>First</td>\n",
              "      <td>23.08 kmpl</td>\n",
              "      <td>1461 CC</td>\n",
              "      <td>63.1 bhp</td>\n",
              "      <td>5.0</td>\n",
              "      <td>NaN</td>\n",
              "      <td>3.50</td>\n",
              "      <td>23.08</td>\n",
              "      <td>1461</td>\n",
              "      <td>63.10</td>\n",
              "      <td>7</td>\n",
              "      <td>nissan</td>\n",
              "      <td>micra</td>\n",
              "      <td>86</td>\n",
              "    </tr>\n",
              "    <tr>\n",
              "      <th>3</th>\n",
              "      <td>Tata Indica Vista Quadrajet LS</td>\n",
              "      <td>Chennai</td>\n",
              "      <td>2012</td>\n",
              "      <td>65932</td>\n",
              "      <td>Diesel</td>\n",
              "      <td>Manual</td>\n",
              "      <td>Second</td>\n",
              "      <td>22.3 kmpl</td>\n",
              "      <td>1248 CC</td>\n",
              "      <td>74 bhp</td>\n",
              "      <td>5.0</td>\n",
              "      <td>NaN</td>\n",
              "      <td>1.95</td>\n",
              "      <td>22.30</td>\n",
              "      <td>1248</td>\n",
              "      <td>74.00</td>\n",
              "      <td>8</td>\n",
              "      <td>tata</td>\n",
              "      <td>indica</td>\n",
              "      <td>65</td>\n",
              "    </tr>\n",
              "    <tr>\n",
              "      <th>4</th>\n",
              "      <td>Maruti Swift VDI BSIV</td>\n",
              "      <td>Jaipur</td>\n",
              "      <td>2015</td>\n",
              "      <td>64424</td>\n",
              "      <td>Diesel</td>\n",
              "      <td>Manual</td>\n",
              "      <td>First</td>\n",
              "      <td>25.2 kmpl</td>\n",
              "      <td>1248 CC</td>\n",
              "      <td>74 bhp</td>\n",
              "      <td>5.0</td>\n",
              "      <td>NaN</td>\n",
              "      <td>5.60</td>\n",
              "      <td>25.20</td>\n",
              "      <td>1248</td>\n",
              "      <td>74.00</td>\n",
              "      <td>5</td>\n",
              "      <td>maruti</td>\n",
              "      <td>swift</td>\n",
              "      <td>64</td>\n",
              "    </tr>\n",
              "  </tbody>\n",
              "</table>\n",
              "</div>\n",
              "      <button class=\"colab-df-convert\" onclick=\"convertToInteractive('df-71218dc0-5550-44b0-9cc4-6ed72a6ef027')\"\n",
              "              title=\"Convert this dataframe to an interactive table.\"\n",
              "              style=\"display:none;\">\n",
              "        \n",
              "  <svg xmlns=\"http://www.w3.org/2000/svg\" height=\"24px\"viewBox=\"0 0 24 24\"\n",
              "       width=\"24px\">\n",
              "    <path d=\"M0 0h24v24H0V0z\" fill=\"none\"/>\n",
              "    <path d=\"M18.56 5.44l.94 2.06.94-2.06 2.06-.94-2.06-.94-.94-2.06-.94 2.06-2.06.94zm-11 1L8.5 8.5l.94-2.06 2.06-.94-2.06-.94L8.5 2.5l-.94 2.06-2.06.94zm10 10l.94 2.06.94-2.06 2.06-.94-2.06-.94-.94-2.06-.94 2.06-2.06.94z\"/><path d=\"M17.41 7.96l-1.37-1.37c-.4-.4-.92-.59-1.43-.59-.52 0-1.04.2-1.43.59L10.3 9.45l-7.72 7.72c-.78.78-.78 2.05 0 2.83L4 21.41c.39.39.9.59 1.41.59.51 0 1.02-.2 1.41-.59l7.78-7.78 2.81-2.81c.8-.78.8-2.07 0-2.86zM5.41 20L4 18.59l7.72-7.72 1.47 1.35L5.41 20z\"/>\n",
              "  </svg>\n",
              "      </button>\n",
              "      \n",
              "  <style>\n",
              "    .colab-df-container {\n",
              "      display:flex;\n",
              "      flex-wrap:wrap;\n",
              "      gap: 12px;\n",
              "    }\n",
              "\n",
              "    .colab-df-convert {\n",
              "      background-color: #E8F0FE;\n",
              "      border: none;\n",
              "      border-radius: 50%;\n",
              "      cursor: pointer;\n",
              "      display: none;\n",
              "      fill: #1967D2;\n",
              "      height: 32px;\n",
              "      padding: 0 0 0 0;\n",
              "      width: 32px;\n",
              "    }\n",
              "\n",
              "    .colab-df-convert:hover {\n",
              "      background-color: #E2EBFA;\n",
              "      box-shadow: 0px 1px 2px rgba(60, 64, 67, 0.3), 0px 1px 3px 1px rgba(60, 64, 67, 0.15);\n",
              "      fill: #174EA6;\n",
              "    }\n",
              "\n",
              "    [theme=dark] .colab-df-convert {\n",
              "      background-color: #3B4455;\n",
              "      fill: #D2E3FC;\n",
              "    }\n",
              "\n",
              "    [theme=dark] .colab-df-convert:hover {\n",
              "      background-color: #434B5C;\n",
              "      box-shadow: 0px 1px 3px 1px rgba(0, 0, 0, 0.15);\n",
              "      filter: drop-shadow(0px 1px 2px rgba(0, 0, 0, 0.3));\n",
              "      fill: #FFFFFF;\n",
              "    }\n",
              "  </style>\n",
              "\n",
              "      <script>\n",
              "        const buttonEl =\n",
              "          document.querySelector('#df-71218dc0-5550-44b0-9cc4-6ed72a6ef027 button.colab-df-convert');\n",
              "        buttonEl.style.display =\n",
              "          google.colab.kernel.accessAllowed ? 'block' : 'none';\n",
              "\n",
              "        async function convertToInteractive(key) {\n",
              "          const element = document.querySelector('#df-71218dc0-5550-44b0-9cc4-6ed72a6ef027');\n",
              "          const dataTable =\n",
              "            await google.colab.kernel.invokeFunction('convertToInteractive',\n",
              "                                                     [key], {});\n",
              "          if (!dataTable) return;\n",
              "\n",
              "          const docLinkHtml = 'Like what you see? Visit the ' +\n",
              "            '<a target=\"_blank\" href=https://colab.research.google.com/notebooks/data_table.ipynb>data table notebook</a>'\n",
              "            + ' to learn more about interactive tables.';\n",
              "          element.innerHTML = '';\n",
              "          dataTable['output_type'] = 'display_data';\n",
              "          await google.colab.output.renderOutput(dataTable, element);\n",
              "          const docLink = document.createElement('div');\n",
              "          docLink.innerHTML = docLinkHtml;\n",
              "          element.appendChild(docLink);\n",
              "        }\n",
              "      </script>\n",
              "    </div>\n",
              "  </div>\n",
              "  "
            ],
            "text/plain": [
              "                             Name Location  Year  Kilometers_Driven Fuel_Type  \\\n",
              "0                    Honda Jazz V  Chennai  2011              46000    Petrol   \n",
              "1               Maruti Ertiga VDI  Chennai  2012              87000    Diesel   \n",
              "2          Nissan Micra Diesel XV   Jaipur  2013              86999    Diesel   \n",
              "3  Tata Indica Vista Quadrajet LS  Chennai  2012              65932    Diesel   \n",
              "4           Maruti Swift VDI BSIV   Jaipur  2015              64424    Diesel   \n",
              "\n",
              "  Transmission Owner_Type     Mileage   Engine      Power  Seats  New_Price  \\\n",
              "0       Manual      First   18.2 kmpl  1199 CC   88.7 bhp    5.0  8.61 Lakh   \n",
              "1       Manual      First  20.77 kmpl  1248 CC  88.76 bhp    7.0        NaN   \n",
              "2       Manual      First  23.08 kmpl  1461 CC   63.1 bhp    5.0        NaN   \n",
              "3       Manual     Second   22.3 kmpl  1248 CC     74 bhp    5.0        NaN   \n",
              "4       Manual      First   25.2 kmpl  1248 CC     74 bhp    5.0        NaN   \n",
              "\n",
              "   Price  mileage_new  engine_new  power_new  age    make   model  KM_Driven  \n",
              "0   4.50        18.20        1199      88.70    9   honda    jazz         46  \n",
              "1   6.00        20.77        1248      88.76    8  maruti  ertiga         87  \n",
              "2   3.50        23.08        1461      63.10    7  nissan   micra         86  \n",
              "3   1.95        22.30        1248      74.00    8    tata  indica         65  \n",
              "4   5.60        25.20        1248      74.00    5  maruti   swift         64  "
            ]
          },
          "metadata": {},
          "execution_count": 5
        }
      ]
    },
    {
      "cell_type": "code",
      "metadata": {
        "id": "9Dj_UunmFGLt"
      },
      "source": [
        "cars_df_dev, cars_df_prod = train_test_split(cars_df,\n",
        "                                             train_size = 0.8,\n",
        "                                             random_state = 42)"
      ],
      "execution_count": 6,
      "outputs": []
    },
    {
      "cell_type": "code",
      "metadata": {
        "id": "4X1nQXYZS1tY"
      },
      "source": [
        "cars_df_prod = cars_df_prod.reset_index()\n",
        "cars_df_dev = cars_df_dev.reset_index()"
      ],
      "execution_count": 7,
      "outputs": []
    },
    {
      "cell_type": "code",
      "metadata": {
        "id": "sehIIbSBFnD1"
      },
      "source": [
        "x_columns = ['KM_Driven', 'Fuel_Type', 'age',\n",
        "              'Transmission', 'Owner_Type', 'Seats',\n",
        "              'make', 'mileage_new', 'engine_new', \n",
        "              'power_new', 'Location']\n",
        "## model of the car is not included in the model"
      ],
      "execution_count": 8,
      "outputs": []
    },
    {
      "cell_type": "code",
      "metadata": {
        "colab": {
          "base_uri": "https://localhost:8080/"
        },
        "id": "-JteBYVPShF3",
        "outputId": "041e19e3-5edc-4463-f458-79651e60124b"
      },
      "source": [
        "cars_df.shape"
      ],
      "execution_count": 9,
      "outputs": [
        {
          "output_type": "execute_result",
          "data": {
            "text/plain": [
              "(3092, 20)"
            ]
          },
          "metadata": {},
          "execution_count": 9
        }
      ]
    },
    {
      "cell_type": "code",
      "metadata": {
        "id": "pVC9f4QISa2h"
      },
      "source": [
        "cars_df = cars_df[x_columns + ['Price']].dropna()"
      ],
      "execution_count": 10,
      "outputs": []
    },
    {
      "cell_type": "code",
      "metadata": {
        "colab": {
          "base_uri": "https://localhost:8080/"
        },
        "id": "l_bULZE0SjBf",
        "outputId": "77766417-c5a1-4aaf-f832-9e5597885449"
      },
      "source": [
        "cars_df.shape"
      ],
      "execution_count": 11,
      "outputs": [
        {
          "output_type": "execute_result",
          "data": {
            "text/plain": [
              "(3091, 12)"
            ]
          },
          "metadata": {},
          "execution_count": 11
        }
      ]
    },
    {
      "cell_type": "markdown",
      "metadata": {
        "id": "pJxhn2VxDAdG"
      },
      "source": [
        "## Identifying numerical and categorical features"
      ]
    },
    {
      "cell_type": "code",
      "metadata": {
        "id": "PuezADwYFsWd"
      },
      "source": [
        "cat_features = ['Fuel_Type',\n",
        "                'Transmission', 'Owner_Type', \n",
        "                'make', 'Location']"
      ],
      "execution_count": 12,
      "outputs": []
    },
    {
      "cell_type": "code",
      "metadata": {
        "id": "IyzKKTogFs_l"
      },
      "source": [
        "num_features = list(set(x_columns) - set(cat_features))"
      ],
      "execution_count": 13,
      "outputs": []
    },
    {
      "cell_type": "markdown",
      "metadata": {
        "id": "4tyTBzVVDDrX"
      },
      "source": [
        "## Split the dataset"
      ]
    },
    {
      "cell_type": "code",
      "metadata": {
        "id": "-ZXkTZdAkjFT"
      },
      "source": [
        "x_train, x_test, y_train, y_test = train_test_split(cars_df_dev[x_columns],\n",
        "                                                    cars_df_dev.Price,\n",
        "                                                    train_size = 0.8,\n",
        "                                                    random_state = 100)"
      ],
      "execution_count": 14,
      "outputs": []
    },
    {
      "cell_type": "code",
      "metadata": {
        "colab": {
          "base_uri": "https://localhost:8080/"
        },
        "id": "IpkiJcu7T0g4",
        "outputId": "7afb12d3-0630-4401-ed29-b30fe5bfab00"
      },
      "source": [
        "x_train.shape"
      ],
      "execution_count": 15,
      "outputs": [
        {
          "output_type": "execute_result",
          "data": {
            "text/plain": [
              "(1978, 11)"
            ]
          },
          "metadata": {},
          "execution_count": 15
        }
      ]
    },
    {
      "cell_type": "markdown",
      "metadata": {
        "id": "ZJBs5b9MDGXr"
      },
      "source": [
        "## Creating the pipeline for the deployment"
      ]
    },
    {
      "cell_type": "code",
      "metadata": {
        "id": "hj4QG6V7dZHd"
      },
      "source": [
        "numeric_transformer = Pipeline(steps=[('scaler', StandardScaler())])\n",
        "\n",
        "categorical_transformer = OneHotEncoder(handle_unknown='ignore')\n",
        "\n",
        "preprocessor = ColumnTransformer(\n",
        "    transformers=[\n",
        "        ('num', numeric_transformer, num_features),                  \n",
        "        ('cat', categorical_transformer, cat_features),\n",
        "    ])\n",
        "\n",
        "params = { \"n_estimators\": 400,\n",
        "           \"max_depth\": 4,\n",
        "           \"objective\": 'reg:squarederror' }\n",
        "\n",
        "xgb_regressor = XGBRegressor(**params)\n",
        "\n",
        "reg = Pipeline(steps=[('preprocessor', preprocessor),\n",
        "                      ('regressor', xgb_regressor)])           \n",
        "\n",
        "reg.fit(x_train, \n",
        "        y_train)\n",
        "\n",
        "rmse = np.sqrt(mean_squared_error(y_test, \n",
        "                                  reg.predict(x_test)))"
      ],
      "execution_count": 16,
      "outputs": []
    },
    {
      "cell_type": "code",
      "metadata": {
        "colab": {
          "base_uri": "https://localhost:8080/"
        },
        "id": "_sgMnRCllduv",
        "outputId": "89d40c92-1e35-4e79-f056-c096fc674195"
      },
      "source": [
        "print(rmse)"
      ],
      "execution_count": 17,
      "outputs": [
        {
          "output_type": "stream",
          "name": "stdout",
          "text": [
            "0.6908830920584765\n"
          ]
        }
      ]
    },
    {
      "cell_type": "code",
      "metadata": {
        "colab": {
          "base_uri": "https://localhost:8080/"
        },
        "id": "celqIUHqFZNp",
        "outputId": "4a0ff99b-5999-4714-b7fe-60a06964283c"
      },
      "source": [
        "!pip install evidently"
      ],
      "execution_count": 18,
      "outputs": [
        {
          "output_type": "stream",
          "name": "stdout",
          "text": [
            "Requirement already satisfied: evidently in /usr/local/lib/python3.7/dist-packages (0.1.45.dev0)\n",
            "Requirement already satisfied: statsmodels>=0.12.2 in /usr/local/lib/python3.7/dist-packages (from evidently) (0.13.2)\n",
            "Requirement already satisfied: dataclasses>=0.6 in /usr/local/lib/python3.7/dist-packages (from evidently) (0.6)\n",
            "Requirement already satisfied: PyYAML~=5.1 in /usr/local/lib/python3.7/dist-packages (from evidently) (5.4.1)\n",
            "Requirement already satisfied: plotly>=4.12.0 in /usr/local/lib/python3.7/dist-packages (from evidently) (5.5.0)\n",
            "Requirement already satisfied: pandas>=1.1.5 in /usr/local/lib/python3.7/dist-packages (from evidently) (1.3.5)\n",
            "Requirement already satisfied: scipy>=1.5.4 in /usr/local/lib/python3.7/dist-packages (from evidently) (1.7.3)\n",
            "Requirement already satisfied: requests>=2.19.0 in /usr/local/lib/python3.7/dist-packages (from evidently) (2.23.0)\n",
            "Requirement already satisfied: scikit-learn>=0.23.2 in /usr/local/lib/python3.7/dist-packages (from evidently) (1.0.2)\n",
            "Requirement already satisfied: numpy>=1.19.5 in /usr/local/lib/python3.7/dist-packages (from evidently) (1.21.5)\n",
            "Requirement already satisfied: python-dateutil>=2.7.3 in /usr/local/lib/python3.7/dist-packages (from pandas>=1.1.5->evidently) (2.8.2)\n",
            "Requirement already satisfied: pytz>=2017.3 in /usr/local/lib/python3.7/dist-packages (from pandas>=1.1.5->evidently) (2018.9)\n",
            "Requirement already satisfied: tenacity>=6.2.0 in /usr/local/lib/python3.7/dist-packages (from plotly>=4.12.0->evidently) (8.0.1)\n",
            "Requirement already satisfied: six in /usr/local/lib/python3.7/dist-packages (from plotly>=4.12.0->evidently) (1.15.0)\n",
            "Requirement already satisfied: idna<3,>=2.5 in /usr/local/lib/python3.7/dist-packages (from requests>=2.19.0->evidently) (2.10)\n",
            "Requirement already satisfied: urllib3!=1.25.0,!=1.25.1,<1.26,>=1.21.1 in /usr/local/lib/python3.7/dist-packages (from requests>=2.19.0->evidently) (1.24.3)\n",
            "Requirement already satisfied: certifi>=2017.4.17 in /usr/local/lib/python3.7/dist-packages (from requests>=2.19.0->evidently) (2021.10.8)\n",
            "Requirement already satisfied: chardet<4,>=3.0.2 in /usr/local/lib/python3.7/dist-packages (from requests>=2.19.0->evidently) (3.0.4)\n",
            "Requirement already satisfied: threadpoolctl>=2.0.0 in /usr/local/lib/python3.7/dist-packages (from scikit-learn>=0.23.2->evidently) (3.1.0)\n",
            "Requirement already satisfied: joblib>=0.11 in /usr/local/lib/python3.7/dist-packages (from scikit-learn>=0.23.2->evidently) (1.1.0)\n",
            "Requirement already satisfied: patsy>=0.5.2 in /usr/local/lib/python3.7/dist-packages (from statsmodels>=0.12.2->evidently) (0.5.2)\n",
            "Requirement already satisfied: packaging>=21.3 in /usr/local/lib/python3.7/dist-packages (from statsmodels>=0.12.2->evidently) (21.3)\n",
            "Requirement already satisfied: pyparsing!=3.0.5,>=2.0.2 in /usr/local/lib/python3.7/dist-packages (from packaging>=21.3->statsmodels>=0.12.2->evidently) (3.0.7)\n"
          ]
        }
      ]
    },
    {
      "cell_type": "code",
      "source": [
        "!pip install statsmodels --upgrade "
      ],
      "metadata": {
        "id": "GFqdPS-95p8g",
        "outputId": "9d8e6dbd-e38a-41c4-d5a8-07400ee05b5c",
        "colab": {
          "base_uri": "https://localhost:8080/"
        }
      },
      "execution_count": 19,
      "outputs": [
        {
          "output_type": "stream",
          "name": "stdout",
          "text": [
            "Requirement already satisfied: statsmodels in /usr/local/lib/python3.7/dist-packages (0.13.2)\n",
            "Requirement already satisfied: scipy>=1.3 in /usr/local/lib/python3.7/dist-packages (from statsmodels) (1.7.3)\n",
            "Requirement already satisfied: numpy>=1.17 in /usr/local/lib/python3.7/dist-packages (from statsmodels) (1.21.5)\n",
            "Requirement already satisfied: patsy>=0.5.2 in /usr/local/lib/python3.7/dist-packages (from statsmodels) (0.5.2)\n",
            "Requirement already satisfied: pandas>=0.25 in /usr/local/lib/python3.7/dist-packages (from statsmodels) (1.3.5)\n",
            "Requirement already satisfied: packaging>=21.3 in /usr/local/lib/python3.7/dist-packages (from statsmodels) (21.3)\n",
            "Requirement already satisfied: pyparsing!=3.0.5,>=2.0.2 in /usr/local/lib/python3.7/dist-packages (from packaging>=21.3->statsmodels) (3.0.7)\n",
            "Requirement already satisfied: python-dateutil>=2.7.3 in /usr/local/lib/python3.7/dist-packages (from pandas>=0.25->statsmodels) (2.8.2)\n",
            "Requirement already satisfied: pytz>=2017.3 in /usr/local/lib/python3.7/dist-packages (from pandas>=0.25->statsmodels) (2018.9)\n",
            "Requirement already satisfied: six in /usr/local/lib/python3.7/dist-packages (from patsy>=0.5.2->statsmodels) (1.15.0)\n"
          ]
        }
      ]
    },
    {
      "cell_type": "markdown",
      "metadata": {
        "id": "s6S-RZe2M088"
      },
      "source": [
        "## Predicting on Production Set"
      ]
    },
    {
      "cell_type": "code",
      "metadata": {
        "id": "X8F6WK6IM3ok"
      },
      "source": [
        "cars_df_prod['prediction'] = reg.predict(cars_df_prod[x_columns])"
      ],
      "execution_count": 20,
      "outputs": []
    },
    {
      "cell_type": "markdown",
      "metadata": {
        "id": "5v7GNOn1e7rM"
      },
      "source": [
        "### Retriving the dummy variables from the pipeline"
      ]
    },
    {
      "cell_type": "code",
      "metadata": {
        "id": "vePQ2mREOngh",
        "outputId": "29e3c581-526e-40d1-bd1e-c2ada8162b43",
        "colab": {
          "base_uri": "https://localhost:8080/"
        }
      },
      "source": [
        "new_cat_features = list(reg['preprocessor'].transformers_[1][1].get_feature_names())"
      ],
      "execution_count": 21,
      "outputs": [
        {
          "output_type": "stream",
          "name": "stderr",
          "text": [
            "/usr/local/lib/python3.7/dist-packages/sklearn/utils/deprecation.py:87: FutureWarning: Function get_feature_names is deprecated; get_feature_names is deprecated in 1.0 and will be removed in 1.2. Please use get_feature_names_out instead.\n",
            "  warnings.warn(msg, category=FutureWarning)\n"
          ]
        }
      ]
    },
    {
      "cell_type": "code",
      "metadata": {
        "colab": {
          "base_uri": "https://localhost:8080/"
        },
        "id": "hdbDnfLDey-5",
        "outputId": "f5e4661f-c85b-4a92-f277-04d3b8dd2511"
      },
      "source": [
        "new_cat_features"
      ],
      "execution_count": 22,
      "outputs": [
        {
          "output_type": "execute_result",
          "data": {
            "text/plain": [
              "['x0_Diesel',\n",
              " 'x0_Petrol',\n",
              " 'x1_Automatic',\n",
              " 'x1_Manual',\n",
              " 'x2_First',\n",
              " 'x2_Fourth & Above',\n",
              " 'x2_Second',\n",
              " 'x2_Third',\n",
              " 'x3_chevrolet',\n",
              " 'x3_datsun',\n",
              " 'x3_fiat',\n",
              " 'x3_ford',\n",
              " 'x3_honda',\n",
              " 'x3_hyundai',\n",
              " 'x3_mahindra',\n",
              " 'x3_maruti',\n",
              " 'x3_mitsubishi',\n",
              " 'x3_nissan',\n",
              " 'x3_renault',\n",
              " 'x3_skoda',\n",
              " 'x3_tata',\n",
              " 'x3_toyota',\n",
              " 'x3_volkswagen',\n",
              " 'x4_Ahmedabad',\n",
              " 'x4_Bangalore',\n",
              " 'x4_Chennai',\n",
              " 'x4_Coimbatore',\n",
              " 'x4_Delhi',\n",
              " 'x4_Hyderabad',\n",
              " 'x4_Jaipur',\n",
              " 'x4_Kochi',\n",
              " 'x4_Kolkata',\n",
              " 'x4_Mumbai',\n",
              " 'x4_Pune']"
            ]
          },
          "metadata": {},
          "execution_count": 22
        }
      ]
    },
    {
      "cell_type": "code",
      "metadata": {
        "colab": {
          "base_uri": "https://localhost:8080/"
        },
        "id": "Go6F5qU0Qnlx",
        "outputId": "084768ec-2418-4b6e-820e-eb49ecfb497d"
      },
      "source": [
        "len(num_features + new_cat_features)"
      ],
      "execution_count": 23,
      "outputs": [
        {
          "output_type": "execute_result",
          "data": {
            "text/plain": [
              "40"
            ]
          },
          "metadata": {},
          "execution_count": 23
        }
      ]
    },
    {
      "cell_type": "markdown",
      "metadata": {
        "id": "qYKiu76fTGXX"
      },
      "source": [
        "## Prepare Production Data\n",
        "\n",
        "We need to use unscaed numerical data and new categorical (dummy) variables"
      ]
    },
    {
      "cell_type": "code",
      "metadata": {
        "colab": {
          "base_uri": "https://localhost:8080/",
          "height": 487
        },
        "id": "0rkowy2ENlEB",
        "outputId": "4a5e0571-fe64-47a3-e695-313b323362e8"
      },
      "source": [
        "cars_df_prod_x_cols = reg.named_steps['preprocessor'].transform(cars_df_prod[x_columns])\n",
        "cars_df_prod_x_cols_df = pd.DataFrame( cars_df_prod_x_cols.toarray(), columns  = num_features + new_cat_features)\n",
        "cars_df_prod_x_cols_df_final = pd.concat([cars_df_prod[num_features], cars_df_prod_x_cols_df[new_cat_features]], axis = 1)\n",
        "cars_df_prod_x_cols_df_final['prediction'] = reg.predict(cars_df_prod[x_columns])\n",
        "cars_df_prod_x_cols_df_final"
      ],
      "execution_count": 24,
      "outputs": [
        {
          "output_type": "execute_result",
          "data": {
            "text/html": [
              "\n",
              "  <div id=\"df-bdec1f78-0dce-4466-958e-5f2753efb7d7\">\n",
              "    <div class=\"colab-df-container\">\n",
              "      <div>\n",
              "<style scoped>\n",
              "    .dataframe tbody tr th:only-of-type {\n",
              "        vertical-align: middle;\n",
              "    }\n",
              "\n",
              "    .dataframe tbody tr th {\n",
              "        vertical-align: top;\n",
              "    }\n",
              "\n",
              "    .dataframe thead th {\n",
              "        text-align: right;\n",
              "    }\n",
              "</style>\n",
              "<table border=\"1\" class=\"dataframe\">\n",
              "  <thead>\n",
              "    <tr style=\"text-align: right;\">\n",
              "      <th></th>\n",
              "      <th>Seats</th>\n",
              "      <th>power_new</th>\n",
              "      <th>engine_new</th>\n",
              "      <th>KM_Driven</th>\n",
              "      <th>mileage_new</th>\n",
              "      <th>age</th>\n",
              "      <th>x0_Diesel</th>\n",
              "      <th>x0_Petrol</th>\n",
              "      <th>x1_Automatic</th>\n",
              "      <th>x1_Manual</th>\n",
              "      <th>...</th>\n",
              "      <th>x4_Chennai</th>\n",
              "      <th>x4_Coimbatore</th>\n",
              "      <th>x4_Delhi</th>\n",
              "      <th>x4_Hyderabad</th>\n",
              "      <th>x4_Jaipur</th>\n",
              "      <th>x4_Kochi</th>\n",
              "      <th>x4_Kolkata</th>\n",
              "      <th>x4_Mumbai</th>\n",
              "      <th>x4_Pune</th>\n",
              "      <th>prediction</th>\n",
              "    </tr>\n",
              "  </thead>\n",
              "  <tbody>\n",
              "    <tr>\n",
              "      <th>0</th>\n",
              "      <td>5.0</td>\n",
              "      <td>98.6</td>\n",
              "      <td>1396</td>\n",
              "      <td>55</td>\n",
              "      <td>15.00</td>\n",
              "      <td>8</td>\n",
              "      <td>0.0</td>\n",
              "      <td>1.0</td>\n",
              "      <td>1.0</td>\n",
              "      <td>0.0</td>\n",
              "      <td>...</td>\n",
              "      <td>0.0</td>\n",
              "      <td>0.0</td>\n",
              "      <td>0.0</td>\n",
              "      <td>0.0</td>\n",
              "      <td>0.0</td>\n",
              "      <td>0.0</td>\n",
              "      <td>0.0</td>\n",
              "      <td>0.0</td>\n",
              "      <td>1.0</td>\n",
              "      <td>3.563105</td>\n",
              "    </tr>\n",
              "    <tr>\n",
              "      <th>1</th>\n",
              "      <td>5.0</td>\n",
              "      <td>55.2</td>\n",
              "      <td>814</td>\n",
              "      <td>38</td>\n",
              "      <td>21.10</td>\n",
              "      <td>5</td>\n",
              "      <td>0.0</td>\n",
              "      <td>1.0</td>\n",
              "      <td>0.0</td>\n",
              "      <td>1.0</td>\n",
              "      <td>...</td>\n",
              "      <td>0.0</td>\n",
              "      <td>0.0</td>\n",
              "      <td>0.0</td>\n",
              "      <td>0.0</td>\n",
              "      <td>1.0</td>\n",
              "      <td>0.0</td>\n",
              "      <td>0.0</td>\n",
              "      <td>0.0</td>\n",
              "      <td>0.0</td>\n",
              "      <td>2.665395</td>\n",
              "    </tr>\n",
              "    <tr>\n",
              "      <th>2</th>\n",
              "      <td>5.0</td>\n",
              "      <td>86.8</td>\n",
              "      <td>1198</td>\n",
              "      <td>22</td>\n",
              "      <td>18.50</td>\n",
              "      <td>5</td>\n",
              "      <td>0.0</td>\n",
              "      <td>1.0</td>\n",
              "      <td>0.0</td>\n",
              "      <td>1.0</td>\n",
              "      <td>...</td>\n",
              "      <td>0.0</td>\n",
              "      <td>0.0</td>\n",
              "      <td>0.0</td>\n",
              "      <td>0.0</td>\n",
              "      <td>0.0</td>\n",
              "      <td>0.0</td>\n",
              "      <td>0.0</td>\n",
              "      <td>1.0</td>\n",
              "      <td>0.0</td>\n",
              "      <td>4.280173</td>\n",
              "    </tr>\n",
              "    <tr>\n",
              "      <th>3</th>\n",
              "      <td>5.0</td>\n",
              "      <td>55.2</td>\n",
              "      <td>814</td>\n",
              "      <td>45</td>\n",
              "      <td>21.10</td>\n",
              "      <td>8</td>\n",
              "      <td>0.0</td>\n",
              "      <td>1.0</td>\n",
              "      <td>0.0</td>\n",
              "      <td>1.0</td>\n",
              "      <td>...</td>\n",
              "      <td>1.0</td>\n",
              "      <td>0.0</td>\n",
              "      <td>0.0</td>\n",
              "      <td>0.0</td>\n",
              "      <td>0.0</td>\n",
              "      <td>0.0</td>\n",
              "      <td>0.0</td>\n",
              "      <td>0.0</td>\n",
              "      <td>0.0</td>\n",
              "      <td>2.618295</td>\n",
              "    </tr>\n",
              "    <tr>\n",
              "      <th>4</th>\n",
              "      <td>5.0</td>\n",
              "      <td>88.7</td>\n",
              "      <td>1199</td>\n",
              "      <td>3</td>\n",
              "      <td>19.00</td>\n",
              "      <td>2</td>\n",
              "      <td>0.0</td>\n",
              "      <td>1.0</td>\n",
              "      <td>1.0</td>\n",
              "      <td>0.0</td>\n",
              "      <td>...</td>\n",
              "      <td>0.0</td>\n",
              "      <td>0.0</td>\n",
              "      <td>0.0</td>\n",
              "      <td>0.0</td>\n",
              "      <td>0.0</td>\n",
              "      <td>0.0</td>\n",
              "      <td>0.0</td>\n",
              "      <td>1.0</td>\n",
              "      <td>0.0</td>\n",
              "      <td>8.667166</td>\n",
              "    </tr>\n",
              "    <tr>\n",
              "      <th>...</th>\n",
              "      <td>...</td>\n",
              "      <td>...</td>\n",
              "      <td>...</td>\n",
              "      <td>...</td>\n",
              "      <td>...</td>\n",
              "      <td>...</td>\n",
              "      <td>...</td>\n",
              "      <td>...</td>\n",
              "      <td>...</td>\n",
              "      <td>...</td>\n",
              "      <td>...</td>\n",
              "      <td>...</td>\n",
              "      <td>...</td>\n",
              "      <td>...</td>\n",
              "      <td>...</td>\n",
              "      <td>...</td>\n",
              "      <td>...</td>\n",
              "      <td>...</td>\n",
              "      <td>...</td>\n",
              "      <td>...</td>\n",
              "      <td>...</td>\n",
              "    </tr>\n",
              "    <tr>\n",
              "      <th>614</th>\n",
              "      <td>5.0</td>\n",
              "      <td>74.0</td>\n",
              "      <td>1198</td>\n",
              "      <td>22</td>\n",
              "      <td>16.47</td>\n",
              "      <td>6</td>\n",
              "      <td>0.0</td>\n",
              "      <td>1.0</td>\n",
              "      <td>0.0</td>\n",
              "      <td>1.0</td>\n",
              "      <td>...</td>\n",
              "      <td>0.0</td>\n",
              "      <td>0.0</td>\n",
              "      <td>0.0</td>\n",
              "      <td>0.0</td>\n",
              "      <td>0.0</td>\n",
              "      <td>0.0</td>\n",
              "      <td>1.0</td>\n",
              "      <td>0.0</td>\n",
              "      <td>0.0</td>\n",
              "      <td>3.447949</td>\n",
              "    </tr>\n",
              "    <tr>\n",
              "      <th>615</th>\n",
              "      <td>5.0</td>\n",
              "      <td>74.0</td>\n",
              "      <td>1248</td>\n",
              "      <td>88</td>\n",
              "      <td>22.90</td>\n",
              "      <td>7</td>\n",
              "      <td>1.0</td>\n",
              "      <td>0.0</td>\n",
              "      <td>0.0</td>\n",
              "      <td>1.0</td>\n",
              "      <td>...</td>\n",
              "      <td>0.0</td>\n",
              "      <td>0.0</td>\n",
              "      <td>0.0</td>\n",
              "      <td>0.0</td>\n",
              "      <td>1.0</td>\n",
              "      <td>0.0</td>\n",
              "      <td>0.0</td>\n",
              "      <td>0.0</td>\n",
              "      <td>0.0</td>\n",
              "      <td>4.497047</td>\n",
              "    </tr>\n",
              "    <tr>\n",
              "      <th>616</th>\n",
              "      <td>5.0</td>\n",
              "      <td>78.9</td>\n",
              "      <td>1197</td>\n",
              "      <td>59</td>\n",
              "      <td>20.36</td>\n",
              "      <td>8</td>\n",
              "      <td>0.0</td>\n",
              "      <td>1.0</td>\n",
              "      <td>0.0</td>\n",
              "      <td>1.0</td>\n",
              "      <td>...</td>\n",
              "      <td>0.0</td>\n",
              "      <td>0.0</td>\n",
              "      <td>1.0</td>\n",
              "      <td>0.0</td>\n",
              "      <td>0.0</td>\n",
              "      <td>0.0</td>\n",
              "      <td>0.0</td>\n",
              "      <td>0.0</td>\n",
              "      <td>0.0</td>\n",
              "      <td>2.545256</td>\n",
              "    </tr>\n",
              "    <tr>\n",
              "      <th>617</th>\n",
              "      <td>5.0</td>\n",
              "      <td>78.9</td>\n",
              "      <td>1197</td>\n",
              "      <td>70</td>\n",
              "      <td>20.36</td>\n",
              "      <td>10</td>\n",
              "      <td>0.0</td>\n",
              "      <td>1.0</td>\n",
              "      <td>0.0</td>\n",
              "      <td>1.0</td>\n",
              "      <td>...</td>\n",
              "      <td>0.0</td>\n",
              "      <td>0.0</td>\n",
              "      <td>0.0</td>\n",
              "      <td>1.0</td>\n",
              "      <td>0.0</td>\n",
              "      <td>0.0</td>\n",
              "      <td>0.0</td>\n",
              "      <td>0.0</td>\n",
              "      <td>0.0</td>\n",
              "      <td>2.934929</td>\n",
              "    </tr>\n",
              "    <tr>\n",
              "      <th>618</th>\n",
              "      <td>5.0</td>\n",
              "      <td>73.9</td>\n",
              "      <td>1198</td>\n",
              "      <td>58</td>\n",
              "      <td>16.47</td>\n",
              "      <td>9</td>\n",
              "      <td>0.0</td>\n",
              "      <td>1.0</td>\n",
              "      <td>0.0</td>\n",
              "      <td>1.0</td>\n",
              "      <td>...</td>\n",
              "      <td>0.0</td>\n",
              "      <td>0.0</td>\n",
              "      <td>0.0</td>\n",
              "      <td>0.0</td>\n",
              "      <td>0.0</td>\n",
              "      <td>1.0</td>\n",
              "      <td>0.0</td>\n",
              "      <td>0.0</td>\n",
              "      <td>0.0</td>\n",
              "      <td>3.392910</td>\n",
              "    </tr>\n",
              "  </tbody>\n",
              "</table>\n",
              "<p>619 rows × 41 columns</p>\n",
              "</div>\n",
              "      <button class=\"colab-df-convert\" onclick=\"convertToInteractive('df-bdec1f78-0dce-4466-958e-5f2753efb7d7')\"\n",
              "              title=\"Convert this dataframe to an interactive table.\"\n",
              "              style=\"display:none;\">\n",
              "        \n",
              "  <svg xmlns=\"http://www.w3.org/2000/svg\" height=\"24px\"viewBox=\"0 0 24 24\"\n",
              "       width=\"24px\">\n",
              "    <path d=\"M0 0h24v24H0V0z\" fill=\"none\"/>\n",
              "    <path d=\"M18.56 5.44l.94 2.06.94-2.06 2.06-.94-2.06-.94-.94-2.06-.94 2.06-2.06.94zm-11 1L8.5 8.5l.94-2.06 2.06-.94-2.06-.94L8.5 2.5l-.94 2.06-2.06.94zm10 10l.94 2.06.94-2.06 2.06-.94-2.06-.94-.94-2.06-.94 2.06-2.06.94z\"/><path d=\"M17.41 7.96l-1.37-1.37c-.4-.4-.92-.59-1.43-.59-.52 0-1.04.2-1.43.59L10.3 9.45l-7.72 7.72c-.78.78-.78 2.05 0 2.83L4 21.41c.39.39.9.59 1.41.59.51 0 1.02-.2 1.41-.59l7.78-7.78 2.81-2.81c.8-.78.8-2.07 0-2.86zM5.41 20L4 18.59l7.72-7.72 1.47 1.35L5.41 20z\"/>\n",
              "  </svg>\n",
              "      </button>\n",
              "      \n",
              "  <style>\n",
              "    .colab-df-container {\n",
              "      display:flex;\n",
              "      flex-wrap:wrap;\n",
              "      gap: 12px;\n",
              "    }\n",
              "\n",
              "    .colab-df-convert {\n",
              "      background-color: #E8F0FE;\n",
              "      border: none;\n",
              "      border-radius: 50%;\n",
              "      cursor: pointer;\n",
              "      display: none;\n",
              "      fill: #1967D2;\n",
              "      height: 32px;\n",
              "      padding: 0 0 0 0;\n",
              "      width: 32px;\n",
              "    }\n",
              "\n",
              "    .colab-df-convert:hover {\n",
              "      background-color: #E2EBFA;\n",
              "      box-shadow: 0px 1px 2px rgba(60, 64, 67, 0.3), 0px 1px 3px 1px rgba(60, 64, 67, 0.15);\n",
              "      fill: #174EA6;\n",
              "    }\n",
              "\n",
              "    [theme=dark] .colab-df-convert {\n",
              "      background-color: #3B4455;\n",
              "      fill: #D2E3FC;\n",
              "    }\n",
              "\n",
              "    [theme=dark] .colab-df-convert:hover {\n",
              "      background-color: #434B5C;\n",
              "      box-shadow: 0px 1px 3px 1px rgba(0, 0, 0, 0.15);\n",
              "      filter: drop-shadow(0px 1px 2px rgba(0, 0, 0, 0.3));\n",
              "      fill: #FFFFFF;\n",
              "    }\n",
              "  </style>\n",
              "\n",
              "      <script>\n",
              "        const buttonEl =\n",
              "          document.querySelector('#df-bdec1f78-0dce-4466-958e-5f2753efb7d7 button.colab-df-convert');\n",
              "        buttonEl.style.display =\n",
              "          google.colab.kernel.accessAllowed ? 'block' : 'none';\n",
              "\n",
              "        async function convertToInteractive(key) {\n",
              "          const element = document.querySelector('#df-bdec1f78-0dce-4466-958e-5f2753efb7d7');\n",
              "          const dataTable =\n",
              "            await google.colab.kernel.invokeFunction('convertToInteractive',\n",
              "                                                     [key], {});\n",
              "          if (!dataTable) return;\n",
              "\n",
              "          const docLinkHtml = 'Like what you see? Visit the ' +\n",
              "            '<a target=\"_blank\" href=https://colab.research.google.com/notebooks/data_table.ipynb>data table notebook</a>'\n",
              "            + ' to learn more about interactive tables.';\n",
              "          element.innerHTML = '';\n",
              "          dataTable['output_type'] = 'display_data';\n",
              "          await google.colab.output.renderOutput(dataTable, element);\n",
              "          const docLink = document.createElement('div');\n",
              "          docLink.innerHTML = docLinkHtml;\n",
              "          element.appendChild(docLink);\n",
              "        }\n",
              "      </script>\n",
              "    </div>\n",
              "  </div>\n",
              "  "
            ],
            "text/plain": [
              "     Seats  power_new  engine_new  KM_Driven  mileage_new  age  x0_Diesel  \\\n",
              "0      5.0       98.6        1396         55        15.00    8        0.0   \n",
              "1      5.0       55.2         814         38        21.10    5        0.0   \n",
              "2      5.0       86.8        1198         22        18.50    5        0.0   \n",
              "3      5.0       55.2         814         45        21.10    8        0.0   \n",
              "4      5.0       88.7        1199          3        19.00    2        0.0   \n",
              "..     ...        ...         ...        ...          ...  ...        ...   \n",
              "614    5.0       74.0        1198         22        16.47    6        0.0   \n",
              "615    5.0       74.0        1248         88        22.90    7        1.0   \n",
              "616    5.0       78.9        1197         59        20.36    8        0.0   \n",
              "617    5.0       78.9        1197         70        20.36   10        0.0   \n",
              "618    5.0       73.9        1198         58        16.47    9        0.0   \n",
              "\n",
              "     x0_Petrol  x1_Automatic  x1_Manual  ...  x4_Chennai  x4_Coimbatore  \\\n",
              "0          1.0           1.0        0.0  ...         0.0            0.0   \n",
              "1          1.0           0.0        1.0  ...         0.0            0.0   \n",
              "2          1.0           0.0        1.0  ...         0.0            0.0   \n",
              "3          1.0           0.0        1.0  ...         1.0            0.0   \n",
              "4          1.0           1.0        0.0  ...         0.0            0.0   \n",
              "..         ...           ...        ...  ...         ...            ...   \n",
              "614        1.0           0.0        1.0  ...         0.0            0.0   \n",
              "615        0.0           0.0        1.0  ...         0.0            0.0   \n",
              "616        1.0           0.0        1.0  ...         0.0            0.0   \n",
              "617        1.0           0.0        1.0  ...         0.0            0.0   \n",
              "618        1.0           0.0        1.0  ...         0.0            0.0   \n",
              "\n",
              "     x4_Delhi  x4_Hyderabad  x4_Jaipur  x4_Kochi  x4_Kolkata  x4_Mumbai  \\\n",
              "0         0.0           0.0        0.0       0.0         0.0        0.0   \n",
              "1         0.0           0.0        1.0       0.0         0.0        0.0   \n",
              "2         0.0           0.0        0.0       0.0         0.0        1.0   \n",
              "3         0.0           0.0        0.0       0.0         0.0        0.0   \n",
              "4         0.0           0.0        0.0       0.0         0.0        1.0   \n",
              "..        ...           ...        ...       ...         ...        ...   \n",
              "614       0.0           0.0        0.0       0.0         1.0        0.0   \n",
              "615       0.0           0.0        1.0       0.0         0.0        0.0   \n",
              "616       1.0           0.0        0.0       0.0         0.0        0.0   \n",
              "617       0.0           1.0        0.0       0.0         0.0        0.0   \n",
              "618       0.0           0.0        0.0       1.0         0.0        0.0   \n",
              "\n",
              "     x4_Pune  prediction  \n",
              "0        1.0    3.563105  \n",
              "1        0.0    2.665395  \n",
              "2        0.0    4.280173  \n",
              "3        0.0    2.618295  \n",
              "4        0.0    8.667166  \n",
              "..       ...         ...  \n",
              "614      0.0    3.447949  \n",
              "615      0.0    4.497047  \n",
              "616      0.0    2.545256  \n",
              "617      0.0    2.934929  \n",
              "618      0.0    3.392910  \n",
              "\n",
              "[619 rows x 41 columns]"
            ]
          },
          "metadata": {},
          "execution_count": 24
        }
      ]
    },
    {
      "cell_type": "markdown",
      "metadata": {
        "id": "1aamgxxYM-0S"
      },
      "source": [
        "## Preparing the training data"
      ]
    },
    {
      "cell_type": "code",
      "metadata": {
        "colab": {
          "base_uri": "https://localhost:8080/",
          "height": 487
        },
        "id": "1_V5v822Q0d-",
        "outputId": "64d6b8d8-b371-4036-d340-c5b3b78990e4"
      },
      "source": [
        "x_train_new = x_train.reset_index()\n",
        "x_train_x_cols = reg.named_steps['preprocessor'].transform(x_train_new)\n",
        "x_train_x_cols_df = pd.DataFrame( x_train_x_cols.toarray(), columns  = num_features + new_cat_features)\n",
        "x_train_x_cols_df_final = pd.concat([x_train_new[num_features], x_train_x_cols_df[new_cat_features]], axis = 1)\n",
        "x_train_x_cols_df_final['prediction'] = reg.predict(x_train[x_columns])\n",
        "x_train_x_cols_df_final['Price'] = np.array(y_train)\n",
        "x_train_x_cols_df_final"
      ],
      "execution_count": 25,
      "outputs": [
        {
          "output_type": "execute_result",
          "data": {
            "text/html": [
              "\n",
              "  <div id=\"df-c7484e05-f485-4b03-9dde-a0d73e3568bf\">\n",
              "    <div class=\"colab-df-container\">\n",
              "      <div>\n",
              "<style scoped>\n",
              "    .dataframe tbody tr th:only-of-type {\n",
              "        vertical-align: middle;\n",
              "    }\n",
              "\n",
              "    .dataframe tbody tr th {\n",
              "        vertical-align: top;\n",
              "    }\n",
              "\n",
              "    .dataframe thead th {\n",
              "        text-align: right;\n",
              "    }\n",
              "</style>\n",
              "<table border=\"1\" class=\"dataframe\">\n",
              "  <thead>\n",
              "    <tr style=\"text-align: right;\">\n",
              "      <th></th>\n",
              "      <th>Seats</th>\n",
              "      <th>power_new</th>\n",
              "      <th>engine_new</th>\n",
              "      <th>KM_Driven</th>\n",
              "      <th>mileage_new</th>\n",
              "      <th>age</th>\n",
              "      <th>x0_Diesel</th>\n",
              "      <th>x0_Petrol</th>\n",
              "      <th>x1_Automatic</th>\n",
              "      <th>x1_Manual</th>\n",
              "      <th>...</th>\n",
              "      <th>x4_Coimbatore</th>\n",
              "      <th>x4_Delhi</th>\n",
              "      <th>x4_Hyderabad</th>\n",
              "      <th>x4_Jaipur</th>\n",
              "      <th>x4_Kochi</th>\n",
              "      <th>x4_Kolkata</th>\n",
              "      <th>x4_Mumbai</th>\n",
              "      <th>x4_Pune</th>\n",
              "      <th>prediction</th>\n",
              "      <th>Price</th>\n",
              "    </tr>\n",
              "  </thead>\n",
              "  <tbody>\n",
              "    <tr>\n",
              "      <th>0</th>\n",
              "      <td>5.0</td>\n",
              "      <td>74.00</td>\n",
              "      <td>1248</td>\n",
              "      <td>25</td>\n",
              "      <td>28.40</td>\n",
              "      <td>3</td>\n",
              "      <td>1.0</td>\n",
              "      <td>0.0</td>\n",
              "      <td>0.0</td>\n",
              "      <td>1.0</td>\n",
              "      <td>...</td>\n",
              "      <td>0.0</td>\n",
              "      <td>0.0</td>\n",
              "      <td>0.0</td>\n",
              "      <td>1.0</td>\n",
              "      <td>0.0</td>\n",
              "      <td>0.0</td>\n",
              "      <td>0.0</td>\n",
              "      <td>0.0</td>\n",
              "      <td>6.427374</td>\n",
              "      <td>5.99</td>\n",
              "    </tr>\n",
              "    <tr>\n",
              "      <th>1</th>\n",
              "      <td>5.0</td>\n",
              "      <td>80.00</td>\n",
              "      <td>1197</td>\n",
              "      <td>58</td>\n",
              "      <td>17.00</td>\n",
              "      <td>8</td>\n",
              "      <td>0.0</td>\n",
              "      <td>1.0</td>\n",
              "      <td>0.0</td>\n",
              "      <td>1.0</td>\n",
              "      <td>...</td>\n",
              "      <td>0.0</td>\n",
              "      <td>0.0</td>\n",
              "      <td>1.0</td>\n",
              "      <td>0.0</td>\n",
              "      <td>0.0</td>\n",
              "      <td>0.0</td>\n",
              "      <td>0.0</td>\n",
              "      <td>0.0</td>\n",
              "      <td>4.149638</td>\n",
              "      <td>4.00</td>\n",
              "    </tr>\n",
              "    <tr>\n",
              "      <th>2</th>\n",
              "      <td>5.0</td>\n",
              "      <td>67.10</td>\n",
              "      <td>998</td>\n",
              "      <td>73</td>\n",
              "      <td>24.07</td>\n",
              "      <td>5</td>\n",
              "      <td>0.0</td>\n",
              "      <td>1.0</td>\n",
              "      <td>1.0</td>\n",
              "      <td>0.0</td>\n",
              "      <td>...</td>\n",
              "      <td>0.0</td>\n",
              "      <td>0.0</td>\n",
              "      <td>0.0</td>\n",
              "      <td>0.0</td>\n",
              "      <td>0.0</td>\n",
              "      <td>0.0</td>\n",
              "      <td>0.0</td>\n",
              "      <td>1.0</td>\n",
              "      <td>3.177943</td>\n",
              "      <td>3.30</td>\n",
              "    </tr>\n",
              "    <tr>\n",
              "      <th>3</th>\n",
              "      <td>5.0</td>\n",
              "      <td>86.80</td>\n",
              "      <td>1196</td>\n",
              "      <td>21</td>\n",
              "      <td>18.16</td>\n",
              "      <td>3</td>\n",
              "      <td>0.0</td>\n",
              "      <td>1.0</td>\n",
              "      <td>0.0</td>\n",
              "      <td>1.0</td>\n",
              "      <td>...</td>\n",
              "      <td>1.0</td>\n",
              "      <td>0.0</td>\n",
              "      <td>0.0</td>\n",
              "      <td>0.0</td>\n",
              "      <td>0.0</td>\n",
              "      <td>0.0</td>\n",
              "      <td>0.0</td>\n",
              "      <td>0.0</td>\n",
              "      <td>6.403126</td>\n",
              "      <td>6.42</td>\n",
              "    </tr>\n",
              "    <tr>\n",
              "      <th>4</th>\n",
              "      <td>5.0</td>\n",
              "      <td>83.80</td>\n",
              "      <td>1461</td>\n",
              "      <td>55</td>\n",
              "      <td>19.87</td>\n",
              "      <td>6</td>\n",
              "      <td>1.0</td>\n",
              "      <td>0.0</td>\n",
              "      <td>0.0</td>\n",
              "      <td>1.0</td>\n",
              "      <td>...</td>\n",
              "      <td>0.0</td>\n",
              "      <td>0.0</td>\n",
              "      <td>0.0</td>\n",
              "      <td>0.0</td>\n",
              "      <td>0.0</td>\n",
              "      <td>0.0</td>\n",
              "      <td>0.0</td>\n",
              "      <td>0.0</td>\n",
              "      <td>5.100860</td>\n",
              "      <td>4.75</td>\n",
              "    </tr>\n",
              "    <tr>\n",
              "      <th>...</th>\n",
              "      <td>...</td>\n",
              "      <td>...</td>\n",
              "      <td>...</td>\n",
              "      <td>...</td>\n",
              "      <td>...</td>\n",
              "      <td>...</td>\n",
              "      <td>...</td>\n",
              "      <td>...</td>\n",
              "      <td>...</td>\n",
              "      <td>...</td>\n",
              "      <td>...</td>\n",
              "      <td>...</td>\n",
              "      <td>...</td>\n",
              "      <td>...</td>\n",
              "      <td>...</td>\n",
              "      <td>...</td>\n",
              "      <td>...</td>\n",
              "      <td>...</td>\n",
              "      <td>...</td>\n",
              "      <td>...</td>\n",
              "      <td>...</td>\n",
              "    </tr>\n",
              "    <tr>\n",
              "      <th>1973</th>\n",
              "      <td>5.0</td>\n",
              "      <td>74.00</td>\n",
              "      <td>1248</td>\n",
              "      <td>37</td>\n",
              "      <td>26.59</td>\n",
              "      <td>5</td>\n",
              "      <td>1.0</td>\n",
              "      <td>0.0</td>\n",
              "      <td>0.0</td>\n",
              "      <td>1.0</td>\n",
              "      <td>...</td>\n",
              "      <td>0.0</td>\n",
              "      <td>1.0</td>\n",
              "      <td>0.0</td>\n",
              "      <td>0.0</td>\n",
              "      <td>0.0</td>\n",
              "      <td>0.0</td>\n",
              "      <td>0.0</td>\n",
              "      <td>0.0</td>\n",
              "      <td>5.084397</td>\n",
              "      <td>4.85</td>\n",
              "    </tr>\n",
              "    <tr>\n",
              "      <th>1974</th>\n",
              "      <td>5.0</td>\n",
              "      <td>67.04</td>\n",
              "      <td>1364</td>\n",
              "      <td>179</td>\n",
              "      <td>23.59</td>\n",
              "      <td>7</td>\n",
              "      <td>1.0</td>\n",
              "      <td>0.0</td>\n",
              "      <td>0.0</td>\n",
              "      <td>1.0</td>\n",
              "      <td>...</td>\n",
              "      <td>0.0</td>\n",
              "      <td>0.0</td>\n",
              "      <td>0.0</td>\n",
              "      <td>0.0</td>\n",
              "      <td>0.0</td>\n",
              "      <td>0.0</td>\n",
              "      <td>0.0</td>\n",
              "      <td>0.0</td>\n",
              "      <td>3.958296</td>\n",
              "      <td>3.80</td>\n",
              "    </tr>\n",
              "    <tr>\n",
              "      <th>1975</th>\n",
              "      <td>5.0</td>\n",
              "      <td>67.00</td>\n",
              "      <td>1172</td>\n",
              "      <td>72</td>\n",
              "      <td>15.70</td>\n",
              "      <td>10</td>\n",
              "      <td>0.0</td>\n",
              "      <td>1.0</td>\n",
              "      <td>0.0</td>\n",
              "      <td>1.0</td>\n",
              "      <td>...</td>\n",
              "      <td>0.0</td>\n",
              "      <td>0.0</td>\n",
              "      <td>0.0</td>\n",
              "      <td>0.0</td>\n",
              "      <td>0.0</td>\n",
              "      <td>0.0</td>\n",
              "      <td>0.0</td>\n",
              "      <td>0.0</td>\n",
              "      <td>2.264123</td>\n",
              "      <td>2.25</td>\n",
              "    </tr>\n",
              "    <tr>\n",
              "      <th>1976</th>\n",
              "      <td>5.0</td>\n",
              "      <td>90.00</td>\n",
              "      <td>1396</td>\n",
              "      <td>77</td>\n",
              "      <td>23.00</td>\n",
              "      <td>4</td>\n",
              "      <td>1.0</td>\n",
              "      <td>0.0</td>\n",
              "      <td>0.0</td>\n",
              "      <td>1.0</td>\n",
              "      <td>...</td>\n",
              "      <td>0.0</td>\n",
              "      <td>0.0</td>\n",
              "      <td>1.0</td>\n",
              "      <td>0.0</td>\n",
              "      <td>0.0</td>\n",
              "      <td>0.0</td>\n",
              "      <td>0.0</td>\n",
              "      <td>0.0</td>\n",
              "      <td>7.162492</td>\n",
              "      <td>6.75</td>\n",
              "    </tr>\n",
              "    <tr>\n",
              "      <th>1977</th>\n",
              "      <td>5.0</td>\n",
              "      <td>73.90</td>\n",
              "      <td>1248</td>\n",
              "      <td>100</td>\n",
              "      <td>19.30</td>\n",
              "      <td>10</td>\n",
              "      <td>1.0</td>\n",
              "      <td>0.0</td>\n",
              "      <td>0.0</td>\n",
              "      <td>1.0</td>\n",
              "      <td>...</td>\n",
              "      <td>0.0</td>\n",
              "      <td>0.0</td>\n",
              "      <td>0.0</td>\n",
              "      <td>0.0</td>\n",
              "      <td>0.0</td>\n",
              "      <td>0.0</td>\n",
              "      <td>0.0</td>\n",
              "      <td>0.0</td>\n",
              "      <td>3.431774</td>\n",
              "      <td>4.50</td>\n",
              "    </tr>\n",
              "  </tbody>\n",
              "</table>\n",
              "<p>1978 rows × 42 columns</p>\n",
              "</div>\n",
              "      <button class=\"colab-df-convert\" onclick=\"convertToInteractive('df-c7484e05-f485-4b03-9dde-a0d73e3568bf')\"\n",
              "              title=\"Convert this dataframe to an interactive table.\"\n",
              "              style=\"display:none;\">\n",
              "        \n",
              "  <svg xmlns=\"http://www.w3.org/2000/svg\" height=\"24px\"viewBox=\"0 0 24 24\"\n",
              "       width=\"24px\">\n",
              "    <path d=\"M0 0h24v24H0V0z\" fill=\"none\"/>\n",
              "    <path d=\"M18.56 5.44l.94 2.06.94-2.06 2.06-.94-2.06-.94-.94-2.06-.94 2.06-2.06.94zm-11 1L8.5 8.5l.94-2.06 2.06-.94-2.06-.94L8.5 2.5l-.94 2.06-2.06.94zm10 10l.94 2.06.94-2.06 2.06-.94-2.06-.94-.94-2.06-.94 2.06-2.06.94z\"/><path d=\"M17.41 7.96l-1.37-1.37c-.4-.4-.92-.59-1.43-.59-.52 0-1.04.2-1.43.59L10.3 9.45l-7.72 7.72c-.78.78-.78 2.05 0 2.83L4 21.41c.39.39.9.59 1.41.59.51 0 1.02-.2 1.41-.59l7.78-7.78 2.81-2.81c.8-.78.8-2.07 0-2.86zM5.41 20L4 18.59l7.72-7.72 1.47 1.35L5.41 20z\"/>\n",
              "  </svg>\n",
              "      </button>\n",
              "      \n",
              "  <style>\n",
              "    .colab-df-container {\n",
              "      display:flex;\n",
              "      flex-wrap:wrap;\n",
              "      gap: 12px;\n",
              "    }\n",
              "\n",
              "    .colab-df-convert {\n",
              "      background-color: #E8F0FE;\n",
              "      border: none;\n",
              "      border-radius: 50%;\n",
              "      cursor: pointer;\n",
              "      display: none;\n",
              "      fill: #1967D2;\n",
              "      height: 32px;\n",
              "      padding: 0 0 0 0;\n",
              "      width: 32px;\n",
              "    }\n",
              "\n",
              "    .colab-df-convert:hover {\n",
              "      background-color: #E2EBFA;\n",
              "      box-shadow: 0px 1px 2px rgba(60, 64, 67, 0.3), 0px 1px 3px 1px rgba(60, 64, 67, 0.15);\n",
              "      fill: #174EA6;\n",
              "    }\n",
              "\n",
              "    [theme=dark] .colab-df-convert {\n",
              "      background-color: #3B4455;\n",
              "      fill: #D2E3FC;\n",
              "    }\n",
              "\n",
              "    [theme=dark] .colab-df-convert:hover {\n",
              "      background-color: #434B5C;\n",
              "      box-shadow: 0px 1px 3px 1px rgba(0, 0, 0, 0.15);\n",
              "      filter: drop-shadow(0px 1px 2px rgba(0, 0, 0, 0.3));\n",
              "      fill: #FFFFFF;\n",
              "    }\n",
              "  </style>\n",
              "\n",
              "      <script>\n",
              "        const buttonEl =\n",
              "          document.querySelector('#df-c7484e05-f485-4b03-9dde-a0d73e3568bf button.colab-df-convert');\n",
              "        buttonEl.style.display =\n",
              "          google.colab.kernel.accessAllowed ? 'block' : 'none';\n",
              "\n",
              "        async function convertToInteractive(key) {\n",
              "          const element = document.querySelector('#df-c7484e05-f485-4b03-9dde-a0d73e3568bf');\n",
              "          const dataTable =\n",
              "            await google.colab.kernel.invokeFunction('convertToInteractive',\n",
              "                                                     [key], {});\n",
              "          if (!dataTable) return;\n",
              "\n",
              "          const docLinkHtml = 'Like what you see? Visit the ' +\n",
              "            '<a target=\"_blank\" href=https://colab.research.google.com/notebooks/data_table.ipynb>data table notebook</a>'\n",
              "            + ' to learn more about interactive tables.';\n",
              "          element.innerHTML = '';\n",
              "          dataTable['output_type'] = 'display_data';\n",
              "          await google.colab.output.renderOutput(dataTable, element);\n",
              "          const docLink = document.createElement('div');\n",
              "          docLink.innerHTML = docLinkHtml;\n",
              "          element.appendChild(docLink);\n",
              "        }\n",
              "      </script>\n",
              "    </div>\n",
              "  </div>\n",
              "  "
            ],
            "text/plain": [
              "      Seats  power_new  engine_new  KM_Driven  mileage_new  age  x0_Diesel  \\\n",
              "0       5.0      74.00        1248         25        28.40    3        1.0   \n",
              "1       5.0      80.00        1197         58        17.00    8        0.0   \n",
              "2       5.0      67.10         998         73        24.07    5        0.0   \n",
              "3       5.0      86.80        1196         21        18.16    3        0.0   \n",
              "4       5.0      83.80        1461         55        19.87    6        1.0   \n",
              "...     ...        ...         ...        ...          ...  ...        ...   \n",
              "1973    5.0      74.00        1248         37        26.59    5        1.0   \n",
              "1974    5.0      67.04        1364        179        23.59    7        1.0   \n",
              "1975    5.0      67.00        1172         72        15.70   10        0.0   \n",
              "1976    5.0      90.00        1396         77        23.00    4        1.0   \n",
              "1977    5.0      73.90        1248        100        19.30   10        1.0   \n",
              "\n",
              "      x0_Petrol  x1_Automatic  x1_Manual  ...  x4_Coimbatore  x4_Delhi  \\\n",
              "0           0.0           0.0        1.0  ...            0.0       0.0   \n",
              "1           1.0           0.0        1.0  ...            0.0       0.0   \n",
              "2           1.0           1.0        0.0  ...            0.0       0.0   \n",
              "3           1.0           0.0        1.0  ...            1.0       0.0   \n",
              "4           0.0           0.0        1.0  ...            0.0       0.0   \n",
              "...         ...           ...        ...  ...            ...       ...   \n",
              "1973        0.0           0.0        1.0  ...            0.0       1.0   \n",
              "1974        0.0           0.0        1.0  ...            0.0       0.0   \n",
              "1975        1.0           0.0        1.0  ...            0.0       0.0   \n",
              "1976        0.0           0.0        1.0  ...            0.0       0.0   \n",
              "1977        0.0           0.0        1.0  ...            0.0       0.0   \n",
              "\n",
              "      x4_Hyderabad  x4_Jaipur  x4_Kochi  x4_Kolkata  x4_Mumbai  x4_Pune  \\\n",
              "0              0.0        1.0       0.0         0.0        0.0      0.0   \n",
              "1              1.0        0.0       0.0         0.0        0.0      0.0   \n",
              "2              0.0        0.0       0.0         0.0        0.0      1.0   \n",
              "3              0.0        0.0       0.0         0.0        0.0      0.0   \n",
              "4              0.0        0.0       0.0         0.0        0.0      0.0   \n",
              "...            ...        ...       ...         ...        ...      ...   \n",
              "1973           0.0        0.0       0.0         0.0        0.0      0.0   \n",
              "1974           0.0        0.0       0.0         0.0        0.0      0.0   \n",
              "1975           0.0        0.0       0.0         0.0        0.0      0.0   \n",
              "1976           1.0        0.0       0.0         0.0        0.0      0.0   \n",
              "1977           0.0        0.0       0.0         0.0        0.0      0.0   \n",
              "\n",
              "      prediction  Price  \n",
              "0       6.427374   5.99  \n",
              "1       4.149638   4.00  \n",
              "2       3.177943   3.30  \n",
              "3       6.403126   6.42  \n",
              "4       5.100860   4.75  \n",
              "...          ...    ...  \n",
              "1973    5.084397   4.85  \n",
              "1974    3.958296   3.80  \n",
              "1975    2.264123   2.25  \n",
              "1976    7.162492   6.75  \n",
              "1977    3.431774   4.50  \n",
              "\n",
              "[1978 rows x 42 columns]"
            ]
          },
          "metadata": {},
          "execution_count": 25
        }
      ]
    },
    {
      "cell_type": "markdown",
      "metadata": {
        "id": "jxyoA405fOx3"
      },
      "source": [
        "# Creating Data Drift Report"
      ]
    },
    {
      "cell_type": "code",
      "metadata": {
        "id": "T_0vUUqxFo9Z",
        "outputId": "759e5a1f-4429-4536-d1b6-fc437d18563f",
        "colab": {
          "base_uri": "https://localhost:8080/"
        }
      },
      "source": [
        "from evidently.dashboard import Dashboard\n",
        "from evidently.tabs import DataDriftTab, NumTargetDriftTab\n",
        "\n",
        "from evidently.model_profile import Profile\n",
        "from evidently.profile_sections import DataDriftProfileSection"
      ],
      "execution_count": 26,
      "outputs": [
        {
          "output_type": "stream",
          "name": "stderr",
          "text": [
            "/usr/local/lib/python3.7/dist-packages/distributed/config.py:20: YAMLLoadWarning: calling yaml.load() without Loader=... is deprecated, as the default Loader is unsafe. Please read https://msg.pyyaml.org/load for full details.\n",
            "  defaults = yaml.load(f)\n",
            "/usr/local/lib/python3.7/dist-packages/evidently/tabs/__init__.py:8: UserWarning: 'import evidently.tabs' is deprecated, use 'import evidently.dashboard.tabs'\n",
            "  warnings.warn(\"'import evidently.tabs' is deprecated, use 'import evidently.dashboard.tabs'\")\n",
            "/usr/local/lib/python3.7/dist-packages/evidently/profile_sections/__init__.py:8: UserWarning: 'import evidently.profile_sections' is deprecated, use 'import evidently.model_profile.sections'\n",
            "  warnings.warn(\"'import evidently.profile_sections' is deprecated, use 'import evidently.model_profile.sections'\")\n"
          ]
        }
      ]
    },
    {
      "cell_type": "code",
      "metadata": {
        "id": "0NOqvoo0ICA1"
      },
      "source": [
        "from evidently.pipeline.column_mapping import ColumnMapping\n",
        "\n",
        "column_mapping = ColumnMapping()\n",
        "\n",
        "column_mapping.target = 'Price' #'y' is the name of the column with the target function\n",
        "column_mapping.prediction = 'prediction' #'pred' is the name of the column(s) with model predictions\n",
        "column_mapping.id = None #there is no ID column in the dataset\n",
        "column_mapping.datetime = None #'date' is the name of the column with datetime \n",
        "\n",
        "column_mapping.numerical_features = num_features #list of numerical features\n",
        "column_mapping.categorical_features = new_cat_features #list of categorical features"
      ],
      "execution_count": 27,
      "outputs": []
    },
    {
      "cell_type": "code",
      "metadata": {
        "colab": {
          "base_uri": "https://localhost:8080/"
        },
        "id": "lqm1KnJ0K0wn",
        "outputId": "3e776419-3d16-4a07-e135-9b4d1f576334"
      },
      "source": [
        "column_mapping"
      ],
      "execution_count": 28,
      "outputs": [
        {
          "output_type": "execute_result",
          "data": {
            "text/plain": [
              "ColumnMapping(target='Price', prediction='prediction', datetime=None, id=None, numerical_features=['Seats', 'power_new', 'engine_new', 'KM_Driven', 'mileage_new', 'age'], categorical_features=['x0_Diesel', 'x0_Petrol', 'x1_Automatic', 'x1_Manual', 'x2_First', 'x2_Fourth & Above', 'x2_Second', 'x2_Third', 'x3_chevrolet', 'x3_datsun', 'x3_fiat', 'x3_ford', 'x3_honda', 'x3_hyundai', 'x3_mahindra', 'x3_maruti', 'x3_mitsubishi', 'x3_nissan', 'x3_renault', 'x3_skoda', 'x3_tata', 'x3_toyota', 'x3_volkswagen', 'x4_Ahmedabad', 'x4_Bangalore', 'x4_Chennai', 'x4_Coimbatore', 'x4_Delhi', 'x4_Hyderabad', 'x4_Jaipur', 'x4_Kochi', 'x4_Kolkata', 'x4_Mumbai', 'x4_Pune'], datetime_features=None, target_names=None, task=None)"
            ]
          },
          "metadata": {},
          "execution_count": 28
        }
      ]
    },
    {
      "cell_type": "code",
      "metadata": {
        "id": "X83Ph8RzF52f"
      },
      "source": [
        "cars_data_drift_dashboard = Dashboard(tabs=[DataDriftTab()])\n",
        "cars_data_drift_dashboard.calculate(x_train_x_cols_df_final, \n",
        "                                    cars_df_prod_x_cols_df_final, \n",
        "                                    column_mapping = column_mapping)"
      ],
      "execution_count": 30,
      "outputs": []
    },
    {
      "cell_type": "code",
      "metadata": {
        "id": "wIHyWjuTGXib"
      },
      "source": [
        "cars_data_drift_dashboard.save(\"newreports/cars_datadriftV1.html\")"
      ],
      "execution_count": 31,
      "outputs": []
    },
    {
      "cell_type": "code",
      "metadata": {
        "colab": {
          "base_uri": "https://localhost:8080/",
          "height": 140
        },
        "id": "8MjRkjabHZRr",
        "outputId": "11990b26-731c-4ee9-be70-58f408070ef2"
      },
      "source": [
        "cars_data_drift_profile = Profile(sections=[DataDriftProfileSection()])\n",
        "cars_data_drift_profile.calculate(x_train_x_cols_df_final, \n",
        "                                  cars_df_prod_x_cols_df_final, \n",
        "                                  column_mapping = column_mapping)\n",
        "cars_data_drift_profile.json()"
      ],
      "execution_count": 32,
      "outputs": [
        {
          "output_type": "execute_result",
          "data": {
            "application/vnd.google.colaboratory.intrinsic+json": {
              "type": "string"
            },
            "text/plain": [
              "'{\"data_drift\": {\"name\": \"data_drift\", \"datetime\": \"2022-03-11 17:01:43.897289\", \"data\": {\"utility_columns\": {\"date\": null, \"id\": null, \"target\": \"Price\", \"prediction\": \"prediction\"}, \"cat_feature_names\": [\"x0_Diesel\", \"x0_Petrol\", \"x1_Automatic\", \"x1_Manual\", \"x2_First\", \"x2_Fourth & Above\", \"x2_Second\", \"x2_Third\", \"x3_chevrolet\", \"x3_datsun\", \"x3_fiat\", \"x3_ford\", \"x3_honda\", \"x3_hyundai\", \"x3_mahindra\", \"x3_maruti\", \"x3_mitsubishi\", \"x3_nissan\", \"x3_renault\", \"x3_skoda\", \"x3_tata\", \"x3_toyota\", \"x3_volkswagen\", \"x4_Ahmedabad\", \"x4_Bangalore\", \"x4_Chennai\", \"x4_Coimbatore\", \"x4_Delhi\", \"x4_Hyderabad\", \"x4_Jaipur\", \"x4_Kochi\", \"x4_Kolkata\", \"x4_Mumbai\", \"x4_Pune\"], \"num_feature_names\": [\"Seats\", \"power_new\", \"engine_new\", \"KM_Driven\", \"mileage_new\", \"age\"], \"datetime_feature_names\": [], \"target_names\": null, \"options\": {\"confidence\": 0.95, \"drift_share\": 0.5, \"nbinsx\": 10, \"xbins\": null}, \"metrics\": {\"n_features\": 40, \"n_drifted_features\": 1, \"share_drifted_features\": 0.025, \"dataset_drift\": false, \"Seats\": {\"current_small_hist\": [[0.005393743257820931, 1.548004314994605, 0.0, 0.010787486515641846, 0.0, 0.08360302049622444, 0.010787486515641861, 0.0, 0.002696871628910473, 0.005393743257820915], [4.0, 4.6, 5.2, 5.8, 6.4, 7.0, 7.6, 8.2, 8.8, 9.399999999999999, 10.0]], \"ref_small_hist\": [[0.024435456690259538, 1.5419615773508581, 0.0, 0.004213009774182673, 0.0, 0.08004718570947089, 0.014324233232221107, 0.0, 0.0, 0.0016852039096730664], [4.0, 4.6, 5.2, 5.8, 6.4, 7.0, 7.6, 8.2, 8.8, 9.399999999999999, 10.0]], \"feature_type\": \"num\", \"p_value\": 0.9999999250332691}, \"power_new\": {\"current_small_hist\": [[0.0019883186280601466, 0.0037280974276127747, 0.00149123897104511, 0.00596495588418044, 0.019634646452093948, 0.02112588542313906, 0.02932769976388716, 0.030321859077917238, 0.02634522182179694, 0.013918230396421026], [35.0, 41.5, 48.0, 54.5, 61.0, 67.5, 74.0, 80.5, 87.0, 93.5, 100.0]], \"ref_small_hist\": [[0.003073320200011679, 0.004609980300017519, 0.0019976581300075896, 0.004533147295017227, 0.012677445825048192, 0.01890091923007179, 0.03557368131513519, 0.03211619609012205, 0.024432895590092853, 0.014060439915053433], [34.2, 40.78, 47.36, 53.940000000000005, 60.52, 67.1, 73.68, 80.26, 86.84, 93.42, 100.0]], \"feature_type\": \"num\", \"p_value\": 0.9573490201801237}, \"engine_new\": {\"current_small_hist\": [[0.0002909578609886471, 0.000491857336433189, 0.0023207353197904016, 0.0010737730584104831, 6.92756811877731e-06, 1.3855136237554636e-05, 0.0, 6.927568118777304e-06, 7.620324930655049e-05, 6.927568118777304e-06], [624.0, 857.2, 1090.4, 1323.6, 1556.8, 1790.0, 2023.1999999999998, 2256.3999999999996, 2489.6, 2722.7999999999997, 2956.0]], \"ref_small_hist\": [[0.0003403649405900583, 0.0005203030938956305, 0.0022849977540249796, 0.0010579496242544488, 6.503788673695382e-06, 1.7343436463187705e-05, 0.0, 1.300757734739075e-05, 4.552652071586772e-05, 2.1679295578984584e-06], [624.0, 857.2, 1090.4, 1323.6, 1556.8, 1790.0, 2023.1999999999998, 2256.3999999999996, 2489.6, 2722.7999999999997, 2956.0]], \"feature_type\": \"num\", \"p_value\": 0.7279504251655871}, \"KM_Driven\": {\"current_small_hist\": [[0.006389018190447505, 0.011043874300630687, 0.014329655084289409, 0.0104962441700209, 0.008031908582276863, 0.0027381506530489326, 0.0009127168843496435, 0.0011865319496545364, 0.0007301735074797153, 0.0006389018190447499], [1.0, 18.7, 36.4, 54.099999999999994, 71.8, 89.5, 107.19999999999999, 124.89999999999999, 142.6, 160.29999999999998, 178.0]], \"ref_small_hist\": [[0.005308392315470172, 0.011599820244916301, 0.012947983372654757, 0.01345354454555668, 0.006600381979552859, 0.0028367599146163353, 0.00143242332322211, 0.0008145152230086507, 0.00042130097741826763, 0.00014043365913942254], [0.0, 18.0, 36.0, 54.0, 72.0, 90.0, 108.0, 126.0, 144.0, 162.0, 180.0]], \"feature_type\": \"num\", \"p_value\": 0.4051450668440002}, \"mileage_new\": {\"current_small_hist\": [[0.007557936305491789, 0.01795009872554298, 0.031176487260153634, 0.09447420381864727, 0.12659543311698734, 0.10770059235325811, 0.0831372993604096, 0.051960812100256104, 0.047237101909323634, 0.01700535668735651], [11.3, 13.01, 14.72, 16.43, 18.14, 19.85, 21.56, 23.27, 24.979999999999997, 26.689999999999998, 28.4]], \"ref_small_hist\": [[0.010172877259611824, 0.016954795432686392, 0.046856889195787746, 0.08569878418703313, 0.13902932254802824, 0.09001455029717129, 0.0937137783915758, 0.052714000345261275, 0.05209746232952722, 0.02250363757429282], [12.0, 13.64, 15.28, 16.92, 18.56, 20.2, 21.84, 23.479999999999997, 25.119999999999997, 26.759999999999998, 28.4]], \"feature_type\": \"num\", \"p_value\": 0.325412000230785}, \"age\": {\"current_small_hist\": [[0.03706167442744464, 0.13874370426684404, 0.15774969115271317, 0.05891855934619405, 0.09312933574075832, 0.054167062624726814, 0.02090658557445594, 0.015204789508695245, 0.006652095410054177, 0.005701796065760705], [1.0, 2.7, 4.4, 6.1, 7.8, 9.5, 11.2, 12.9, 14.6, 16.299999999999997, 18.0]], \"ref_small_hist\": [[0.08666762964032933, 0.12879772738215609, 0.11435312244210119, 0.07463045885695027, 0.036592999181472394, 0.01853724300640376, 0.008907506379700517, 0.003611151235013723, 0.002407434156675813, 0.001685203909673072], [1.0, 3.1, 5.2, 7.300000000000001, 9.4, 11.5, 13.600000000000001, 15.700000000000001, 17.8, 19.900000000000002, 22.0]], \"feature_type\": \"num\", \"p_value\": 0.5377664300989141}, \"x0_Diesel\": {\"current_small_hist\": [[1138, 840], [0.0, 1.0]], \"ref_small_hist\": [[354, 265], [0.0, 1.0]], \"feature_type\": \"cat\", \"p_value\": 0.8799710244841337}, \"x0_Petrol\": {\"current_small_hist\": [[1138, 840], [1.0, 0.0]], \"ref_small_hist\": [[354, 265], [1.0, 0.0]], \"feature_type\": \"cat\", \"p_value\": 0.8799710244841299}, \"x1_Automatic\": {\"current_small_hist\": [[1839, 139], [0.0, 1.0]], \"ref_small_hist\": [[569, 50], [0.0, 1.0]], \"feature_type\": \"cat\", \"p_value\": 0.380019370807567}, \"x1_Manual\": {\"current_small_hist\": [[1839, 139], [1.0, 0.0]], \"ref_small_hist\": [[569, 50], [1.0, 0.0]], \"feature_type\": \"cat\", \"p_value\": 0.38001937080756854}, \"x2_First\": {\"current_small_hist\": [[1670, 308], [1.0, 0.0]], \"ref_small_hist\": [[516, 103], [1.0, 0.0]], \"feature_type\": \"cat\", \"p_value\": 0.5250163943795536}, \"x2_Fourth & Above\": {\"current_small_hist\": [[1976, 2], [0.0, 1.0]], \"ref_small_hist\": [[619], [0.0]], \"feature_type\": \"cat\", \"p_value\": 0.4286910217246698}, \"x2_Second\": {\"current_small_hist\": [[1701, 277], [0.0, 1.0]], \"ref_small_hist\": [[532, 87], [0.0, 1.0]], \"feature_type\": \"cat\", \"p_value\": 0.9746114876139398}, \"x2_Third\": {\"current_small_hist\": [[1949, 29], [0.0, 1.0]], \"ref_small_hist\": [[603, 16], [0.0, 1.0]], \"feature_type\": \"cat\", \"p_value\": 0.0626776343019213}, \"x3_chevrolet\": {\"current_small_hist\": [[1920, 58], [0.0, 1.0]], \"ref_small_hist\": [[599, 20], [0.0, 1.0]], \"feature_type\": \"cat\", \"p_value\": 0.7038959021092062}, \"x3_datsun\": {\"current_small_hist\": [[1973, 5], [0.0, 1.0]], \"ref_small_hist\": [[614, 5], [0.0, 1.0]], \"feature_type\": \"cat\", \"p_value\": 0.05169462367112221}, \"x3_fiat\": {\"current_small_hist\": [[1961, 17], [0.0, 1.0]], \"ref_small_hist\": [[617, 2], [0.0, 1.0]], \"feature_type\": \"cat\", \"p_value\": 0.17176566873440247}, \"x3_ford\": {\"current_small_hist\": [[1832, 146], [0.0, 1.0]], \"ref_small_hist\": [[578, 41], [0.0, 1.0]], \"feature_type\": \"cat\", \"p_value\": 0.5245360303352284}, \"x3_honda\": {\"current_small_hist\": [[1784, 194], [0.0, 1.0]], \"ref_small_hist\": [[557, 62], [0.0, 1.0]], \"feature_type\": \"cat\", \"p_value\": 0.879420411635844}, \"x3_hyundai\": {\"current_small_hist\": [[1505, 473], [0.0, 1.0]], \"ref_small_hist\": [[465, 154], [0.0, 1.0]], \"feature_type\": \"cat\", \"p_value\": 0.624121369889413}, \"x3_mahindra\": {\"current_small_hist\": [[1945, 33], [0.0, 1.0]], \"ref_small_hist\": [[602, 17], [0.0, 1.0]], \"feature_type\": \"cat\", \"p_value\": 0.08849146412117648}, \"x3_maruti\": {\"current_small_hist\": [[1283, 695], [0.0, 1.0]], \"ref_small_hist\": [[409, 210], [0.0, 1.0]], \"feature_type\": \"cat\", \"p_value\": 0.5811149489898682}, \"x3_mitsubishi\": {\"current_small_hist\": [[1976, 2], [0.0, 1.0]], \"ref_small_hist\": [[619], [0.0]], \"feature_type\": \"cat\", \"p_value\": 0.4286910217246698}, \"x3_nissan\": {\"current_small_hist\": [[1937, 41], [0.0, 1.0]], \"ref_small_hist\": [[605, 14], [0.0, 1.0]], \"feature_type\": \"cat\", \"p_value\": 0.7757249916853666}, \"x3_renault\": {\"current_small_hist\": [[1921, 57], [0.0, 1.0]], \"ref_small_hist\": [[610, 9], [0.0, 1.0]], \"feature_type\": \"cat\", \"p_value\": 0.048859421401935554}, \"x3_skoda\": {\"current_small_hist\": [[1967, 11], [0.0, 1.0]], \"ref_small_hist\": [[615, 4], [0.0, 1.0]], \"feature_type\": \"cat\", \"p_value\": 0.7963108041860905}, \"x3_tata\": {\"current_small_hist\": [[1880, 98], [0.0, 1.0]], \"ref_small_hist\": [[589, 30], [0.0, 1.0]], \"feature_type\": \"cat\", \"p_value\": 0.9137547603556344}, \"x3_toyota\": {\"current_small_hist\": [[1927, 51], [0.0, 1.0]], \"ref_small_hist\": [[601, 18], [0.0, 1.0]], \"feature_type\": \"cat\", \"p_value\": 0.6563582910316006}, \"x3_volkswagen\": {\"current_small_hist\": [[1881, 97], [0.0, 1.0]], \"ref_small_hist\": [[587, 32], [0.0, 1.0]], \"feature_type\": \"cat\", \"p_value\": 0.7906103657480901}, \"x4_Ahmedabad\": {\"current_small_hist\": [[1906, 72], [0.0, 1.0]], \"ref_small_hist\": [[591, 28], [0.0, 1.0]], \"feature_type\": \"cat\", \"p_value\": 0.3188316404257767}, \"x4_Bangalore\": {\"current_small_hist\": [[1892, 86], [0.0, 1.0]], \"ref_small_hist\": [[598, 21], [0.0, 1.0]], \"feature_type\": \"cat\", \"p_value\": 0.2966824677888611}, \"x4_Chennai\": {\"current_small_hist\": [[1812, 166], [0.0, 1.0]], \"ref_small_hist\": [[560, 59], [0.0, 1.0]], \"feature_type\": \"cat\", \"p_value\": 0.37923449745622917}, \"x4_Coimbatore\": {\"current_small_hist\": [[1774, 204], [0.0, 1.0]], \"ref_small_hist\": [[562, 57], [0.0, 1.0]], \"feature_type\": \"cat\", \"p_value\": 0.4248537075107679}, \"x4_Delhi\": {\"current_small_hist\": [[1815, 163], [0.0, 1.0]], \"ref_small_hist\": [[574, 45], [0.0, 1.0]], \"feature_type\": \"cat\", \"p_value\": 0.4373814611880007}, \"x4_Hyderabad\": {\"current_small_hist\": [[1726, 252], [0.0, 1.0]], \"ref_small_hist\": [[525, 94], [0.0, 1.0]], \"feature_type\": \"cat\", \"p_value\": 0.11813510382156389}, \"x4_Jaipur\": {\"current_small_hist\": [[1797, 181], [0.0, 1.0]], \"ref_small_hist\": [[569, 50], [0.0, 1.0]], \"feature_type\": \"cat\", \"p_value\": 0.41306337779872226}, \"x4_Kochi\": {\"current_small_hist\": [[1756, 222], [0.0, 1.0]], \"ref_small_hist\": [[552, 67], [0.0, 1.0]], \"feature_type\": \"cat\", \"p_value\": 0.7826514995065625}, \"x4_Kolkata\": {\"current_small_hist\": [[1770, 208], [0.0, 1.0]], \"ref_small_hist\": [[548, 71], [0.0, 1.0]], \"feature_type\": \"cat\", \"p_value\": 0.5033397593107043}, \"x4_Mumbai\": {\"current_small_hist\": [[1777, 201], [0.0, 1.0]], \"ref_small_hist\": [[552, 67], [0.0, 1.0]], \"feature_type\": \"cat\", \"p_value\": 0.6365049334552433}, \"x4_Pune\": {\"current_small_hist\": [[1755, 223], [0.0, 1.0]], \"ref_small_hist\": [[559, 60], [0.0, 1.0]], \"feature_type\": \"cat\", \"p_value\": 0.2706171464806362}}}}, \"timestamp\": \"2022-03-11 17:01:43.897565\"}'"
            ]
          },
          "metadata": {},
          "execution_count": 32
        }
      ]
    },
    {
      "cell_type": "markdown",
      "metadata": {
        "id": "D3lnSRT4Q52t"
      },
      "source": [
        "## Generating Regression Performance Report\n",
        "\n",
        "This report is generated after the actual ground truth is obtained i.e. after the actual sales of the cars in production environment."
      ]
    },
    {
      "cell_type": "code",
      "metadata": {
        "id": "deJQyhXaWqFL"
      },
      "source": [
        "cars_df_prod_x_cols_df_final['Price'] = cars_df_prod['Price']"
      ],
      "execution_count": 37,
      "outputs": []
    },
    {
      "cell_type": "code",
      "metadata": {
        "id": "z75sJafhKwPg"
      },
      "source": [
        "from evidently.tabs import RegressionPerformanceTab"
      ],
      "execution_count": 38,
      "outputs": []
    },
    {
      "cell_type": "code",
      "metadata": {
        "id": "HNbqb8w8Q-Tb"
      },
      "source": [
        "dashboard = Dashboard(tabs=[RegressionPerformanceTab()])"
      ],
      "execution_count": 39,
      "outputs": []
    },
    {
      "cell_type": "code",
      "metadata": {
        "id": "3Im65GZGQb8r"
      },
      "source": [
        "dashboard.calculate(x_train_x_cols_df_final, \n",
        "                    cars_df_prod_x_cols_df_final, \n",
        "                    column_mapping=column_mapping)"
      ],
      "execution_count": 40,
      "outputs": []
    },
    {
      "cell_type": "code",
      "metadata": {
        "id": "MRXP-a7sRIil"
      },
      "source": [
        "dashboard.save(\"newreports/cars_dataPerormanceV1.html\")"
      ],
      "execution_count": 41,
      "outputs": []
    }
  ]
}