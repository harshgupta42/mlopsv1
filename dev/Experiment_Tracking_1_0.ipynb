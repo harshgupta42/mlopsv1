{
 "cells": [
  {
   "cell_type": "markdown",
   "metadata": {
    "id": "Qh-fqsypCjcu"
   },
   "source": [
    "## Installing required libraries\n",
    "\n",
    "- Library for categorical encoding\n",
    "- weight and biases library"
   ]
  },
  {
   "cell_type": "code",
   "execution_count": null,
   "metadata": {
    "colab": {
     "base_uri": "https://localhost:8080/"
    },
    "id": "0g-hJKpUNFnR",
    "outputId": "039f0ed5-5b42-4c5d-facf-616dfc8fb9fc"
   },
   "outputs": [
    {
     "name": "stdout",
     "output_type": "stream",
     "text": [
      "Collecting category_encoders\n",
      "  Downloading category_encoders-2.2.2-py2.py3-none-any.whl (80 kB)\n",
      "\u001b[?25l\r",
      "\u001b[K     |████                            | 10 kB 23.9 MB/s eta 0:00:01\r",
      "\u001b[K     |████████▏                       | 20 kB 28.4 MB/s eta 0:00:01\r",
      "\u001b[K     |████████████▏                   | 30 kB 26.1 MB/s eta 0:00:01\r",
      "\u001b[K     |████████████████▎               | 40 kB 18.7 MB/s eta 0:00:01\r",
      "\u001b[K     |████████████████████▎           | 51 kB 5.6 MB/s eta 0:00:01\r",
      "\u001b[K     |████████████████████████▍       | 61 kB 5.9 MB/s eta 0:00:01\r",
      "\u001b[K     |████████████████████████████▍   | 71 kB 5.5 MB/s eta 0:00:01\r",
      "\u001b[K     |████████████████████████████████| 80 kB 3.8 MB/s \n",
      "\u001b[?25hRequirement already satisfied: scipy>=1.0.0 in /usr/local/lib/python3.7/dist-packages (from category_encoders) (1.4.1)\n",
      "Requirement already satisfied: scikit-learn>=0.20.0 in /usr/local/lib/python3.7/dist-packages (from category_encoders) (0.22.2.post1)\n",
      "Requirement already satisfied: pandas>=0.21.1 in /usr/local/lib/python3.7/dist-packages (from category_encoders) (1.1.5)\n",
      "Requirement already satisfied: statsmodels>=0.9.0 in /usr/local/lib/python3.7/dist-packages (from category_encoders) (0.10.2)\n",
      "Requirement already satisfied: patsy>=0.5.1 in /usr/local/lib/python3.7/dist-packages (from category_encoders) (0.5.2)\n",
      "Requirement already satisfied: numpy>=1.14.0 in /usr/local/lib/python3.7/dist-packages (from category_encoders) (1.19.5)\n",
      "Requirement already satisfied: python-dateutil>=2.7.3 in /usr/local/lib/python3.7/dist-packages (from pandas>=0.21.1->category_encoders) (2.8.2)\n",
      "Requirement already satisfied: pytz>=2017.2 in /usr/local/lib/python3.7/dist-packages (from pandas>=0.21.1->category_encoders) (2018.9)\n",
      "Requirement already satisfied: six in /usr/local/lib/python3.7/dist-packages (from patsy>=0.5.1->category_encoders) (1.15.0)\n",
      "Requirement already satisfied: joblib>=0.11 in /usr/local/lib/python3.7/dist-packages (from scikit-learn>=0.20.0->category_encoders) (1.0.1)\n",
      "Installing collected packages: category-encoders\n",
      "Successfully installed category-encoders-2.2.2\n"
     ]
    }
   ],
   "source": [
    "!pip install category_encoders"
   ]
  },
  {
   "cell_type": "code",
   "execution_count": null,
   "metadata": {
    "colab": {
     "base_uri": "https://localhost:8080/"
    },
    "id": "LFKHk-Hn_r57",
    "outputId": "64d04531-dacf-47f5-d10e-e874ff436721"
   },
   "outputs": [
    {
     "name": "stdout",
     "output_type": "stream",
     "text": [
      "Collecting wandb\n",
      "  Downloading wandb-0.12.4-py2.py3-none-any.whl (1.7 MB)\n",
      "\u001b[K     |████████████████████████████████| 1.7 MB 5.4 MB/s \n",
      "\u001b[?25hCollecting subprocess32>=3.5.3\n",
      "  Downloading subprocess32-3.5.4.tar.gz (97 kB)\n",
      "\u001b[K     |████████████████████████████████| 97 kB 6.4 MB/s \n",
      "\u001b[?25hRequirement already satisfied: protobuf>=3.12.0 in /usr/local/lib/python3.7/dist-packages (from wandb) (3.17.3)\n",
      "Requirement already satisfied: python-dateutil>=2.6.1 in /usr/local/lib/python3.7/dist-packages (from wandb) (2.8.2)\n",
      "Requirement already satisfied: PyYAML in /usr/local/lib/python3.7/dist-packages (from wandb) (3.13)\n",
      "Requirement already satisfied: promise<3,>=2.0 in /usr/local/lib/python3.7/dist-packages (from wandb) (2.3)\n",
      "Collecting GitPython>=1.0.0\n",
      "  Downloading GitPython-3.1.24-py3-none-any.whl (180 kB)\n",
      "\u001b[K     |████████████████████████████████| 180 kB 45.7 MB/s \n",
      "\u001b[?25hRequirement already satisfied: psutil>=5.0.0 in /usr/local/lib/python3.7/dist-packages (from wandb) (5.4.8)\n",
      "Collecting pathtools\n",
      "  Downloading pathtools-0.1.2.tar.gz (11 kB)\n",
      "Collecting docker-pycreds>=0.4.0\n",
      "  Downloading docker_pycreds-0.4.0-py2.py3-none-any.whl (9.0 kB)\n",
      "Collecting configparser>=3.8.1\n",
      "  Downloading configparser-5.0.2-py3-none-any.whl (19 kB)\n",
      "Collecting sentry-sdk>=1.0.0\n",
      "  Downloading sentry_sdk-1.4.3-py2.py3-none-any.whl (139 kB)\n",
      "\u001b[K     |████████████████████████████████| 139 kB 50.4 MB/s \n",
      "\u001b[?25hCollecting shortuuid>=0.5.0\n",
      "  Downloading shortuuid-1.0.1-py3-none-any.whl (7.5 kB)\n",
      "Requirement already satisfied: six>=1.13.0 in /usr/local/lib/python3.7/dist-packages (from wandb) (1.15.0)\n",
      "Requirement already satisfied: requests<3,>=2.0.0 in /usr/local/lib/python3.7/dist-packages (from wandb) (2.23.0)\n",
      "Collecting yaspin>=1.0.0\n",
      "  Downloading yaspin-2.1.0-py3-none-any.whl (18 kB)\n",
      "Requirement already satisfied: Click!=8.0.0,>=7.0 in /usr/local/lib/python3.7/dist-packages (from wandb) (7.1.2)\n",
      "Requirement already satisfied: typing-extensions>=3.7.4.3 in /usr/local/lib/python3.7/dist-packages (from GitPython>=1.0.0->wandb) (3.7.4.3)\n",
      "Collecting gitdb<5,>=4.0.1\n",
      "  Downloading gitdb-4.0.7-py3-none-any.whl (63 kB)\n",
      "\u001b[K     |████████████████████████████████| 63 kB 1.6 MB/s \n",
      "\u001b[?25hCollecting smmap<5,>=3.0.1\n",
      "  Downloading smmap-4.0.0-py2.py3-none-any.whl (24 kB)\n",
      "Requirement already satisfied: urllib3!=1.25.0,!=1.25.1,<1.26,>=1.21.1 in /usr/local/lib/python3.7/dist-packages (from requests<3,>=2.0.0->wandb) (1.24.3)\n",
      "Requirement already satisfied: chardet<4,>=3.0.2 in /usr/local/lib/python3.7/dist-packages (from requests<3,>=2.0.0->wandb) (3.0.4)\n",
      "Requirement already satisfied: idna<3,>=2.5 in /usr/local/lib/python3.7/dist-packages (from requests<3,>=2.0.0->wandb) (2.10)\n",
      "Requirement already satisfied: certifi>=2017.4.17 in /usr/local/lib/python3.7/dist-packages (from requests<3,>=2.0.0->wandb) (2021.5.30)\n",
      "Requirement already satisfied: termcolor<2.0.0,>=1.1.0 in /usr/local/lib/python3.7/dist-packages (from yaspin>=1.0.0->wandb) (1.1.0)\n",
      "Building wheels for collected packages: subprocess32, pathtools\n",
      "  Building wheel for subprocess32 (setup.py) ... \u001b[?25l\u001b[?25hdone\n",
      "  Created wheel for subprocess32: filename=subprocess32-3.5.4-py3-none-any.whl size=6502 sha256=9810b8ec756451d47cfb5e42061d592af83931b3f0345f69542db0be33b78eb4\n",
      "  Stored in directory: /root/.cache/pip/wheels/50/ca/fa/8fca8d246e64f19488d07567547ddec8eb084e8c0d7a59226a\n",
      "  Building wheel for pathtools (setup.py) ... \u001b[?25l\u001b[?25hdone\n",
      "  Created wheel for pathtools: filename=pathtools-0.1.2-py3-none-any.whl size=8807 sha256=9953230b80677a0afb4949ac72d8a836c31713fd8909828114c7eeea3c0fd90b\n",
      "  Stored in directory: /root/.cache/pip/wheels/3e/31/09/fa59cef12cdcfecc627b3d24273699f390e71828921b2cbba2\n",
      "Successfully built subprocess32 pathtools\n",
      "Installing collected packages: smmap, gitdb, yaspin, subprocess32, shortuuid, sentry-sdk, pathtools, GitPython, docker-pycreds, configparser, wandb\n",
      "Successfully installed GitPython-3.1.24 configparser-5.0.2 docker-pycreds-0.4.0 gitdb-4.0.7 pathtools-0.1.2 sentry-sdk-1.4.3 shortuuid-1.0.1 smmap-4.0.0 subprocess32-3.5.4 wandb-0.12.4 yaspin-2.1.0\n"
     ]
    }
   ],
   "source": [
    "!pip install wandb"
   ]
  },
  {
   "cell_type": "markdown",
   "metadata": {
    "id": "zDxk5SHNBwqC"
   },
   "source": [
    "## Loading the dataset: Used Car Price Prediction"
   ]
  },
  {
   "cell_type": "code",
   "execution_count": null,
   "metadata": {
    "colab": {
     "base_uri": "https://localhost:8080/"
    },
    "id": "c9gF4R9gFds_",
    "outputId": "2b405079-9281-40d4-8d6c-441d56b090ba"
   },
   "outputs": [
    {
     "name": "stderr",
     "output_type": "stream",
     "text": [
      "/usr/local/lib/python3.7/dist-packages/statsmodels/tools/_testing.py:19: FutureWarning: pandas.util.testing is deprecated. Use the functions in the public API at pandas.testing instead.\n",
      "  import pandas.util.testing as tm\n"
     ]
    }
   ],
   "source": [
    "import pandas as pd\n",
    "import numpy as np\n",
    "from category_encoders import OneHotEncoder, TargetEncoder\n",
    "from sklearn.linear_model import LinearRegression\n",
    "from sklearn.tree import DecisionTreeRegressor\n",
    "from sklearn.ensemble import RandomForestRegressor, GradientBoostingRegressor\n",
    "from sklearn.model_selection import train_test_split, GridSearchCV\n",
    "from sklearn.metrics import r2_score, mean_squared_error\n",
    "import xgboost as xgb\n",
    "import wandb\n",
    "import os"
   ]
  },
  {
   "cell_type": "code",
   "execution_count": null,
   "metadata": {
    "id": "E2eCp6WPFjCQ"
   },
   "outputs": [],
   "source": [
    "cars_df = pd.read_csv( \"https://drive.google.com/uc?export=download&id=1V_VBbyjGj6vvD0A90S5Lk0DG90djz28B\" )"
   ]
  },
  {
   "cell_type": "code",
   "execution_count": null,
   "metadata": {
    "colab": {
     "base_uri": "https://localhost:8080/",
     "height": 411
    },
    "id": "9w_Ywj6SFwrc",
    "outputId": "ae870839-685f-4ade-9d47-a0e4cb806121"
   },
   "outputs": [
    {
     "data": {
      "text/html": [
       "<div>\n",
       "<style scoped>\n",
       "    .dataframe tbody tr th:only-of-type {\n",
       "        vertical-align: middle;\n",
       "    }\n",
       "\n",
       "    .dataframe tbody tr th {\n",
       "        vertical-align: top;\n",
       "    }\n",
       "\n",
       "    .dataframe thead th {\n",
       "        text-align: right;\n",
       "    }\n",
       "</style>\n",
       "<table border=\"1\" class=\"dataframe\">\n",
       "  <thead>\n",
       "    <tr style=\"text-align: right;\">\n",
       "      <th></th>\n",
       "      <th>Name</th>\n",
       "      <th>Location</th>\n",
       "      <th>Year</th>\n",
       "      <th>Kilometers_Driven</th>\n",
       "      <th>Fuel_Type</th>\n",
       "      <th>Transmission</th>\n",
       "      <th>Owner_Type</th>\n",
       "      <th>Mileage</th>\n",
       "      <th>Engine</th>\n",
       "      <th>Power</th>\n",
       "      <th>Seats</th>\n",
       "      <th>New_Price</th>\n",
       "      <th>Price</th>\n",
       "      <th>mileage_new</th>\n",
       "      <th>engine_new</th>\n",
       "      <th>power_new</th>\n",
       "      <th>age</th>\n",
       "      <th>make</th>\n",
       "      <th>model</th>\n",
       "      <th>KM_Driven</th>\n",
       "    </tr>\n",
       "  </thead>\n",
       "  <tbody>\n",
       "    <tr>\n",
       "      <th>0</th>\n",
       "      <td>Honda Jazz V</td>\n",
       "      <td>Chennai</td>\n",
       "      <td>2011</td>\n",
       "      <td>46000</td>\n",
       "      <td>Petrol</td>\n",
       "      <td>Manual</td>\n",
       "      <td>First</td>\n",
       "      <td>18.2 kmpl</td>\n",
       "      <td>1199 CC</td>\n",
       "      <td>88.7 bhp</td>\n",
       "      <td>5.0</td>\n",
       "      <td>8.61 Lakh</td>\n",
       "      <td>4.50</td>\n",
       "      <td>18.20</td>\n",
       "      <td>1199</td>\n",
       "      <td>88.70</td>\n",
       "      <td>9</td>\n",
       "      <td>honda</td>\n",
       "      <td>jazz</td>\n",
       "      <td>46</td>\n",
       "    </tr>\n",
       "    <tr>\n",
       "      <th>1</th>\n",
       "      <td>Maruti Ertiga VDI</td>\n",
       "      <td>Chennai</td>\n",
       "      <td>2012</td>\n",
       "      <td>87000</td>\n",
       "      <td>Diesel</td>\n",
       "      <td>Manual</td>\n",
       "      <td>First</td>\n",
       "      <td>20.77 kmpl</td>\n",
       "      <td>1248 CC</td>\n",
       "      <td>88.76 bhp</td>\n",
       "      <td>7.0</td>\n",
       "      <td>NaN</td>\n",
       "      <td>6.00</td>\n",
       "      <td>20.77</td>\n",
       "      <td>1248</td>\n",
       "      <td>88.76</td>\n",
       "      <td>8</td>\n",
       "      <td>maruti</td>\n",
       "      <td>ertiga</td>\n",
       "      <td>87</td>\n",
       "    </tr>\n",
       "    <tr>\n",
       "      <th>2</th>\n",
       "      <td>Nissan Micra Diesel XV</td>\n",
       "      <td>Jaipur</td>\n",
       "      <td>2013</td>\n",
       "      <td>86999</td>\n",
       "      <td>Diesel</td>\n",
       "      <td>Manual</td>\n",
       "      <td>First</td>\n",
       "      <td>23.08 kmpl</td>\n",
       "      <td>1461 CC</td>\n",
       "      <td>63.1 bhp</td>\n",
       "      <td>5.0</td>\n",
       "      <td>NaN</td>\n",
       "      <td>3.50</td>\n",
       "      <td>23.08</td>\n",
       "      <td>1461</td>\n",
       "      <td>63.10</td>\n",
       "      <td>7</td>\n",
       "      <td>nissan</td>\n",
       "      <td>micra</td>\n",
       "      <td>86</td>\n",
       "    </tr>\n",
       "    <tr>\n",
       "      <th>3</th>\n",
       "      <td>Tata Indica Vista Quadrajet LS</td>\n",
       "      <td>Chennai</td>\n",
       "      <td>2012</td>\n",
       "      <td>65932</td>\n",
       "      <td>Diesel</td>\n",
       "      <td>Manual</td>\n",
       "      <td>Second</td>\n",
       "      <td>22.3 kmpl</td>\n",
       "      <td>1248 CC</td>\n",
       "      <td>74 bhp</td>\n",
       "      <td>5.0</td>\n",
       "      <td>NaN</td>\n",
       "      <td>1.95</td>\n",
       "      <td>22.30</td>\n",
       "      <td>1248</td>\n",
       "      <td>74.00</td>\n",
       "      <td>8</td>\n",
       "      <td>tata</td>\n",
       "      <td>indica</td>\n",
       "      <td>65</td>\n",
       "    </tr>\n",
       "    <tr>\n",
       "      <th>4</th>\n",
       "      <td>Maruti Swift VDI BSIV</td>\n",
       "      <td>Jaipur</td>\n",
       "      <td>2015</td>\n",
       "      <td>64424</td>\n",
       "      <td>Diesel</td>\n",
       "      <td>Manual</td>\n",
       "      <td>First</td>\n",
       "      <td>25.2 kmpl</td>\n",
       "      <td>1248 CC</td>\n",
       "      <td>74 bhp</td>\n",
       "      <td>5.0</td>\n",
       "      <td>NaN</td>\n",
       "      <td>5.60</td>\n",
       "      <td>25.20</td>\n",
       "      <td>1248</td>\n",
       "      <td>74.00</td>\n",
       "      <td>5</td>\n",
       "      <td>maruti</td>\n",
       "      <td>swift</td>\n",
       "      <td>64</td>\n",
       "    </tr>\n",
       "  </tbody>\n",
       "</table>\n",
       "</div>"
      ],
      "text/plain": [
       "                             Name Location  Year  ...    make   model KM_Driven\n",
       "0                    Honda Jazz V  Chennai  2011  ...   honda    jazz        46\n",
       "1               Maruti Ertiga VDI  Chennai  2012  ...  maruti  ertiga        87\n",
       "2          Nissan Micra Diesel XV   Jaipur  2013  ...  nissan   micra        86\n",
       "3  Tata Indica Vista Quadrajet LS  Chennai  2012  ...    tata  indica        65\n",
       "4           Maruti Swift VDI BSIV   Jaipur  2015  ...  maruti   swift        64\n",
       "\n",
       "[5 rows x 20 columns]"
      ]
     },
     "execution_count": 5,
     "metadata": {},
     "output_type": "execute_result"
    }
   ],
   "source": [
    "cars_df.head(5)"
   ]
  },
  {
   "cell_type": "code",
   "execution_count": null,
   "metadata": {
    "id": "sehIIbSBFnD1"
   },
   "outputs": [],
   "source": [
    "x_columns = ['KM_Driven', 'Fuel_Type', 'age',\n",
    "              'Transmission', 'Owner_Type', 'Seats',\n",
    "              'make', 'mileage_new', 'engine_new', 'model',\n",
    "              'power_new', 'Location']\n",
    "## model of the car is not included in the model"
   ]
  },
  {
   "cell_type": "code",
   "execution_count": null,
   "metadata": {
    "colab": {
     "base_uri": "https://localhost:8080/"
    },
    "id": "-JteBYVPShF3",
    "outputId": "54e6a82f-3577-4f34-bd7b-59adae618dec"
   },
   "outputs": [
    {
     "data": {
      "text/plain": [
       "(3092, 20)"
      ]
     },
     "execution_count": 7,
     "metadata": {},
     "output_type": "execute_result"
    }
   ],
   "source": [
    "cars_df.shape"
   ]
  },
  {
   "cell_type": "code",
   "execution_count": null,
   "metadata": {
    "id": "pVC9f4QISa2h"
   },
   "outputs": [],
   "source": [
    "cars_df = cars_df[x_columns + ['Price']].dropna()"
   ]
  },
  {
   "cell_type": "code",
   "execution_count": null,
   "metadata": {
    "colab": {
     "base_uri": "https://localhost:8080/"
    },
    "id": "l_bULZE0SjBf",
    "outputId": "ab6d732b-4a38-4a67-985a-8d318dbe0174"
   },
   "outputs": [
    {
     "data": {
      "text/plain": [
       "(3091, 13)"
      ]
     },
     "execution_count": 9,
     "metadata": {},
     "output_type": "execute_result"
    }
   ],
   "source": [
    "cars_df.shape"
   ]
  },
  {
   "cell_type": "markdown",
   "metadata": {
    "id": "8IwqnNNkB4ON"
   },
   "source": [
    "## Identifying numerical and categorical features"
   ]
  },
  {
   "cell_type": "code",
   "execution_count": null,
   "metadata": {
    "id": "PuezADwYFsWd"
   },
   "outputs": [],
   "source": [
    "cat_features = ['Fuel_Type',\n",
    "                'Transmission', 'Owner_Type', 'model',\n",
    "                'make', 'Location']"
   ]
  },
  {
   "cell_type": "code",
   "execution_count": null,
   "metadata": {
    "id": "IyzKKTogFs_l"
   },
   "outputs": [],
   "source": [
    "num_features = list(set(x_columns) - set(cat_features))"
   ]
  },
  {
   "cell_type": "markdown",
   "metadata": {
    "id": "3cw3DZI0B--Y"
   },
   "source": [
    "## Utility method for preparing the data\n",
    "\n",
    "- Splitting the dataset\n",
    "- Encoding Catgorical Variables"
   ]
  },
  {
   "cell_type": "code",
   "execution_count": null,
   "metadata": {
    "id": "EVBjH9HuFu29"
   },
   "outputs": [],
   "source": [
    "def prepare_data(X,\n",
    "                 y,\n",
    "#                 num_scaler = None,\n",
    "#                 num_imputer = None,\n",
    "#                 cat_imputer = None,\n",
    "                 cat_encoder,\n",
    "                 num_features,\n",
    "                 cat_features,\n",
    "                 train_size = 0.8,\n",
    "                 seed = 100):\n",
    "  \n",
    "  # Split the dataset into train and test split\n",
    "  x_train, x_test, y_train, y_test = train_test_split(X,\n",
    "                                                      y,\n",
    "                                                      train_size = train_size,\n",
    "                                                      random_state = seed)\n",
    "  \n",
    "  \n",
    "  # encoder the categorical features\n",
    "  cat_encoder.fit(X=x_train, y=y_train)\n",
    "  x_train_encoded = cat_encoder.transform(x_train)\n",
    "  x_test_encoded = cat_encoder.transform(x_test)\n",
    "\n",
    "  return x_train_encoded, x_test_encoded, y_train, y_test\n",
    "  "
   ]
  },
  {
   "cell_type": "code",
   "execution_count": null,
   "metadata": {
    "id": "hkyBCRixPqJF"
   },
   "outputs": [],
   "source": [
    "#For removing an environment variable wrongly set by os.environ()\n",
    "#print(os.environ[\"WANDB_MODE\"])\n",
    "#os.environ.pop(\"WANDB_MODE\")"
   ]
  },
  {
   "cell_type": "markdown",
   "metadata": {
    "id": "upOACsr6CJqv"
   },
   "source": [
    "## Initilializing Weights and Biases"
   ]
  },
  {
   "cell_type": "code",
   "execution_count": null,
   "metadata": {
    "id": "YG1EhTbw7u0O"
   },
   "outputs": [],
   "source": [
    "os.environ[\"WANDB_API_KEY\"] = \"8985894d5778b95c7acb681fd408dffe742c67c3\""
   ]
  },
  {
   "cell_type": "code",
   "execution_count": null,
   "metadata": {
    "id": "WbPAZBJNQcn8"
   },
   "outputs": [],
   "source": [
    "#!wandb online"
   ]
  },
  {
   "cell_type": "code",
   "execution_count": null,
   "metadata": {
    "id": "U26ebSZ8O5EX"
   },
   "outputs": [],
   "source": [
    "def run_model_experiment(model,\n",
    "                         x_train,\n",
    "                         y_train,\n",
    "                         x_test,\n",
    "                         y_test,\n",
    "                         name,\n",
    "                         config = None,\n",
    "                         tags = None):\n",
    "  \n",
    "  model.fit(x_train, y_train)\n",
    "\n",
    "  wandb.init(project='usedcar', config=config, tags = tags)\n",
    "  wandb.run.name = name\n",
    "  rmse = np.sqrt(mean_squared_error(y_test, model.predict(x_test)))\n",
    "  r2 = model.score(x_test, y_test)\n",
    "\n",
    "  wandb.log( {\"rmse\" : rmse, \n",
    "              \"r2\": r2} )\n",
    "  \n",
    "  wandb.sklearn.plot_regressor(model, \n",
    "                               x_train, \n",
    "                               x_test, \n",
    "                               y_train, \n",
    "                               y_test,  \n",
    "                               model_name=name)\n",
    "  \n",
    "  wandb.Artifact(name, \n",
    "                 type = 'model',\n",
    "                 description = config)\n",
    "\n",
    "  wandb.save()\n",
    "  wandb.finish()\n",
    "\n",
    "  return model"
   ]
  },
  {
   "cell_type": "markdown",
   "metadata": {
    "id": "ECHNUVs9jPLD"
   },
   "source": [
    "## Baseline Model: Linear Regression"
   ]
  },
  {
   "cell_type": "code",
   "execution_count": null,
   "metadata": {
    "colab": {
     "base_uri": "https://localhost:8080/",
     "height": 532,
     "referenced_widgets": [
      "d1f9a4bc350c426ab3bd9019feb1dd5d"
     ]
    },
    "id": "jOIieswFjRl4",
    "outputId": "fb499bc1-8358-4d57-b7f3-2d0469c1b730"
   },
   "outputs": [
    {
     "name": "stderr",
     "output_type": "stream",
     "text": [
      "/usr/local/lib/python3.7/dist-packages/category_encoders/utils.py:21: FutureWarning: is_categorical is deprecated and will be removed in a future version.  Use is_categorical_dtype instead\n",
      "  elif pd.api.types.is_categorical(cols):\n",
      "\u001b[34m\u001b[1mwandb\u001b[0m: Currently logged in as: \u001b[33mmanaranjan\u001b[0m (use `wandb login --relogin` to force relogin)\n"
     ]
    },
    {
     "data": {
      "text/html": [
       "\n",
       "                    Syncing run <strong><a href=\"https://wandb.ai/manaranjan/usedcar/runs/2nsigbg8\" target=\"_blank\">feasible-disco-1</a></strong> to <a href=\"https://wandb.ai/manaranjan/usedcar\" target=\"_blank\">Weights & Biases</a> (<a href=\"https://docs.wandb.com/integrations/jupyter.html\" target=\"_blank\">docs</a>).<br/>\n",
       "\n",
       "                "
      ],
      "text/plain": [
       "<IPython.core.display.HTML object>"
      ]
     },
     "metadata": {},
     "output_type": "display_data"
    },
    {
     "name": "stderr",
     "output_type": "stream",
     "text": [
      "\u001b[34m\u001b[1mwandb\u001b[0m: \n",
      "\u001b[34m\u001b[1mwandb\u001b[0m: Plotting DecisionTreeWithOHE.\n",
      "\u001b[34m\u001b[1mwandb\u001b[0m: Logged summary metrics.\n",
      "\u001b[34m\u001b[1mwandb\u001b[0m: Logged learning curve.\n",
      "/usr/local/lib/python3.7/dist-packages/pandas/core/series.py:726: RuntimeWarning: invalid value encountered in sqrt\n",
      "  result = getattr(ufunc, method)(*inputs, **kwargs)\n",
      "\u001b[34m\u001b[1mwandb\u001b[0m: \u001b[33mWARNING\u001b[0m wandb uses only the first 10000 datapoints to create the plots.\n",
      "\u001b[34m\u001b[1mwandb\u001b[0m: Logged outlier candidates.\n",
      "\u001b[34m\u001b[1mwandb\u001b[0m: \u001b[33mWARNING\u001b[0m wandb uses only the first 10000 datapoints to create the plots.\n",
      "\u001b[34m\u001b[1mwandb\u001b[0m: \u001b[33mWARNING\u001b[0m wandb uses only the first 10000 datapoints to create the plots.\n",
      "\u001b[34m\u001b[1mwandb\u001b[0m: Logged residuals.\n",
      "\u001b[34m\u001b[1mwandb\u001b[0m: \u001b[33mWARNING\u001b[0m Calling run.save without any arguments is deprecated.Changes to attributes are automatically persisted.\n"
     ]
    },
    {
     "data": {
      "text/html": [
       "<br/>Waiting for W&B process to finish, PID 164... <strong style=\"color:green\">(success).</strong>"
      ],
      "text/plain": [
       "<IPython.core.display.HTML object>"
      ]
     },
     "metadata": {},
     "output_type": "display_data"
    },
    {
     "data": {
      "application/vnd.jupyter.widget-view+json": {
       "model_id": "d1f9a4bc350c426ab3bd9019feb1dd5d",
       "version_major": 2,
       "version_minor": 0
      },
      "text/plain": [
       "VBox(children=(Label(value=' 0.13MB of 0.13MB uploaded (0.00MB deduped)\\r'), FloatProgress(value=1.0, max=1.0)…"
      ]
     },
     "metadata": {},
     "output_type": "display_data"
    },
    {
     "data": {
      "text/html": [
       "<style>\n",
       "    table.wandb td:nth-child(1) { padding: 0 10px; text-align: right }\n",
       "    .wandb-row { display: flex; flex-direction: row; flex-wrap: wrap; width: 100% }\n",
       "    .wandb-col { display: flex; flex-direction: column; flex-basis: 100%; flex: 1; padding: 10px; }\n",
       "    </style>\n",
       "<div class=\"wandb-row\"><div class=\"wandb-col\">\n",
       "<h3>Run history:</h3><br/><table class=\"wandb\"><tr><td>r2</td><td>▁</td></tr><tr><td>rmse</td><td>▁</td></tr></table><br/></div><div class=\"wandb-col\">\n",
       "<h3>Run summary:</h3><br/><table class=\"wandb\"><tr><td>r2</td><td>0.79775</td></tr><tr><td>rmse</td><td>0.94576</td></tr></table>\n",
       "</div></div>\n",
       "Synced 5 W&B file(s), 4 media file(s), 4 artifact file(s) and 0 other file(s)\n",
       "<br/>Synced <strong style=\"color:#cdcd00\">feasible-disco-1</strong>: <a href=\"https://wandb.ai/manaranjan/usedcar/runs/2nsigbg8\" target=\"_blank\">https://wandb.ai/manaranjan/usedcar/runs/2nsigbg8</a><br/>\n",
       "Find logs at: <code>./wandb/run-20211008_065259-2nsigbg8/logs</code><br/>\n"
      ],
      "text/plain": [
       "<IPython.core.display.HTML object>"
      ]
     },
     "metadata": {},
     "output_type": "display_data"
    }
   ],
   "source": [
    "ohe_encoder = OneHotEncoder(cols = cat_features,\n",
    "                            use_cat_names = True)\n",
    "\n",
    "x_train, x_test, y_train, y_test = prepare_data(cars_df[x_columns],\n",
    "                                                cars_df.Price,\n",
    "                                                cat_encoder = ohe_encoder,\n",
    "                                                num_features = num_features,\n",
    "                                                cat_features = cat_features)\n",
    "\n",
    "dtree_model = DecisionTreeRegressor(max_depth = 10)  \n",
    "\n",
    "dtree_model = run_model_experiment(dtree_model,\n",
    "                                   x_train,\n",
    "                                   y_train,\n",
    "                                   x_test,\n",
    "                                   y_test,\n",
    "                                   name = 'DecisionTreeWithOHE',\n",
    "                                   tags = ['Decision Tree', 'baseline', 'OheEncoder'])"
   ]
  },
  {
   "cell_type": "markdown",
   "metadata": {
    "id": "Fp7x3lfSDznX"
   },
   "source": [
    "## Running Multiple Experiments\n",
    "\n",
    "### Random Forest"
   ]
  },
  {
   "cell_type": "code",
   "execution_count": null,
   "metadata": {
    "id": "lFYNL3G2DycE"
   },
   "outputs": [],
   "source": [
    "ohe_encoder = OneHotEncoder(cols = cat_features, \n",
    "                            use_cat_names = True)\n",
    "\n",
    "x_train, x_test, y_train, y_test = prepare_data(cars_df[x_columns],\n",
    "                                                cars_df.Price,\n",
    "                                                cat_encoder = ohe_encoder,\n",
    "                                                num_features = num_features,\n",
    "                                                cat_features = cat_features)"
   ]
  },
  {
   "cell_type": "code",
   "execution_count": null,
   "metadata": {
    "id": "-vvdZ-A0Bk4r"
   },
   "outputs": [],
   "source": [
    "params = { \"n_estimators\": 100,\n",
    "           \"max_depth\": 10,\n",
    "           \"max_features\": .2,\n",
    "           \"max_samples\": 0.4 }"
   ]
  },
  {
   "cell_type": "code",
   "execution_count": null,
   "metadata": {
    "id": "02LezOSADhVJ"
   },
   "outputs": [],
   "source": [
    "rf_model = RandomForestRegressor(**params)"
   ]
  },
  {
   "cell_type": "code",
   "execution_count": null,
   "metadata": {
    "colab": {
     "base_uri": "https://localhost:8080/"
    },
    "id": "EcmAlCu_QuB4",
    "outputId": "5b3b8aba-c8da-4b84-a8c9-dd4c16071a40"
   },
   "outputs": [
    {
     "data": {
      "text/plain": [
       "RandomForestRegressor(bootstrap=True, ccp_alpha=0.0, criterion='mse',\n",
       "                      max_depth=10, max_features=0.2, max_leaf_nodes=None,\n",
       "                      max_samples=0.4, min_impurity_decrease=0.0,\n",
       "                      min_impurity_split=None, min_samples_leaf=1,\n",
       "                      min_samples_split=2, min_weight_fraction_leaf=0.0,\n",
       "                      n_estimators=100, n_jobs=None, oob_score=False,\n",
       "                      random_state=None, verbose=0, warm_start=False)"
      ]
     },
     "execution_count": 21,
     "metadata": {},
     "output_type": "execute_result"
    }
   ],
   "source": [
    "rf_model"
   ]
  },
  {
   "cell_type": "code",
   "execution_count": null,
   "metadata": {
    "colab": {
     "base_uri": "https://localhost:8080/",
     "height": 461,
     "referenced_widgets": [
      "250748c9d4f74e84bab4c5fb23e35ff2"
     ]
    },
    "id": "w43P4XLxDlbp",
    "outputId": "3fc415e5-4452-4798-d8c0-fb25eaa3bf94"
   },
   "outputs": [
    {
     "data": {
      "text/html": [
       "\n",
       "                    Syncing run <strong><a href=\"https://wandb.ai/manaranjan/usedcar/runs/32okikn0\" target=\"_blank\">prime-monkey-2</a></strong> to <a href=\"https://wandb.ai/manaranjan/usedcar\" target=\"_blank\">Weights & Biases</a> (<a href=\"https://docs.wandb.com/integrations/jupyter.html\" target=\"_blank\">docs</a>).<br/>\n",
       "\n",
       "                "
      ],
      "text/plain": [
       "<IPython.core.display.HTML object>"
      ]
     },
     "metadata": {},
     "output_type": "display_data"
    },
    {
     "name": "stderr",
     "output_type": "stream",
     "text": [
      "\u001b[34m\u001b[1mwandb\u001b[0m: \n",
      "\u001b[34m\u001b[1mwandb\u001b[0m: Plotting RFwithOHE.\n",
      "\u001b[34m\u001b[1mwandb\u001b[0m: Logged summary metrics.\n",
      "\u001b[34m\u001b[1mwandb\u001b[0m: Logged learning curve.\n",
      "/usr/local/lib/python3.7/dist-packages/pandas/core/series.py:726: RuntimeWarning: invalid value encountered in sqrt\n",
      "  result = getattr(ufunc, method)(*inputs, **kwargs)\n",
      "\u001b[34m\u001b[1mwandb\u001b[0m: \u001b[33mWARNING\u001b[0m wandb uses only the first 10000 datapoints to create the plots.\n",
      "\u001b[34m\u001b[1mwandb\u001b[0m: Logged outlier candidates.\n",
      "\u001b[34m\u001b[1mwandb\u001b[0m: \u001b[33mWARNING\u001b[0m wandb uses only the first 10000 datapoints to create the plots.\n",
      "\u001b[34m\u001b[1mwandb\u001b[0m: \u001b[33mWARNING\u001b[0m wandb uses only the first 10000 datapoints to create the plots.\n",
      "\u001b[34m\u001b[1mwandb\u001b[0m: Logged residuals.\n",
      "\u001b[34m\u001b[1mwandb\u001b[0m: \u001b[33mWARNING\u001b[0m Calling run.save without any arguments is deprecated.Changes to attributes are automatically persisted.\n"
     ]
    },
    {
     "data": {
      "text/html": [
       "<br/>Waiting for W&B process to finish, PID 238... <strong style=\"color:green\">(success).</strong>"
      ],
      "text/plain": [
       "<IPython.core.display.HTML object>"
      ]
     },
     "metadata": {},
     "output_type": "display_data"
    },
    {
     "data": {
      "application/vnd.jupyter.widget-view+json": {
       "model_id": "250748c9d4f74e84bab4c5fb23e35ff2",
       "version_major": 2,
       "version_minor": 0
      },
      "text/plain": [
       "VBox(children=(Label(value=' 0.14MB of 0.15MB uploaded (0.00MB deduped)\\r'), FloatProgress(value=0.88681571900…"
      ]
     },
     "metadata": {},
     "output_type": "display_data"
    },
    {
     "data": {
      "text/html": [
       "<style>\n",
       "    table.wandb td:nth-child(1) { padding: 0 10px; text-align: right }\n",
       "    .wandb-row { display: flex; flex-direction: row; flex-wrap: wrap; width: 100% }\n",
       "    .wandb-col { display: flex; flex-direction: column; flex-basis: 100%; flex: 1; padding: 10px; }\n",
       "    </style>\n",
       "<div class=\"wandb-row\"><div class=\"wandb-col\">\n",
       "<h3>Run history:</h3><br/><table class=\"wandb\"><tr><td>r2</td><td>▁</td></tr><tr><td>rmse</td><td>▁</td></tr></table><br/></div><div class=\"wandb-col\">\n",
       "<h3>Run summary:</h3><br/><table class=\"wandb\"><tr><td>r2</td><td>0.83415</td></tr><tr><td>rmse</td><td>0.85642</td></tr></table>\n",
       "</div></div>\n",
       "Synced 5 W&B file(s), 4 media file(s), 4 artifact file(s) and 0 other file(s)\n",
       "<br/>Synced <strong style=\"color:#cdcd00\">prime-monkey-2</strong>: <a href=\"https://wandb.ai/manaranjan/usedcar/runs/32okikn0\" target=\"_blank\">https://wandb.ai/manaranjan/usedcar/runs/32okikn0</a><br/>\n",
       "Find logs at: <code>./wandb/run-20211008_075236-32okikn0/logs</code><br/>\n"
      ],
      "text/plain": [
       "<IPython.core.display.HTML object>"
      ]
     },
     "metadata": {},
     "output_type": "display_data"
    }
   ],
   "source": [
    "rf_model = run_model_experiment(rf_model,\n",
    "                                x_train,\n",
    "                                y_train,\n",
    "                                x_test,\n",
    "                                y_test,\n",
    "                                config = params,\n",
    "                                name = 'RFwithOHE',\n",
    "                                tags = ['RF', 'OheEncoding'])"
   ]
  },
  {
   "cell_type": "markdown",
   "metadata": {
    "id": "F9HYnoiUVPKK"
   },
   "source": [
    "### RandomForest with Target Encoding"
   ]
  },
  {
   "cell_type": "code",
   "execution_count": null,
   "metadata": {
    "colab": {
     "base_uri": "https://localhost:8080/",
     "height": 427,
     "referenced_widgets": [
      "6af06279712743c0b9aca12997b082d8"
     ]
    },
    "id": "ADQMerN8Lcp9",
    "outputId": "b442477f-f967-475a-f8b3-1e8f76c10c60"
   },
   "outputs": [
    {
     "data": {
      "text/html": [
       "\n",
       "                    Syncing run <strong><a href=\"https://wandb.ai/manaranjan/usedcar/runs/17j1rijp\" target=\"_blank\">azure-grass-3</a></strong> to <a href=\"https://wandb.ai/manaranjan/usedcar\" target=\"_blank\">Weights & Biases</a> (<a href=\"https://docs.wandb.com/integrations/jupyter.html\" target=\"_blank\">docs</a>).<br/>\n",
       "\n",
       "                "
      ],
      "text/plain": [
       "<IPython.core.display.HTML object>"
      ]
     },
     "metadata": {},
     "output_type": "display_data"
    },
    {
     "name": "stderr",
     "output_type": "stream",
     "text": [
      "\u001b[34m\u001b[1mwandb\u001b[0m: \n",
      "\u001b[34m\u001b[1mwandb\u001b[0m: Plotting RFwithTargetEncoding.\n",
      "\u001b[34m\u001b[1mwandb\u001b[0m: Logged summary metrics.\n",
      "\u001b[34m\u001b[1mwandb\u001b[0m: Logged learning curve.\n",
      "\u001b[34m\u001b[1mwandb\u001b[0m: \u001b[33mWARNING\u001b[0m wandb uses only the first 10000 datapoints to create the plots.\n",
      "\u001b[34m\u001b[1mwandb\u001b[0m: Logged outlier candidates.\n",
      "\u001b[34m\u001b[1mwandb\u001b[0m: \u001b[33mWARNING\u001b[0m wandb uses only the first 10000 datapoints to create the plots.\n",
      "\u001b[34m\u001b[1mwandb\u001b[0m: \u001b[33mWARNING\u001b[0m wandb uses only the first 10000 datapoints to create the plots.\n",
      "\u001b[34m\u001b[1mwandb\u001b[0m: Logged residuals.\n",
      "\u001b[34m\u001b[1mwandb\u001b[0m: \u001b[33mWARNING\u001b[0m Calling run.save without any arguments is deprecated.Changes to attributes are automatically persisted.\n"
     ]
    },
    {
     "data": {
      "text/html": [
       "<br/>Waiting for W&B process to finish, PID 288... <strong style=\"color:green\">(success).</strong>"
      ],
      "text/plain": [
       "<IPython.core.display.HTML object>"
      ]
     },
     "metadata": {},
     "output_type": "display_data"
    },
    {
     "data": {
      "application/vnd.jupyter.widget-view+json": {
       "model_id": "6af06279712743c0b9aca12997b082d8",
       "version_major": 2,
       "version_minor": 0
      },
      "text/plain": [
       "VBox(children=(Label(value=' 0.14MB of 0.14MB uploaded (0.00MB deduped)\\r'), FloatProgress(value=1.0, max=1.0)…"
      ]
     },
     "metadata": {},
     "output_type": "display_data"
    },
    {
     "data": {
      "text/html": [
       "<style>\n",
       "    table.wandb td:nth-child(1) { padding: 0 10px; text-align: right }\n",
       "    .wandb-row { display: flex; flex-direction: row; flex-wrap: wrap; width: 100% }\n",
       "    .wandb-col { display: flex; flex-direction: column; flex-basis: 100%; flex: 1; padding: 10px; }\n",
       "    </style>\n",
       "<div class=\"wandb-row\"><div class=\"wandb-col\">\n",
       "<h3>Run history:</h3><br/><table class=\"wandb\"><tr><td>r2</td><td>▁</td></tr><tr><td>rmse</td><td>▁</td></tr></table><br/></div><div class=\"wandb-col\">\n",
       "<h3>Run summary:</h3><br/><table class=\"wandb\"><tr><td>r2</td><td>0.86741</td></tr><tr><td>rmse</td><td>0.76576</td></tr></table>\n",
       "</div></div>\n",
       "Synced 5 W&B file(s), 4 media file(s), 4 artifact file(s) and 0 other file(s)\n",
       "<br/>Synced <strong style=\"color:#cdcd00\">azure-grass-3</strong>: <a href=\"https://wandb.ai/manaranjan/usedcar/runs/17j1rijp\" target=\"_blank\">https://wandb.ai/manaranjan/usedcar/runs/17j1rijp</a><br/>\n",
       "Find logs at: <code>./wandb/run-20211008_075252-17j1rijp/logs</code><br/>\n"
      ],
      "text/plain": [
       "<IPython.core.display.HTML object>"
      ]
     },
     "metadata": {},
     "output_type": "display_data"
    }
   ],
   "source": [
    "target_encoder = TargetEncoder(cols = cat_features)\n",
    "\n",
    "x_train, x_test, y_train, y_test = prepare_data(cars_df[x_columns],\n",
    "                                                cars_df.Price,\n",
    "                                                cat_encoder = target_encoder,\n",
    "                                                num_features = num_features,\n",
    "                                                cat_features = cat_features)\n",
    "\n",
    "params = { \"n_estimators\": 100,\n",
    "           \"max_depth\": 10,\n",
    "           \"max_features\": .2,\n",
    "           \"max_samples\": 0.4 }\n",
    "\n",
    "rf_model = RandomForestRegressor(**params)  \n",
    "\n",
    "rf_model = run_model_experiment(rf_model,\n",
    "                                x_train,\n",
    "                                y_train,\n",
    "                                x_test,\n",
    "                                y_test,\n",
    "                                config = params,\n",
    "                                name = 'RFwithTargetEncoding',\n",
    "                                tags = ['RF', 'TargetEncoding'])"
   ]
  },
  {
   "cell_type": "markdown",
   "metadata": {
    "id": "CZf5xuzjstyf"
   },
   "source": [
    "### Gradient Boosted Trees"
   ]
  },
  {
   "cell_type": "code",
   "execution_count": null,
   "metadata": {
    "colab": {
     "base_uri": "https://localhost:8080/",
     "height": 427,
     "referenced_widgets": [
      "9214c77ae5dc47d2b8f53d8ee63bed06"
     ]
    },
    "id": "2nQEGJ54sqEX",
    "outputId": "468a9aec-b7ee-43f5-fead-d129762e0a81"
   },
   "outputs": [
    {
     "data": {
      "text/html": [
       "\n",
       "                    Syncing run <strong><a href=\"https://wandb.ai/manaranjan/usedcar/runs/2xtefccy\" target=\"_blank\">twilight-resonance-4</a></strong> to <a href=\"https://wandb.ai/manaranjan/usedcar\" target=\"_blank\">Weights & Biases</a> (<a href=\"https://docs.wandb.com/integrations/jupyter.html\" target=\"_blank\">docs</a>).<br/>\n",
       "\n",
       "                "
      ],
      "text/plain": [
       "<IPython.core.display.HTML object>"
      ]
     },
     "metadata": {},
     "output_type": "display_data"
    },
    {
     "name": "stderr",
     "output_type": "stream",
     "text": [
      "\u001b[34m\u001b[1mwandb\u001b[0m: \n",
      "\u001b[34m\u001b[1mwandb\u001b[0m: Plotting GBMwithTargetEncoding.\n",
      "\u001b[34m\u001b[1mwandb\u001b[0m: Logged summary metrics.\n",
      "\u001b[34m\u001b[1mwandb\u001b[0m: Logged learning curve.\n",
      "\u001b[34m\u001b[1mwandb\u001b[0m: \u001b[33mWARNING\u001b[0m wandb uses only the first 10000 datapoints to create the plots.\n",
      "\u001b[34m\u001b[1mwandb\u001b[0m: Logged outlier candidates.\n",
      "\u001b[34m\u001b[1mwandb\u001b[0m: \u001b[33mWARNING\u001b[0m wandb uses only the first 10000 datapoints to create the plots.\n",
      "\u001b[34m\u001b[1mwandb\u001b[0m: \u001b[33mWARNING\u001b[0m wandb uses only the first 10000 datapoints to create the plots.\n",
      "\u001b[34m\u001b[1mwandb\u001b[0m: Logged residuals.\n",
      "\u001b[34m\u001b[1mwandb\u001b[0m: \u001b[33mWARNING\u001b[0m Calling run.save without any arguments is deprecated.Changes to attributes are automatically persisted.\n"
     ]
    },
    {
     "data": {
      "text/html": [
       "<br/>Waiting for W&B process to finish, PID 336... <strong style=\"color:green\">(success).</strong>"
      ],
      "text/plain": [
       "<IPython.core.display.HTML object>"
      ]
     },
     "metadata": {},
     "output_type": "display_data"
    },
    {
     "data": {
      "application/vnd.jupyter.widget-view+json": {
       "model_id": "9214c77ae5dc47d2b8f53d8ee63bed06",
       "version_major": 2,
       "version_minor": 0
      },
      "text/plain": [
       "VBox(children=(Label(value=' 0.13MB of 0.15MB uploaded (0.00MB deduped)\\r'), FloatProgress(value=0.88527079998…"
      ]
     },
     "metadata": {},
     "output_type": "display_data"
    },
    {
     "data": {
      "text/html": [
       "<style>\n",
       "    table.wandb td:nth-child(1) { padding: 0 10px; text-align: right }\n",
       "    .wandb-row { display: flex; flex-direction: row; flex-wrap: wrap; width: 100% }\n",
       "    .wandb-col { display: flex; flex-direction: column; flex-basis: 100%; flex: 1; padding: 10px; }\n",
       "    </style>\n",
       "<div class=\"wandb-row\"><div class=\"wandb-col\">\n",
       "<h3>Run history:</h3><br/><table class=\"wandb\"><tr><td>r2</td><td>▁</td></tr><tr><td>rmse</td><td>▁</td></tr></table><br/></div><div class=\"wandb-col\">\n",
       "<h3>Run summary:</h3><br/><table class=\"wandb\"><tr><td>r2</td><td>0.91134</td></tr><tr><td>rmse</td><td>0.62618</td></tr></table>\n",
       "</div></div>\n",
       "Synced 5 W&B file(s), 4 media file(s), 4 artifact file(s) and 0 other file(s)\n",
       "<br/>Synced <strong style=\"color:#cdcd00\">twilight-resonance-4</strong>: <a href=\"https://wandb.ai/manaranjan/usedcar/runs/2xtefccy\" target=\"_blank\">https://wandb.ai/manaranjan/usedcar/runs/2xtefccy</a><br/>\n",
       "Find logs at: <code>./wandb/run-20211008_075306-2xtefccy/logs</code><br/>\n"
      ],
      "text/plain": [
       "<IPython.core.display.HTML object>"
      ]
     },
     "metadata": {},
     "output_type": "display_data"
    }
   ],
   "source": [
    "target_encoder = TargetEncoder(cols = cat_features)\n",
    "\n",
    "x_train, x_test, y_train, y_test = prepare_data(cars_df[x_columns],\n",
    "                                                cars_df.Price,\n",
    "                                                cat_encoder = target_encoder,\n",
    "                                                num_features = num_features,\n",
    "                                                cat_features = cat_features)\n",
    "\n",
    "params = { \"n_estimators\": 100,\n",
    "           \"max_depth\": 4 }\n",
    "\n",
    "gbm_model = GradientBoostingRegressor(**params)  \n",
    "\n",
    "gbm_model = run_model_experiment(gbm_model,\n",
    "                                 x_train,\n",
    "                                 y_train,\n",
    "                                 x_test,\n",
    "                                 y_test,\n",
    "                                 config = params,\n",
    "                                 name = 'GBMwithTargetEncoding',\n",
    "                                 tags = ['GBM', 'TargetEncoding'])"
   ]
  },
  {
   "cell_type": "markdown",
   "metadata": {
    "id": "qC8qbA8PtURQ"
   },
   "source": [
    "### Grid Search and Best Model Tracking"
   ]
  },
  {
   "cell_type": "code",
   "execution_count": null,
   "metadata": {
    "colab": {
     "base_uri": "https://localhost:8080/"
    },
    "id": "pytr2iXPV7CX",
    "outputId": "e3687588-5d73-49f7-d2df-c6268b6e86ab"
   },
   "outputs": [
    {
     "data": {
      "text/plain": [
       "GridSearchCV(cv=10, error_score=nan,\n",
       "             estimator=GradientBoostingRegressor(alpha=0.9, ccp_alpha=0.0,\n",
       "                                                 criterion='friedman_mse',\n",
       "                                                 init=None, learning_rate=0.1,\n",
       "                                                 loss='ls', max_depth=3,\n",
       "                                                 max_features=None,\n",
       "                                                 max_leaf_nodes=None,\n",
       "                                                 min_impurity_decrease=0.0,\n",
       "                                                 min_impurity_split=None,\n",
       "                                                 min_samples_leaf=1,\n",
       "                                                 min_samples_split=2,\n",
       "                                                 min_weight_fraction_leaf=0.0,\n",
       "                                                 n_estimators=100,\n",
       "                                                 n_iter_...,\n",
       "                                                 presort='deprecated',\n",
       "                                                 random_state=None,\n",
       "                                                 subsample=1.0, tol=0.0001,\n",
       "                                                 validation_fraction=0.1,\n",
       "                                                 verbose=0, warm_start=False),\n",
       "             iid='deprecated', n_jobs=None,\n",
       "             param_grid={'loss': ['ls', 'lad', 'huber', 'quantile'],\n",
       "                         'max_depth': [4, 6, 8],\n",
       "                         'n_estimators': [100, 200, 300]},\n",
       "             pre_dispatch='2*n_jobs', refit=True, return_train_score=False,\n",
       "             scoring='neg_mean_squared_error', verbose=0)"
      ]
     },
     "execution_count": 25,
     "metadata": {},
     "output_type": "execute_result"
    }
   ],
   "source": [
    "target_encoder = TargetEncoder(cols = cat_features)\n",
    "\n",
    "x_train, x_test, y_train, y_test = prepare_data(cars_df[x_columns],\n",
    "                                                cars_df.Price,\n",
    "                                                cat_encoder = target_encoder,\n",
    "                                                num_features = num_features,\n",
    "                                                cat_features = cat_features)\n",
    "\n",
    "params = { \"n_estimators\": [100, 200, 300],\n",
    "           \"max_depth\": [4, 6] }\n",
    "\n",
    "gbm_cv = GridSearchCV(GradientBoostingRegressor(),\n",
    "                      param_grid = params,\n",
    "                      cv = 5,\n",
    "                      scoring = 'neg_mean_squared_error')  \n",
    "\n",
    "gbm_cv.fit(x_train, y_train)         "
   ]
  },
  {
   "cell_type": "code",
   "execution_count": null,
   "metadata": {
    "colab": {
     "base_uri": "https://localhost:8080/"
    },
    "id": "1wwZpOxDA2Yi",
    "outputId": "83979e2c-fda3-4ccc-ca43-c1849a124956"
   },
   "outputs": [
    {
     "data": {
      "text/plain": [
       "{'loss': 'huber', 'max_depth': 4, 'n_estimators': 300}"
      ]
     },
     "execution_count": 27,
     "metadata": {},
     "output_type": "execute_result"
    }
   ],
   "source": [
    "gbm_cv.best_params_"
   ]
  },
  {
   "cell_type": "code",
   "execution_count": null,
   "metadata": {
    "colab": {
     "base_uri": "https://localhost:8080/",
     "height": 427,
     "referenced_widgets": [
      "b09e1d9e18894892b0a3a4257f745e4a"
     ]
    },
    "id": "0D3t46FkuZq8",
    "outputId": "20109a55-754d-43c1-f9fb-e428f593b448"
   },
   "outputs": [
    {
     "data": {
      "text/html": [
       "\n",
       "                    Syncing run <strong><a href=\"https://wandb.ai/manaranjan/usedcar/runs/2irybiks\" target=\"_blank\">amber-violet-5</a></strong> to <a href=\"https://wandb.ai/manaranjan/usedcar\" target=\"_blank\">Weights & Biases</a> (<a href=\"https://docs.wandb.com/integrations/jupyter.html\" target=\"_blank\">docs</a>).<br/>\n",
       "\n",
       "                "
      ],
      "text/plain": [
       "<IPython.core.display.HTML object>"
      ]
     },
     "metadata": {},
     "output_type": "display_data"
    },
    {
     "name": "stderr",
     "output_type": "stream",
     "text": [
      "\u001b[34m\u001b[1mwandb\u001b[0m: \n",
      "\u001b[34m\u001b[1mwandb\u001b[0m: Plotting GBMwithTargetEncoding.\n",
      "\u001b[34m\u001b[1mwandb\u001b[0m: Logged summary metrics.\n",
      "\u001b[34m\u001b[1mwandb\u001b[0m: Logged learning curve.\n",
      "\u001b[34m\u001b[1mwandb\u001b[0m: \u001b[33mWARNING\u001b[0m wandb uses only the first 10000 datapoints to create the plots.\n",
      "\u001b[34m\u001b[1mwandb\u001b[0m: Logged outlier candidates.\n",
      "\u001b[34m\u001b[1mwandb\u001b[0m: \u001b[33mWARNING\u001b[0m wandb uses only the first 10000 datapoints to create the plots.\n",
      "\u001b[34m\u001b[1mwandb\u001b[0m: \u001b[33mWARNING\u001b[0m wandb uses only the first 10000 datapoints to create the plots.\n",
      "\u001b[34m\u001b[1mwandb\u001b[0m: Logged residuals.\n",
      "\u001b[34m\u001b[1mwandb\u001b[0m: \u001b[33mWARNING\u001b[0m Calling run.save without any arguments is deprecated.Changes to attributes are automatically persisted.\n"
     ]
    },
    {
     "data": {
      "text/html": [
       "<br/>Waiting for W&B process to finish, PID 426... <strong style=\"color:green\">(success).</strong>"
      ],
      "text/plain": [
       "<IPython.core.display.HTML object>"
      ]
     },
     "metadata": {},
     "output_type": "display_data"
    },
    {
     "data": {
      "application/vnd.jupyter.widget-view+json": {
       "model_id": "b09e1d9e18894892b0a3a4257f745e4a",
       "version_major": 2,
       "version_minor": 0
      },
      "text/plain": [
       "VBox(children=(Label(value=' 0.14MB of 0.14MB uploaded (0.00MB deduped)\\r'), FloatProgress(value=1.0, max=1.0)…"
      ]
     },
     "metadata": {},
     "output_type": "display_data"
    },
    {
     "data": {
      "text/html": [
       "<style>\n",
       "    table.wandb td:nth-child(1) { padding: 0 10px; text-align: right }\n",
       "    .wandb-row { display: flex; flex-direction: row; flex-wrap: wrap; width: 100% }\n",
       "    .wandb-col { display: flex; flex-direction: column; flex-basis: 100%; flex: 1; padding: 10px; }\n",
       "    </style>\n",
       "<div class=\"wandb-row\"><div class=\"wandb-col\">\n",
       "<h3>Run history:</h3><br/><table class=\"wandb\"><tr><td>r2</td><td>▁</td></tr><tr><td>rmse</td><td>▁</td></tr></table><br/></div><div class=\"wandb-col\">\n",
       "<h3>Run summary:</h3><br/><table class=\"wandb\"><tr><td>r2</td><td>0.90722</td></tr><tr><td>rmse</td><td>0.64058</td></tr></table>\n",
       "</div></div>\n",
       "Synced 5 W&B file(s), 4 media file(s), 4 artifact file(s) and 0 other file(s)\n",
       "<br/>Synced <strong style=\"color:#cdcd00\">amber-violet-5</strong>: <a href=\"https://wandb.ai/manaranjan/usedcar/runs/2irybiks\" target=\"_blank\">https://wandb.ai/manaranjan/usedcar/runs/2irybiks</a><br/>\n",
       "Find logs at: <code>./wandb/run-20211008_082616-2irybiks/logs</code><br/>\n"
      ],
      "text/plain": [
       "<IPython.core.display.HTML object>"
      ]
     },
     "metadata": {},
     "output_type": "display_data"
    }
   ],
   "source": [
    "gbm_model = GradientBoostingRegressor(**gbm_cv.best_params_)  \n",
    "\n",
    "gbm_model = run_model_experiment(gbm_model,\n",
    "                                 x_train,\n",
    "                                 y_train,\n",
    "                                 x_test,\n",
    "                                 y_test,\n",
    "                                 config = gbm_cv.best_params_,\n",
    "                                 name = 'GBMwithTargetEncoding',\n",
    "                                 tags = ['GBM', 'TargetEncoding'])"
   ]
  },
  {
   "cell_type": "markdown",
   "metadata": {
    "id": "ca_lFoOW_0dF"
   },
   "source": [
    "### XGB Model"
   ]
  },
  {
   "cell_type": "code",
   "execution_count": null,
   "metadata": {
    "id": "GBWEfaUgyWAx"
   },
   "outputs": [],
   "source": [
    "import xgboost as xgb"
   ]
  },
  {
   "cell_type": "code",
   "execution_count": null,
   "metadata": {
    "colab": {
     "base_uri": "https://localhost:8080/",
     "height": 274,
     "referenced_widgets": [
      "27cfaa756de14044b1da91ad2d9bda24"
     ]
    },
    "id": "lpjMtNCdAQxm",
    "outputId": "f7cf1c1d-fcca-41ff-9e28-5e183a6730c7"
   },
   "outputs": [
    {
     "data": {
      "text/html": [
       "\n",
       "                    Syncing run <strong><a href=\"https://wandb.ai/manaranjan/usedcar/runs/1akws7ib\" target=\"_blank\">curious-resonance-6</a></strong> to <a href=\"https://wandb.ai/manaranjan/usedcar\" target=\"_blank\">Weights & Biases</a> (<a href=\"https://docs.wandb.com/integrations/jupyter.html\" target=\"_blank\">docs</a>).<br/>\n",
       "\n",
       "                "
      ],
      "text/plain": [
       "<IPython.core.display.HTML object>"
      ]
     },
     "metadata": {},
     "output_type": "display_data"
    },
    {
     "name": "stderr",
     "output_type": "stream",
     "text": [
      "\u001b[34m\u001b[1mwandb\u001b[0m: \u001b[33mWARNING\u001b[0m Calling run.save without any arguments is deprecated.Changes to attributes are automatically persisted.\n"
     ]
    },
    {
     "data": {
      "text/html": [
       "<br/>Waiting for W&B process to finish, PID 490... <strong style=\"color:green\">(success).</strong>"
      ],
      "text/plain": [
       "<IPython.core.display.HTML object>"
      ]
     },
     "metadata": {},
     "output_type": "display_data"
    },
    {
     "data": {
      "application/vnd.jupyter.widget-view+json": {
       "model_id": "27cfaa756de14044b1da91ad2d9bda24",
       "version_major": 2,
       "version_minor": 0
      },
      "text/plain": [
       "VBox(children=(Label(value=' 0.00MB of 0.00MB uploaded (0.00MB deduped)\\r'), FloatProgress(value=1.0, max=1.0)…"
      ]
     },
     "metadata": {},
     "output_type": "display_data"
    },
    {
     "data": {
      "text/html": [
       "<style>\n",
       "    table.wandb td:nth-child(1) { padding: 0 10px; text-align: right }\n",
       "    .wandb-row { display: flex; flex-direction: row; flex-wrap: wrap; width: 100% }\n",
       "    .wandb-col { display: flex; flex-direction: column; flex-basis: 100%; flex: 1; padding: 10px; }\n",
       "    </style>\n",
       "<div class=\"wandb-row\"><div class=\"wandb-col\">\n",
       "<h3>Run history:</h3><br/><table class=\"wandb\"><tr><td>r2</td><td>▁</td></tr><tr><td>rmse</td><td>▁</td></tr></table><br/></div><div class=\"wandb-col\">\n",
       "<h3>Run summary:</h3><br/><table class=\"wandb\"><tr><td>r2</td><td>0.9142</td></tr><tr><td>rmse</td><td>0.616</td></tr></table>\n",
       "</div></div>\n",
       "Synced 5 W&B file(s), 0 media file(s), 0 artifact file(s) and 0 other file(s)\n",
       "<br/>Synced <strong style=\"color:#cdcd00\">curious-resonance-6</strong>: <a href=\"https://wandb.ai/manaranjan/usedcar/runs/1akws7ib\" target=\"_blank\">https://wandb.ai/manaranjan/usedcar/runs/1akws7ib</a><br/>\n",
       "Find logs at: <code>./wandb/run-20211008_082747-1akws7ib/logs</code><br/>\n"
      ],
      "text/plain": [
       "<IPython.core.display.HTML object>"
      ]
     },
     "metadata": {},
     "output_type": "display_data"
    }
   ],
   "source": [
    "target_encoder = TargetEncoder(cols = cat_features)\n",
    "\n",
    "x_train, x_test, y_train, y_test = prepare_data(cars_df[x_columns],\n",
    "                                                cars_df.Price,\n",
    "                                                cat_encoder = target_encoder,\n",
    "                                                num_features = num_features,\n",
    "                                                cat_features = cat_features)\n",
    "\n",
    "params = { \"n_estimators\": 200,\n",
    "           \"max_depth\": 6,\n",
    "           \"objective\": 'reg:squarederror' }\n",
    "\n",
    "xgb_regressor = xgb.XGBRegressor(**params)\n",
    "\n",
    "wandb.init(project='usedcar', \n",
    "           config=params, \n",
    "           tags = ['XGB', 'TargetEncoding'])\n",
    "\n",
    "xgb_regressor.fit(x_train, \n",
    "                  y_train, \n",
    "                  callbacks=[wandb.xgboost.wandb_callback()])\n",
    "\n",
    "wandb.run.name = \"XGBWithTargetEncoding\"\n",
    "\n",
    "rmse = np.sqrt(mean_squared_error(y_test, \n",
    "                                  xgb_regressor.predict(x_test)))\n",
    "\n",
    "r2 = xgb_regressor.score(x_test, y_test)\n",
    "\n",
    "wandb.log( {\"rmse\" : rmse, \n",
    "            \"r2\": r2} )\n",
    "  \n",
    "wandb.save()\n",
    "wandb.finish()"
   ]
  },
  {
   "cell_type": "markdown",
   "metadata": {
    "id": "Tc2Y0q0tstyt"
   },
   "source": [
    "## Get Experiment Details"
   ]
  },
  {
   "cell_type": "code",
   "execution_count": null,
   "metadata": {
    "colab": {
     "base_uri": "https://localhost:8080/"
    },
    "id": "LhVbmfglBrBN",
    "outputId": "b211e0e3-0cf6-4ef1-91f7-c20f85b9a359"
   },
   "outputs": [
    {
     "name": "stdout",
     "output_type": "stream",
     "text": [
      "Model Name: XGBWithTargetEncoding and RMSE 0.6160012713560885\n",
      "{'max_depth': 6, 'objective': 'reg:squarederror', 'n_estimators': 200}\n",
      "Model Name: GBMwithTargetEncoding and RMSE 0.626183385535465\n",
      "{'max_depth': 4, 'n_estimators': 100}\n",
      "Model Name: GBMwithTargetEncoding and RMSE 0.6405800756270669\n",
      "{'loss': 'huber', 'max_depth': 4, 'n_estimators': 300}\n",
      "Model Name: RFwithTargetEncoding and RMSE 0.7657624697958263\n",
      "{'max_depth': 10, 'max_samples': 0.4, 'max_features': 0.2, 'n_estimators': 100}\n",
      "Model Name: RFwithOHE and RMSE 0.8564247778732033\n",
      "{'max_depth': 10, 'max_samples': 0.4, 'max_features': 0.2, 'n_estimators': 100}\n",
      "Model Name: DecisionTreeWithOHE and RMSE 0.9457617713462364\n",
      "{}\n"
     ]
    }
   ],
   "source": [
    "api = wandb.Api()\n",
    "\n",
    "all_runs = api.runs(\"manaranjan/usedcar\", order=\"+summary_metrics.rmse\")\n",
    "\n",
    "for run in all_runs:\n",
    "  print(f\"Model Name: {run.name} and RMSE {run.summary.get('rmse')}\")\n",
    "  print(run.config)"
   ]
  },
  {
   "cell_type": "code",
   "execution_count": null,
   "metadata": {
    "id": "-yPkXTaDBUUU"
   },
   "outputs": [],
   "source": []
  }
 ],
 "metadata": {
  "colab": {
   "collapsed_sections": [],
   "name": "Used Car - Experiment Tracking 1.0.ipynb",
   "provenance": [],
   "toc_visible": true
  },
  "kernelspec": {
   "display_name": "Python 3",
   "language": "python",
   "name": "python3"
  },
  "language_info": {
   "codemirror_mode": {
    "name": "ipython",
    "version": 3
   },
   "file_extension": ".py",
   "mimetype": "text/x-python",
   "name": "python",
   "nbconvert_exporter": "python",
   "pygments_lexer": "ipython3",
   "version": "3.8.5"
  }
 },
 "nbformat": 4,
 "nbformat_minor": 1
}
