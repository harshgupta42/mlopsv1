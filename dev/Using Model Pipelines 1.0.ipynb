{
 "cells": [
  {
   "cell_type": "code",
   "execution_count": 1,
   "metadata": {
    "colab": {
     "base_uri": "https://localhost:8080/"
    },
    "id": "aeGy7ttL293V",
    "outputId": "aabdd156-9ade-4746-9c1a-e6a98fbb43fd"
   },
   "outputs": [
    {
     "name": "stdout",
     "output_type": "stream",
     "text": [
      "Requirement already up-to-date: scikit-learn in /opt/anaconda3/envs/mlopslab/lib/python3.8/site-packages (1.0.2)\n",
      "Requirement already satisfied, skipping upgrade: scipy>=1.1.0 in /opt/anaconda3/envs/mlopslab/lib/python3.8/site-packages (from scikit-learn) (1.5.2)\n",
      "Requirement already satisfied, skipping upgrade: numpy>=1.14.6 in /opt/anaconda3/envs/mlopslab/lib/python3.8/site-packages (from scikit-learn) (1.19.2)\n",
      "Requirement already satisfied, skipping upgrade: threadpoolctl>=2.0.0 in /opt/anaconda3/envs/mlopslab/lib/python3.8/site-packages (from scikit-learn) (2.1.0)\n",
      "Requirement already satisfied, skipping upgrade: joblib>=0.11 in /opt/anaconda3/envs/mlopslab/lib/python3.8/site-packages (from scikit-learn) (0.17.0)\n"
     ]
    }
   ],
   "source": [
    "!pip install -U scikit-learn"
   ]
  },
  {
   "cell_type": "markdown",
   "metadata": {
    "id": "-HoZzUgtw217"
   },
   "source": [
    "# Used Car Price Prediction: KNN"
   ]
  },
  {
   "cell_type": "markdown",
   "metadata": {
    "id": "BJ84YzgTw21_"
   },
   "source": [
    "### Load Dataset"
   ]
  },
  {
   "cell_type": "code",
   "execution_count": 2,
   "metadata": {
    "id": "G5L_CTj3w21_"
   },
   "outputs": [],
   "source": [
    "import pandas as pd\n",
    "import numpy as np\n",
    "import matplotlib.pyplot as plt\n",
    "import seaborn as sn"
   ]
  },
  {
   "cell_type": "code",
   "execution_count": 3,
   "metadata": {
    "id": "Eq48r_ddw22C"
   },
   "outputs": [],
   "source": [
    "cars_df = pd.read_csv( \"https://drive.google.com/uc?export=download&id=10-R6GyVWjt_gjWEFD86mKHDvSWD9lp1z\" )"
   ]
  },
  {
   "cell_type": "code",
   "execution_count": 4,
   "metadata": {
    "colab": {
     "base_uri": "https://localhost:8080/",
     "height": 435
    },
    "id": "2w3n5IPYw22C",
    "outputId": "85f65b35-2d7e-4dbb-98ba-2e097d4848a6"
   },
   "outputs": [
    {
     "data": {
      "text/html": [
       "<div>\n",
       "<style scoped>\n",
       "    .dataframe tbody tr th:only-of-type {\n",
       "        vertical-align: middle;\n",
       "    }\n",
       "\n",
       "    .dataframe tbody tr th {\n",
       "        vertical-align: top;\n",
       "    }\n",
       "\n",
       "    .dataframe thead th {\n",
       "        text-align: right;\n",
       "    }\n",
       "</style>\n",
       "<table border=\"1\" class=\"dataframe\">\n",
       "  <thead>\n",
       "    <tr style=\"text-align: right;\">\n",
       "      <th></th>\n",
       "      <th>index</th>\n",
       "      <th>Name</th>\n",
       "      <th>Location</th>\n",
       "      <th>Year</th>\n",
       "      <th>Kilometers_Driven</th>\n",
       "      <th>Fuel_Type</th>\n",
       "      <th>Transmission</th>\n",
       "      <th>Owner_Type</th>\n",
       "      <th>Mileage</th>\n",
       "      <th>Engine</th>\n",
       "      <th>Power</th>\n",
       "      <th>Seats</th>\n",
       "      <th>New_Price</th>\n",
       "      <th>Price</th>\n",
       "      <th>age</th>\n",
       "      <th>KM_Driven</th>\n",
       "      <th>make</th>\n",
       "      <th>mileage_new</th>\n",
       "      <th>engine_new</th>\n",
       "      <th>power_new</th>\n",
       "    </tr>\n",
       "  </thead>\n",
       "  <tbody>\n",
       "    <tr>\n",
       "      <th>1863</th>\n",
       "      <td>3650</td>\n",
       "      <td>Ford Fiesta Classic 1.4 Duratorq CLXI</td>\n",
       "      <td>Chennai</td>\n",
       "      <td>2013</td>\n",
       "      <td>123000</td>\n",
       "      <td>Diesel</td>\n",
       "      <td>Manual</td>\n",
       "      <td>Second</td>\n",
       "      <td>17.8 kmpl</td>\n",
       "      <td>1399 CC</td>\n",
       "      <td>67 bhp</td>\n",
       "      <td>5.0</td>\n",
       "      <td>NaN</td>\n",
       "      <td>4.45</td>\n",
       "      <td>6</td>\n",
       "      <td>123</td>\n",
       "      <td>ford</td>\n",
       "      <td>17.80</td>\n",
       "      <td>1399.0</td>\n",
       "      <td>67.0</td>\n",
       "    </tr>\n",
       "    <tr>\n",
       "      <th>1870</th>\n",
       "      <td>3659</td>\n",
       "      <td>Honda Jazz 1.2 V CVT i VTEC</td>\n",
       "      <td>Delhi</td>\n",
       "      <td>2015</td>\n",
       "      <td>27000</td>\n",
       "      <td>Petrol</td>\n",
       "      <td>Automatic</td>\n",
       "      <td>First</td>\n",
       "      <td>19.0 kmpl</td>\n",
       "      <td>1199 CC</td>\n",
       "      <td>88.7 bhp</td>\n",
       "      <td>5.0</td>\n",
       "      <td>NaN</td>\n",
       "      <td>5.95</td>\n",
       "      <td>4</td>\n",
       "      <td>27</td>\n",
       "      <td>honda</td>\n",
       "      <td>19.00</td>\n",
       "      <td>1199.0</td>\n",
       "      <td>88.7</td>\n",
       "    </tr>\n",
       "    <tr>\n",
       "      <th>1019</th>\n",
       "      <td>2006</td>\n",
       "      <td>Ford Ikon 1.4 TDCi DuraTorq</td>\n",
       "      <td>Bangalore</td>\n",
       "      <td>2009</td>\n",
       "      <td>75000</td>\n",
       "      <td>Diesel</td>\n",
       "      <td>Manual</td>\n",
       "      <td>First</td>\n",
       "      <td>13.8 kmpl</td>\n",
       "      <td>1399 CC</td>\n",
       "      <td>68 bhp</td>\n",
       "      <td>5.0</td>\n",
       "      <td>NaN</td>\n",
       "      <td>1.99</td>\n",
       "      <td>10</td>\n",
       "      <td>75</td>\n",
       "      <td>ford</td>\n",
       "      <td>13.80</td>\n",
       "      <td>1399.0</td>\n",
       "      <td>68.0</td>\n",
       "    </tr>\n",
       "    <tr>\n",
       "      <th>692</th>\n",
       "      <td>1395</td>\n",
       "      <td>Maruti Ritz VDi</td>\n",
       "      <td>Pune</td>\n",
       "      <td>2010</td>\n",
       "      <td>71000</td>\n",
       "      <td>Diesel</td>\n",
       "      <td>Manual</td>\n",
       "      <td>First</td>\n",
       "      <td>21.1 kmpl</td>\n",
       "      <td>1248 CC</td>\n",
       "      <td>73.9 bhp</td>\n",
       "      <td>5.0</td>\n",
       "      <td>NaN</td>\n",
       "      <td>3.00</td>\n",
       "      <td>9</td>\n",
       "      <td>71</td>\n",
       "      <td>maruti</td>\n",
       "      <td>21.10</td>\n",
       "      <td>1248.0</td>\n",
       "      <td>73.9</td>\n",
       "    </tr>\n",
       "    <tr>\n",
       "      <th>224</th>\n",
       "      <td>470</td>\n",
       "      <td>Maruti Ciaz 1.3 S</td>\n",
       "      <td>Coimbatore</td>\n",
       "      <td>2017</td>\n",
       "      <td>25142</td>\n",
       "      <td>Diesel</td>\n",
       "      <td>Manual</td>\n",
       "      <td>First</td>\n",
       "      <td>28.09 kmpl</td>\n",
       "      <td>1248 CC</td>\n",
       "      <td>88.5 bhp</td>\n",
       "      <td>5.0</td>\n",
       "      <td>NaN</td>\n",
       "      <td>8.26</td>\n",
       "      <td>2</td>\n",
       "      <td>25</td>\n",
       "      <td>maruti</td>\n",
       "      <td>28.09</td>\n",
       "      <td>1248.0</td>\n",
       "      <td>88.5</td>\n",
       "    </tr>\n",
       "  </tbody>\n",
       "</table>\n",
       "</div>"
      ],
      "text/plain": [
       "      index                                   Name    Location  Year  \\\n",
       "1863   3650  Ford Fiesta Classic 1.4 Duratorq CLXI     Chennai  2013   \n",
       "1870   3659            Honda Jazz 1.2 V CVT i VTEC       Delhi  2015   \n",
       "1019   2006            Ford Ikon 1.4 TDCi DuraTorq   Bangalore  2009   \n",
       "692    1395                        Maruti Ritz VDi        Pune  2010   \n",
       "224     470                      Maruti Ciaz 1.3 S  Coimbatore  2017   \n",
       "\n",
       "      Kilometers_Driven Fuel_Type Transmission Owner_Type     Mileage  \\\n",
       "1863             123000    Diesel       Manual     Second   17.8 kmpl   \n",
       "1870              27000    Petrol    Automatic      First   19.0 kmpl   \n",
       "1019              75000    Diesel       Manual      First   13.8 kmpl   \n",
       "692               71000    Diesel       Manual      First   21.1 kmpl   \n",
       "224               25142    Diesel       Manual      First  28.09 kmpl   \n",
       "\n",
       "       Engine     Power  Seats New_Price  Price  age  KM_Driven    make  \\\n",
       "1863  1399 CC    67 bhp    5.0       NaN   4.45    6        123    ford   \n",
       "1870  1199 CC  88.7 bhp    5.0       NaN   5.95    4         27   honda   \n",
       "1019  1399 CC    68 bhp    5.0       NaN   1.99   10         75    ford   \n",
       "692   1248 CC  73.9 bhp    5.0       NaN   3.00    9         71  maruti   \n",
       "224   1248 CC  88.5 bhp    5.0       NaN   8.26    2         25  maruti   \n",
       "\n",
       "      mileage_new  engine_new  power_new  \n",
       "1863        17.80      1399.0       67.0  \n",
       "1870        19.00      1199.0       88.7  \n",
       "1019        13.80      1399.0       68.0  \n",
       "692         21.10      1248.0       73.9  \n",
       "224         28.09      1248.0       88.5  "
      ]
     },
     "execution_count": 4,
     "metadata": {},
     "output_type": "execute_result"
    }
   ],
   "source": [
    "cars_df.sample(5)"
   ]
  },
  {
   "cell_type": "code",
   "execution_count": 5,
   "metadata": {
    "colab": {
     "base_uri": "https://localhost:8080/"
    },
    "id": "6mX167jxw22C",
    "outputId": "0c5d24c6-35a6-4f3b-8ab4-9de3f0abdad8"
   },
   "outputs": [
    {
     "name": "stdout",
     "output_type": "stream",
     "text": [
      "<class 'pandas.core.frame.DataFrame'>\n",
      "RangeIndex: 3092 entries, 0 to 3091\n",
      "Data columns (total 20 columns):\n",
      " #   Column             Non-Null Count  Dtype  \n",
      "---  ------             --------------  -----  \n",
      " 0   index              3092 non-null   int64  \n",
      " 1   Name               3092 non-null   object \n",
      " 2   Location           3092 non-null   object \n",
      " 3   Year               3092 non-null   int64  \n",
      " 4   Kilometers_Driven  3092 non-null   int64  \n",
      " 5   Fuel_Type          3092 non-null   object \n",
      " 6   Transmission       3092 non-null   object \n",
      " 7   Owner_Type         3092 non-null   object \n",
      " 8   Mileage            3092 non-null   object \n",
      " 9   Engine             3092 non-null   object \n",
      " 10  Power              3092 non-null   object \n",
      " 11  Seats              3091 non-null   float64\n",
      " 12  New_Price          411 non-null    object \n",
      " 13  Price              3092 non-null   float64\n",
      " 14  age                3092 non-null   int64  \n",
      " 15  KM_Driven          3092 non-null   int64  \n",
      " 16  make               3092 non-null   object \n",
      " 17  mileage_new        3092 non-null   float64\n",
      " 18  engine_new         3092 non-null   float64\n",
      " 19  power_new          3092 non-null   float64\n",
      "dtypes: float64(5), int64(5), object(10)\n",
      "memory usage: 483.2+ KB\n"
     ]
    }
   ],
   "source": [
    "cars_df.info()"
   ]
  },
  {
   "cell_type": "markdown",
   "metadata": {
    "id": "1z6m4MOmw22D"
   },
   "source": [
    "### Feature Set Selection"
   ]
  },
  {
   "cell_type": "code",
   "execution_count": 6,
   "metadata": {
    "colab": {
     "base_uri": "https://localhost:8080/"
    },
    "id": "QdC67nm9w22D",
    "outputId": "eea4cacb-db2f-4e7d-8040-10b90fd7bd5f"
   },
   "outputs": [
    {
     "data": {
      "text/plain": [
       "Index(['index', 'Name', 'Location', 'Year', 'Kilometers_Driven', 'Fuel_Type',\n",
       "       'Transmission', 'Owner_Type', 'Mileage', 'Engine', 'Power', 'Seats',\n",
       "       'New_Price', 'Price', 'age', 'KM_Driven', 'make', 'mileage_new',\n",
       "       'engine_new', 'power_new'],\n",
       "      dtype='object')"
      ]
     },
     "execution_count": 6,
     "metadata": {},
     "output_type": "execute_result"
    }
   ],
   "source": [
    "cars_df.columns"
   ]
  },
  {
   "cell_type": "code",
   "execution_count": 7,
   "metadata": {
    "id": "pedL0bwww22E"
   },
   "outputs": [],
   "source": [
    "x_features = ['KM_Driven', 'Fuel_Type', 'age',\n",
    "              'Transmission', 'Owner_Type', 'Seats', \n",
    "              'make', 'mileage_new', 'engine_new', \n",
    "              'power_new', 'Location']"
   ]
  },
  {
   "cell_type": "code",
   "execution_count": 8,
   "metadata": {
    "id": "bgywybWAw22F"
   },
   "outputs": [],
   "source": [
    "cat_vars = ['Fuel_Type', \n",
    "                'Transmission', 'Owner_Type',\n",
    "                'make', 'Location']"
   ]
  },
  {
   "cell_type": "code",
   "execution_count": 9,
   "metadata": {
    "id": "2DnPA-jzw22F"
   },
   "outputs": [],
   "source": [
    "num_vars = list(set(x_features) - set(cat_vars))"
   ]
  },
  {
   "cell_type": "code",
   "execution_count": 10,
   "metadata": {
    "colab": {
     "base_uri": "https://localhost:8080/"
    },
    "id": "jjXxkrb7w22F",
    "outputId": "d8d7c126-9341-4111-dde8-6b5443d355a1"
   },
   "outputs": [
    {
     "data": {
      "text/plain": [
       "['age', 'engine_new', 'mileage_new', 'power_new', 'Seats', 'KM_Driven']"
      ]
     },
     "execution_count": 10,
     "metadata": {},
     "output_type": "execute_result"
    }
   ],
   "source": [
    "num_vars"
   ]
  },
  {
   "cell_type": "code",
   "execution_count": 11,
   "metadata": {
    "colab": {
     "base_uri": "https://localhost:8080/"
    },
    "id": "0fd6gq5gw22G",
    "outputId": "773308cf-b877-4b7e-f52b-e5221a57a6af"
   },
   "outputs": [
    {
     "name": "stdout",
     "output_type": "stream",
     "text": [
      "<class 'pandas.core.frame.DataFrame'>\n",
      "RangeIndex: 3092 entries, 0 to 3091\n",
      "Data columns (total 11 columns):\n",
      " #   Column        Non-Null Count  Dtype  \n",
      "---  ------        --------------  -----  \n",
      " 0   KM_Driven     3092 non-null   int64  \n",
      " 1   Fuel_Type     3092 non-null   object \n",
      " 2   age           3092 non-null   int64  \n",
      " 3   Transmission  3092 non-null   object \n",
      " 4   Owner_Type    3092 non-null   object \n",
      " 5   Seats         3091 non-null   float64\n",
      " 6   make          3092 non-null   object \n",
      " 7   mileage_new   3092 non-null   float64\n",
      " 8   engine_new    3092 non-null   float64\n",
      " 9   power_new     3092 non-null   float64\n",
      " 10  Location      3092 non-null   object \n",
      "dtypes: float64(4), int64(2), object(5)\n",
      "memory usage: 265.8+ KB\n"
     ]
    }
   ],
   "source": [
    "cars_df[x_features].info()"
   ]
  },
  {
   "cell_type": "markdown",
   "metadata": {},
   "source": [
    "### Need for Data Transformation\n",
    "\n",
    "1. Data imputation for Seats Column\n",
    "    - Mean imputation \n",
    "2. Categorical Encoding for categorical columns\n",
    "    - OHE Encoding\n",
    "3. Data scaling\n",
    "    - Standard scaling"
   ]
  },
  {
   "cell_type": "markdown",
   "metadata": {
    "id": "eK3WNm4Tw22I"
   },
   "source": [
    "### Setting X and y variables"
   ]
  },
  {
   "cell_type": "code",
   "execution_count": 12,
   "metadata": {
    "id": "kNJGjz5dw22I"
   },
   "outputs": [],
   "source": [
    "X = cars_df[x_features]\n",
    "y = cars_df['Price']"
   ]
  },
  {
   "cell_type": "markdown",
   "metadata": {
    "id": "4Dn5xMfJw22I"
   },
   "source": [
    "### Data Splitting"
   ]
  },
  {
   "cell_type": "code",
   "execution_count": 13,
   "metadata": {
    "id": "SZJO1MTKw22I"
   },
   "outputs": [],
   "source": [
    "from sklearn.model_selection import train_test_split"
   ]
  },
  {
   "cell_type": "code",
   "execution_count": 14,
   "metadata": {
    "id": "_w4QYKouw22J"
   },
   "outputs": [],
   "source": [
    "X_train, X_test, y_train, y_test = train_test_split(X,\n",
    "                                                    y,\n",
    "                                                    train_size = 0.8,\n",
    "                                                    random_state = 80)"
   ]
  },
  {
   "cell_type": "code",
   "execution_count": 15,
   "metadata": {
    "colab": {
     "base_uri": "https://localhost:8080/",
     "height": 0
    },
    "id": "MJvUKKtEw22J",
    "outputId": "dd01f850-67a0-411a-d960-5c72edfa9df4"
   },
   "outputs": [
    {
     "data": {
      "text/plain": [
       "(2473, 11)"
      ]
     },
     "execution_count": 15,
     "metadata": {},
     "output_type": "execute_result"
    }
   ],
   "source": [
    "X_train.shape"
   ]
  },
  {
   "cell_type": "code",
   "execution_count": 16,
   "metadata": {
    "colab": {
     "base_uri": "https://localhost:8080/"
    },
    "id": "guj1I1pTw22K",
    "outputId": "f2104c45-a4b4-49bf-fec9-d0e2eeab3044"
   },
   "outputs": [
    {
     "data": {
      "text/plain": [
       "(619, 11)"
      ]
     },
     "execution_count": 16,
     "metadata": {},
     "output_type": "execute_result"
    }
   ],
   "source": [
    "X_test.shape"
   ]
  },
  {
   "cell_type": "markdown",
   "metadata": {},
   "source": [
    "### Data Imputation"
   ]
  },
  {
   "cell_type": "code",
   "execution_count": 17,
   "metadata": {},
   "outputs": [],
   "source": [
    "from sklearn.impute import SimpleImputer"
   ]
  },
  {
   "cell_type": "code",
   "execution_count": 18,
   "metadata": {},
   "outputs": [],
   "source": [
    "imputed_num_vars = ['Seats']"
   ]
  },
  {
   "cell_type": "code",
   "execution_count": 19,
   "metadata": {},
   "outputs": [
    {
     "data": {
      "text/plain": [
       "['Seats']"
      ]
     },
     "execution_count": 19,
     "metadata": {},
     "output_type": "execute_result"
    }
   ],
   "source": [
    "imputed_num_vars"
   ]
  },
  {
   "cell_type": "code",
   "execution_count": 20,
   "metadata": {},
   "outputs": [],
   "source": [
    "non_imputed_num_vars = list(set(num_vars) - set(imputed_num_vars))"
   ]
  },
  {
   "cell_type": "code",
   "execution_count": 21,
   "metadata": {},
   "outputs": [
    {
     "data": {
      "text/plain": [
       "['age', 'engine_new', 'mileage_new', 'power_new', 'KM_Driven']"
      ]
     },
     "execution_count": 21,
     "metadata": {},
     "output_type": "execute_result"
    }
   ],
   "source": [
    "non_imputed_num_vars"
   ]
  },
  {
   "cell_type": "code",
   "execution_count": 22,
   "metadata": {},
   "outputs": [],
   "source": [
    "mean_imputer = SimpleImputer(strategy='mean')"
   ]
  },
  {
   "cell_type": "markdown",
   "metadata": {
    "id": "__tEV1ylw22K"
   },
   "source": [
    "### Encode Categorical Variables"
   ]
  },
  {
   "cell_type": "code",
   "execution_count": 23,
   "metadata": {
    "id": "k6KIfWa6w22K"
   },
   "outputs": [],
   "source": [
    "from sklearn.preprocessing import OneHotEncoder"
   ]
  },
  {
   "cell_type": "code",
   "execution_count": 24,
   "metadata": {
    "id": "085_YnWLw22K"
   },
   "outputs": [],
   "source": [
    "ohe_encoder = OneHotEncoder(handle_unknown='ignore')"
   ]
  },
  {
   "cell_type": "markdown",
   "metadata": {},
   "source": [
    "### Scaling numerical vars"
   ]
  },
  {
   "cell_type": "code",
   "execution_count": 25,
   "metadata": {},
   "outputs": [],
   "source": [
    "from sklearn.preprocessing import StandardScaler\n",
    "\n",
    "scaler = StandardScaler()"
   ]
  },
  {
   "cell_type": "markdown",
   "metadata": {},
   "source": [
    "### Creating Pipelines"
   ]
  },
  {
   "cell_type": "code",
   "execution_count": 26,
   "metadata": {
    "id": "0h20qY_gw22L"
   },
   "outputs": [],
   "source": [
    "from sklearn.compose import ColumnTransformer\n",
    "from sklearn.pipeline import Pipeline"
   ]
  },
  {
   "cell_type": "code",
   "execution_count": 27,
   "metadata": {},
   "outputs": [],
   "source": [
    "imputed_num_transformer = Pipeline( steps = [  \n",
    "        ('imputation', mean_imputer),\n",
    "        ('scaler', scaler)])"
   ]
  },
  {
   "cell_type": "code",
   "execution_count": 28,
   "metadata": {},
   "outputs": [],
   "source": [
    "non_imputed_num_transformer = Pipeline( steps = [('scaler', scaler)])"
   ]
  },
  {
   "cell_type": "code",
   "execution_count": 29,
   "metadata": {},
   "outputs": [],
   "source": [
    "cat_transformer = Pipeline( steps = [('ohencoder', ohe_encoder)])"
   ]
  },
  {
   "cell_type": "code",
   "execution_count": 30,
   "metadata": {},
   "outputs": [],
   "source": [
    "preprocessor = ColumnTransformer(\n",
    "    transformers=[  \n",
    "        ('num_imputed', imputed_num_transformer, imputed_num_vars),\n",
    "        ('num_not_imputed', non_imputed_num_transformer, non_imputed_num_vars),\n",
    "        ('catvars', cat_transformer, cat_vars)])"
   ]
  },
  {
   "cell_type": "markdown",
   "metadata": {
    "id": "ENbz3exkw22L"
   },
   "source": [
    "### KNN (K-Nearest Neighbor)\n"
   ]
  },
  {
   "cell_type": "code",
   "execution_count": 31,
   "metadata": {
    "id": "tpFS1kACw22M"
   },
   "outputs": [],
   "source": [
    "from sklearn.neighbors import KNeighborsRegressor"
   ]
  },
  {
   "cell_type": "code",
   "execution_count": 32,
   "metadata": {
    "id": "2KkOKhVBw22M"
   },
   "outputs": [],
   "source": [
    "#knn = KNeighborsRegressor(n_neighbors=20)\n",
    "knn = KNeighborsRegressor(n_neighbors=20, weights='distance')"
   ]
  },
  {
   "cell_type": "code",
   "execution_count": 33,
   "metadata": {
    "id": "i17dhEN1w22M"
   },
   "outputs": [],
   "source": [
    "knn_v1 = Pipeline(steps=[('preprocessor', preprocessor),\n",
    "                          ('knn', knn)])"
   ]
  },
  {
   "cell_type": "code",
   "execution_count": 34,
   "metadata": {
    "colab": {
     "base_uri": "https://localhost:8080/"
    },
    "id": "lLAFK4BFw22N",
    "outputId": "f316b8e0-96fd-49b0-c635-a7d604468ee0"
   },
   "outputs": [
    {
     "data": {
      "text/plain": [
       "Pipeline(steps=[('preprocessor',\n",
       "                 ColumnTransformer(transformers=[('num_imputed',\n",
       "                                                  Pipeline(steps=[('imputation',\n",
       "                                                                   SimpleImputer()),\n",
       "                                                                  ('scaler',\n",
       "                                                                   StandardScaler())]),\n",
       "                                                  ['Seats']),\n",
       "                                                 ('num_not_imputed',\n",
       "                                                  Pipeline(steps=[('scaler',\n",
       "                                                                   StandardScaler())]),\n",
       "                                                  ['age', 'engine_new',\n",
       "                                                   'mileage_new', 'power_new',\n",
       "                                                   'KM_Driven']),\n",
       "                                                 ('catvars',\n",
       "                                                  Pipeline(steps=[('ohencoder',\n",
       "                                                                   OneHotEncoder(handle_unknown='ignore'))]),\n",
       "                                                  ['Fuel_Type', 'Transmission',\n",
       "                                                   'Owner_Type', 'make',\n",
       "                                                   'Location'])])),\n",
       "                ('knn',\n",
       "                 KNeighborsRegressor(n_neighbors=20, weights='distance'))])"
      ]
     },
     "execution_count": 34,
     "metadata": {},
     "output_type": "execute_result"
    }
   ],
   "source": [
    "knn_v1.fit(X_train, y_train)"
   ]
  },
  {
   "cell_type": "code",
   "execution_count": 35,
   "metadata": {},
   "outputs": [],
   "source": [
    "from sklearn import set_config\n",
    "set_config(display='diagram') "
   ]
  },
  {
   "cell_type": "code",
   "execution_count": 36,
   "metadata": {},
   "outputs": [
    {
     "data": {
      "text/html": [
       "<style>#sk-e81a4543-8656-4ea4-99fd-e1b0d77adaa3 {color: black;background-color: white;}#sk-e81a4543-8656-4ea4-99fd-e1b0d77adaa3 pre{padding: 0;}#sk-e81a4543-8656-4ea4-99fd-e1b0d77adaa3 div.sk-toggleable {background-color: white;}#sk-e81a4543-8656-4ea4-99fd-e1b0d77adaa3 label.sk-toggleable__label {cursor: pointer;display: block;width: 100%;margin-bottom: 0;padding: 0.3em;box-sizing: border-box;text-align: center;}#sk-e81a4543-8656-4ea4-99fd-e1b0d77adaa3 label.sk-toggleable__label-arrow:before {content: \"▸\";float: left;margin-right: 0.25em;color: #696969;}#sk-e81a4543-8656-4ea4-99fd-e1b0d77adaa3 label.sk-toggleable__label-arrow:hover:before {color: black;}#sk-e81a4543-8656-4ea4-99fd-e1b0d77adaa3 div.sk-estimator:hover label.sk-toggleable__label-arrow:before {color: black;}#sk-e81a4543-8656-4ea4-99fd-e1b0d77adaa3 div.sk-toggleable__content {max-height: 0;max-width: 0;overflow: hidden;text-align: left;background-color: #f0f8ff;}#sk-e81a4543-8656-4ea4-99fd-e1b0d77adaa3 div.sk-toggleable__content pre {margin: 0.2em;color: black;border-radius: 0.25em;background-color: #f0f8ff;}#sk-e81a4543-8656-4ea4-99fd-e1b0d77adaa3 input.sk-toggleable__control:checked~div.sk-toggleable__content {max-height: 200px;max-width: 100%;overflow: auto;}#sk-e81a4543-8656-4ea4-99fd-e1b0d77adaa3 input.sk-toggleable__control:checked~label.sk-toggleable__label-arrow:before {content: \"▾\";}#sk-e81a4543-8656-4ea4-99fd-e1b0d77adaa3 div.sk-estimator input.sk-toggleable__control:checked~label.sk-toggleable__label {background-color: #d4ebff;}#sk-e81a4543-8656-4ea4-99fd-e1b0d77adaa3 div.sk-label input.sk-toggleable__control:checked~label.sk-toggleable__label {background-color: #d4ebff;}#sk-e81a4543-8656-4ea4-99fd-e1b0d77adaa3 input.sk-hidden--visually {border: 0;clip: rect(1px 1px 1px 1px);clip: rect(1px, 1px, 1px, 1px);height: 1px;margin: -1px;overflow: hidden;padding: 0;position: absolute;width: 1px;}#sk-e81a4543-8656-4ea4-99fd-e1b0d77adaa3 div.sk-estimator {font-family: monospace;background-color: #f0f8ff;border: 1px dotted black;border-radius: 0.25em;box-sizing: border-box;margin-bottom: 0.5em;}#sk-e81a4543-8656-4ea4-99fd-e1b0d77adaa3 div.sk-estimator:hover {background-color: #d4ebff;}#sk-e81a4543-8656-4ea4-99fd-e1b0d77adaa3 div.sk-parallel-item::after {content: \"\";width: 100%;border-bottom: 1px solid gray;flex-grow: 1;}#sk-e81a4543-8656-4ea4-99fd-e1b0d77adaa3 div.sk-label:hover label.sk-toggleable__label {background-color: #d4ebff;}#sk-e81a4543-8656-4ea4-99fd-e1b0d77adaa3 div.sk-serial::before {content: \"\";position: absolute;border-left: 1px solid gray;box-sizing: border-box;top: 2em;bottom: 0;left: 50%;}#sk-e81a4543-8656-4ea4-99fd-e1b0d77adaa3 div.sk-serial {display: flex;flex-direction: column;align-items: center;background-color: white;padding-right: 0.2em;padding-left: 0.2em;}#sk-e81a4543-8656-4ea4-99fd-e1b0d77adaa3 div.sk-item {z-index: 1;}#sk-e81a4543-8656-4ea4-99fd-e1b0d77adaa3 div.sk-parallel {display: flex;align-items: stretch;justify-content: center;background-color: white;}#sk-e81a4543-8656-4ea4-99fd-e1b0d77adaa3 div.sk-parallel::before {content: \"\";position: absolute;border-left: 1px solid gray;box-sizing: border-box;top: 2em;bottom: 0;left: 50%;}#sk-e81a4543-8656-4ea4-99fd-e1b0d77adaa3 div.sk-parallel-item {display: flex;flex-direction: column;position: relative;background-color: white;}#sk-e81a4543-8656-4ea4-99fd-e1b0d77adaa3 div.sk-parallel-item:first-child::after {align-self: flex-end;width: 50%;}#sk-e81a4543-8656-4ea4-99fd-e1b0d77adaa3 div.sk-parallel-item:last-child::after {align-self: flex-start;width: 50%;}#sk-e81a4543-8656-4ea4-99fd-e1b0d77adaa3 div.sk-parallel-item:only-child::after {width: 0;}#sk-e81a4543-8656-4ea4-99fd-e1b0d77adaa3 div.sk-dashed-wrapped {border: 1px dashed gray;margin: 0 0.4em 0.5em 0.4em;box-sizing: border-box;padding-bottom: 0.4em;background-color: white;position: relative;}#sk-e81a4543-8656-4ea4-99fd-e1b0d77adaa3 div.sk-label label {font-family: monospace;font-weight: bold;background-color: white;display: inline-block;line-height: 1.2em;}#sk-e81a4543-8656-4ea4-99fd-e1b0d77adaa3 div.sk-label-container {position: relative;z-index: 2;text-align: center;}#sk-e81a4543-8656-4ea4-99fd-e1b0d77adaa3 div.sk-container {/* jupyter's `normalize.less` sets `[hidden] { display: none; }` but bootstrap.min.css set `[hidden] { display: none !important; }` so we also need the `!important` here to be able to override the default hidden behavior on the sphinx rendered scikit-learn.org. See: https://github.com/scikit-learn/scikit-learn/issues/21755 */display: inline-block !important;position: relative;}#sk-e81a4543-8656-4ea4-99fd-e1b0d77adaa3 div.sk-text-repr-fallback {display: none;}</style><div id=\"sk-e81a4543-8656-4ea4-99fd-e1b0d77adaa3\" class=\"sk-top-container\"><div class=\"sk-text-repr-fallback\"><pre>Pipeline(steps=[(&#x27;preprocessor&#x27;,\n",
       "                 ColumnTransformer(transformers=[(&#x27;num_imputed&#x27;,\n",
       "                                                  Pipeline(steps=[(&#x27;imputation&#x27;,\n",
       "                                                                   SimpleImputer()),\n",
       "                                                                  (&#x27;scaler&#x27;,\n",
       "                                                                   StandardScaler())]),\n",
       "                                                  [&#x27;Seats&#x27;]),\n",
       "                                                 (&#x27;num_not_imputed&#x27;,\n",
       "                                                  Pipeline(steps=[(&#x27;scaler&#x27;,\n",
       "                                                                   StandardScaler())]),\n",
       "                                                  [&#x27;age&#x27;, &#x27;engine_new&#x27;,\n",
       "                                                   &#x27;mileage_new&#x27;, &#x27;power_new&#x27;,\n",
       "                                                   &#x27;KM_Driven&#x27;]),\n",
       "                                                 (&#x27;catvars&#x27;,\n",
       "                                                  Pipeline(steps=[(&#x27;ohencoder&#x27;,\n",
       "                                                                   OneHotEncoder(handle_unknown=&#x27;ignore&#x27;))]),\n",
       "                                                  [&#x27;Fuel_Type&#x27;, &#x27;Transmission&#x27;,\n",
       "                                                   &#x27;Owner_Type&#x27;, &#x27;make&#x27;,\n",
       "                                                   &#x27;Location&#x27;])])),\n",
       "                (&#x27;knn&#x27;,\n",
       "                 KNeighborsRegressor(n_neighbors=20, weights=&#x27;distance&#x27;))])</pre><b>Please rerun this cell to show the HTML repr or trust the notebook.</b></div><div class=\"sk-container\" hidden><div class=\"sk-item sk-dashed-wrapped\"><div class=\"sk-label-container\"><div class=\"sk-label sk-toggleable\"><input class=\"sk-toggleable__control sk-hidden--visually\" id=\"a2ee3724-034f-4e18-a440-ed38165923db\" type=\"checkbox\" ><label for=\"a2ee3724-034f-4e18-a440-ed38165923db\" class=\"sk-toggleable__label sk-toggleable__label-arrow\">Pipeline</label><div class=\"sk-toggleable__content\"><pre>Pipeline(steps=[(&#x27;preprocessor&#x27;,\n",
       "                 ColumnTransformer(transformers=[(&#x27;num_imputed&#x27;,\n",
       "                                                  Pipeline(steps=[(&#x27;imputation&#x27;,\n",
       "                                                                   SimpleImputer()),\n",
       "                                                                  (&#x27;scaler&#x27;,\n",
       "                                                                   StandardScaler())]),\n",
       "                                                  [&#x27;Seats&#x27;]),\n",
       "                                                 (&#x27;num_not_imputed&#x27;,\n",
       "                                                  Pipeline(steps=[(&#x27;scaler&#x27;,\n",
       "                                                                   StandardScaler())]),\n",
       "                                                  [&#x27;age&#x27;, &#x27;engine_new&#x27;,\n",
       "                                                   &#x27;mileage_new&#x27;, &#x27;power_new&#x27;,\n",
       "                                                   &#x27;KM_Driven&#x27;]),\n",
       "                                                 (&#x27;catvars&#x27;,\n",
       "                                                  Pipeline(steps=[(&#x27;ohencoder&#x27;,\n",
       "                                                                   OneHotEncoder(handle_unknown=&#x27;ignore&#x27;))]),\n",
       "                                                  [&#x27;Fuel_Type&#x27;, &#x27;Transmission&#x27;,\n",
       "                                                   &#x27;Owner_Type&#x27;, &#x27;make&#x27;,\n",
       "                                                   &#x27;Location&#x27;])])),\n",
       "                (&#x27;knn&#x27;,\n",
       "                 KNeighborsRegressor(n_neighbors=20, weights=&#x27;distance&#x27;))])</pre></div></div></div><div class=\"sk-serial\"><div class=\"sk-item sk-dashed-wrapped\"><div class=\"sk-label-container\"><div class=\"sk-label sk-toggleable\"><input class=\"sk-toggleable__control sk-hidden--visually\" id=\"7266034f-bad7-48e5-9687-0b537b9874ab\" type=\"checkbox\" ><label for=\"7266034f-bad7-48e5-9687-0b537b9874ab\" class=\"sk-toggleable__label sk-toggleable__label-arrow\">preprocessor: ColumnTransformer</label><div class=\"sk-toggleable__content\"><pre>ColumnTransformer(transformers=[(&#x27;num_imputed&#x27;,\n",
       "                                 Pipeline(steps=[(&#x27;imputation&#x27;,\n",
       "                                                  SimpleImputer()),\n",
       "                                                 (&#x27;scaler&#x27;, StandardScaler())]),\n",
       "                                 [&#x27;Seats&#x27;]),\n",
       "                                (&#x27;num_not_imputed&#x27;,\n",
       "                                 Pipeline(steps=[(&#x27;scaler&#x27;, StandardScaler())]),\n",
       "                                 [&#x27;age&#x27;, &#x27;engine_new&#x27;, &#x27;mileage_new&#x27;,\n",
       "                                  &#x27;power_new&#x27;, &#x27;KM_Driven&#x27;]),\n",
       "                                (&#x27;catvars&#x27;,\n",
       "                                 Pipeline(steps=[(&#x27;ohencoder&#x27;,\n",
       "                                                  OneHotEncoder(handle_unknown=&#x27;ignore&#x27;))]),\n",
       "                                 [&#x27;Fuel_Type&#x27;, &#x27;Transmission&#x27;, &#x27;Owner_Type&#x27;,\n",
       "                                  &#x27;make&#x27;, &#x27;Location&#x27;])])</pre></div></div></div><div class=\"sk-parallel\"><div class=\"sk-parallel-item\"><div class=\"sk-item\"><div class=\"sk-label-container\"><div class=\"sk-label sk-toggleable\"><input class=\"sk-toggleable__control sk-hidden--visually\" id=\"3d22a499-64fa-4625-a40b-f8df04ba09ca\" type=\"checkbox\" ><label for=\"3d22a499-64fa-4625-a40b-f8df04ba09ca\" class=\"sk-toggleable__label sk-toggleable__label-arrow\">num_imputed</label><div class=\"sk-toggleable__content\"><pre>[&#x27;Seats&#x27;]</pre></div></div></div><div class=\"sk-serial\"><div class=\"sk-item\"><div class=\"sk-serial\"><div class=\"sk-item\"><div class=\"sk-estimator sk-toggleable\"><input class=\"sk-toggleable__control sk-hidden--visually\" id=\"efc77be1-4d5f-4684-8977-b9558f35850d\" type=\"checkbox\" ><label for=\"efc77be1-4d5f-4684-8977-b9558f35850d\" class=\"sk-toggleable__label sk-toggleable__label-arrow\">SimpleImputer</label><div class=\"sk-toggleable__content\"><pre>SimpleImputer()</pre></div></div></div><div class=\"sk-item\"><div class=\"sk-estimator sk-toggleable\"><input class=\"sk-toggleable__control sk-hidden--visually\" id=\"08007c99-e909-4ad0-b14b-6e398b7b1442\" type=\"checkbox\" ><label for=\"08007c99-e909-4ad0-b14b-6e398b7b1442\" class=\"sk-toggleable__label sk-toggleable__label-arrow\">StandardScaler</label><div class=\"sk-toggleable__content\"><pre>StandardScaler()</pre></div></div></div></div></div></div></div></div><div class=\"sk-parallel-item\"><div class=\"sk-item\"><div class=\"sk-label-container\"><div class=\"sk-label sk-toggleable\"><input class=\"sk-toggleable__control sk-hidden--visually\" id=\"4e8429a7-d22b-45e6-adda-557b351868e9\" type=\"checkbox\" ><label for=\"4e8429a7-d22b-45e6-adda-557b351868e9\" class=\"sk-toggleable__label sk-toggleable__label-arrow\">num_not_imputed</label><div class=\"sk-toggleable__content\"><pre>[&#x27;age&#x27;, &#x27;engine_new&#x27;, &#x27;mileage_new&#x27;, &#x27;power_new&#x27;, &#x27;KM_Driven&#x27;]</pre></div></div></div><div class=\"sk-serial\"><div class=\"sk-item\"><div class=\"sk-serial\"><div class=\"sk-item\"><div class=\"sk-estimator sk-toggleable\"><input class=\"sk-toggleable__control sk-hidden--visually\" id=\"2c5eb3e9-edae-4ea5-90bc-7660dff81764\" type=\"checkbox\" ><label for=\"2c5eb3e9-edae-4ea5-90bc-7660dff81764\" class=\"sk-toggleable__label sk-toggleable__label-arrow\">StandardScaler</label><div class=\"sk-toggleable__content\"><pre>StandardScaler()</pre></div></div></div></div></div></div></div></div><div class=\"sk-parallel-item\"><div class=\"sk-item\"><div class=\"sk-label-container\"><div class=\"sk-label sk-toggleable\"><input class=\"sk-toggleable__control sk-hidden--visually\" id=\"74ab8593-0aa8-4f85-a496-c6ae0d6f7418\" type=\"checkbox\" ><label for=\"74ab8593-0aa8-4f85-a496-c6ae0d6f7418\" class=\"sk-toggleable__label sk-toggleable__label-arrow\">catvars</label><div class=\"sk-toggleable__content\"><pre>[&#x27;Fuel_Type&#x27;, &#x27;Transmission&#x27;, &#x27;Owner_Type&#x27;, &#x27;make&#x27;, &#x27;Location&#x27;]</pre></div></div></div><div class=\"sk-serial\"><div class=\"sk-item\"><div class=\"sk-serial\"><div class=\"sk-item\"><div class=\"sk-estimator sk-toggleable\"><input class=\"sk-toggleable__control sk-hidden--visually\" id=\"23826755-996c-4eb9-8d8e-86fe42db3ad6\" type=\"checkbox\" ><label for=\"23826755-996c-4eb9-8d8e-86fe42db3ad6\" class=\"sk-toggleable__label sk-toggleable__label-arrow\">OneHotEncoder</label><div class=\"sk-toggleable__content\"><pre>OneHotEncoder(handle_unknown=&#x27;ignore&#x27;)</pre></div></div></div></div></div></div></div></div></div></div><div class=\"sk-item\"><div class=\"sk-estimator sk-toggleable\"><input class=\"sk-toggleable__control sk-hidden--visually\" id=\"0b233a72-5197-449b-8835-8f038f4eee56\" type=\"checkbox\" ><label for=\"0b233a72-5197-449b-8835-8f038f4eee56\" class=\"sk-toggleable__label sk-toggleable__label-arrow\">KNeighborsRegressor</label><div class=\"sk-toggleable__content\"><pre>KNeighborsRegressor(n_neighbors=20, weights=&#x27;distance&#x27;)</pre></div></div></div></div></div></div></div>"
      ],
      "text/plain": [
       "Pipeline(steps=[('preprocessor',\n",
       "                 ColumnTransformer(transformers=[('num_imputed',\n",
       "                                                  Pipeline(steps=[('imputation',\n",
       "                                                                   SimpleImputer()),\n",
       "                                                                  ('scaler',\n",
       "                                                                   StandardScaler())]),\n",
       "                                                  ['Seats']),\n",
       "                                                 ('num_not_imputed',\n",
       "                                                  Pipeline(steps=[('scaler',\n",
       "                                                                   StandardScaler())]),\n",
       "                                                  ['age', 'engine_new',\n",
       "                                                   'mileage_new', 'power_new',\n",
       "                                                   'KM_Driven']),\n",
       "                                                 ('catvars',\n",
       "                                                  Pipeline(steps=[('ohencoder',\n",
       "                                                                   OneHotEncoder(handle_unknown='ignore'))]),\n",
       "                                                  ['Fuel_Type', 'Transmission',\n",
       "                                                   'Owner_Type', 'make',\n",
       "                                                   'Location'])])),\n",
       "                ('knn',\n",
       "                 KNeighborsRegressor(n_neighbors=20, weights='distance'))])"
      ]
     },
     "execution_count": 36,
     "metadata": {},
     "output_type": "execute_result"
    }
   ],
   "source": [
    "knn_v1"
   ]
  },
  {
   "cell_type": "markdown",
   "metadata": {
    "id": "zRdZEa4Rw22N"
   },
   "source": [
    "### Predict on test set"
   ]
  },
  {
   "cell_type": "code",
   "execution_count": 37,
   "metadata": {
    "id": "sAhILbR9w22N"
   },
   "outputs": [],
   "source": [
    "y_pred = knn_v1.predict(X_test)"
   ]
  },
  {
   "cell_type": "markdown",
   "metadata": {
    "id": "Bx3KXBGew22P"
   },
   "source": [
    "### K Fold Cross Validation"
   ]
  },
  {
   "cell_type": "code",
   "execution_count": 38,
   "metadata": {
    "id": "Nyu5t5njw22P"
   },
   "outputs": [],
   "source": [
    "from sklearn.model_selection import cross_val_score"
   ]
  },
  {
   "cell_type": "code",
   "execution_count": 39,
   "metadata": {
    "id": "701xL-nXw22P"
   },
   "outputs": [],
   "source": [
    "scores = cross_val_score( knn_v1,\n",
    "                          X_train,\n",
    "                          y_train,\n",
    "                          cv = 10,\n",
    "                          scoring = 'r2')"
   ]
  },
  {
   "cell_type": "code",
   "execution_count": 40,
   "metadata": {
    "colab": {
     "base_uri": "https://localhost:8080/"
    },
    "id": "_r_beNeyw22P",
    "outputId": "0cb5e238-dca9-42d8-c668-bf561985c735"
   },
   "outputs": [
    {
     "data": {
      "text/plain": [
       "array([0.80997331, 0.74171907, 0.81740538, 0.81873032, 0.78002919,\n",
       "       0.81584538, 0.80065021, 0.77851958, 0.8050088 , 0.81670127])"
      ]
     },
     "execution_count": 40,
     "metadata": {},
     "output_type": "execute_result"
    }
   ],
   "source": [
    "scores"
   ]
  },
  {
   "cell_type": "code",
   "execution_count": 41,
   "metadata": {
    "colab": {
     "base_uri": "https://localhost:8080/"
    },
    "id": "rEzsQb8Ew22P",
    "outputId": "df0a790d-3d94-4d86-8435-c8c9229b5465"
   },
   "outputs": [
    {
     "data": {
      "text/plain": [
       "0.7984582511564021"
      ]
     },
     "execution_count": 41,
     "metadata": {},
     "output_type": "execute_result"
    }
   ],
   "source": [
    "scores.mean()"
   ]
  },
  {
   "cell_type": "code",
   "execution_count": 42,
   "metadata": {
    "colab": {
     "base_uri": "https://localhost:8080/"
    },
    "id": "aUrmsOF4w22Q",
    "outputId": "af766237-f033-4d9c-8c0d-acdedb650966"
   },
   "outputs": [
    {
     "data": {
      "text/plain": [
       "0.023541233646453656"
      ]
     },
     "execution_count": 42,
     "metadata": {},
     "output_type": "execute_result"
    }
   ],
   "source": [
    "scores.std()"
   ]
  },
  {
   "cell_type": "markdown",
   "metadata": {
    "id": "0imBn21Cw22Q"
   },
   "source": [
    "## Grid Search"
   ]
  },
  {
   "cell_type": "code",
   "execution_count": 43,
   "metadata": {
    "id": "NnKBX3xRw22Q"
   },
   "outputs": [],
   "source": [
    "from sklearn.model_selection import GridSearchCV"
   ]
  },
  {
   "cell_type": "code",
   "execution_count": 44,
   "metadata": {
    "id": "1Im0B0TojT2g"
   },
   "outputs": [],
   "source": [
    "knn_params = { \"knn__n_neighbors\": [5, 10, 15, 20, 25],\n",
    "               \"knn__weights\": ['uniform', 'distance'],\n",
    "               \"knn__metric\": ['minkowski', 'euclidean']}"
   ]
  },
  {
   "cell_type": "code",
   "execution_count": 45,
   "metadata": {
    "id": "r-LLnCWww22Q"
   },
   "outputs": [],
   "source": [
    "knn_grid_v1 = GridSearchCV(knn_v1,\n",
    "                           param_grid=knn_params,\n",
    "                           cv = 10,\n",
    "                           scoring = 'r2')\n",
    "\n"
   ]
  },
  {
   "cell_type": "code",
   "execution_count": 46,
   "metadata": {
    "colab": {
     "base_uri": "https://localhost:8080/"
    },
    "id": "iqeib9Oww22R",
    "outputId": "1ac4ce3f-545a-4287-cbf9-1c6698079bb8"
   },
   "outputs": [
    {
     "data": {
      "text/html": [
       "<style>#sk-d390df37-25b5-4712-a4bb-18ccb31a6a23 {color: black;background-color: white;}#sk-d390df37-25b5-4712-a4bb-18ccb31a6a23 pre{padding: 0;}#sk-d390df37-25b5-4712-a4bb-18ccb31a6a23 div.sk-toggleable {background-color: white;}#sk-d390df37-25b5-4712-a4bb-18ccb31a6a23 label.sk-toggleable__label {cursor: pointer;display: block;width: 100%;margin-bottom: 0;padding: 0.3em;box-sizing: border-box;text-align: center;}#sk-d390df37-25b5-4712-a4bb-18ccb31a6a23 label.sk-toggleable__label-arrow:before {content: \"▸\";float: left;margin-right: 0.25em;color: #696969;}#sk-d390df37-25b5-4712-a4bb-18ccb31a6a23 label.sk-toggleable__label-arrow:hover:before {color: black;}#sk-d390df37-25b5-4712-a4bb-18ccb31a6a23 div.sk-estimator:hover label.sk-toggleable__label-arrow:before {color: black;}#sk-d390df37-25b5-4712-a4bb-18ccb31a6a23 div.sk-toggleable__content {max-height: 0;max-width: 0;overflow: hidden;text-align: left;background-color: #f0f8ff;}#sk-d390df37-25b5-4712-a4bb-18ccb31a6a23 div.sk-toggleable__content pre {margin: 0.2em;color: black;border-radius: 0.25em;background-color: #f0f8ff;}#sk-d390df37-25b5-4712-a4bb-18ccb31a6a23 input.sk-toggleable__control:checked~div.sk-toggleable__content {max-height: 200px;max-width: 100%;overflow: auto;}#sk-d390df37-25b5-4712-a4bb-18ccb31a6a23 input.sk-toggleable__control:checked~label.sk-toggleable__label-arrow:before {content: \"▾\";}#sk-d390df37-25b5-4712-a4bb-18ccb31a6a23 div.sk-estimator input.sk-toggleable__control:checked~label.sk-toggleable__label {background-color: #d4ebff;}#sk-d390df37-25b5-4712-a4bb-18ccb31a6a23 div.sk-label input.sk-toggleable__control:checked~label.sk-toggleable__label {background-color: #d4ebff;}#sk-d390df37-25b5-4712-a4bb-18ccb31a6a23 input.sk-hidden--visually {border: 0;clip: rect(1px 1px 1px 1px);clip: rect(1px, 1px, 1px, 1px);height: 1px;margin: -1px;overflow: hidden;padding: 0;position: absolute;width: 1px;}#sk-d390df37-25b5-4712-a4bb-18ccb31a6a23 div.sk-estimator {font-family: monospace;background-color: #f0f8ff;border: 1px dotted black;border-radius: 0.25em;box-sizing: border-box;margin-bottom: 0.5em;}#sk-d390df37-25b5-4712-a4bb-18ccb31a6a23 div.sk-estimator:hover {background-color: #d4ebff;}#sk-d390df37-25b5-4712-a4bb-18ccb31a6a23 div.sk-parallel-item::after {content: \"\";width: 100%;border-bottom: 1px solid gray;flex-grow: 1;}#sk-d390df37-25b5-4712-a4bb-18ccb31a6a23 div.sk-label:hover label.sk-toggleable__label {background-color: #d4ebff;}#sk-d390df37-25b5-4712-a4bb-18ccb31a6a23 div.sk-serial::before {content: \"\";position: absolute;border-left: 1px solid gray;box-sizing: border-box;top: 2em;bottom: 0;left: 50%;}#sk-d390df37-25b5-4712-a4bb-18ccb31a6a23 div.sk-serial {display: flex;flex-direction: column;align-items: center;background-color: white;padding-right: 0.2em;padding-left: 0.2em;}#sk-d390df37-25b5-4712-a4bb-18ccb31a6a23 div.sk-item {z-index: 1;}#sk-d390df37-25b5-4712-a4bb-18ccb31a6a23 div.sk-parallel {display: flex;align-items: stretch;justify-content: center;background-color: white;}#sk-d390df37-25b5-4712-a4bb-18ccb31a6a23 div.sk-parallel::before {content: \"\";position: absolute;border-left: 1px solid gray;box-sizing: border-box;top: 2em;bottom: 0;left: 50%;}#sk-d390df37-25b5-4712-a4bb-18ccb31a6a23 div.sk-parallel-item {display: flex;flex-direction: column;position: relative;background-color: white;}#sk-d390df37-25b5-4712-a4bb-18ccb31a6a23 div.sk-parallel-item:first-child::after {align-self: flex-end;width: 50%;}#sk-d390df37-25b5-4712-a4bb-18ccb31a6a23 div.sk-parallel-item:last-child::after {align-self: flex-start;width: 50%;}#sk-d390df37-25b5-4712-a4bb-18ccb31a6a23 div.sk-parallel-item:only-child::after {width: 0;}#sk-d390df37-25b5-4712-a4bb-18ccb31a6a23 div.sk-dashed-wrapped {border: 1px dashed gray;margin: 0 0.4em 0.5em 0.4em;box-sizing: border-box;padding-bottom: 0.4em;background-color: white;position: relative;}#sk-d390df37-25b5-4712-a4bb-18ccb31a6a23 div.sk-label label {font-family: monospace;font-weight: bold;background-color: white;display: inline-block;line-height: 1.2em;}#sk-d390df37-25b5-4712-a4bb-18ccb31a6a23 div.sk-label-container {position: relative;z-index: 2;text-align: center;}#sk-d390df37-25b5-4712-a4bb-18ccb31a6a23 div.sk-container {/* jupyter's `normalize.less` sets `[hidden] { display: none; }` but bootstrap.min.css set `[hidden] { display: none !important; }` so we also need the `!important` here to be able to override the default hidden behavior on the sphinx rendered scikit-learn.org. See: https://github.com/scikit-learn/scikit-learn/issues/21755 */display: inline-block !important;position: relative;}#sk-d390df37-25b5-4712-a4bb-18ccb31a6a23 div.sk-text-repr-fallback {display: none;}</style><div id=\"sk-d390df37-25b5-4712-a4bb-18ccb31a6a23\" class=\"sk-top-container\"><div class=\"sk-text-repr-fallback\"><pre>GridSearchCV(cv=10,\n",
       "             estimator=Pipeline(steps=[(&#x27;preprocessor&#x27;,\n",
       "                                        ColumnTransformer(transformers=[(&#x27;num_imputed&#x27;,\n",
       "                                                                         Pipeline(steps=[(&#x27;imputation&#x27;,\n",
       "                                                                                          SimpleImputer()),\n",
       "                                                                                         (&#x27;scaler&#x27;,\n",
       "                                                                                          StandardScaler())]),\n",
       "                                                                         [&#x27;Seats&#x27;]),\n",
       "                                                                        (&#x27;num_not_imputed&#x27;,\n",
       "                                                                         Pipeline(steps=[(&#x27;scaler&#x27;,\n",
       "                                                                                          StandardScaler())]),\n",
       "                                                                         [&#x27;age&#x27;,\n",
       "                                                                          &#x27;engine_new&#x27;,\n",
       "                                                                          &#x27;mileage_new&#x27;,\n",
       "                                                                          &#x27;power_new&#x27;,\n",
       "                                                                          &#x27;KM_Driven&#x27;]),\n",
       "                                                                        (&#x27;catvars&#x27;,\n",
       "                                                                         Pipeline(steps=[(&#x27;ohencoder&#x27;,\n",
       "                                                                                          OneHotEncoder(handle_unknown=&#x27;ignore&#x27;))]),\n",
       "                                                                         [&#x27;Fuel_Type&#x27;,\n",
       "                                                                          &#x27;Transmission&#x27;,\n",
       "                                                                          &#x27;Owner_Type&#x27;,\n",
       "                                                                          &#x27;make&#x27;,\n",
       "                                                                          &#x27;Location&#x27;])])),\n",
       "                                       (&#x27;knn&#x27;,\n",
       "                                        KNeighborsRegressor(n_neighbors=20,\n",
       "                                                            weights=&#x27;distance&#x27;))]),\n",
       "             param_grid={&#x27;knn__metric&#x27;: [&#x27;minkowski&#x27;, &#x27;euclidean&#x27;],\n",
       "                         &#x27;knn__n_neighbors&#x27;: [5, 10, 15, 20, 25],\n",
       "                         &#x27;knn__weights&#x27;: [&#x27;uniform&#x27;, &#x27;distance&#x27;]},\n",
       "             scoring=&#x27;r2&#x27;)</pre><b>Please rerun this cell to show the HTML repr or trust the notebook.</b></div><div class=\"sk-container\" hidden><div class=\"sk-item sk-dashed-wrapped\"><div class=\"sk-label-container\"><div class=\"sk-label sk-toggleable\"><input class=\"sk-toggleable__control sk-hidden--visually\" id=\"eca39725-b140-4074-84f3-57a955da8bec\" type=\"checkbox\" ><label for=\"eca39725-b140-4074-84f3-57a955da8bec\" class=\"sk-toggleable__label sk-toggleable__label-arrow\">GridSearchCV</label><div class=\"sk-toggleable__content\"><pre>GridSearchCV(cv=10,\n",
       "             estimator=Pipeline(steps=[(&#x27;preprocessor&#x27;,\n",
       "                                        ColumnTransformer(transformers=[(&#x27;num_imputed&#x27;,\n",
       "                                                                         Pipeline(steps=[(&#x27;imputation&#x27;,\n",
       "                                                                                          SimpleImputer()),\n",
       "                                                                                         (&#x27;scaler&#x27;,\n",
       "                                                                                          StandardScaler())]),\n",
       "                                                                         [&#x27;Seats&#x27;]),\n",
       "                                                                        (&#x27;num_not_imputed&#x27;,\n",
       "                                                                         Pipeline(steps=[(&#x27;scaler&#x27;,\n",
       "                                                                                          StandardScaler())]),\n",
       "                                                                         [&#x27;age&#x27;,\n",
       "                                                                          &#x27;engine_new&#x27;,\n",
       "                                                                          &#x27;mileage_new&#x27;,\n",
       "                                                                          &#x27;power_new&#x27;,\n",
       "                                                                          &#x27;KM_Driven&#x27;]),\n",
       "                                                                        (&#x27;catvars&#x27;,\n",
       "                                                                         Pipeline(steps=[(&#x27;ohencoder&#x27;,\n",
       "                                                                                          OneHotEncoder(handle_unknown=&#x27;ignore&#x27;))]),\n",
       "                                                                         [&#x27;Fuel_Type&#x27;,\n",
       "                                                                          &#x27;Transmission&#x27;,\n",
       "                                                                          &#x27;Owner_Type&#x27;,\n",
       "                                                                          &#x27;make&#x27;,\n",
       "                                                                          &#x27;Location&#x27;])])),\n",
       "                                       (&#x27;knn&#x27;,\n",
       "                                        KNeighborsRegressor(n_neighbors=20,\n",
       "                                                            weights=&#x27;distance&#x27;))]),\n",
       "             param_grid={&#x27;knn__metric&#x27;: [&#x27;minkowski&#x27;, &#x27;euclidean&#x27;],\n",
       "                         &#x27;knn__n_neighbors&#x27;: [5, 10, 15, 20, 25],\n",
       "                         &#x27;knn__weights&#x27;: [&#x27;uniform&#x27;, &#x27;distance&#x27;]},\n",
       "             scoring=&#x27;r2&#x27;)</pre></div></div></div><div class=\"sk-parallel\"><div class=\"sk-parallel-item\"><div class=\"sk-item\"><div class=\"sk-serial\"><div class=\"sk-item\"><div class=\"sk-serial\"><div class=\"sk-item sk-dashed-wrapped\"><div class=\"sk-label-container\"><div class=\"sk-label sk-toggleable\"><input class=\"sk-toggleable__control sk-hidden--visually\" id=\"def2dbc0-fb36-474c-9a27-e5810e69ac1b\" type=\"checkbox\" ><label for=\"def2dbc0-fb36-474c-9a27-e5810e69ac1b\" class=\"sk-toggleable__label sk-toggleable__label-arrow\">preprocessor: ColumnTransformer</label><div class=\"sk-toggleable__content\"><pre>ColumnTransformer(transformers=[(&#x27;num_imputed&#x27;,\n",
       "                                 Pipeline(steps=[(&#x27;imputation&#x27;,\n",
       "                                                  SimpleImputer()),\n",
       "                                                 (&#x27;scaler&#x27;, StandardScaler())]),\n",
       "                                 [&#x27;Seats&#x27;]),\n",
       "                                (&#x27;num_not_imputed&#x27;,\n",
       "                                 Pipeline(steps=[(&#x27;scaler&#x27;, StandardScaler())]),\n",
       "                                 [&#x27;age&#x27;, &#x27;engine_new&#x27;, &#x27;mileage_new&#x27;,\n",
       "                                  &#x27;power_new&#x27;, &#x27;KM_Driven&#x27;]),\n",
       "                                (&#x27;catvars&#x27;,\n",
       "                                 Pipeline(steps=[(&#x27;ohencoder&#x27;,\n",
       "                                                  OneHotEncoder(handle_unknown=&#x27;ignore&#x27;))]),\n",
       "                                 [&#x27;Fuel_Type&#x27;, &#x27;Transmission&#x27;, &#x27;Owner_Type&#x27;,\n",
       "                                  &#x27;make&#x27;, &#x27;Location&#x27;])])</pre></div></div></div><div class=\"sk-parallel\"><div class=\"sk-parallel-item\"><div class=\"sk-item\"><div class=\"sk-label-container\"><div class=\"sk-label sk-toggleable\"><input class=\"sk-toggleable__control sk-hidden--visually\" id=\"70e762dd-d070-41af-9204-c9744ea0f715\" type=\"checkbox\" ><label for=\"70e762dd-d070-41af-9204-c9744ea0f715\" class=\"sk-toggleable__label sk-toggleable__label-arrow\">num_imputed</label><div class=\"sk-toggleable__content\"><pre>[&#x27;Seats&#x27;]</pre></div></div></div><div class=\"sk-serial\"><div class=\"sk-item\"><div class=\"sk-serial\"><div class=\"sk-item\"><div class=\"sk-estimator sk-toggleable\"><input class=\"sk-toggleable__control sk-hidden--visually\" id=\"37f7aef6-113c-42a2-9818-368bf11c44f4\" type=\"checkbox\" ><label for=\"37f7aef6-113c-42a2-9818-368bf11c44f4\" class=\"sk-toggleable__label sk-toggleable__label-arrow\">SimpleImputer</label><div class=\"sk-toggleable__content\"><pre>SimpleImputer()</pre></div></div></div><div class=\"sk-item\"><div class=\"sk-estimator sk-toggleable\"><input class=\"sk-toggleable__control sk-hidden--visually\" id=\"16ae6582-7083-4c1c-ae02-015ff9e04226\" type=\"checkbox\" ><label for=\"16ae6582-7083-4c1c-ae02-015ff9e04226\" class=\"sk-toggleable__label sk-toggleable__label-arrow\">StandardScaler</label><div class=\"sk-toggleable__content\"><pre>StandardScaler()</pre></div></div></div></div></div></div></div></div><div class=\"sk-parallel-item\"><div class=\"sk-item\"><div class=\"sk-label-container\"><div class=\"sk-label sk-toggleable\"><input class=\"sk-toggleable__control sk-hidden--visually\" id=\"ee518b67-b82b-4e0c-af21-b1d9210688fe\" type=\"checkbox\" ><label for=\"ee518b67-b82b-4e0c-af21-b1d9210688fe\" class=\"sk-toggleable__label sk-toggleable__label-arrow\">num_not_imputed</label><div class=\"sk-toggleable__content\"><pre>[&#x27;age&#x27;, &#x27;engine_new&#x27;, &#x27;mileage_new&#x27;, &#x27;power_new&#x27;, &#x27;KM_Driven&#x27;]</pre></div></div></div><div class=\"sk-serial\"><div class=\"sk-item\"><div class=\"sk-serial\"><div class=\"sk-item\"><div class=\"sk-estimator sk-toggleable\"><input class=\"sk-toggleable__control sk-hidden--visually\" id=\"168d595e-77ea-4d98-ab66-72517c750ac4\" type=\"checkbox\" ><label for=\"168d595e-77ea-4d98-ab66-72517c750ac4\" class=\"sk-toggleable__label sk-toggleable__label-arrow\">StandardScaler</label><div class=\"sk-toggleable__content\"><pre>StandardScaler()</pre></div></div></div></div></div></div></div></div><div class=\"sk-parallel-item\"><div class=\"sk-item\"><div class=\"sk-label-container\"><div class=\"sk-label sk-toggleable\"><input class=\"sk-toggleable__control sk-hidden--visually\" id=\"f7afed64-cdc6-4919-905d-32f204713b43\" type=\"checkbox\" ><label for=\"f7afed64-cdc6-4919-905d-32f204713b43\" class=\"sk-toggleable__label sk-toggleable__label-arrow\">catvars</label><div class=\"sk-toggleable__content\"><pre>[&#x27;Fuel_Type&#x27;, &#x27;Transmission&#x27;, &#x27;Owner_Type&#x27;, &#x27;make&#x27;, &#x27;Location&#x27;]</pre></div></div></div><div class=\"sk-serial\"><div class=\"sk-item\"><div class=\"sk-serial\"><div class=\"sk-item\"><div class=\"sk-estimator sk-toggleable\"><input class=\"sk-toggleable__control sk-hidden--visually\" id=\"e6174487-20c0-4839-89db-032e7b5ab32e\" type=\"checkbox\" ><label for=\"e6174487-20c0-4839-89db-032e7b5ab32e\" class=\"sk-toggleable__label sk-toggleable__label-arrow\">OneHotEncoder</label><div class=\"sk-toggleable__content\"><pre>OneHotEncoder(handle_unknown=&#x27;ignore&#x27;)</pre></div></div></div></div></div></div></div></div></div></div><div class=\"sk-item\"><div class=\"sk-estimator sk-toggleable\"><input class=\"sk-toggleable__control sk-hidden--visually\" id=\"ce0671a4-a8c2-43bd-b977-56d553b204bf\" type=\"checkbox\" ><label for=\"ce0671a4-a8c2-43bd-b977-56d553b204bf\" class=\"sk-toggleable__label sk-toggleable__label-arrow\">KNeighborsRegressor</label><div class=\"sk-toggleable__content\"><pre>KNeighborsRegressor(n_neighbors=20, weights=&#x27;distance&#x27;)</pre></div></div></div></div></div></div></div></div></div></div></div></div>"
      ],
      "text/plain": [
       "GridSearchCV(cv=10,\n",
       "             estimator=Pipeline(steps=[('preprocessor',\n",
       "                                        ColumnTransformer(transformers=[('num_imputed',\n",
       "                                                                         Pipeline(steps=[('imputation',\n",
       "                                                                                          SimpleImputer()),\n",
       "                                                                                         ('scaler',\n",
       "                                                                                          StandardScaler())]),\n",
       "                                                                         ['Seats']),\n",
       "                                                                        ('num_not_imputed',\n",
       "                                                                         Pipeline(steps=[('scaler',\n",
       "                                                                                          StandardScaler())]),\n",
       "                                                                         ['age',\n",
       "                                                                          'engine_new',\n",
       "                                                                          'mileage_new',\n",
       "                                                                          'power_new',\n",
       "                                                                          'KM_Driven']),\n",
       "                                                                        ('catvars',\n",
       "                                                                         Pipeline(steps=[('ohencoder',\n",
       "                                                                                          OneHotEncoder(handle_unknown='ignore'))]),\n",
       "                                                                         ['Fuel_Type',\n",
       "                                                                          'Transmission',\n",
       "                                                                          'Owner_Type',\n",
       "                                                                          'make',\n",
       "                                                                          'Location'])])),\n",
       "                                       ('knn',\n",
       "                                        KNeighborsRegressor(n_neighbors=20,\n",
       "                                                            weights='distance'))]),\n",
       "             param_grid={'knn__metric': ['minkowski', 'euclidean'],\n",
       "                         'knn__n_neighbors': [5, 10, 15, 20, 25],\n",
       "                         'knn__weights': ['uniform', 'distance']},\n",
       "             scoring='r2')"
      ]
     },
     "execution_count": 46,
     "metadata": {},
     "output_type": "execute_result"
    }
   ],
   "source": [
    "knn_grid_v1.fit(X_train, y_train)"
   ]
  },
  {
   "cell_type": "code",
   "execution_count": 47,
   "metadata": {
    "colab": {
     "base_uri": "https://localhost:8080/"
    },
    "id": "s1XEdYrIw22R",
    "outputId": "07898580-d2e0-43c1-db9c-6e369c1e0bcf"
   },
   "outputs": [
    {
     "data": {
      "text/plain": [
       "{'knn__metric': 'minkowski',\n",
       " 'knn__n_neighbors': 10,\n",
       " 'knn__weights': 'distance'}"
      ]
     },
     "execution_count": 47,
     "metadata": {},
     "output_type": "execute_result"
    }
   ],
   "source": [
    "knn_grid_v1.best_params_"
   ]
  },
  {
   "cell_type": "code",
   "execution_count": 48,
   "metadata": {
    "colab": {
     "base_uri": "https://localhost:8080/"
    },
    "id": "--9cpdJTw22R",
    "outputId": "e1098526-c229-46c0-9e93-d33dc182192c"
   },
   "outputs": [
    {
     "data": {
      "text/plain": [
       "0.8152355641029411"
      ]
     },
     "execution_count": 48,
     "metadata": {},
     "output_type": "execute_result"
    }
   ],
   "source": [
    "knn_grid_v1.best_score_"
   ]
  },
  {
   "cell_type": "code",
   "execution_count": 49,
   "metadata": {
    "colab": {
     "base_uri": "https://localhost:8080/",
     "height": 676
    },
    "id": "2FHNcJwRw22R",
    "outputId": "9ed2f2c5-49e4-4d62-bbe3-12168a97bc21"
   },
   "outputs": [
    {
     "data": {
      "text/html": [
       "<div>\n",
       "<style scoped>\n",
       "    .dataframe tbody tr th:only-of-type {\n",
       "        vertical-align: middle;\n",
       "    }\n",
       "\n",
       "    .dataframe tbody tr th {\n",
       "        vertical-align: top;\n",
       "    }\n",
       "\n",
       "    .dataframe thead th {\n",
       "        text-align: right;\n",
       "    }\n",
       "</style>\n",
       "<table border=\"1\" class=\"dataframe\">\n",
       "  <thead>\n",
       "    <tr style=\"text-align: right;\">\n",
       "      <th></th>\n",
       "      <th>param_knn__n_neighbors</th>\n",
       "      <th>param_knn__weights</th>\n",
       "      <th>mean_test_score</th>\n",
       "      <th>std_test_score</th>\n",
       "    </tr>\n",
       "  </thead>\n",
       "  <tbody>\n",
       "    <tr>\n",
       "      <th>0</th>\n",
       "      <td>5</td>\n",
       "      <td>uniform</td>\n",
       "      <td>0.795796</td>\n",
       "      <td>0.029375</td>\n",
       "    </tr>\n",
       "    <tr>\n",
       "      <th>1</th>\n",
       "      <td>5</td>\n",
       "      <td>distance</td>\n",
       "      <td>0.808355</td>\n",
       "      <td>0.026944</td>\n",
       "    </tr>\n",
       "    <tr>\n",
       "      <th>2</th>\n",
       "      <td>10</td>\n",
       "      <td>uniform</td>\n",
       "      <td>0.799726</td>\n",
       "      <td>0.024229</td>\n",
       "    </tr>\n",
       "    <tr>\n",
       "      <th>3</th>\n",
       "      <td>10</td>\n",
       "      <td>distance</td>\n",
       "      <td>0.815236</td>\n",
       "      <td>0.024537</td>\n",
       "    </tr>\n",
       "    <tr>\n",
       "      <th>4</th>\n",
       "      <td>15</td>\n",
       "      <td>uniform</td>\n",
       "      <td>0.787142</td>\n",
       "      <td>0.024172</td>\n",
       "    </tr>\n",
       "    <tr>\n",
       "      <th>5</th>\n",
       "      <td>15</td>\n",
       "      <td>distance</td>\n",
       "      <td>0.808183</td>\n",
       "      <td>0.024007</td>\n",
       "    </tr>\n",
       "    <tr>\n",
       "      <th>6</th>\n",
       "      <td>20</td>\n",
       "      <td>uniform</td>\n",
       "      <td>0.773485</td>\n",
       "      <td>0.023376</td>\n",
       "    </tr>\n",
       "    <tr>\n",
       "      <th>7</th>\n",
       "      <td>20</td>\n",
       "      <td>distance</td>\n",
       "      <td>0.798458</td>\n",
       "      <td>0.023541</td>\n",
       "    </tr>\n",
       "    <tr>\n",
       "      <th>8</th>\n",
       "      <td>25</td>\n",
       "      <td>uniform</td>\n",
       "      <td>0.767410</td>\n",
       "      <td>0.023010</td>\n",
       "    </tr>\n",
       "    <tr>\n",
       "      <th>9</th>\n",
       "      <td>25</td>\n",
       "      <td>distance</td>\n",
       "      <td>0.794187</td>\n",
       "      <td>0.022885</td>\n",
       "    </tr>\n",
       "    <tr>\n",
       "      <th>10</th>\n",
       "      <td>5</td>\n",
       "      <td>uniform</td>\n",
       "      <td>0.795796</td>\n",
       "      <td>0.029375</td>\n",
       "    </tr>\n",
       "    <tr>\n",
       "      <th>11</th>\n",
       "      <td>5</td>\n",
       "      <td>distance</td>\n",
       "      <td>0.808355</td>\n",
       "      <td>0.026944</td>\n",
       "    </tr>\n",
       "    <tr>\n",
       "      <th>12</th>\n",
       "      <td>10</td>\n",
       "      <td>uniform</td>\n",
       "      <td>0.799726</td>\n",
       "      <td>0.024229</td>\n",
       "    </tr>\n",
       "    <tr>\n",
       "      <th>13</th>\n",
       "      <td>10</td>\n",
       "      <td>distance</td>\n",
       "      <td>0.815236</td>\n",
       "      <td>0.024537</td>\n",
       "    </tr>\n",
       "    <tr>\n",
       "      <th>14</th>\n",
       "      <td>15</td>\n",
       "      <td>uniform</td>\n",
       "      <td>0.787142</td>\n",
       "      <td>0.024172</td>\n",
       "    </tr>\n",
       "    <tr>\n",
       "      <th>15</th>\n",
       "      <td>15</td>\n",
       "      <td>distance</td>\n",
       "      <td>0.808183</td>\n",
       "      <td>0.024007</td>\n",
       "    </tr>\n",
       "    <tr>\n",
       "      <th>16</th>\n",
       "      <td>20</td>\n",
       "      <td>uniform</td>\n",
       "      <td>0.773485</td>\n",
       "      <td>0.023376</td>\n",
       "    </tr>\n",
       "    <tr>\n",
       "      <th>17</th>\n",
       "      <td>20</td>\n",
       "      <td>distance</td>\n",
       "      <td>0.798458</td>\n",
       "      <td>0.023541</td>\n",
       "    </tr>\n",
       "    <tr>\n",
       "      <th>18</th>\n",
       "      <td>25</td>\n",
       "      <td>uniform</td>\n",
       "      <td>0.767410</td>\n",
       "      <td>0.023010</td>\n",
       "    </tr>\n",
       "    <tr>\n",
       "      <th>19</th>\n",
       "      <td>25</td>\n",
       "      <td>distance</td>\n",
       "      <td>0.794187</td>\n",
       "      <td>0.022885</td>\n",
       "    </tr>\n",
       "  </tbody>\n",
       "</table>\n",
       "</div>"
      ],
      "text/plain": [
       "   param_knn__n_neighbors param_knn__weights  mean_test_score  std_test_score\n",
       "0                       5            uniform         0.795796        0.029375\n",
       "1                       5           distance         0.808355        0.026944\n",
       "2                      10            uniform         0.799726        0.024229\n",
       "3                      10           distance         0.815236        0.024537\n",
       "4                      15            uniform         0.787142        0.024172\n",
       "5                      15           distance         0.808183        0.024007\n",
       "6                      20            uniform         0.773485        0.023376\n",
       "7                      20           distance         0.798458        0.023541\n",
       "8                      25            uniform         0.767410        0.023010\n",
       "9                      25           distance         0.794187        0.022885\n",
       "10                      5            uniform         0.795796        0.029375\n",
       "11                      5           distance         0.808355        0.026944\n",
       "12                     10            uniform         0.799726        0.024229\n",
       "13                     10           distance         0.815236        0.024537\n",
       "14                     15            uniform         0.787142        0.024172\n",
       "15                     15           distance         0.808183        0.024007\n",
       "16                     20            uniform         0.773485        0.023376\n",
       "17                     20           distance         0.798458        0.023541\n",
       "18                     25            uniform         0.767410        0.023010\n",
       "19                     25           distance         0.794187        0.022885"
      ]
     },
     "execution_count": 49,
     "metadata": {},
     "output_type": "execute_result"
    }
   ],
   "source": [
    "knn_grid_results = pd.DataFrame( knn_grid_v1.cv_results_ )\n",
    "knn_grid_results[['param_knn__n_neighbors', 'param_knn__weights', 'mean_test_score', 'std_test_score']]"
   ]
  },
  {
   "cell_type": "markdown",
   "metadata": {
    "id": "eM06sfQLx8zq"
   },
   "source": [
    "### Building the final model"
   ]
  },
  {
   "cell_type": "code",
   "execution_count": 50,
   "metadata": {
    "id": "Z8sKzD6dx_Ui"
   },
   "outputs": [],
   "source": [
    "final_model = KNeighborsRegressor(n_neighbors = 5, weights = 'distance', metric = 'minkowski')\n",
    "knn_final = Pipeline(steps=[('preprocessor', preprocessor),\n",
    "                          ('knn', final_model)])"
   ]
  },
  {
   "cell_type": "code",
   "execution_count": 51,
   "metadata": {
    "colab": {
     "base_uri": "https://localhost:8080/"
    },
    "id": "D3i-CWT81jSM",
    "outputId": "b3f3d764-babb-4c3d-fa58-183258e59cae"
   },
   "outputs": [
    {
     "data": {
      "text/html": [
       "<style>#sk-2da9add7-e92a-4584-8ccf-bedf15c01ad1 {color: black;background-color: white;}#sk-2da9add7-e92a-4584-8ccf-bedf15c01ad1 pre{padding: 0;}#sk-2da9add7-e92a-4584-8ccf-bedf15c01ad1 div.sk-toggleable {background-color: white;}#sk-2da9add7-e92a-4584-8ccf-bedf15c01ad1 label.sk-toggleable__label {cursor: pointer;display: block;width: 100%;margin-bottom: 0;padding: 0.3em;box-sizing: border-box;text-align: center;}#sk-2da9add7-e92a-4584-8ccf-bedf15c01ad1 label.sk-toggleable__label-arrow:before {content: \"▸\";float: left;margin-right: 0.25em;color: #696969;}#sk-2da9add7-e92a-4584-8ccf-bedf15c01ad1 label.sk-toggleable__label-arrow:hover:before {color: black;}#sk-2da9add7-e92a-4584-8ccf-bedf15c01ad1 div.sk-estimator:hover label.sk-toggleable__label-arrow:before {color: black;}#sk-2da9add7-e92a-4584-8ccf-bedf15c01ad1 div.sk-toggleable__content {max-height: 0;max-width: 0;overflow: hidden;text-align: left;background-color: #f0f8ff;}#sk-2da9add7-e92a-4584-8ccf-bedf15c01ad1 div.sk-toggleable__content pre {margin: 0.2em;color: black;border-radius: 0.25em;background-color: #f0f8ff;}#sk-2da9add7-e92a-4584-8ccf-bedf15c01ad1 input.sk-toggleable__control:checked~div.sk-toggleable__content {max-height: 200px;max-width: 100%;overflow: auto;}#sk-2da9add7-e92a-4584-8ccf-bedf15c01ad1 input.sk-toggleable__control:checked~label.sk-toggleable__label-arrow:before {content: \"▾\";}#sk-2da9add7-e92a-4584-8ccf-bedf15c01ad1 div.sk-estimator input.sk-toggleable__control:checked~label.sk-toggleable__label {background-color: #d4ebff;}#sk-2da9add7-e92a-4584-8ccf-bedf15c01ad1 div.sk-label input.sk-toggleable__control:checked~label.sk-toggleable__label {background-color: #d4ebff;}#sk-2da9add7-e92a-4584-8ccf-bedf15c01ad1 input.sk-hidden--visually {border: 0;clip: rect(1px 1px 1px 1px);clip: rect(1px, 1px, 1px, 1px);height: 1px;margin: -1px;overflow: hidden;padding: 0;position: absolute;width: 1px;}#sk-2da9add7-e92a-4584-8ccf-bedf15c01ad1 div.sk-estimator {font-family: monospace;background-color: #f0f8ff;border: 1px dotted black;border-radius: 0.25em;box-sizing: border-box;margin-bottom: 0.5em;}#sk-2da9add7-e92a-4584-8ccf-bedf15c01ad1 div.sk-estimator:hover {background-color: #d4ebff;}#sk-2da9add7-e92a-4584-8ccf-bedf15c01ad1 div.sk-parallel-item::after {content: \"\";width: 100%;border-bottom: 1px solid gray;flex-grow: 1;}#sk-2da9add7-e92a-4584-8ccf-bedf15c01ad1 div.sk-label:hover label.sk-toggleable__label {background-color: #d4ebff;}#sk-2da9add7-e92a-4584-8ccf-bedf15c01ad1 div.sk-serial::before {content: \"\";position: absolute;border-left: 1px solid gray;box-sizing: border-box;top: 2em;bottom: 0;left: 50%;}#sk-2da9add7-e92a-4584-8ccf-bedf15c01ad1 div.sk-serial {display: flex;flex-direction: column;align-items: center;background-color: white;padding-right: 0.2em;padding-left: 0.2em;}#sk-2da9add7-e92a-4584-8ccf-bedf15c01ad1 div.sk-item {z-index: 1;}#sk-2da9add7-e92a-4584-8ccf-bedf15c01ad1 div.sk-parallel {display: flex;align-items: stretch;justify-content: center;background-color: white;}#sk-2da9add7-e92a-4584-8ccf-bedf15c01ad1 div.sk-parallel::before {content: \"\";position: absolute;border-left: 1px solid gray;box-sizing: border-box;top: 2em;bottom: 0;left: 50%;}#sk-2da9add7-e92a-4584-8ccf-bedf15c01ad1 div.sk-parallel-item {display: flex;flex-direction: column;position: relative;background-color: white;}#sk-2da9add7-e92a-4584-8ccf-bedf15c01ad1 div.sk-parallel-item:first-child::after {align-self: flex-end;width: 50%;}#sk-2da9add7-e92a-4584-8ccf-bedf15c01ad1 div.sk-parallel-item:last-child::after {align-self: flex-start;width: 50%;}#sk-2da9add7-e92a-4584-8ccf-bedf15c01ad1 div.sk-parallel-item:only-child::after {width: 0;}#sk-2da9add7-e92a-4584-8ccf-bedf15c01ad1 div.sk-dashed-wrapped {border: 1px dashed gray;margin: 0 0.4em 0.5em 0.4em;box-sizing: border-box;padding-bottom: 0.4em;background-color: white;position: relative;}#sk-2da9add7-e92a-4584-8ccf-bedf15c01ad1 div.sk-label label {font-family: monospace;font-weight: bold;background-color: white;display: inline-block;line-height: 1.2em;}#sk-2da9add7-e92a-4584-8ccf-bedf15c01ad1 div.sk-label-container {position: relative;z-index: 2;text-align: center;}#sk-2da9add7-e92a-4584-8ccf-bedf15c01ad1 div.sk-container {/* jupyter's `normalize.less` sets `[hidden] { display: none; }` but bootstrap.min.css set `[hidden] { display: none !important; }` so we also need the `!important` here to be able to override the default hidden behavior on the sphinx rendered scikit-learn.org. See: https://github.com/scikit-learn/scikit-learn/issues/21755 */display: inline-block !important;position: relative;}#sk-2da9add7-e92a-4584-8ccf-bedf15c01ad1 div.sk-text-repr-fallback {display: none;}</style><div id=\"sk-2da9add7-e92a-4584-8ccf-bedf15c01ad1\" class=\"sk-top-container\"><div class=\"sk-text-repr-fallback\"><pre>Pipeline(steps=[(&#x27;preprocessor&#x27;,\n",
       "                 ColumnTransformer(transformers=[(&#x27;num_imputed&#x27;,\n",
       "                                                  Pipeline(steps=[(&#x27;imputation&#x27;,\n",
       "                                                                   SimpleImputer()),\n",
       "                                                                  (&#x27;scaler&#x27;,\n",
       "                                                                   StandardScaler())]),\n",
       "                                                  [&#x27;Seats&#x27;]),\n",
       "                                                 (&#x27;num_not_imputed&#x27;,\n",
       "                                                  Pipeline(steps=[(&#x27;scaler&#x27;,\n",
       "                                                                   StandardScaler())]),\n",
       "                                                  [&#x27;age&#x27;, &#x27;engine_new&#x27;,\n",
       "                                                   &#x27;mileage_new&#x27;, &#x27;power_new&#x27;,\n",
       "                                                   &#x27;KM_Driven&#x27;]),\n",
       "                                                 (&#x27;catvars&#x27;,\n",
       "                                                  Pipeline(steps=[(&#x27;ohencoder&#x27;,\n",
       "                                                                   OneHotEncoder(handle_unknown=&#x27;ignore&#x27;))]),\n",
       "                                                  [&#x27;Fuel_Type&#x27;, &#x27;Transmission&#x27;,\n",
       "                                                   &#x27;Owner_Type&#x27;, &#x27;make&#x27;,\n",
       "                                                   &#x27;Location&#x27;])])),\n",
       "                (&#x27;knn&#x27;, KNeighborsRegressor(weights=&#x27;distance&#x27;))])</pre><b>Please rerun this cell to show the HTML repr or trust the notebook.</b></div><div class=\"sk-container\" hidden><div class=\"sk-item sk-dashed-wrapped\"><div class=\"sk-label-container\"><div class=\"sk-label sk-toggleable\"><input class=\"sk-toggleable__control sk-hidden--visually\" id=\"8777688a-e519-4a77-ae23-83b62dfc7dbd\" type=\"checkbox\" ><label for=\"8777688a-e519-4a77-ae23-83b62dfc7dbd\" class=\"sk-toggleable__label sk-toggleable__label-arrow\">Pipeline</label><div class=\"sk-toggleable__content\"><pre>Pipeline(steps=[(&#x27;preprocessor&#x27;,\n",
       "                 ColumnTransformer(transformers=[(&#x27;num_imputed&#x27;,\n",
       "                                                  Pipeline(steps=[(&#x27;imputation&#x27;,\n",
       "                                                                   SimpleImputer()),\n",
       "                                                                  (&#x27;scaler&#x27;,\n",
       "                                                                   StandardScaler())]),\n",
       "                                                  [&#x27;Seats&#x27;]),\n",
       "                                                 (&#x27;num_not_imputed&#x27;,\n",
       "                                                  Pipeline(steps=[(&#x27;scaler&#x27;,\n",
       "                                                                   StandardScaler())]),\n",
       "                                                  [&#x27;age&#x27;, &#x27;engine_new&#x27;,\n",
       "                                                   &#x27;mileage_new&#x27;, &#x27;power_new&#x27;,\n",
       "                                                   &#x27;KM_Driven&#x27;]),\n",
       "                                                 (&#x27;catvars&#x27;,\n",
       "                                                  Pipeline(steps=[(&#x27;ohencoder&#x27;,\n",
       "                                                                   OneHotEncoder(handle_unknown=&#x27;ignore&#x27;))]),\n",
       "                                                  [&#x27;Fuel_Type&#x27;, &#x27;Transmission&#x27;,\n",
       "                                                   &#x27;Owner_Type&#x27;, &#x27;make&#x27;,\n",
       "                                                   &#x27;Location&#x27;])])),\n",
       "                (&#x27;knn&#x27;, KNeighborsRegressor(weights=&#x27;distance&#x27;))])</pre></div></div></div><div class=\"sk-serial\"><div class=\"sk-item sk-dashed-wrapped\"><div class=\"sk-label-container\"><div class=\"sk-label sk-toggleable\"><input class=\"sk-toggleable__control sk-hidden--visually\" id=\"56a651c5-250a-4ce4-9e60-9be4c1b5f590\" type=\"checkbox\" ><label for=\"56a651c5-250a-4ce4-9e60-9be4c1b5f590\" class=\"sk-toggleable__label sk-toggleable__label-arrow\">preprocessor: ColumnTransformer</label><div class=\"sk-toggleable__content\"><pre>ColumnTransformer(transformers=[(&#x27;num_imputed&#x27;,\n",
       "                                 Pipeline(steps=[(&#x27;imputation&#x27;,\n",
       "                                                  SimpleImputer()),\n",
       "                                                 (&#x27;scaler&#x27;, StandardScaler())]),\n",
       "                                 [&#x27;Seats&#x27;]),\n",
       "                                (&#x27;num_not_imputed&#x27;,\n",
       "                                 Pipeline(steps=[(&#x27;scaler&#x27;, StandardScaler())]),\n",
       "                                 [&#x27;age&#x27;, &#x27;engine_new&#x27;, &#x27;mileage_new&#x27;,\n",
       "                                  &#x27;power_new&#x27;, &#x27;KM_Driven&#x27;]),\n",
       "                                (&#x27;catvars&#x27;,\n",
       "                                 Pipeline(steps=[(&#x27;ohencoder&#x27;,\n",
       "                                                  OneHotEncoder(handle_unknown=&#x27;ignore&#x27;))]),\n",
       "                                 [&#x27;Fuel_Type&#x27;, &#x27;Transmission&#x27;, &#x27;Owner_Type&#x27;,\n",
       "                                  &#x27;make&#x27;, &#x27;Location&#x27;])])</pre></div></div></div><div class=\"sk-parallel\"><div class=\"sk-parallel-item\"><div class=\"sk-item\"><div class=\"sk-label-container\"><div class=\"sk-label sk-toggleable\"><input class=\"sk-toggleable__control sk-hidden--visually\" id=\"a9e9893f-637d-4759-9fe9-867502c57f27\" type=\"checkbox\" ><label for=\"a9e9893f-637d-4759-9fe9-867502c57f27\" class=\"sk-toggleable__label sk-toggleable__label-arrow\">num_imputed</label><div class=\"sk-toggleable__content\"><pre>[&#x27;Seats&#x27;]</pre></div></div></div><div class=\"sk-serial\"><div class=\"sk-item\"><div class=\"sk-serial\"><div class=\"sk-item\"><div class=\"sk-estimator sk-toggleable\"><input class=\"sk-toggleable__control sk-hidden--visually\" id=\"a5e2b1da-a9d7-44b3-b85a-78fb4bbc8c58\" type=\"checkbox\" ><label for=\"a5e2b1da-a9d7-44b3-b85a-78fb4bbc8c58\" class=\"sk-toggleable__label sk-toggleable__label-arrow\">SimpleImputer</label><div class=\"sk-toggleable__content\"><pre>SimpleImputer()</pre></div></div></div><div class=\"sk-item\"><div class=\"sk-estimator sk-toggleable\"><input class=\"sk-toggleable__control sk-hidden--visually\" id=\"673fe251-058d-4c6a-ae62-66cba5fed8ed\" type=\"checkbox\" ><label for=\"673fe251-058d-4c6a-ae62-66cba5fed8ed\" class=\"sk-toggleable__label sk-toggleable__label-arrow\">StandardScaler</label><div class=\"sk-toggleable__content\"><pre>StandardScaler()</pre></div></div></div></div></div></div></div></div><div class=\"sk-parallel-item\"><div class=\"sk-item\"><div class=\"sk-label-container\"><div class=\"sk-label sk-toggleable\"><input class=\"sk-toggleable__control sk-hidden--visually\" id=\"6fc5e606-d737-43e8-9c2f-07333a1893bb\" type=\"checkbox\" ><label for=\"6fc5e606-d737-43e8-9c2f-07333a1893bb\" class=\"sk-toggleable__label sk-toggleable__label-arrow\">num_not_imputed</label><div class=\"sk-toggleable__content\"><pre>[&#x27;age&#x27;, &#x27;engine_new&#x27;, &#x27;mileage_new&#x27;, &#x27;power_new&#x27;, &#x27;KM_Driven&#x27;]</pre></div></div></div><div class=\"sk-serial\"><div class=\"sk-item\"><div class=\"sk-serial\"><div class=\"sk-item\"><div class=\"sk-estimator sk-toggleable\"><input class=\"sk-toggleable__control sk-hidden--visually\" id=\"15f30254-901f-402e-bbc0-f32f41e19184\" type=\"checkbox\" ><label for=\"15f30254-901f-402e-bbc0-f32f41e19184\" class=\"sk-toggleable__label sk-toggleable__label-arrow\">StandardScaler</label><div class=\"sk-toggleable__content\"><pre>StandardScaler()</pre></div></div></div></div></div></div></div></div><div class=\"sk-parallel-item\"><div class=\"sk-item\"><div class=\"sk-label-container\"><div class=\"sk-label sk-toggleable\"><input class=\"sk-toggleable__control sk-hidden--visually\" id=\"422eb3ff-37cc-4608-a5b8-ab321166ec55\" type=\"checkbox\" ><label for=\"422eb3ff-37cc-4608-a5b8-ab321166ec55\" class=\"sk-toggleable__label sk-toggleable__label-arrow\">catvars</label><div class=\"sk-toggleable__content\"><pre>[&#x27;Fuel_Type&#x27;, &#x27;Transmission&#x27;, &#x27;Owner_Type&#x27;, &#x27;make&#x27;, &#x27;Location&#x27;]</pre></div></div></div><div class=\"sk-serial\"><div class=\"sk-item\"><div class=\"sk-serial\"><div class=\"sk-item\"><div class=\"sk-estimator sk-toggleable\"><input class=\"sk-toggleable__control sk-hidden--visually\" id=\"32636902-52ee-45e1-9587-b689258c5550\" type=\"checkbox\" ><label for=\"32636902-52ee-45e1-9587-b689258c5550\" class=\"sk-toggleable__label sk-toggleable__label-arrow\">OneHotEncoder</label><div class=\"sk-toggleable__content\"><pre>OneHotEncoder(handle_unknown=&#x27;ignore&#x27;)</pre></div></div></div></div></div></div></div></div></div></div><div class=\"sk-item\"><div class=\"sk-estimator sk-toggleable\"><input class=\"sk-toggleable__control sk-hidden--visually\" id=\"14112dbe-a8ed-41ac-bf3a-5814e3aa6341\" type=\"checkbox\" ><label for=\"14112dbe-a8ed-41ac-bf3a-5814e3aa6341\" class=\"sk-toggleable__label sk-toggleable__label-arrow\">KNeighborsRegressor</label><div class=\"sk-toggleable__content\"><pre>KNeighborsRegressor(weights=&#x27;distance&#x27;)</pre></div></div></div></div></div></div></div>"
      ],
      "text/plain": [
       "Pipeline(steps=[('preprocessor',\n",
       "                 ColumnTransformer(transformers=[('num_imputed',\n",
       "                                                  Pipeline(steps=[('imputation',\n",
       "                                                                   SimpleImputer()),\n",
       "                                                                  ('scaler',\n",
       "                                                                   StandardScaler())]),\n",
       "                                                  ['Seats']),\n",
       "                                                 ('num_not_imputed',\n",
       "                                                  Pipeline(steps=[('scaler',\n",
       "                                                                   StandardScaler())]),\n",
       "                                                  ['age', 'engine_new',\n",
       "                                                   'mileage_new', 'power_new',\n",
       "                                                   'KM_Driven']),\n",
       "                                                 ('catvars',\n",
       "                                                  Pipeline(steps=[('ohencoder',\n",
       "                                                                   OneHotEncoder(handle_unknown='ignore'))]),\n",
       "                                                  ['Fuel_Type', 'Transmission',\n",
       "                                                   'Owner_Type', 'make',\n",
       "                                                   'Location'])])),\n",
       "                ('knn', KNeighborsRegressor(weights='distance'))])"
      ]
     },
     "execution_count": 51,
     "metadata": {},
     "output_type": "execute_result"
    }
   ],
   "source": [
    "knn_final.fit(X_train, y_train)"
   ]
  },
  {
   "cell_type": "code",
   "execution_count": 52,
   "metadata": {
    "colab": {
     "base_uri": "https://localhost:8080/"
    },
    "id": "TSa00Fhsw22S",
    "outputId": "5b4f407d-67ac-41ef-e477-911d49b9581d"
   },
   "outputs": [
    {
     "data": {
      "text/plain": [
       "0.810485125157115"
      ]
     },
     "execution_count": 52,
     "metadata": {},
     "output_type": "execute_result"
    }
   ],
   "source": [
    "knn_final.score(X_test, y_test)"
   ]
  },
  {
   "cell_type": "code",
   "execution_count": 53,
   "metadata": {},
   "outputs": [],
   "source": [
    "from sklearn.metrics import mean_squared_error"
   ]
  },
  {
   "cell_type": "code",
   "execution_count": 54,
   "metadata": {
    "colab": {
     "base_uri": "https://localhost:8080/"
    },
    "id": "MEJ5xlQl10tA",
    "outputId": "8c8afcaf-2a51-4862-c879-5ef0f43d89c3"
   },
   "outputs": [
    {
     "data": {
      "text/plain": [
       "0.9598310841411447"
      ]
     },
     "execution_count": 54,
     "metadata": {},
     "output_type": "execute_result"
    }
   ],
   "source": [
    "final_rmse = np.sqrt(mean_squared_error(y_test, knn_final.predict(X_test)))\n",
    "final_rmse"
   ]
  },
  {
   "cell_type": "markdown",
   "metadata": {
    "id": "brogmWgBx26C"
   },
   "source": [
    "## Model Persistence"
   ]
  },
  {
   "cell_type": "code",
   "execution_count": 55,
   "metadata": {
    "id": "UlwoeINcx3_D"
   },
   "outputs": [],
   "source": [
    "class CarPredictionModel():\n",
    "    \n",
    "    def __init__(self, model, features, rmse):\n",
    "        self.model = model\n",
    "        self.features = features\n",
    "        self.rmse = rmse"
   ]
  },
  {
   "cell_type": "code",
   "execution_count": 56,
   "metadata": {
    "id": "GZubfgLQ1zcB"
   },
   "outputs": [],
   "source": [
    "my_model = CarPredictionModel(knn_final, list(X_train.columns), final_rmse)"
   ]
  },
  {
   "cell_type": "code",
   "execution_count": 57,
   "metadata": {
    "id": "pJhDIag52HNH"
   },
   "outputs": [],
   "source": [
    "from joblib import dump"
   ]
  },
  {
   "cell_type": "code",
   "execution_count": 59,
   "metadata": {
    "colab": {
     "base_uri": "https://localhost:8080/"
    },
    "id": "BNqmKGTa2Ji1",
    "outputId": "a0670334-ffce-4b41-d389-3bf8dbe06373"
   },
   "outputs": [
    {
     "data": {
      "text/plain": [
       "['./cars_v1.pkl']"
      ]
     },
     "execution_count": 59,
     "metadata": {},
     "output_type": "execute_result"
    }
   ],
   "source": [
    "dump(my_model, './cars_v1.pkl')"
   ]
  },
  {
   "cell_type": "code",
   "execution_count": null,
   "metadata": {},
   "outputs": [],
   "source": []
  }
 ],
 "metadata": {
  "colab": {
   "name": "Used Car Price Prediction KNN ISB 1.0.ipynb",
   "provenance": []
  },
  "kernelspec": {
   "display_name": "Python 3",
   "language": "python",
   "name": "python3"
  },
  "language_info": {
   "codemirror_mode": {
    "name": "ipython",
    "version": 3
   },
   "file_extension": ".py",
   "mimetype": "text/x-python",
   "name": "python",
   "nbconvert_exporter": "python",
   "pygments_lexer": "ipython3",
   "version": "3.8.5"
  }
 },
 "nbformat": 4,
 "nbformat_minor": 1
}
