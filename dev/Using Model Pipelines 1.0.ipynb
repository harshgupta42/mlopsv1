{
 "cells": [
  {
   "cell_type": "code",
   "execution_count": 1,
   "metadata": {
    "colab": {
     "base_uri": "https://localhost:8080/"
    },
    "id": "aeGy7ttL293V",
    "outputId": "aabdd156-9ade-4746-9c1a-e6a98fbb43fd"
   },
   "outputs": [
    {
     "name": "stdout",
     "output_type": "stream",
     "text": [
      "Collecting scikit-learn\n",
      "  Downloading scikit_learn-1.0.2-cp38-cp38-macosx_10_13_x86_64.whl (7.9 MB)\n",
      "\u001b[K     |████████████████████████████████| 7.9 MB 6.3 MB/s eta 0:00:01\n",
      "\u001b[?25hRequirement already satisfied, skipping upgrade: scipy>=1.1.0 in /opt/anaconda3/envs/mlopslab/lib/python3.8/site-packages (from scikit-learn) (1.5.2)\n",
      "Requirement already satisfied, skipping upgrade: threadpoolctl>=2.0.0 in /opt/anaconda3/envs/mlopslab/lib/python3.8/site-packages (from scikit-learn) (2.1.0)\n",
      "Requirement already satisfied, skipping upgrade: joblib>=0.11 in /opt/anaconda3/envs/mlopslab/lib/python3.8/site-packages (from scikit-learn) (0.17.0)\n",
      "Requirement already satisfied, skipping upgrade: numpy>=1.14.6 in /opt/anaconda3/envs/mlopslab/lib/python3.8/site-packages (from scikit-learn) (1.19.2)\n",
      "Installing collected packages: scikit-learn\n",
      "  Attempting uninstall: scikit-learn\n",
      "    Found existing installation: scikit-learn 1.0\n",
      "    Uninstalling scikit-learn-1.0:\n",
      "      Successfully uninstalled scikit-learn-1.0\n",
      "Successfully installed scikit-learn-1.0.2\n"
     ]
    }
   ],
   "source": [
    "!pip install -U scikit-learn"
   ]
  },
  {
   "cell_type": "markdown",
   "metadata": {
    "id": "-HoZzUgtw217"
   },
   "source": [
    "# Used Car Price Prediction: KNN"
   ]
  },
  {
   "cell_type": "markdown",
   "metadata": {
    "id": "BJ84YzgTw21_"
   },
   "source": [
    "### Load Dataset"
   ]
  },
  {
   "cell_type": "code",
   "execution_count": 2,
   "metadata": {
    "id": "G5L_CTj3w21_"
   },
   "outputs": [],
   "source": [
    "import pandas as pd\n",
    "import numpy as np\n",
    "import matplotlib.pyplot as plt\n",
    "import seaborn as sn"
   ]
  },
  {
   "cell_type": "code",
   "execution_count": 3,
   "metadata": {
    "id": "Eq48r_ddw22C"
   },
   "outputs": [],
   "source": [
    "cars_df = pd.read_csv( \"https://drive.google.com/uc?export=download&id=10-R6GyVWjt_gjWEFD86mKHDvSWD9lp1z\" )"
   ]
  },
  {
   "cell_type": "code",
   "execution_count": 4,
   "metadata": {
    "colab": {
     "base_uri": "https://localhost:8080/",
     "height": 435
    },
    "id": "2w3n5IPYw22C",
    "outputId": "85f65b35-2d7e-4dbb-98ba-2e097d4848a6"
   },
   "outputs": [
    {
     "data": {
      "text/html": [
       "<div>\n",
       "<style scoped>\n",
       "    .dataframe tbody tr th:only-of-type {\n",
       "        vertical-align: middle;\n",
       "    }\n",
       "\n",
       "    .dataframe tbody tr th {\n",
       "        vertical-align: top;\n",
       "    }\n",
       "\n",
       "    .dataframe thead th {\n",
       "        text-align: right;\n",
       "    }\n",
       "</style>\n",
       "<table border=\"1\" class=\"dataframe\">\n",
       "  <thead>\n",
       "    <tr style=\"text-align: right;\">\n",
       "      <th></th>\n",
       "      <th>index</th>\n",
       "      <th>Name</th>\n",
       "      <th>Location</th>\n",
       "      <th>Year</th>\n",
       "      <th>Kilometers_Driven</th>\n",
       "      <th>Fuel_Type</th>\n",
       "      <th>Transmission</th>\n",
       "      <th>Owner_Type</th>\n",
       "      <th>Mileage</th>\n",
       "      <th>Engine</th>\n",
       "      <th>Power</th>\n",
       "      <th>Seats</th>\n",
       "      <th>New_Price</th>\n",
       "      <th>Price</th>\n",
       "      <th>age</th>\n",
       "      <th>KM_Driven</th>\n",
       "      <th>make</th>\n",
       "      <th>mileage_new</th>\n",
       "      <th>engine_new</th>\n",
       "      <th>power_new</th>\n",
       "    </tr>\n",
       "  </thead>\n",
       "  <tbody>\n",
       "    <tr>\n",
       "      <th>1295</th>\n",
       "      <td>2589</td>\n",
       "      <td>Maruti Wagon R VXI AMT</td>\n",
       "      <td>Mumbai</td>\n",
       "      <td>2016</td>\n",
       "      <td>8000</td>\n",
       "      <td>Petrol</td>\n",
       "      <td>Automatic</td>\n",
       "      <td>First</td>\n",
       "      <td>22.5 kmpl</td>\n",
       "      <td>998 CC</td>\n",
       "      <td>67 bhp</td>\n",
       "      <td>5.0</td>\n",
       "      <td>6.14 Lakh</td>\n",
       "      <td>4.15</td>\n",
       "      <td>3</td>\n",
       "      <td>8</td>\n",
       "      <td>maruti</td>\n",
       "      <td>22.50</td>\n",
       "      <td>998.0</td>\n",
       "      <td>67.00</td>\n",
       "    </tr>\n",
       "    <tr>\n",
       "      <th>523</th>\n",
       "      <td>1070</td>\n",
       "      <td>Hyundai i20 Asta 1.4 CRDi (Diesel)</td>\n",
       "      <td>Kochi</td>\n",
       "      <td>2010</td>\n",
       "      <td>93401</td>\n",
       "      <td>Diesel</td>\n",
       "      <td>Manual</td>\n",
       "      <td>First</td>\n",
       "      <td>23.0 kmpl</td>\n",
       "      <td>1396 CC</td>\n",
       "      <td>90 bhp</td>\n",
       "      <td>5.0</td>\n",
       "      <td>NaN</td>\n",
       "      <td>3.48</td>\n",
       "      <td>9</td>\n",
       "      <td>93</td>\n",
       "      <td>hyundai</td>\n",
       "      <td>23.00</td>\n",
       "      <td>1396.0</td>\n",
       "      <td>90.00</td>\n",
       "    </tr>\n",
       "    <tr>\n",
       "      <th>1380</th>\n",
       "      <td>2733</td>\n",
       "      <td>Maruti Swift Dzire ZXI</td>\n",
       "      <td>Jaipur</td>\n",
       "      <td>2017</td>\n",
       "      <td>37282</td>\n",
       "      <td>Petrol</td>\n",
       "      <td>Manual</td>\n",
       "      <td>First</td>\n",
       "      <td>20.85 kmpl</td>\n",
       "      <td>1197 CC</td>\n",
       "      <td>83.14 bhp</td>\n",
       "      <td>5.0</td>\n",
       "      <td>NaN</td>\n",
       "      <td>6.75</td>\n",
       "      <td>2</td>\n",
       "      <td>37</td>\n",
       "      <td>maruti</td>\n",
       "      <td>20.85</td>\n",
       "      <td>1197.0</td>\n",
       "      <td>83.14</td>\n",
       "    </tr>\n",
       "    <tr>\n",
       "      <th>1134</th>\n",
       "      <td>2251</td>\n",
       "      <td>Honda City i-DTEC ZX</td>\n",
       "      <td>Hyderabad</td>\n",
       "      <td>2017</td>\n",
       "      <td>46000</td>\n",
       "      <td>Diesel</td>\n",
       "      <td>Manual</td>\n",
       "      <td>First</td>\n",
       "      <td>25.6 kmpl</td>\n",
       "      <td>1498 CC</td>\n",
       "      <td>98.6 bhp</td>\n",
       "      <td>5.0</td>\n",
       "      <td>16.95 Lakh</td>\n",
       "      <td>12.90</td>\n",
       "      <td>2</td>\n",
       "      <td>46</td>\n",
       "      <td>honda</td>\n",
       "      <td>25.60</td>\n",
       "      <td>1498.0</td>\n",
       "      <td>98.60</td>\n",
       "    </tr>\n",
       "    <tr>\n",
       "      <th>1346</th>\n",
       "      <td>2674</td>\n",
       "      <td>Tata Indica V2 eLS</td>\n",
       "      <td>Chennai</td>\n",
       "      <td>2017</td>\n",
       "      <td>129000</td>\n",
       "      <td>Diesel</td>\n",
       "      <td>Manual</td>\n",
       "      <td>First</td>\n",
       "      <td>25.0 kmpl</td>\n",
       "      <td>1396 CC</td>\n",
       "      <td>69 bhp</td>\n",
       "      <td>5.0</td>\n",
       "      <td>NaN</td>\n",
       "      <td>3.00</td>\n",
       "      <td>2</td>\n",
       "      <td>129</td>\n",
       "      <td>tata</td>\n",
       "      <td>25.00</td>\n",
       "      <td>1396.0</td>\n",
       "      <td>69.00</td>\n",
       "    </tr>\n",
       "  </tbody>\n",
       "</table>\n",
       "</div>"
      ],
      "text/plain": [
       "      index                                Name   Location  Year  \\\n",
       "1295   2589              Maruti Wagon R VXI AMT     Mumbai  2016   \n",
       "523    1070  Hyundai i20 Asta 1.4 CRDi (Diesel)      Kochi  2010   \n",
       "1380   2733              Maruti Swift Dzire ZXI     Jaipur  2017   \n",
       "1134   2251                Honda City i-DTEC ZX  Hyderabad  2017   \n",
       "1346   2674                  Tata Indica V2 eLS    Chennai  2017   \n",
       "\n",
       "      Kilometers_Driven Fuel_Type Transmission Owner_Type     Mileage  \\\n",
       "1295               8000    Petrol    Automatic      First   22.5 kmpl   \n",
       "523               93401    Diesel       Manual      First   23.0 kmpl   \n",
       "1380              37282    Petrol       Manual      First  20.85 kmpl   \n",
       "1134              46000    Diesel       Manual      First   25.6 kmpl   \n",
       "1346             129000    Diesel       Manual      First   25.0 kmpl   \n",
       "\n",
       "       Engine      Power  Seats   New_Price  Price  age  KM_Driven     make  \\\n",
       "1295   998 CC     67 bhp    5.0   6.14 Lakh   4.15    3          8   maruti   \n",
       "523   1396 CC     90 bhp    5.0         NaN   3.48    9         93  hyundai   \n",
       "1380  1197 CC  83.14 bhp    5.0         NaN   6.75    2         37   maruti   \n",
       "1134  1498 CC   98.6 bhp    5.0  16.95 Lakh  12.90    2         46    honda   \n",
       "1346  1396 CC     69 bhp    5.0         NaN   3.00    2        129     tata   \n",
       "\n",
       "      mileage_new  engine_new  power_new  \n",
       "1295        22.50       998.0      67.00  \n",
       "523         23.00      1396.0      90.00  \n",
       "1380        20.85      1197.0      83.14  \n",
       "1134        25.60      1498.0      98.60  \n",
       "1346        25.00      1396.0      69.00  "
      ]
     },
     "execution_count": 4,
     "metadata": {},
     "output_type": "execute_result"
    }
   ],
   "source": [
    "cars_df.sample(5)"
   ]
  },
  {
   "cell_type": "code",
   "execution_count": 5,
   "metadata": {
    "colab": {
     "base_uri": "https://localhost:8080/"
    },
    "id": "6mX167jxw22C",
    "outputId": "0c5d24c6-35a6-4f3b-8ab4-9de3f0abdad8"
   },
   "outputs": [
    {
     "name": "stdout",
     "output_type": "stream",
     "text": [
      "<class 'pandas.core.frame.DataFrame'>\n",
      "RangeIndex: 3092 entries, 0 to 3091\n",
      "Data columns (total 20 columns):\n",
      " #   Column             Non-Null Count  Dtype  \n",
      "---  ------             --------------  -----  \n",
      " 0   index              3092 non-null   int64  \n",
      " 1   Name               3092 non-null   object \n",
      " 2   Location           3092 non-null   object \n",
      " 3   Year               3092 non-null   int64  \n",
      " 4   Kilometers_Driven  3092 non-null   int64  \n",
      " 5   Fuel_Type          3092 non-null   object \n",
      " 6   Transmission       3092 non-null   object \n",
      " 7   Owner_Type         3092 non-null   object \n",
      " 8   Mileage            3092 non-null   object \n",
      " 9   Engine             3092 non-null   object \n",
      " 10  Power              3092 non-null   object \n",
      " 11  Seats              3091 non-null   float64\n",
      " 12  New_Price          411 non-null    object \n",
      " 13  Price              3092 non-null   float64\n",
      " 14  age                3092 non-null   int64  \n",
      " 15  KM_Driven          3092 non-null   int64  \n",
      " 16  make               3092 non-null   object \n",
      " 17  mileage_new        3092 non-null   float64\n",
      " 18  engine_new         3092 non-null   float64\n",
      " 19  power_new          3092 non-null   float64\n",
      "dtypes: float64(5), int64(5), object(10)\n",
      "memory usage: 483.2+ KB\n"
     ]
    }
   ],
   "source": [
    "cars_df.info()"
   ]
  },
  {
   "cell_type": "markdown",
   "metadata": {
    "id": "1z6m4MOmw22D"
   },
   "source": [
    "### Feature Set Selection"
   ]
  },
  {
   "cell_type": "code",
   "execution_count": 6,
   "metadata": {
    "colab": {
     "base_uri": "https://localhost:8080/"
    },
    "id": "QdC67nm9w22D",
    "outputId": "eea4cacb-db2f-4e7d-8040-10b90fd7bd5f"
   },
   "outputs": [
    {
     "data": {
      "text/plain": [
       "Index(['index', 'Name', 'Location', 'Year', 'Kilometers_Driven', 'Fuel_Type',\n",
       "       'Transmission', 'Owner_Type', 'Mileage', 'Engine', 'Power', 'Seats',\n",
       "       'New_Price', 'Price', 'age', 'KM_Driven', 'make', 'mileage_new',\n",
       "       'engine_new', 'power_new'],\n",
       "      dtype='object')"
      ]
     },
     "execution_count": 6,
     "metadata": {},
     "output_type": "execute_result"
    }
   ],
   "source": [
    "cars_df.columns"
   ]
  },
  {
   "cell_type": "code",
   "execution_count": 7,
   "metadata": {
    "id": "pedL0bwww22E"
   },
   "outputs": [],
   "source": [
    "x_features = ['KM_Driven', 'Fuel_Type', 'age',\n",
    "              'Transmission', 'Owner_Type', 'Seats', \n",
    "              'make', 'mileage_new', 'engine_new', \n",
    "              'power_new', 'Location']"
   ]
  },
  {
   "cell_type": "code",
   "execution_count": 8,
   "metadata": {
    "id": "bgywybWAw22F"
   },
   "outputs": [],
   "source": [
    "cat_vars = ['Fuel_Type', \n",
    "                'Transmission', 'Owner_Type',\n",
    "                'make', 'Location']"
   ]
  },
  {
   "cell_type": "code",
   "execution_count": 10,
   "metadata": {
    "id": "2DnPA-jzw22F"
   },
   "outputs": [],
   "source": [
    "num_vars = list(set(x_features) - set(cat_vars))"
   ]
  },
  {
   "cell_type": "code",
   "execution_count": 11,
   "metadata": {
    "colab": {
     "base_uri": "https://localhost:8080/"
    },
    "id": "jjXxkrb7w22F",
    "outputId": "d8d7c126-9341-4111-dde8-6b5443d355a1"
   },
   "outputs": [
    {
     "data": {
      "text/plain": [
       "['age', 'KM_Driven', 'mileage_new', 'Seats', 'power_new', 'engine_new']"
      ]
     },
     "execution_count": 11,
     "metadata": {},
     "output_type": "execute_result"
    }
   ],
   "source": [
    "num_vars"
   ]
  },
  {
   "cell_type": "code",
   "execution_count": 12,
   "metadata": {
    "colab": {
     "base_uri": "https://localhost:8080/"
    },
    "id": "0fd6gq5gw22G",
    "outputId": "773308cf-b877-4b7e-f52b-e5221a57a6af"
   },
   "outputs": [
    {
     "name": "stdout",
     "output_type": "stream",
     "text": [
      "<class 'pandas.core.frame.DataFrame'>\n",
      "RangeIndex: 3092 entries, 0 to 3091\n",
      "Data columns (total 11 columns):\n",
      " #   Column        Non-Null Count  Dtype  \n",
      "---  ------        --------------  -----  \n",
      " 0   KM_Driven     3092 non-null   int64  \n",
      " 1   Fuel_Type     3092 non-null   object \n",
      " 2   age           3092 non-null   int64  \n",
      " 3   Transmission  3092 non-null   object \n",
      " 4   Owner_Type    3092 non-null   object \n",
      " 5   Seats         3091 non-null   float64\n",
      " 6   make          3092 non-null   object \n",
      " 7   mileage_new   3092 non-null   float64\n",
      " 8   engine_new    3092 non-null   float64\n",
      " 9   power_new     3092 non-null   float64\n",
      " 10  Location      3092 non-null   object \n",
      "dtypes: float64(4), int64(2), object(5)\n",
      "memory usage: 265.8+ KB\n"
     ]
    }
   ],
   "source": [
    "cars_df[x_features].info()"
   ]
  },
  {
   "cell_type": "markdown",
   "metadata": {},
   "source": [
    "### Need for Data Transformation\n",
    "\n",
    "1. Data imputation for Seats Column\n",
    "    - Mean imputation \n",
    "2. Categorical Encoding for categorical columns\n",
    "    - OHE Encoding\n",
    "3. Data scaling\n",
    "    - Standard scaling"
   ]
  },
  {
   "cell_type": "markdown",
   "metadata": {
    "id": "eK3WNm4Tw22I"
   },
   "source": [
    "### Setting X and y variables"
   ]
  },
  {
   "cell_type": "code",
   "execution_count": 13,
   "metadata": {
    "id": "kNJGjz5dw22I"
   },
   "outputs": [],
   "source": [
    "X = cars_df[x_features]\n",
    "y = cars_df['Price']"
   ]
  },
  {
   "cell_type": "markdown",
   "metadata": {
    "id": "4Dn5xMfJw22I"
   },
   "source": [
    "### Data Splitting"
   ]
  },
  {
   "cell_type": "code",
   "execution_count": 14,
   "metadata": {
    "id": "SZJO1MTKw22I"
   },
   "outputs": [],
   "source": [
    "from sklearn.model_selection import train_test_split"
   ]
  },
  {
   "cell_type": "code",
   "execution_count": 15,
   "metadata": {
    "id": "_w4QYKouw22J"
   },
   "outputs": [],
   "source": [
    "X_train, X_test, y_train, y_test = train_test_split(X,\n",
    "                                                    y,\n",
    "                                                    train_size = 0.8,\n",
    "                                                    random_state = 80)"
   ]
  },
  {
   "cell_type": "code",
   "execution_count": 16,
   "metadata": {
    "colab": {
     "base_uri": "https://localhost:8080/",
     "height": 0
    },
    "id": "MJvUKKtEw22J",
    "outputId": "dd01f850-67a0-411a-d960-5c72edfa9df4"
   },
   "outputs": [
    {
     "data": {
      "text/plain": [
       "(2473, 11)"
      ]
     },
     "execution_count": 16,
     "metadata": {},
     "output_type": "execute_result"
    }
   ],
   "source": [
    "X_train.shape"
   ]
  },
  {
   "cell_type": "code",
   "execution_count": 17,
   "metadata": {
    "colab": {
     "base_uri": "https://localhost:8080/"
    },
    "id": "guj1I1pTw22K",
    "outputId": "f2104c45-a4b4-49bf-fec9-d0e2eeab3044"
   },
   "outputs": [
    {
     "data": {
      "text/plain": [
       "(619, 11)"
      ]
     },
     "execution_count": 17,
     "metadata": {},
     "output_type": "execute_result"
    }
   ],
   "source": [
    "X_test.shape"
   ]
  },
  {
   "cell_type": "markdown",
   "metadata": {},
   "source": [
    "### Data Imputation"
   ]
  },
  {
   "cell_type": "code",
   "execution_count": 18,
   "metadata": {},
   "outputs": [],
   "source": [
    "from sklearn.impute import SimpleImputer"
   ]
  },
  {
   "cell_type": "code",
   "execution_count": 19,
   "metadata": {},
   "outputs": [],
   "source": [
    "imputed_num_vars = ['Seats']"
   ]
  },
  {
   "cell_type": "code",
   "execution_count": 20,
   "metadata": {},
   "outputs": [
    {
     "data": {
      "text/plain": [
       "['Seats']"
      ]
     },
     "execution_count": 20,
     "metadata": {},
     "output_type": "execute_result"
    }
   ],
   "source": [
    "imputed_num_vars"
   ]
  },
  {
   "cell_type": "code",
   "execution_count": 21,
   "metadata": {},
   "outputs": [],
   "source": [
    "non_imputed_num_vars = list(set(num_vars) - set(imputed_num_vars))"
   ]
  },
  {
   "cell_type": "code",
   "execution_count": 22,
   "metadata": {},
   "outputs": [
    {
     "data": {
      "text/plain": [
       "['age', 'KM_Driven', 'mileage_new', 'power_new', 'engine_new']"
      ]
     },
     "execution_count": 22,
     "metadata": {},
     "output_type": "execute_result"
    }
   ],
   "source": [
    "non_imputed_num_vars"
   ]
  },
  {
   "cell_type": "code",
   "execution_count": 23,
   "metadata": {},
   "outputs": [],
   "source": [
    "mean_imputer = SimpleImputer(strategy='mean')"
   ]
  },
  {
   "cell_type": "markdown",
   "metadata": {
    "id": "__tEV1ylw22K"
   },
   "source": [
    "### Encode Categorical Variables"
   ]
  },
  {
   "cell_type": "code",
   "execution_count": 24,
   "metadata": {
    "id": "k6KIfWa6w22K"
   },
   "outputs": [],
   "source": [
    "from sklearn.preprocessing import OneHotEncoder"
   ]
  },
  {
   "cell_type": "code",
   "execution_count": 25,
   "metadata": {
    "id": "085_YnWLw22K"
   },
   "outputs": [],
   "source": [
    "ohe_encoder = OneHotEncoder(handle_unknown='ignore')"
   ]
  },
  {
   "cell_type": "markdown",
   "metadata": {},
   "source": [
    "### Scaling numerical vars"
   ]
  },
  {
   "cell_type": "code",
   "execution_count": 26,
   "metadata": {},
   "outputs": [],
   "source": [
    "from sklearn.preprocessing import StandardScaler\n",
    "\n",
    "scaler = StandardScaler()"
   ]
  },
  {
   "cell_type": "markdown",
   "metadata": {},
   "source": [
    "### Creating Pipelines"
   ]
  },
  {
   "cell_type": "code",
   "execution_count": 27,
   "metadata": {
    "id": "0h20qY_gw22L"
   },
   "outputs": [],
   "source": [
    "from sklearn.compose import ColumnTransformer\n",
    "from sklearn.pipeline import Pipeline"
   ]
  },
  {
   "cell_type": "code",
   "execution_count": 28,
   "metadata": {},
   "outputs": [],
   "source": [
    "imputed_num_transformer = Pipeline( steps = [  \n",
    "        ('imputation', mean_imputer),\n",
    "        ('scaler', scaler)])"
   ]
  },
  {
   "cell_type": "code",
   "execution_count": 29,
   "metadata": {},
   "outputs": [],
   "source": [
    "non_imputed_num_transformer = Pipeline( steps = [('scaler', scaler)])"
   ]
  },
  {
   "cell_type": "code",
   "execution_count": 30,
   "metadata": {},
   "outputs": [],
   "source": [
    "cat_transformer = Pipeline( steps = [('ohencoder', ohe_encoder)])"
   ]
  },
  {
   "cell_type": "code",
   "execution_count": 31,
   "metadata": {},
   "outputs": [],
   "source": [
    "preprocessor = ColumnTransformer(\n",
    "    transformers=[  \n",
    "        ('num_imputed', imputed_num_transformer, imputed_num_vars),\n",
    "        ('num_not_imputed', non_imputed_num_transformer, non_imputed_num_vars),\n",
    "        ('catvars', cat_transformer, cat_vars)])"
   ]
  },
  {
   "cell_type": "markdown",
   "metadata": {
    "id": "ENbz3exkw22L"
   },
   "source": [
    "### KNN (K-Nearest Neighbor)\n"
   ]
  },
  {
   "cell_type": "code",
   "execution_count": 32,
   "metadata": {
    "id": "tpFS1kACw22M"
   },
   "outputs": [],
   "source": [
    "from sklearn.neighbors import KNeighborsRegressor"
   ]
  },
  {
   "cell_type": "code",
   "execution_count": 33,
   "metadata": {
    "id": "2KkOKhVBw22M"
   },
   "outputs": [],
   "source": [
    "#knn = KNeighborsRegressor(n_neighbors=20)\n",
    "knn = KNeighborsRegressor(n_neighbors=20, weights='distance')"
   ]
  },
  {
   "cell_type": "code",
   "execution_count": 34,
   "metadata": {
    "id": "i17dhEN1w22M"
   },
   "outputs": [],
   "source": [
    "knn_v1 = Pipeline(steps=[('preprocessor', preprocessor),\n",
    "                          ('knn', knn)])"
   ]
  },
  {
   "cell_type": "code",
   "execution_count": 35,
   "metadata": {
    "colab": {
     "base_uri": "https://localhost:8080/"
    },
    "id": "lLAFK4BFw22N",
    "outputId": "f316b8e0-96fd-49b0-c635-a7d604468ee0"
   },
   "outputs": [
    {
     "data": {
      "text/plain": [
       "Pipeline(steps=[('preprocessor',\n",
       "                 ColumnTransformer(transformers=[('num_imputed',\n",
       "                                                  Pipeline(steps=[('imputation',\n",
       "                                                                   SimpleImputer()),\n",
       "                                                                  ('scaler',\n",
       "                                                                   StandardScaler())]),\n",
       "                                                  ['Seats']),\n",
       "                                                 ('num_not_imputed',\n",
       "                                                  Pipeline(steps=[('scaler',\n",
       "                                                                   StandardScaler())]),\n",
       "                                                  ['age', 'KM_Driven',\n",
       "                                                   'mileage_new', 'power_new',\n",
       "                                                   'engine_new']),\n",
       "                                                 ('catvars',\n",
       "                                                  Pipeline(steps=[('ohencoder',\n",
       "                                                                   OneHotEncoder(handle_unknown='ignore'))]),\n",
       "                                                  ['Fuel_Type', 'Transmission',\n",
       "                                                   'Owner_Type', 'make',\n",
       "                                                   'Location'])])),\n",
       "                ('knn',\n",
       "                 KNeighborsRegressor(n_neighbors=20, weights='distance'))])"
      ]
     },
     "execution_count": 35,
     "metadata": {},
     "output_type": "execute_result"
    }
   ],
   "source": [
    "knn_v1.fit(X_train, y_train)"
   ]
  },
  {
   "cell_type": "markdown",
   "metadata": {
    "id": "zRdZEa4Rw22N"
   },
   "source": [
    "### Predict on test set"
   ]
  },
  {
   "cell_type": "code",
   "execution_count": 37,
   "metadata": {
    "id": "sAhILbR9w22N"
   },
   "outputs": [],
   "source": [
    "y_pred = knn_v1.predict(X_test)"
   ]
  },
  {
   "cell_type": "markdown",
   "metadata": {
    "id": "Bx3KXBGew22P"
   },
   "source": [
    "### K Fold Cross Validation"
   ]
  },
  {
   "cell_type": "code",
   "execution_count": 40,
   "metadata": {
    "id": "Nyu5t5njw22P"
   },
   "outputs": [],
   "source": [
    "from sklearn.model_selection import cross_val_score"
   ]
  },
  {
   "cell_type": "code",
   "execution_count": 41,
   "metadata": {
    "id": "701xL-nXw22P"
   },
   "outputs": [],
   "source": [
    "scores = cross_val_score( knn_v1,\n",
    "                          X_train,\n",
    "                          y_train,\n",
    "                          cv = 10,\n",
    "                          scoring = 'r2')"
   ]
  },
  {
   "cell_type": "code",
   "execution_count": 42,
   "metadata": {
    "colab": {
     "base_uri": "https://localhost:8080/"
    },
    "id": "_r_beNeyw22P",
    "outputId": "0cb5e238-dca9-42d8-c668-bf561985c735"
   },
   "outputs": [
    {
     "data": {
      "text/plain": [
       "array([0.80997663, 0.74172349, 0.81740538, 0.81873032, 0.78002919,\n",
       "       0.8157913 , 0.80065021, 0.77851958, 0.80501421, 0.816698  ])"
      ]
     },
     "execution_count": 42,
     "metadata": {},
     "output_type": "execute_result"
    }
   ],
   "source": [
    "scores"
   ]
  },
  {
   "cell_type": "code",
   "execution_count": 43,
   "metadata": {
    "colab": {
     "base_uri": "https://localhost:8080/"
    },
    "id": "rEzsQb8Ew22P",
    "outputId": "df0a790d-3d94-4d86-8435-c8c9229b5465"
   },
   "outputs": [
    {
     "data": {
      "text/plain": [
       "0.7984538304475222"
      ]
     },
     "execution_count": 43,
     "metadata": {},
     "output_type": "execute_result"
    }
   ],
   "source": [
    "scores.mean()"
   ]
  },
  {
   "cell_type": "code",
   "execution_count": 44,
   "metadata": {
    "colab": {
     "base_uri": "https://localhost:8080/"
    },
    "id": "aUrmsOF4w22Q",
    "outputId": "af766237-f033-4d9c-8c0d-acdedb650966"
   },
   "outputs": [
    {
     "data": {
      "text/plain": [
       "0.023536240691094626"
      ]
     },
     "execution_count": 44,
     "metadata": {},
     "output_type": "execute_result"
    }
   ],
   "source": [
    "scores.std()"
   ]
  },
  {
   "cell_type": "markdown",
   "metadata": {
    "id": "0imBn21Cw22Q"
   },
   "source": [
    "## Grid Search"
   ]
  },
  {
   "cell_type": "code",
   "execution_count": 45,
   "metadata": {
    "id": "NnKBX3xRw22Q"
   },
   "outputs": [],
   "source": [
    "from sklearn.model_selection import GridSearchCV"
   ]
  },
  {
   "cell_type": "code",
   "execution_count": 46,
   "metadata": {
    "id": "1Im0B0TojT2g"
   },
   "outputs": [],
   "source": [
    "knn_params = { \"knn__n_neighbors\": [5, 10, 15, 20, 25],\n",
    "               \"knn__weights\": ['uniform', 'distance'],\n",
    "               \"knn__metric\": ['minkowski', 'euclidean']}"
   ]
  },
  {
   "cell_type": "code",
   "execution_count": 47,
   "metadata": {
    "id": "r-LLnCWww22Q"
   },
   "outputs": [],
   "source": [
    "knn_grid_v1 = GridSearchCV(knn_v1,\n",
    "                           param_grid=knn_params,\n",
    "                           cv = 10,\n",
    "                           scoring = 'r2')\n",
    "\n"
   ]
  },
  {
   "cell_type": "code",
   "execution_count": 48,
   "metadata": {
    "colab": {
     "base_uri": "https://localhost:8080/"
    },
    "id": "iqeib9Oww22R",
    "outputId": "1ac4ce3f-545a-4287-cbf9-1c6698079bb8"
   },
   "outputs": [
    {
     "data": {
      "text/plain": [
       "GridSearchCV(cv=10,\n",
       "             estimator=Pipeline(steps=[('preprocessor',\n",
       "                                        ColumnTransformer(transformers=[('num_imputed',\n",
       "                                                                         Pipeline(steps=[('imputation',\n",
       "                                                                                          SimpleImputer()),\n",
       "                                                                                         ('scaler',\n",
       "                                                                                          StandardScaler())]),\n",
       "                                                                         ['Seats']),\n",
       "                                                                        ('num_not_imputed',\n",
       "                                                                         Pipeline(steps=[('scaler',\n",
       "                                                                                          StandardScaler())]),\n",
       "                                                                         ['age',\n",
       "                                                                          'KM_Driven',\n",
       "                                                                          'mileage_new',\n",
       "                                                                          'power_new',\n",
       "                                                                          'engine_new']),\n",
       "                                                                        ('catvars',\n",
       "                                                                         Pipeline(steps=[('ohencoder',\n",
       "                                                                                          OneHotEncoder(handle_unknown='ignore'))]),\n",
       "                                                                         ['Fuel_Type',\n",
       "                                                                          'Transmission',\n",
       "                                                                          'Owner_Type',\n",
       "                                                                          'make',\n",
       "                                                                          'Location'])])),\n",
       "                                       ('knn',\n",
       "                                        KNeighborsRegressor(n_neighbors=20,\n",
       "                                                            weights='distance'))]),\n",
       "             param_grid={'knn__metric': ['minkowski', 'euclidean'],\n",
       "                         'knn__n_neighbors': [5, 10, 15, 20, 25],\n",
       "                         'knn__weights': ['uniform', 'distance']},\n",
       "             scoring='r2')"
      ]
     },
     "execution_count": 48,
     "metadata": {},
     "output_type": "execute_result"
    }
   ],
   "source": [
    "knn_grid_v1.fit(X_train, y_train)"
   ]
  },
  {
   "cell_type": "code",
   "execution_count": 49,
   "metadata": {
    "colab": {
     "base_uri": "https://localhost:8080/"
    },
    "id": "s1XEdYrIw22R",
    "outputId": "07898580-d2e0-43c1-db9c-6e369c1e0bcf"
   },
   "outputs": [
    {
     "data": {
      "text/plain": [
       "{'knn__metric': 'minkowski',\n",
       " 'knn__n_neighbors': 10,\n",
       " 'knn__weights': 'distance'}"
      ]
     },
     "execution_count": 49,
     "metadata": {},
     "output_type": "execute_result"
    }
   ],
   "source": [
    "knn_grid_v1.best_params_"
   ]
  },
  {
   "cell_type": "code",
   "execution_count": 50,
   "metadata": {
    "colab": {
     "base_uri": "https://localhost:8080/"
    },
    "id": "--9cpdJTw22R",
    "outputId": "e1098526-c229-46c0-9e93-d33dc182192c"
   },
   "outputs": [
    {
     "data": {
      "text/plain": [
       "0.8152181315879734"
      ]
     },
     "execution_count": 50,
     "metadata": {},
     "output_type": "execute_result"
    }
   ],
   "source": [
    "knn_grid_v1.best_score_"
   ]
  },
  {
   "cell_type": "code",
   "execution_count": 51,
   "metadata": {
    "colab": {
     "base_uri": "https://localhost:8080/",
     "height": 676
    },
    "id": "2FHNcJwRw22R",
    "outputId": "9ed2f2c5-49e4-4d62-bbe3-12168a97bc21"
   },
   "outputs": [
    {
     "data": {
      "text/html": [
       "<div>\n",
       "<style scoped>\n",
       "    .dataframe tbody tr th:only-of-type {\n",
       "        vertical-align: middle;\n",
       "    }\n",
       "\n",
       "    .dataframe tbody tr th {\n",
       "        vertical-align: top;\n",
       "    }\n",
       "\n",
       "    .dataframe thead th {\n",
       "        text-align: right;\n",
       "    }\n",
       "</style>\n",
       "<table border=\"1\" class=\"dataframe\">\n",
       "  <thead>\n",
       "    <tr style=\"text-align: right;\">\n",
       "      <th></th>\n",
       "      <th>param_knn__n_neighbors</th>\n",
       "      <th>param_knn__weights</th>\n",
       "      <th>mean_test_score</th>\n",
       "      <th>std_test_score</th>\n",
       "    </tr>\n",
       "  </thead>\n",
       "  <tbody>\n",
       "    <tr>\n",
       "      <th>0</th>\n",
       "      <td>5</td>\n",
       "      <td>uniform</td>\n",
       "      <td>0.795797</td>\n",
       "      <td>0.029375</td>\n",
       "    </tr>\n",
       "    <tr>\n",
       "      <th>1</th>\n",
       "      <td>5</td>\n",
       "      <td>distance</td>\n",
       "      <td>0.808354</td>\n",
       "      <td>0.026944</td>\n",
       "    </tr>\n",
       "    <tr>\n",
       "      <th>2</th>\n",
       "      <td>10</td>\n",
       "      <td>uniform</td>\n",
       "      <td>0.799696</td>\n",
       "      <td>0.024235</td>\n",
       "    </tr>\n",
       "    <tr>\n",
       "      <th>3</th>\n",
       "      <td>10</td>\n",
       "      <td>distance</td>\n",
       "      <td>0.815218</td>\n",
       "      <td>0.024549</td>\n",
       "    </tr>\n",
       "    <tr>\n",
       "      <th>4</th>\n",
       "      <td>15</td>\n",
       "      <td>uniform</td>\n",
       "      <td>0.787142</td>\n",
       "      <td>0.024113</td>\n",
       "    </tr>\n",
       "    <tr>\n",
       "      <th>5</th>\n",
       "      <td>15</td>\n",
       "      <td>distance</td>\n",
       "      <td>0.808191</td>\n",
       "      <td>0.023978</td>\n",
       "    </tr>\n",
       "    <tr>\n",
       "      <th>6</th>\n",
       "      <td>20</td>\n",
       "      <td>uniform</td>\n",
       "      <td>0.773489</td>\n",
       "      <td>0.023372</td>\n",
       "    </tr>\n",
       "    <tr>\n",
       "      <th>7</th>\n",
       "      <td>20</td>\n",
       "      <td>distance</td>\n",
       "      <td>0.798454</td>\n",
       "      <td>0.023536</td>\n",
       "    </tr>\n",
       "    <tr>\n",
       "      <th>8</th>\n",
       "      <td>25</td>\n",
       "      <td>uniform</td>\n",
       "      <td>0.767440</td>\n",
       "      <td>0.022939</td>\n",
       "    </tr>\n",
       "    <tr>\n",
       "      <th>9</th>\n",
       "      <td>25</td>\n",
       "      <td>distance</td>\n",
       "      <td>0.794206</td>\n",
       "      <td>0.022837</td>\n",
       "    </tr>\n",
       "    <tr>\n",
       "      <th>10</th>\n",
       "      <td>5</td>\n",
       "      <td>uniform</td>\n",
       "      <td>0.795797</td>\n",
       "      <td>0.029375</td>\n",
       "    </tr>\n",
       "    <tr>\n",
       "      <th>11</th>\n",
       "      <td>5</td>\n",
       "      <td>distance</td>\n",
       "      <td>0.808354</td>\n",
       "      <td>0.026944</td>\n",
       "    </tr>\n",
       "    <tr>\n",
       "      <th>12</th>\n",
       "      <td>10</td>\n",
       "      <td>uniform</td>\n",
       "      <td>0.799696</td>\n",
       "      <td>0.024235</td>\n",
       "    </tr>\n",
       "    <tr>\n",
       "      <th>13</th>\n",
       "      <td>10</td>\n",
       "      <td>distance</td>\n",
       "      <td>0.815218</td>\n",
       "      <td>0.024549</td>\n",
       "    </tr>\n",
       "    <tr>\n",
       "      <th>14</th>\n",
       "      <td>15</td>\n",
       "      <td>uniform</td>\n",
       "      <td>0.787142</td>\n",
       "      <td>0.024113</td>\n",
       "    </tr>\n",
       "    <tr>\n",
       "      <th>15</th>\n",
       "      <td>15</td>\n",
       "      <td>distance</td>\n",
       "      <td>0.808191</td>\n",
       "      <td>0.023978</td>\n",
       "    </tr>\n",
       "    <tr>\n",
       "      <th>16</th>\n",
       "      <td>20</td>\n",
       "      <td>uniform</td>\n",
       "      <td>0.773489</td>\n",
       "      <td>0.023372</td>\n",
       "    </tr>\n",
       "    <tr>\n",
       "      <th>17</th>\n",
       "      <td>20</td>\n",
       "      <td>distance</td>\n",
       "      <td>0.798454</td>\n",
       "      <td>0.023536</td>\n",
       "    </tr>\n",
       "    <tr>\n",
       "      <th>18</th>\n",
       "      <td>25</td>\n",
       "      <td>uniform</td>\n",
       "      <td>0.767440</td>\n",
       "      <td>0.022939</td>\n",
       "    </tr>\n",
       "    <tr>\n",
       "      <th>19</th>\n",
       "      <td>25</td>\n",
       "      <td>distance</td>\n",
       "      <td>0.794206</td>\n",
       "      <td>0.022837</td>\n",
       "    </tr>\n",
       "  </tbody>\n",
       "</table>\n",
       "</div>"
      ],
      "text/plain": [
       "   param_knn__n_neighbors param_knn__weights  mean_test_score  std_test_score\n",
       "0                       5            uniform         0.795797        0.029375\n",
       "1                       5           distance         0.808354        0.026944\n",
       "2                      10            uniform         0.799696        0.024235\n",
       "3                      10           distance         0.815218        0.024549\n",
       "4                      15            uniform         0.787142        0.024113\n",
       "5                      15           distance         0.808191        0.023978\n",
       "6                      20            uniform         0.773489        0.023372\n",
       "7                      20           distance         0.798454        0.023536\n",
       "8                      25            uniform         0.767440        0.022939\n",
       "9                      25           distance         0.794206        0.022837\n",
       "10                      5            uniform         0.795797        0.029375\n",
       "11                      5           distance         0.808354        0.026944\n",
       "12                     10            uniform         0.799696        0.024235\n",
       "13                     10           distance         0.815218        0.024549\n",
       "14                     15            uniform         0.787142        0.024113\n",
       "15                     15           distance         0.808191        0.023978\n",
       "16                     20            uniform         0.773489        0.023372\n",
       "17                     20           distance         0.798454        0.023536\n",
       "18                     25            uniform         0.767440        0.022939\n",
       "19                     25           distance         0.794206        0.022837"
      ]
     },
     "execution_count": 51,
     "metadata": {},
     "output_type": "execute_result"
    }
   ],
   "source": [
    "knn_grid_results = pd.DataFrame( knn_grid_v1.cv_results_ )\n",
    "knn_grid_results[['param_knn__n_neighbors', 'param_knn__weights', 'mean_test_score', 'std_test_score']]"
   ]
  },
  {
   "cell_type": "markdown",
   "metadata": {
    "id": "eM06sfQLx8zq"
   },
   "source": [
    "### Building the final model"
   ]
  },
  {
   "cell_type": "code",
   "execution_count": 52,
   "metadata": {
    "id": "Z8sKzD6dx_Ui"
   },
   "outputs": [],
   "source": [
    "final_model = KNeighborsRegressor(n_neighbors = 5, weights = 'distance', metric = 'minkowski')\n",
    "knn_final = Pipeline(steps=[('preprocessor', preprocessor),\n",
    "                          ('knn', final_model)])"
   ]
  },
  {
   "cell_type": "code",
   "execution_count": 53,
   "metadata": {
    "colab": {
     "base_uri": "https://localhost:8080/"
    },
    "id": "D3i-CWT81jSM",
    "outputId": "b3f3d764-babb-4c3d-fa58-183258e59cae"
   },
   "outputs": [
    {
     "data": {
      "text/plain": [
       "Pipeline(steps=[('preprocessor',\n",
       "                 ColumnTransformer(transformers=[('num_imputed',\n",
       "                                                  Pipeline(steps=[('imputation',\n",
       "                                                                   SimpleImputer()),\n",
       "                                                                  ('scaler',\n",
       "                                                                   StandardScaler())]),\n",
       "                                                  ['Seats']),\n",
       "                                                 ('num_not_imputed',\n",
       "                                                  Pipeline(steps=[('scaler',\n",
       "                                                                   StandardScaler())]),\n",
       "                                                  ['age', 'KM_Driven',\n",
       "                                                   'mileage_new', 'power_new',\n",
       "                                                   'engine_new']),\n",
       "                                                 ('catvars',\n",
       "                                                  Pipeline(steps=[('ohencoder',\n",
       "                                                                   OneHotEncoder(handle_unknown='ignore'))]),\n",
       "                                                  ['Fuel_Type', 'Transmission',\n",
       "                                                   'Owner_Type', 'make',\n",
       "                                                   'Location'])])),\n",
       "                ('knn', KNeighborsRegressor(weights='distance'))])"
      ]
     },
     "execution_count": 53,
     "metadata": {},
     "output_type": "execute_result"
    }
   ],
   "source": [
    "knn_final.fit(X_train, y_train)"
   ]
  },
  {
   "cell_type": "code",
   "execution_count": 54,
   "metadata": {
    "colab": {
     "base_uri": "https://localhost:8080/"
    },
    "id": "TSa00Fhsw22S",
    "outputId": "5b4f407d-67ac-41ef-e477-911d49b9581d"
   },
   "outputs": [
    {
     "data": {
      "text/plain": [
       "0.8104851251571208"
      ]
     },
     "execution_count": 54,
     "metadata": {},
     "output_type": "execute_result"
    }
   ],
   "source": [
    "knn_final.score(X_test, y_test)"
   ]
  },
  {
   "cell_type": "code",
   "execution_count": 56,
   "metadata": {},
   "outputs": [],
   "source": [
    "from sklearn.metrics import mean_squared_error"
   ]
  },
  {
   "cell_type": "code",
   "execution_count": 57,
   "metadata": {
    "colab": {
     "base_uri": "https://localhost:8080/"
    },
    "id": "MEJ5xlQl10tA",
    "outputId": "8c8afcaf-2a51-4862-c879-5ef0f43d89c3"
   },
   "outputs": [
    {
     "data": {
      "text/plain": [
       "0.95983108414113"
      ]
     },
     "execution_count": 57,
     "metadata": {},
     "output_type": "execute_result"
    }
   ],
   "source": [
    "final_rmse = np.sqrt(mean_squared_error(y_test, knn_final.predict(X_test)))\n",
    "final_rmse"
   ]
  },
  {
   "cell_type": "markdown",
   "metadata": {
    "id": "brogmWgBx26C"
   },
   "source": [
    "## Model Persistence"
   ]
  },
  {
   "cell_type": "code",
   "execution_count": 58,
   "metadata": {
    "id": "UlwoeINcx3_D"
   },
   "outputs": [],
   "source": [
    "class CarPredictionModel():\n",
    "    \n",
    "    def __init__(self, model, features, rmse):\n",
    "        self.model = model\n",
    "        self.features = features\n",
    "        self.rmse = rmse"
   ]
  },
  {
   "cell_type": "code",
   "execution_count": 59,
   "metadata": {
    "id": "GZubfgLQ1zcB"
   },
   "outputs": [],
   "source": [
    "my_model = CarPredictionModel(knn_final, list(X_train.columns), final_rmse)"
   ]
  },
  {
   "cell_type": "code",
   "execution_count": 60,
   "metadata": {
    "id": "pJhDIag52HNH"
   },
   "outputs": [],
   "source": [
    "from joblib import dump"
   ]
  },
  {
   "cell_type": "code",
   "execution_count": 61,
   "metadata": {
    "colab": {
     "base_uri": "https://localhost:8080/"
    },
    "id": "BNqmKGTa2Ji1",
    "outputId": "a0670334-ffce-4b41-d389-3bf8dbe06373"
   },
   "outputs": [
    {
     "data": {
      "text/plain": [
       "['./cars_v1.pkl']"
      ]
     },
     "execution_count": 61,
     "metadata": {},
     "output_type": "execute_result"
    }
   ],
   "source": [
    "dump(my_model, './cars_v1.pkl')"
   ]
  }
 ],
 "metadata": {
  "colab": {
   "name": "Used Car Price Prediction KNN ISB 1.0.ipynb",
   "provenance": []
  },
  "kernelspec": {
   "display_name": "Python 3",
   "language": "python",
   "name": "python3"
  },
  "language_info": {
   "codemirror_mode": {
    "name": "ipython",
    "version": 3
   },
   "file_extension": ".py",
   "mimetype": "text/x-python",
   "name": "python",
   "nbconvert_exporter": "python",
   "pygments_lexer": "ipython3",
   "version": "3.8.5"
  }
 },
 "nbformat": 4,
 "nbformat_minor": 1
}
