{
 "cells": [
  {
   "cell_type": "markdown",
   "metadata": {
    "id": "3VBbPBFRCv2E"
   },
   "source": [
    "## Installing required libraries\n",
    "\n",
    "- onnx library\n",
    "- weight and biases library"
   ]
  },
  {
   "cell_type": "code",
   "execution_count": 1,
   "metadata": {
    "colab": {
     "base_uri": "https://localhost:8080/"
    },
    "id": "LFKHk-Hn_r57",
    "outputId": "6ea2496c-1677-45eb-83cc-0baa47e00750"
   },
   "outputs": [
    {
     "name": "stdout",
     "output_type": "stream",
     "text": [
      "Collecting wandb\n",
      "  Downloading wandb-0.12.4-py2.py3-none-any.whl (1.7 MB)\n",
      "\u001b[?25l\r",
      "\u001b[K     |▏                               | 10 kB 20.9 MB/s eta 0:00:01\r",
      "\u001b[K     |▍                               | 20 kB 27.3 MB/s eta 0:00:01\r",
      "\u001b[K     |▋                               | 30 kB 21.5 MB/s eta 0:00:01\r",
      "\u001b[K     |▉                               | 40 kB 17.6 MB/s eta 0:00:01\r",
      "\u001b[K     |█                               | 51 kB 10.3 MB/s eta 0:00:01\r",
      "\u001b[K     |█▏                              | 61 kB 10.4 MB/s eta 0:00:01\r",
      "\u001b[K     |█▍                              | 71 kB 9.7 MB/s eta 0:00:01\r",
      "\u001b[K     |█▋                              | 81 kB 10.7 MB/s eta 0:00:01\r",
      "\u001b[K     |█▉                              | 92 kB 8.4 MB/s eta 0:00:01\r",
      "\u001b[K     |██                              | 102 kB 9.2 MB/s eta 0:00:01\r",
      "\u001b[K     |██▏                             | 112 kB 9.2 MB/s eta 0:00:01\r",
      "\u001b[K     |██▍                             | 122 kB 9.2 MB/s eta 0:00:01\r",
      "\u001b[K     |██▋                             | 133 kB 9.2 MB/s eta 0:00:01\r",
      "\u001b[K     |██▊                             | 143 kB 9.2 MB/s eta 0:00:01\r",
      "\u001b[K     |███                             | 153 kB 9.2 MB/s eta 0:00:01\r",
      "\u001b[K     |███▏                            | 163 kB 9.2 MB/s eta 0:00:01\r",
      "\u001b[K     |███▍                            | 174 kB 9.2 MB/s eta 0:00:01\r",
      "\u001b[K     |███▋                            | 184 kB 9.2 MB/s eta 0:00:01\r",
      "\u001b[K     |███▊                            | 194 kB 9.2 MB/s eta 0:00:01\r",
      "\u001b[K     |████                            | 204 kB 9.2 MB/s eta 0:00:01\r",
      "\u001b[K     |████▏                           | 215 kB 9.2 MB/s eta 0:00:01\r",
      "\u001b[K     |████▍                           | 225 kB 9.2 MB/s eta 0:00:01\r",
      "\u001b[K     |████▋                           | 235 kB 9.2 MB/s eta 0:00:01\r",
      "\u001b[K     |████▊                           | 245 kB 9.2 MB/s eta 0:00:01\r",
      "\u001b[K     |█████                           | 256 kB 9.2 MB/s eta 0:00:01\r",
      "\u001b[K     |█████▏                          | 266 kB 9.2 MB/s eta 0:00:01\r",
      "\u001b[K     |█████▍                          | 276 kB 9.2 MB/s eta 0:00:01\r",
      "\u001b[K     |█████▌                          | 286 kB 9.2 MB/s eta 0:00:01\r",
      "\u001b[K     |█████▊                          | 296 kB 9.2 MB/s eta 0:00:01\r",
      "\u001b[K     |██████                          | 307 kB 9.2 MB/s eta 0:00:01\r",
      "\u001b[K     |██████▏                         | 317 kB 9.2 MB/s eta 0:00:01\r",
      "\u001b[K     |██████▍                         | 327 kB 9.2 MB/s eta 0:00:01\r",
      "\u001b[K     |██████▌                         | 337 kB 9.2 MB/s eta 0:00:01\r",
      "\u001b[K     |██████▊                         | 348 kB 9.2 MB/s eta 0:00:01\r",
      "\u001b[K     |███████                         | 358 kB 9.2 MB/s eta 0:00:01\r",
      "\u001b[K     |███████▏                        | 368 kB 9.2 MB/s eta 0:00:01\r",
      "\u001b[K     |███████▎                        | 378 kB 9.2 MB/s eta 0:00:01\r",
      "\u001b[K     |███████▌                        | 389 kB 9.2 MB/s eta 0:00:01\r",
      "\u001b[K     |███████▊                        | 399 kB 9.2 MB/s eta 0:00:01\r",
      "\u001b[K     |████████                        | 409 kB 9.2 MB/s eta 0:00:01\r",
      "\u001b[K     |████████▏                       | 419 kB 9.2 MB/s eta 0:00:01\r",
      "\u001b[K     |████████▎                       | 430 kB 9.2 MB/s eta 0:00:01\r",
      "\u001b[K     |████████▌                       | 440 kB 9.2 MB/s eta 0:00:01\r",
      "\u001b[K     |████████▊                       | 450 kB 9.2 MB/s eta 0:00:01\r",
      "\u001b[K     |█████████                       | 460 kB 9.2 MB/s eta 0:00:01\r",
      "\u001b[K     |█████████▏                      | 471 kB 9.2 MB/s eta 0:00:01\r",
      "\u001b[K     |█████████▎                      | 481 kB 9.2 MB/s eta 0:00:01\r",
      "\u001b[K     |█████████▌                      | 491 kB 9.2 MB/s eta 0:00:01\r",
      "\u001b[K     |█████████▊                      | 501 kB 9.2 MB/s eta 0:00:01\r",
      "\u001b[K     |██████████                      | 512 kB 9.2 MB/s eta 0:00:01\r",
      "\u001b[K     |██████████                      | 522 kB 9.2 MB/s eta 0:00:01\r",
      "\u001b[K     |██████████▎                     | 532 kB 9.2 MB/s eta 0:00:01\r",
      "\u001b[K     |██████████▌                     | 542 kB 9.2 MB/s eta 0:00:01\r",
      "\u001b[K     |██████████▊                     | 552 kB 9.2 MB/s eta 0:00:01\r",
      "\u001b[K     |███████████                     | 563 kB 9.2 MB/s eta 0:00:01\r",
      "\u001b[K     |███████████                     | 573 kB 9.2 MB/s eta 0:00:01\r",
      "\u001b[K     |███████████▎                    | 583 kB 9.2 MB/s eta 0:00:01\r",
      "\u001b[K     |███████████▌                    | 593 kB 9.2 MB/s eta 0:00:01\r",
      "\u001b[K     |███████████▊                    | 604 kB 9.2 MB/s eta 0:00:01\r",
      "\u001b[K     |███████████▉                    | 614 kB 9.2 MB/s eta 0:00:01\r",
      "\u001b[K     |████████████                    | 624 kB 9.2 MB/s eta 0:00:01\r",
      "\u001b[K     |████████████▎                   | 634 kB 9.2 MB/s eta 0:00:01\r",
      "\u001b[K     |████████████▌                   | 645 kB 9.2 MB/s eta 0:00:01\r",
      "\u001b[K     |████████████▊                   | 655 kB 9.2 MB/s eta 0:00:01\r",
      "\u001b[K     |████████████▉                   | 665 kB 9.2 MB/s eta 0:00:01\r",
      "\u001b[K     |█████████████                   | 675 kB 9.2 MB/s eta 0:00:01\r",
      "\u001b[K     |█████████████▎                  | 686 kB 9.2 MB/s eta 0:00:01\r",
      "\u001b[K     |█████████████▌                  | 696 kB 9.2 MB/s eta 0:00:01\r",
      "\u001b[K     |█████████████▊                  | 706 kB 9.2 MB/s eta 0:00:01\r",
      "\u001b[K     |█████████████▉                  | 716 kB 9.2 MB/s eta 0:00:01\r",
      "\u001b[K     |██████████████                  | 727 kB 9.2 MB/s eta 0:00:01\r",
      "\u001b[K     |██████████████▎                 | 737 kB 9.2 MB/s eta 0:00:01\r",
      "\u001b[K     |██████████████▌                 | 747 kB 9.2 MB/s eta 0:00:01\r",
      "\u001b[K     |██████████████▋                 | 757 kB 9.2 MB/s eta 0:00:01\r",
      "\u001b[K     |██████████████▉                 | 768 kB 9.2 MB/s eta 0:00:01\r",
      "\u001b[K     |███████████████                 | 778 kB 9.2 MB/s eta 0:00:01\r",
      "\u001b[K     |███████████████▎                | 788 kB 9.2 MB/s eta 0:00:01\r",
      "\u001b[K     |███████████████▌                | 798 kB 9.2 MB/s eta 0:00:01\r",
      "\u001b[K     |███████████████▋                | 808 kB 9.2 MB/s eta 0:00:01\r",
      "\u001b[K     |███████████████▉                | 819 kB 9.2 MB/s eta 0:00:01\r",
      "\u001b[K     |████████████████                | 829 kB 9.2 MB/s eta 0:00:01\r",
      "\u001b[K     |████████████████▎               | 839 kB 9.2 MB/s eta 0:00:01\r",
      "\u001b[K     |████████████████▍               | 849 kB 9.2 MB/s eta 0:00:01\r",
      "\u001b[K     |████████████████▋               | 860 kB 9.2 MB/s eta 0:00:01\r",
      "\u001b[K     |████████████████▉               | 870 kB 9.2 MB/s eta 0:00:01\r",
      "\u001b[K     |█████████████████               | 880 kB 9.2 MB/s eta 0:00:01\r",
      "\u001b[K     |█████████████████▎              | 890 kB 9.2 MB/s eta 0:00:01\r",
      "\u001b[K     |█████████████████▍              | 901 kB 9.2 MB/s eta 0:00:01\r",
      "\u001b[K     |█████████████████▋              | 911 kB 9.2 MB/s eta 0:00:01\r",
      "\u001b[K     |█████████████████▉              | 921 kB 9.2 MB/s eta 0:00:01\r",
      "\u001b[K     |██████████████████              | 931 kB 9.2 MB/s eta 0:00:01\r",
      "\u001b[K     |██████████████████▎             | 942 kB 9.2 MB/s eta 0:00:01\r",
      "\u001b[K     |██████████████████▍             | 952 kB 9.2 MB/s eta 0:00:01\r",
      "\u001b[K     |██████████████████▋             | 962 kB 9.2 MB/s eta 0:00:01\r",
      "\u001b[K     |██████████████████▉             | 972 kB 9.2 MB/s eta 0:00:01\r",
      "\u001b[K     |███████████████████             | 983 kB 9.2 MB/s eta 0:00:01\r",
      "\u001b[K     |███████████████████▏            | 993 kB 9.2 MB/s eta 0:00:01\r",
      "\u001b[K     |███████████████████▍            | 1.0 MB 9.2 MB/s eta 0:00:01\r",
      "\u001b[K     |███████████████████▋            | 1.0 MB 9.2 MB/s eta 0:00:01\r",
      "\u001b[K     |███████████████████▉            | 1.0 MB 9.2 MB/s eta 0:00:01\r",
      "\u001b[K     |████████████████████            | 1.0 MB 9.2 MB/s eta 0:00:01\r",
      "\u001b[K     |████████████████████▏           | 1.0 MB 9.2 MB/s eta 0:00:01\r",
      "\u001b[K     |████████████████████▍           | 1.1 MB 9.2 MB/s eta 0:00:01\r",
      "\u001b[K     |████████████████████▋           | 1.1 MB 9.2 MB/s eta 0:00:01\r",
      "\u001b[K     |████████████████████▉           | 1.1 MB 9.2 MB/s eta 0:00:01\r",
      "\u001b[K     |█████████████████████           | 1.1 MB 9.2 MB/s eta 0:00:01\r",
      "\u001b[K     |█████████████████████▏          | 1.1 MB 9.2 MB/s eta 0:00:01\r",
      "\u001b[K     |█████████████████████▍          | 1.1 MB 9.2 MB/s eta 0:00:01\r",
      "\u001b[K     |█████████████████████▋          | 1.1 MB 9.2 MB/s eta 0:00:01\r",
      "\u001b[K     |█████████████████████▉          | 1.1 MB 9.2 MB/s eta 0:00:01\r",
      "\u001b[K     |██████████████████████          | 1.1 MB 9.2 MB/s eta 0:00:01\r",
      "\u001b[K     |██████████████████████▏         | 1.1 MB 9.2 MB/s eta 0:00:01\r",
      "\u001b[K     |██████████████████████▍         | 1.2 MB 9.2 MB/s eta 0:00:01\r",
      "\u001b[K     |██████████████████████▋         | 1.2 MB 9.2 MB/s eta 0:00:01\r",
      "\u001b[K     |██████████████████████▉         | 1.2 MB 9.2 MB/s eta 0:00:01\r",
      "\u001b[K     |███████████████████████         | 1.2 MB 9.2 MB/s eta 0:00:01\r",
      "\u001b[K     |███████████████████████▏        | 1.2 MB 9.2 MB/s eta 0:00:01\r",
      "\u001b[K     |███████████████████████▍        | 1.2 MB 9.2 MB/s eta 0:00:01\r",
      "\u001b[K     |███████████████████████▋        | 1.2 MB 9.2 MB/s eta 0:00:01\r",
      "\u001b[K     |███████████████████████▊        | 1.2 MB 9.2 MB/s eta 0:00:01\r",
      "\u001b[K     |████████████████████████        | 1.2 MB 9.2 MB/s eta 0:00:01\r",
      "\u001b[K     |████████████████████████▏       | 1.2 MB 9.2 MB/s eta 0:00:01\r",
      "\u001b[K     |████████████████████████▍       | 1.3 MB 9.2 MB/s eta 0:00:01\r",
      "\u001b[K     |████████████████████████▋       | 1.3 MB 9.2 MB/s eta 0:00:01\r",
      "\u001b[K     |████████████████████████▊       | 1.3 MB 9.2 MB/s eta 0:00:01\r",
      "\u001b[K     |█████████████████████████       | 1.3 MB 9.2 MB/s eta 0:00:01\r",
      "\u001b[K     |█████████████████████████▏      | 1.3 MB 9.2 MB/s eta 0:00:01\r",
      "\u001b[K     |█████████████████████████▍      | 1.3 MB 9.2 MB/s eta 0:00:01\r",
      "\u001b[K     |█████████████████████████▋      | 1.3 MB 9.2 MB/s eta 0:00:01\r",
      "\u001b[K     |█████████████████████████▊      | 1.3 MB 9.2 MB/s eta 0:00:01\r",
      "\u001b[K     |██████████████████████████      | 1.3 MB 9.2 MB/s eta 0:00:01\r",
      "\u001b[K     |██████████████████████████▏     | 1.4 MB 9.2 MB/s eta 0:00:01\r",
      "\u001b[K     |██████████████████████████▍     | 1.4 MB 9.2 MB/s eta 0:00:01\r",
      "\u001b[K     |██████████████████████████▌     | 1.4 MB 9.2 MB/s eta 0:00:01\r",
      "\u001b[K     |██████████████████████████▊     | 1.4 MB 9.2 MB/s eta 0:00:01\r",
      "\u001b[K     |███████████████████████████     | 1.4 MB 9.2 MB/s eta 0:00:01\r",
      "\u001b[K     |███████████████████████████▏    | 1.4 MB 9.2 MB/s eta 0:00:01\r",
      "\u001b[K     |███████████████████████████▍    | 1.4 MB 9.2 MB/s eta 0:00:01\r",
      "\u001b[K     |███████████████████████████▌    | 1.4 MB 9.2 MB/s eta 0:00:01\r",
      "\u001b[K     |███████████████████████████▊    | 1.4 MB 9.2 MB/s eta 0:00:01\r",
      "\u001b[K     |████████████████████████████    | 1.4 MB 9.2 MB/s eta 0:00:01\r",
      "\u001b[K     |████████████████████████████▏   | 1.5 MB 9.2 MB/s eta 0:00:01\r",
      "\u001b[K     |████████████████████████████▎   | 1.5 MB 9.2 MB/s eta 0:00:01\r",
      "\u001b[K     |████████████████████████████▌   | 1.5 MB 9.2 MB/s eta 0:00:01\r",
      "\u001b[K     |████████████████████████████▊   | 1.5 MB 9.2 MB/s eta 0:00:01\r",
      "\u001b[K     |█████████████████████████████   | 1.5 MB 9.2 MB/s eta 0:00:01\r",
      "\u001b[K     |█████████████████████████████▏  | 1.5 MB 9.2 MB/s eta 0:00:01\r",
      "\u001b[K     |█████████████████████████████▎  | 1.5 MB 9.2 MB/s eta 0:00:01\r",
      "\u001b[K     |█████████████████████████████▌  | 1.5 MB 9.2 MB/s eta 0:00:01\r",
      "\u001b[K     |█████████████████████████████▊  | 1.5 MB 9.2 MB/s eta 0:00:01\r",
      "\u001b[K     |██████████████████████████████  | 1.5 MB 9.2 MB/s eta 0:00:01\r",
      "\u001b[K     |██████████████████████████████▏ | 1.6 MB 9.2 MB/s eta 0:00:01\r",
      "\u001b[K     |██████████████████████████████▎ | 1.6 MB 9.2 MB/s eta 0:00:01\r",
      "\u001b[K     |██████████████████████████████▌ | 1.6 MB 9.2 MB/s eta 0:00:01\r",
      "\u001b[K     |██████████████████████████████▊ | 1.6 MB 9.2 MB/s eta 0:00:01\r",
      "\u001b[K     |███████████████████████████████ | 1.6 MB 9.2 MB/s eta 0:00:01\r",
      "\u001b[K     |███████████████████████████████ | 1.6 MB 9.2 MB/s eta 0:00:01\r",
      "\u001b[K     |███████████████████████████████▎| 1.6 MB 9.2 MB/s eta 0:00:01\r",
      "\u001b[K     |███████████████████████████████▌| 1.6 MB 9.2 MB/s eta 0:00:01\r",
      "\u001b[K     |███████████████████████████████▊| 1.6 MB 9.2 MB/s eta 0:00:01\r",
      "\u001b[K     |████████████████████████████████| 1.6 MB 9.2 MB/s eta 0:00:01\r",
      "\u001b[K     |████████████████████████████████| 1.7 MB 9.2 MB/s \n",
      "\u001b[?25hCollecting yaspin>=1.0.0\n",
      "  Downloading yaspin-2.1.0-py3-none-any.whl (18 kB)\n",
      "Collecting configparser>=3.8.1\n",
      "  Downloading configparser-5.0.2-py3-none-any.whl (19 kB)\n",
      "Collecting shortuuid>=0.5.0\n",
      "  Downloading shortuuid-1.0.1-py3-none-any.whl (7.5 kB)\n",
      "Requirement already satisfied: python-dateutil>=2.6.1 in /usr/local/lib/python3.7/dist-packages (from wandb) (2.8.2)\n",
      "Requirement already satisfied: requests<3,>=2.0.0 in /usr/local/lib/python3.7/dist-packages (from wandb) (2.23.0)\n",
      "Requirement already satisfied: psutil>=5.0.0 in /usr/local/lib/python3.7/dist-packages (from wandb) (5.4.8)\n",
      "Requirement already satisfied: promise<3,>=2.0 in /usr/local/lib/python3.7/dist-packages (from wandb) (2.3)\n",
      "Collecting subprocess32>=3.5.3\n",
      "  Downloading subprocess32-3.5.4.tar.gz (97 kB)\n",
      "\u001b[K     |████████████████████████████████| 97 kB 6.8 MB/s \n",
      "\u001b[?25hRequirement already satisfied: PyYAML in /usr/local/lib/python3.7/dist-packages (from wandb) (3.13)\n",
      "Collecting docker-pycreds>=0.4.0\n",
      "  Downloading docker_pycreds-0.4.0-py2.py3-none-any.whl (9.0 kB)\n",
      "Requirement already satisfied: protobuf>=3.12.0 in /usr/local/lib/python3.7/dist-packages (from wandb) (3.17.3)\n",
      "Collecting sentry-sdk>=1.0.0\n",
      "  Downloading sentry_sdk-1.4.3-py2.py3-none-any.whl (139 kB)\n",
      "\u001b[K     |████████████████████████████████| 139 kB 50.3 MB/s \n",
      "\u001b[?25hCollecting pathtools\n",
      "  Downloading pathtools-0.1.2.tar.gz (11 kB)\n",
      "Requirement already satisfied: six>=1.13.0 in /usr/local/lib/python3.7/dist-packages (from wandb) (1.15.0)\n",
      "Collecting GitPython>=1.0.0\n",
      "  Downloading GitPython-3.1.24-py3-none-any.whl (180 kB)\n",
      "\u001b[K     |████████████████████████████████| 180 kB 55.2 MB/s \n",
      "\u001b[?25hRequirement already satisfied: Click!=8.0.0,>=7.0 in /usr/local/lib/python3.7/dist-packages (from wandb) (7.1.2)\n",
      "Requirement already satisfied: typing-extensions>=3.7.4.3 in /usr/local/lib/python3.7/dist-packages (from GitPython>=1.0.0->wandb) (3.7.4.3)\n",
      "Collecting gitdb<5,>=4.0.1\n",
      "  Downloading gitdb-4.0.7-py3-none-any.whl (63 kB)\n",
      "\u001b[K     |████████████████████████████████| 63 kB 1.7 MB/s \n",
      "\u001b[?25hCollecting smmap<5,>=3.0.1\n",
      "  Downloading smmap-4.0.0-py2.py3-none-any.whl (24 kB)\n",
      "Requirement already satisfied: idna<3,>=2.5 in /usr/local/lib/python3.7/dist-packages (from requests<3,>=2.0.0->wandb) (2.10)\n",
      "Requirement already satisfied: chardet<4,>=3.0.2 in /usr/local/lib/python3.7/dist-packages (from requests<3,>=2.0.0->wandb) (3.0.4)\n",
      "Requirement already satisfied: certifi>=2017.4.17 in /usr/local/lib/python3.7/dist-packages (from requests<3,>=2.0.0->wandb) (2021.5.30)\n",
      "Requirement already satisfied: urllib3!=1.25.0,!=1.25.1,<1.26,>=1.21.1 in /usr/local/lib/python3.7/dist-packages (from requests<3,>=2.0.0->wandb) (1.24.3)\n",
      "Requirement already satisfied: termcolor<2.0.0,>=1.1.0 in /usr/local/lib/python3.7/dist-packages (from yaspin>=1.0.0->wandb) (1.1.0)\n",
      "Building wheels for collected packages: subprocess32, pathtools\n",
      "  Building wheel for subprocess32 (setup.py) ... \u001b[?25l\u001b[?25hdone\n",
      "  Created wheel for subprocess32: filename=subprocess32-3.5.4-py3-none-any.whl size=6502 sha256=9a183a2f6393eb244f96abdefea96bbfb2a90e794c5fe47b29a7a2b16eadb4e1\n",
      "  Stored in directory: /root/.cache/pip/wheels/50/ca/fa/8fca8d246e64f19488d07567547ddec8eb084e8c0d7a59226a\n",
      "  Building wheel for pathtools (setup.py) ... \u001b[?25l\u001b[?25hdone\n",
      "  Created wheel for pathtools: filename=pathtools-0.1.2-py3-none-any.whl size=8807 sha256=9dc951689106831341c0ab4b8f1fca6d18fe01d1a1911ca81faf2d6c0c35fd6d\n",
      "  Stored in directory: /root/.cache/pip/wheels/3e/31/09/fa59cef12cdcfecc627b3d24273699f390e71828921b2cbba2\n",
      "Successfully built subprocess32 pathtools\n",
      "Installing collected packages: smmap, gitdb, yaspin, subprocess32, shortuuid, sentry-sdk, pathtools, GitPython, docker-pycreds, configparser, wandb\n",
      "Successfully installed GitPython-3.1.24 configparser-5.0.2 docker-pycreds-0.4.0 gitdb-4.0.7 pathtools-0.1.2 sentry-sdk-1.4.3 shortuuid-1.0.1 smmap-4.0.0 subprocess32-3.5.4 wandb-0.12.4 yaspin-2.1.0\n",
      "Collecting onnx\n",
      "  Downloading onnx-1.10.1-cp37-cp37m-manylinux_2_12_x86_64.manylinux2010_x86_64.whl (12.3 MB)\n",
      "\u001b[K     |████████████████████████████████| 12.3 MB 8.3 MB/s \n",
      "\u001b[?25hRequirement already satisfied: protobuf in /usr/local/lib/python3.7/dist-packages (from onnx) (3.17.3)\n",
      "Requirement already satisfied: numpy>=1.16.6 in /usr/local/lib/python3.7/dist-packages (from onnx) (1.19.5)\n",
      "Requirement already satisfied: six in /usr/local/lib/python3.7/dist-packages (from onnx) (1.15.0)\n",
      "Requirement already satisfied: typing-extensions>=3.6.2.1 in /usr/local/lib/python3.7/dist-packages (from onnx) (3.7.4.3)\n",
      "Installing collected packages: onnx\n",
      "Successfully installed onnx-1.10.1\n",
      "Collecting skl2onnx\n",
      "  Downloading skl2onnx-1.10.0-py2.py3-none-any.whl (265 kB)\n",
      "\u001b[K     |████████████████████████████████| 265 kB 6.7 MB/s \n",
      "\u001b[?25hRequirement already satisfied: onnx>=1.2.1 in /usr/local/lib/python3.7/dist-packages (from skl2onnx) (1.10.1)\n",
      "Collecting onnxconverter-common>=1.7.0\n",
      "  Downloading onnxconverter_common-1.8.1-py2.py3-none-any.whl (77 kB)\n",
      "\u001b[K     |████████████████████████████████| 77 kB 7.3 MB/s \n",
      "\u001b[?25hRequirement already satisfied: scipy>=1.0 in /usr/local/lib/python3.7/dist-packages (from skl2onnx) (1.4.1)\n",
      "Requirement already satisfied: numpy>=1.15 in /usr/local/lib/python3.7/dist-packages (from skl2onnx) (1.19.5)\n",
      "Requirement already satisfied: scikit-learn>=0.19 in /usr/local/lib/python3.7/dist-packages (from skl2onnx) (0.22.2.post1)\n",
      "Requirement already satisfied: protobuf in /usr/local/lib/python3.7/dist-packages (from skl2onnx) (3.17.3)\n",
      "Requirement already satisfied: typing-extensions>=3.6.2.1 in /usr/local/lib/python3.7/dist-packages (from onnx>=1.2.1->skl2onnx) (3.7.4.3)\n",
      "Requirement already satisfied: six in /usr/local/lib/python3.7/dist-packages (from onnx>=1.2.1->skl2onnx) (1.15.0)\n",
      "Requirement already satisfied: joblib>=0.11 in /usr/local/lib/python3.7/dist-packages (from scikit-learn>=0.19->skl2onnx) (1.0.1)\n",
      "Installing collected packages: onnxconverter-common, skl2onnx\n",
      "Successfully installed onnxconverter-common-1.8.1 skl2onnx-1.10.0\n",
      "Collecting onnxruntime\n",
      "  Downloading onnxruntime-1.9.0-cp37-cp37m-manylinux_2_17_x86_64.manylinux2014_x86_64.whl (4.8 MB)\n",
      "\u001b[K     |████████████████████████████████| 4.8 MB 7.6 MB/s \n",
      "\u001b[?25hRequirement already satisfied: numpy>=1.16.6 in /usr/local/lib/python3.7/dist-packages (from onnxruntime) (1.19.5)\n",
      "Requirement already satisfied: flatbuffers in /usr/local/lib/python3.7/dist-packages (from onnxruntime) (1.12)\n",
      "Requirement already satisfied: protobuf in /usr/local/lib/python3.7/dist-packages (from onnxruntime) (3.17.3)\n",
      "Requirement already satisfied: six>=1.9 in /usr/local/lib/python3.7/dist-packages (from protobuf->onnxruntime) (1.15.0)\n",
      "Installing collected packages: onnxruntime\n",
      "Successfully installed onnxruntime-1.9.0\n",
      "Collecting onnxmltools\n",
      "  Downloading onnxmltools-1.9.1-py2.py3-none-any.whl (295 kB)\n",
      "\u001b[K     |████████████████████████████████| 295 kB 8.1 MB/s \n",
      "\u001b[?25hRequirement already satisfied: onnx in /usr/local/lib/python3.7/dist-packages (from onnxmltools) (1.10.1)\n",
      "Requirement already satisfied: numpy in /usr/local/lib/python3.7/dist-packages (from onnxmltools) (1.19.5)\n",
      "Requirement already satisfied: skl2onnx in /usr/local/lib/python3.7/dist-packages (from onnxmltools) (1.10.0)\n",
      "Requirement already satisfied: protobuf in /usr/local/lib/python3.7/dist-packages (from onnx->onnxmltools) (3.17.3)\n",
      "Requirement already satisfied: six in /usr/local/lib/python3.7/dist-packages (from onnx->onnxmltools) (1.15.0)\n",
      "Requirement already satisfied: typing-extensions>=3.6.2.1 in /usr/local/lib/python3.7/dist-packages (from onnx->onnxmltools) (3.7.4.3)\n",
      "Requirement already satisfied: scipy>=1.0 in /usr/local/lib/python3.7/dist-packages (from skl2onnx->onnxmltools) (1.4.1)\n",
      "Requirement already satisfied: scikit-learn>=0.19 in /usr/local/lib/python3.7/dist-packages (from skl2onnx->onnxmltools) (0.22.2.post1)\n",
      "Requirement already satisfied: onnxconverter-common>=1.7.0 in /usr/local/lib/python3.7/dist-packages (from skl2onnx->onnxmltools) (1.8.1)\n",
      "Requirement already satisfied: joblib>=0.11 in /usr/local/lib/python3.7/dist-packages (from scikit-learn>=0.19->skl2onnx->onnxmltools) (1.0.1)\n",
      "Installing collected packages: onnxmltools\n",
      "Successfully installed onnxmltools-1.9.1\n"
     ]
    }
   ],
   "source": [
    "!pip install wandb\n",
    "!pip install onnx\n",
    "!pip install skl2onnx\n",
    "!pip install onnxruntime\n",
    "!pip install onnxmltools"
   ]
  },
  {
   "cell_type": "code",
   "execution_count": 2,
   "metadata": {
    "id": "c9gF4R9gFds_"
   },
   "outputs": [],
   "source": [
    "import pandas as pd\n",
    "import numpy as np\n",
    "from sklearn.model_selection import train_test_split\n",
    "from sklearn.metrics import r2_score, mean_squared_error\n",
    "from sklearn.compose import ColumnTransformer\n",
    "from sklearn.pipeline import Pipeline\n",
    "from sklearn.impute import SimpleImputer\n",
    "from sklearn.preprocessing import StandardScaler, OneHotEncoder\n",
    "from xgboost import XGBRegressor\n",
    "from onnx.tools.net_drawer import GetPydotGraph, GetOpNodeProducer\n",
    "import onnxruntime as rt\n",
    "from skl2onnx import convert_sklearn, __version__, update_registered_converter\n",
    "from skl2onnx.common.data_types import FloatTensorType, StringTensorType\n",
    "from skl2onnx.common.data_types import Int64TensorType\n",
    "from skl2onnx.common.shape_calculator import calculate_linear_regressor_output_shapes\n",
    "from onnxmltools.convert.xgboost.operator_converters.XGBoost import convert_xgboost  # noqa\n",
    "import pprint\n",
    "import os\n",
    "import wandb"
   ]
  },
  {
   "cell_type": "markdown",
   "metadata": {
    "id": "wH75ib_uC3Gc"
   },
   "source": [
    "## Loading the dataset: Used Car Price Prediction"
   ]
  },
  {
   "cell_type": "code",
   "execution_count": 3,
   "metadata": {
    "id": "E2eCp6WPFjCQ"
   },
   "outputs": [],
   "source": [
    "cars_df = pd.read_csv( \"https://drive.google.com/uc?export=download&id=1V_VBbyjGj6vvD0A90S5Lk0DG90djz28B\" )"
   ]
  },
  {
   "cell_type": "code",
   "execution_count": 4,
   "metadata": {
    "colab": {
     "base_uri": "https://localhost:8080/",
     "height": 411
    },
    "id": "9w_Ywj6SFwrc",
    "outputId": "a8c0b10c-41e4-4f02-d916-e28e288e7892"
   },
   "outputs": [
    {
     "data": {
      "text/html": [
       "<div>\n",
       "<style scoped>\n",
       "    .dataframe tbody tr th:only-of-type {\n",
       "        vertical-align: middle;\n",
       "    }\n",
       "\n",
       "    .dataframe tbody tr th {\n",
       "        vertical-align: top;\n",
       "    }\n",
       "\n",
       "    .dataframe thead th {\n",
       "        text-align: right;\n",
       "    }\n",
       "</style>\n",
       "<table border=\"1\" class=\"dataframe\">\n",
       "  <thead>\n",
       "    <tr style=\"text-align: right;\">\n",
       "      <th></th>\n",
       "      <th>Name</th>\n",
       "      <th>Location</th>\n",
       "      <th>Year</th>\n",
       "      <th>Kilometers_Driven</th>\n",
       "      <th>Fuel_Type</th>\n",
       "      <th>Transmission</th>\n",
       "      <th>Owner_Type</th>\n",
       "      <th>Mileage</th>\n",
       "      <th>Engine</th>\n",
       "      <th>Power</th>\n",
       "      <th>Seats</th>\n",
       "      <th>New_Price</th>\n",
       "      <th>Price</th>\n",
       "      <th>mileage_new</th>\n",
       "      <th>engine_new</th>\n",
       "      <th>power_new</th>\n",
       "      <th>age</th>\n",
       "      <th>make</th>\n",
       "      <th>model</th>\n",
       "      <th>KM_Driven</th>\n",
       "    </tr>\n",
       "  </thead>\n",
       "  <tbody>\n",
       "    <tr>\n",
       "      <th>0</th>\n",
       "      <td>Honda Jazz V</td>\n",
       "      <td>Chennai</td>\n",
       "      <td>2011</td>\n",
       "      <td>46000</td>\n",
       "      <td>Petrol</td>\n",
       "      <td>Manual</td>\n",
       "      <td>First</td>\n",
       "      <td>18.2 kmpl</td>\n",
       "      <td>1199 CC</td>\n",
       "      <td>88.7 bhp</td>\n",
       "      <td>5.0</td>\n",
       "      <td>8.61 Lakh</td>\n",
       "      <td>4.50</td>\n",
       "      <td>18.20</td>\n",
       "      <td>1199</td>\n",
       "      <td>88.70</td>\n",
       "      <td>9</td>\n",
       "      <td>honda</td>\n",
       "      <td>jazz</td>\n",
       "      <td>46</td>\n",
       "    </tr>\n",
       "    <tr>\n",
       "      <th>1</th>\n",
       "      <td>Maruti Ertiga VDI</td>\n",
       "      <td>Chennai</td>\n",
       "      <td>2012</td>\n",
       "      <td>87000</td>\n",
       "      <td>Diesel</td>\n",
       "      <td>Manual</td>\n",
       "      <td>First</td>\n",
       "      <td>20.77 kmpl</td>\n",
       "      <td>1248 CC</td>\n",
       "      <td>88.76 bhp</td>\n",
       "      <td>7.0</td>\n",
       "      <td>NaN</td>\n",
       "      <td>6.00</td>\n",
       "      <td>20.77</td>\n",
       "      <td>1248</td>\n",
       "      <td>88.76</td>\n",
       "      <td>8</td>\n",
       "      <td>maruti</td>\n",
       "      <td>ertiga</td>\n",
       "      <td>87</td>\n",
       "    </tr>\n",
       "    <tr>\n",
       "      <th>2</th>\n",
       "      <td>Nissan Micra Diesel XV</td>\n",
       "      <td>Jaipur</td>\n",
       "      <td>2013</td>\n",
       "      <td>86999</td>\n",
       "      <td>Diesel</td>\n",
       "      <td>Manual</td>\n",
       "      <td>First</td>\n",
       "      <td>23.08 kmpl</td>\n",
       "      <td>1461 CC</td>\n",
       "      <td>63.1 bhp</td>\n",
       "      <td>5.0</td>\n",
       "      <td>NaN</td>\n",
       "      <td>3.50</td>\n",
       "      <td>23.08</td>\n",
       "      <td>1461</td>\n",
       "      <td>63.10</td>\n",
       "      <td>7</td>\n",
       "      <td>nissan</td>\n",
       "      <td>micra</td>\n",
       "      <td>86</td>\n",
       "    </tr>\n",
       "    <tr>\n",
       "      <th>3</th>\n",
       "      <td>Tata Indica Vista Quadrajet LS</td>\n",
       "      <td>Chennai</td>\n",
       "      <td>2012</td>\n",
       "      <td>65932</td>\n",
       "      <td>Diesel</td>\n",
       "      <td>Manual</td>\n",
       "      <td>Second</td>\n",
       "      <td>22.3 kmpl</td>\n",
       "      <td>1248 CC</td>\n",
       "      <td>74 bhp</td>\n",
       "      <td>5.0</td>\n",
       "      <td>NaN</td>\n",
       "      <td>1.95</td>\n",
       "      <td>22.30</td>\n",
       "      <td>1248</td>\n",
       "      <td>74.00</td>\n",
       "      <td>8</td>\n",
       "      <td>tata</td>\n",
       "      <td>indica</td>\n",
       "      <td>65</td>\n",
       "    </tr>\n",
       "    <tr>\n",
       "      <th>4</th>\n",
       "      <td>Maruti Swift VDI BSIV</td>\n",
       "      <td>Jaipur</td>\n",
       "      <td>2015</td>\n",
       "      <td>64424</td>\n",
       "      <td>Diesel</td>\n",
       "      <td>Manual</td>\n",
       "      <td>First</td>\n",
       "      <td>25.2 kmpl</td>\n",
       "      <td>1248 CC</td>\n",
       "      <td>74 bhp</td>\n",
       "      <td>5.0</td>\n",
       "      <td>NaN</td>\n",
       "      <td>5.60</td>\n",
       "      <td>25.20</td>\n",
       "      <td>1248</td>\n",
       "      <td>74.00</td>\n",
       "      <td>5</td>\n",
       "      <td>maruti</td>\n",
       "      <td>swift</td>\n",
       "      <td>64</td>\n",
       "    </tr>\n",
       "  </tbody>\n",
       "</table>\n",
       "</div>"
      ],
      "text/plain": [
       "                             Name Location  Year  ...    make   model KM_Driven\n",
       "0                    Honda Jazz V  Chennai  2011  ...   honda    jazz        46\n",
       "1               Maruti Ertiga VDI  Chennai  2012  ...  maruti  ertiga        87\n",
       "2          Nissan Micra Diesel XV   Jaipur  2013  ...  nissan   micra        86\n",
       "3  Tata Indica Vista Quadrajet LS  Chennai  2012  ...    tata  indica        65\n",
       "4           Maruti Swift VDI BSIV   Jaipur  2015  ...  maruti   swift        64\n",
       "\n",
       "[5 rows x 20 columns]"
      ]
     },
     "execution_count": 4,
     "metadata": {},
     "output_type": "execute_result"
    }
   ],
   "source": [
    "cars_df.head(5)"
   ]
  },
  {
   "cell_type": "code",
   "execution_count": 5,
   "metadata": {
    "id": "sehIIbSBFnD1"
   },
   "outputs": [],
   "source": [
    "x_columns = ['KM_Driven', 'Fuel_Type', 'age',\n",
    "              'Transmission', 'Owner_Type', 'Seats',\n",
    "              'make', 'mileage_new', 'engine_new', 'model',\n",
    "              'power_new', 'Location']\n",
    "## model of the car is not included in the model"
   ]
  },
  {
   "cell_type": "code",
   "execution_count": 6,
   "metadata": {
    "colab": {
     "base_uri": "https://localhost:8080/"
    },
    "id": "-JteBYVPShF3",
    "outputId": "8e6b2325-e5c7-4b44-cad7-e612f2ae909d"
   },
   "outputs": [
    {
     "data": {
      "text/plain": [
       "(3092, 20)"
      ]
     },
     "execution_count": 6,
     "metadata": {},
     "output_type": "execute_result"
    }
   ],
   "source": [
    "cars_df.shape"
   ]
  },
  {
   "cell_type": "code",
   "execution_count": 7,
   "metadata": {
    "id": "pVC9f4QISa2h"
   },
   "outputs": [],
   "source": [
    "cars_df = cars_df[x_columns + ['Price']].dropna()"
   ]
  },
  {
   "cell_type": "code",
   "execution_count": 8,
   "metadata": {
    "colab": {
     "base_uri": "https://localhost:8080/"
    },
    "id": "l_bULZE0SjBf",
    "outputId": "fd935da4-a1d1-4bc5-cdd8-1342079f8918"
   },
   "outputs": [
    {
     "data": {
      "text/plain": [
       "(3091, 13)"
      ]
     },
     "execution_count": 8,
     "metadata": {},
     "output_type": "execute_result"
    }
   ],
   "source": [
    "cars_df.shape"
   ]
  },
  {
   "cell_type": "markdown",
   "metadata": {
    "id": "pJxhn2VxDAdG"
   },
   "source": [
    "## Identifying numerical and categorical features"
   ]
  },
  {
   "cell_type": "code",
   "execution_count": 9,
   "metadata": {
    "id": "PuezADwYFsWd"
   },
   "outputs": [],
   "source": [
    "cat_features = ['Fuel_Type',\n",
    "                'Transmission', 'Owner_Type', 'model',\n",
    "                'make', 'Location']"
   ]
  },
  {
   "cell_type": "code",
   "execution_count": 10,
   "metadata": {
    "id": "IyzKKTogFs_l"
   },
   "outputs": [],
   "source": [
    "num_features = list(set(x_columns) - set(cat_features))"
   ]
  },
  {
   "cell_type": "markdown",
   "metadata": {
    "id": "4tyTBzVVDDrX"
   },
   "source": [
    "## Split the dataset"
   ]
  },
  {
   "cell_type": "code",
   "execution_count": 11,
   "metadata": {
    "id": "-ZXkTZdAkjFT"
   },
   "outputs": [],
   "source": [
    "x_train, x_test, y_train, y_test = train_test_split(cars_df[x_columns],\n",
    "                                                    cars_df.Price,\n",
    "                                                    train_size = 0.8,\n",
    "                                                    random_state = 100)"
   ]
  },
  {
   "cell_type": "markdown",
   "metadata": {
    "id": "ZJBs5b9MDGXr"
   },
   "source": [
    "## Creating the pipeline for the deployment"
   ]
  },
  {
   "cell_type": "markdown",
   "metadata": {
    "id": "oVg1SOyv2UXq"
   },
   "source": [
    "http://onnx.ai/sklearn-onnx/auto_examples/plot_complex_pipeline.html#example-complex-pipeline\n",
    "\n",
    "http://onnx.ai/sklearn-onnx/auto_examples/plot_pipeline_xgboost.html"
   ]
  },
  {
   "cell_type": "code",
   "execution_count": 12,
   "metadata": {
    "id": "hj4QG6V7dZHd"
   },
   "outputs": [],
   "source": [
    "numeric_transformer = Pipeline(steps=[('scaler', StandardScaler())])\n",
    "\n",
    "categorical_transformer = Pipeline(steps=[('onehot', \n",
    "                                           OneHotEncoder(handle_unknown='ignore'))])\n",
    "\n",
    "preprocessor = ColumnTransformer(\n",
    "    transformers=[\n",
    "        ('num', numeric_transformer, num_features),                  \n",
    "        ('cat', categorical_transformer, cat_features),\n",
    "    ])\n",
    "\n",
    "params = { \"n_estimators\": 400,\n",
    "           \"max_depth\": 4,\n",
    "           \"objective\": 'reg:squarederror' }\n",
    "\n",
    "xgb_regressor = XGBRegressor(**params)\n",
    "\n",
    "reg = Pipeline(steps=[('preprocessor', preprocessor),\n",
    "                      ('regressor', xgb_regressor)])           \n",
    "\n",
    "reg.fit(x_train, \n",
    "        y_train)\n",
    "\n",
    "rmse = np.sqrt(mean_squared_error(y_test, \n",
    "                                  reg.predict(x_test)))"
   ]
  },
  {
   "cell_type": "code",
   "execution_count": 13,
   "metadata": {
    "colab": {
     "base_uri": "https://localhost:8080/"
    },
    "id": "_sgMnRCllduv",
    "outputId": "72ccebb3-b567-4451-856b-167ca7e3bf52"
   },
   "outputs": [
    {
     "name": "stdout",
     "output_type": "stream",
     "text": [
      "0.6187140821394929\n"
     ]
    }
   ],
   "source": [
    "print(rmse)"
   ]
  },
  {
   "cell_type": "markdown",
   "metadata": {
    "id": "qeaYg5BnnpYZ"
   },
   "source": [
    "## Creating the ONNX Graph"
   ]
  },
  {
   "cell_type": "code",
   "execution_count": 14,
   "metadata": {
    "colab": {
     "base_uri": "https://localhost:8080/"
    },
    "id": "K2ITr9pDnoey",
    "outputId": "dd8e6c35-ffdc-406c-e390-f41a4bcf08dc"
   },
   "outputs": [
    {
     "name": "stdout",
     "output_type": "stream",
     "text": [
      "[('KM_Driven', FloatTensorType(shape=[None, 1])),\n",
      " ('Fuel_Type', StringTensorType(shape=[None, 1])),\n",
      " ('age', FloatTensorType(shape=[None, 1])),\n",
      " ('Transmission', StringTensorType(shape=[None, 1])),\n",
      " ('Owner_Type', StringTensorType(shape=[None, 1])),\n",
      " ('Seats', FloatTensorType(shape=[None, 1])),\n",
      " ('make', StringTensorType(shape=[None, 1])),\n",
      " ('mileage_new', FloatTensorType(shape=[None, 1])),\n",
      " ('engine_new', FloatTensorType(shape=[None, 1])),\n",
      " ('model', StringTensorType(shape=[None, 1])),\n",
      " ('power_new', FloatTensorType(shape=[None, 1])),\n",
      " ('Location', StringTensorType(shape=[None, 1]))]\n"
     ]
    }
   ],
   "source": [
    "def convert_dataframe_schema(df, drop=None):\n",
    "    inputs = []\n",
    "    for k, v in zip(df.columns, df.dtypes):\n",
    "        if drop is not None and k in drop:\n",
    "            continue\n",
    "        if v == 'int64':\n",
    "            t = FloatTensorType([None, 1])\n",
    "        elif v == 'float64':\n",
    "            t = FloatTensorType([None, 1])\n",
    "        else:\n",
    "            t = StringTensorType([None, 1])\n",
    "        inputs.append((k, t))\n",
    "    return inputs\n",
    "\n",
    "\n",
    "inputs = convert_dataframe_schema(x_train)\n",
    "\n",
    "pprint.pprint(inputs)"
   ]
  },
  {
   "cell_type": "markdown",
   "metadata": {
    "id": "EauvwgaQDe7H"
   },
   "source": [
    "- Registers or updates a converter for a new model so that it can be converted when inserted in a scikit-learn pipeline."
   ]
  },
  {
   "cell_type": "code",
   "execution_count": 15,
   "metadata": {
    "id": "jIv117ZNSWTi"
   },
   "outputs": [],
   "source": [
    "update_registered_converter(\n",
    "    XGBRegressor, 'XGBoostXGBRegressor',\n",
    "    calculate_linear_regressor_output_shapes, convert_xgboost)\n"
   ]
  },
  {
   "cell_type": "markdown",
   "metadata": {
    "id": "le89CDwZDiys"
   },
   "source": [
    "## Converting the pipeline to ONNX format"
   ]
  },
  {
   "cell_type": "code",
   "execution_count": 16,
   "metadata": {
    "id": "cW_p_P5VSgH2"
   },
   "outputs": [],
   "source": [
    "model_onnx = convert_sklearn(\n",
    "    reg, 'pipeline_xgboost',\n",
    "    inputs)"
   ]
  },
  {
   "cell_type": "code",
   "execution_count": 17,
   "metadata": {
    "id": "7XmDJGJ4tRMj"
   },
   "outputs": [],
   "source": [
    "#!rm -r {MODEL_DIR}"
   ]
  },
  {
   "cell_type": "markdown",
   "metadata": {
    "id": "t-5I7IRVDsmD"
   },
   "source": [
    "## Storing the pipeline in a file"
   ]
  },
  {
   "cell_type": "code",
   "execution_count": 18,
   "metadata": {
    "id": "HpslY3GbtttD"
   },
   "outputs": [],
   "source": [
    "MODEL_DIR = \"./usedcarsprod\"\n",
    "MODEL_FILE_NAME = \"usedcar_xgboost.onnx\""
   ]
  },
  {
   "cell_type": "code",
   "execution_count": 19,
   "metadata": {
    "id": "0Cbmr153sQpy"
   },
   "outputs": [],
   "source": [
    "os.mkdir(MODEL_DIR)\n",
    "# And save.\n",
    "with open(MODEL_DIR + \"/\" + MODEL_FILE_NAME, \"wb\") as f:\n",
    "    f.write(model_onnx.SerializeToString())"
   ]
  },
  {
   "cell_type": "code",
   "execution_count": 20,
   "metadata": {
    "colab": {
     "base_uri": "https://localhost:8080/"
    },
    "id": "wgNoj5DeN56O",
    "outputId": "f656e7a7-40a5-4f0e-c27a-b3c1c6e65d74"
   },
   "outputs": [
    {
     "name": "stdout",
     "output_type": "stream",
     "text": [
      "total 20\n",
      "drwxr-xr-x 1 root root 4096 Oct  9 07:21 .\n",
      "drwxr-xr-x 1 root root 4096 Oct  9 07:15 ..\n",
      "drwxr-xr-x 4 root root 4096 Sep 30 17:11 .config\n",
      "drwxr-xr-x 1 root root 4096 Sep 30 17:12 sample_data\n",
      "drwxr-xr-x 2 root root 4096 Oct  9 07:21 usedcarsprod\n"
     ]
    }
   ],
   "source": [
    "!ls -al"
   ]
  },
  {
   "cell_type": "markdown",
   "metadata": {
    "id": "LGKZzY8qD52S"
   },
   "source": [
    "### Uploading the pipeline to weights and biases for tracking"
   ]
  },
  {
   "cell_type": "markdown",
   "metadata": {
    "id": "HvnypQFU1d-j"
   },
   "source": [
    "https://docs.wandb.ai/guides/artifacts/model-versioning#version-and-store-reliably"
   ]
  },
  {
   "cell_type": "code",
   "execution_count": 21,
   "metadata": {
    "id": "sSR5ta3sXFCC"
   },
   "outputs": [],
   "source": [
    "os.environ[\"WANDB_API_KEY\"] = \"8985894d5778b95c7acb681fd408dffe742c67c3\""
   ]
  },
  {
   "cell_type": "code",
   "execution_count": 22,
   "metadata": {
    "colab": {
     "base_uri": "https://localhost:8080/",
     "height": 51
    },
    "id": "xcMQByIFlELH",
    "outputId": "154f3e8a-7d5a-431f-d3ae-90a8ee990dcc"
   },
   "outputs": [
    {
     "name": "stderr",
     "output_type": "stream",
     "text": [
      "\u001b[34m\u001b[1mwandb\u001b[0m: Currently logged in as: \u001b[33mmanaranjan\u001b[0m (use `wandb login --relogin` to force relogin)\n"
     ]
    },
    {
     "data": {
      "text/html": [
       "\n",
       "                    Syncing run <strong><a href=\"https://wandb.ai/manaranjan/usedcarprod/runs/10y7fd4w\" target=\"_blank\">easy-cloud-2</a></strong> to <a href=\"https://wandb.ai/manaranjan/usedcarprod\" target=\"_blank\">Weights & Biases</a> (<a href=\"https://docs.wandb.com/integrations/jupyter.html\" target=\"_blank\">docs</a>).<br/>\n",
       "\n",
       "                "
      ],
      "text/plain": [
       "<IPython.core.display.HTML object>"
      ]
     },
     "metadata": {},
     "output_type": "display_data"
    }
   ],
   "source": [
    "wandb.init(project='usedcarprod', \n",
    "           config=params, \n",
    "           tags = ['XGB', 'TargetEncoding'])\n",
    "\n",
    "wandb.run.name = \"XGBProdModel\""
   ]
  },
  {
   "cell_type": "code",
   "execution_count": 23,
   "metadata": {
    "id": "K7-Bswv_XcKS"
   },
   "outputs": [],
   "source": [
    "wandb.log( {\"rmse\" : rmse} )"
   ]
  },
  {
   "cell_type": "code",
   "execution_count": 24,
   "metadata": {
    "id": "ZrdmVxq8XdX8"
   },
   "outputs": [],
   "source": [
    "model_artifact = wandb.Artifact(\"XGBoost_UserCar\",\n",
    "                                type = 'model',\n",
    "                                description = 'XGBoost Model for used car price prediction')"
   ]
  },
  {
   "cell_type": "code",
   "execution_count": 25,
   "metadata": {
    "colab": {
     "base_uri": "https://localhost:8080/"
    },
    "id": "ERmNOHatuIFd",
    "outputId": "09b24f61-67d3-4197-8d5d-f6df8d8611db"
   },
   "outputs": [
    {
     "name": "stderr",
     "output_type": "stream",
     "text": [
      "\u001b[34m\u001b[1mwandb\u001b[0m: Adding directory to artifact (./usedcarsprod)... Done. 0.1s\n"
     ]
    }
   ],
   "source": [
    "model_artifact.add_dir(MODEL_DIR)"
   ]
  },
  {
   "cell_type": "code",
   "execution_count": 26,
   "metadata": {
    "colab": {
     "base_uri": "https://localhost:8080/"
    },
    "id": "yDsm7kp5t7hP",
    "outputId": "927a39f0-45a8-421f-e73a-ddfff58ac51d"
   },
   "outputs": [
    {
     "data": {
      "text/plain": [
       "<wandb.sdk.wandb_artifacts.Artifact at 0x7fe53d50ced0>"
      ]
     },
     "execution_count": 26,
     "metadata": {},
     "output_type": "execute_result"
    }
   ],
   "source": [
    "wandb.run.log_artifact(model_artifact)"
   ]
  },
  {
   "cell_type": "code",
   "execution_count": 27,
   "metadata": {
    "colab": {
     "base_uri": "https://localhost:8080/",
     "height": 236,
     "referenced_widgets": [
      "f65dd33605c843a8916b5f57ad87edf3",
      "54ac1fb3669f460292d6b1b7b526065f",
      "fc6d0b217ac146e3aa5f8974dcaba423",
      "8e9e802449bb46baa1183997f40c3b5d",
      "158103e34c304b938aed9b5b594e3daf",
      "3cdf77f4c21e45dbb022f87c6bcd0bbd",
      "8a57bf3cf7704b2389322f0151c1ceae",
      "d7b3a733a31440c89090a91e8aca2dcc"
     ]
    },
    "id": "6j3yBdMWM28X",
    "outputId": "077c348a-6f1d-4278-bac1-dfff65be5504"
   },
   "outputs": [
    {
     "name": "stderr",
     "output_type": "stream",
     "text": [
      "\u001b[34m\u001b[1mwandb\u001b[0m: \u001b[33mWARNING\u001b[0m Calling run.save without any arguments is deprecated.Changes to attributes are automatically persisted.\n"
     ]
    },
    {
     "data": {
      "text/html": [
       "<br/>Waiting for W&B process to finish, PID 211... <strong style=\"color:green\">(success).</strong>"
      ],
      "text/plain": [
       "<IPython.core.display.HTML object>"
      ]
     },
     "metadata": {},
     "output_type": "display_data"
    },
    {
     "data": {
      "application/vnd.jupyter.widget-view+json": {
       "model_id": "f65dd33605c843a8916b5f57ad87edf3",
       "version_major": 2,
       "version_minor": 0
      },
      "text/plain": [
       "VBox(children=(Label(value=' 0.28MB of 0.28MB uploaded (0.00MB deduped)\\r'), FloatProgress(value=1.0, max=1.0)…"
      ]
     },
     "metadata": {},
     "output_type": "display_data"
    },
    {
     "data": {
      "text/html": [
       "<style>\n",
       "    table.wandb td:nth-child(1) { padding: 0 10px; text-align: right }\n",
       "    .wandb-row { display: flex; flex-direction: row; flex-wrap: wrap; width: 100% }\n",
       "    .wandb-col { display: flex; flex-direction: column; flex-basis: 100%; flex: 1; padding: 10px; }\n",
       "    </style>\n",
       "<div class=\"wandb-row\"><div class=\"wandb-col\">\n",
       "<h3>Run history:</h3><br/><table class=\"wandb\"><tr><td>rmse</td><td>▁</td></tr></table><br/></div><div class=\"wandb-col\">\n",
       "<h3>Run summary:</h3><br/><table class=\"wandb\"><tr><td>rmse</td><td>0.61871</td></tr></table>\n",
       "</div></div>\n",
       "Synced 5 W&B file(s), 0 media file(s), 1 artifact file(s) and 0 other file(s)\n",
       "<br/>Synced <strong style=\"color:#cdcd00\">easy-cloud-2</strong>: <a href=\"https://wandb.ai/manaranjan/usedcarprod/runs/10y7fd4w\" target=\"_blank\">https://wandb.ai/manaranjan/usedcarprod/runs/10y7fd4w</a><br/>\n",
       "Find logs at: <code>./wandb/run-20211009_072150-10y7fd4w/logs</code><br/>\n"
      ],
      "text/plain": [
       "<IPython.core.display.HTML object>"
      ]
     },
     "metadata": {},
     "output_type": "display_data"
    }
   ],
   "source": [
    "wandb.save()\n",
    "wandb.finish()"
   ]
  },
  {
   "cell_type": "markdown",
   "metadata": {
    "id": "b3QnGb1_FotJ"
   },
   "source": [
    "### References:\n",
    "\n",
    "- https://docs.wandb.ai/guides/artifacts/model-versioning#version-and-store-reliably"
   ]
  },
  {
   "cell_type": "code",
   "execution_count": null,
   "metadata": {
    "colab": {
     "base_uri": "https://localhost:8080/"
    },
    "id": "OCFLW2OZSfXJ",
    "outputId": "02e4e228-cfc1-4bbf-d58e-22f766be50be"
   },
   "outputs": [
    {
     "data": {
      "text/plain": [
       "15"
      ]
     },
     "execution_count": 28,
     "metadata": {},
     "output_type": "execute_result"
    }
   ],
   "source": [
    "import skl2onnx \n",
    "\n",
    "skl2onnx.get_latest_tested_opset_version()"
   ]
  }
 ],
 "metadata": {
  "colab": {
   "collapsed_sections": [],
   "name": "Model Persistence 1.0.ipynb",
   "provenance": []
  },
  "kernelspec": {
   "display_name": "Python 3",
   "language": "python",
   "name": "python3"
  },
  "language_info": {
   "codemirror_mode": {
    "name": "ipython",
    "version": 3
   },
   "file_extension": ".py",
   "mimetype": "text/x-python",
   "name": "python",
   "nbconvert_exporter": "python",
   "pygments_lexer": "ipython3",
   "version": "3.8.5"
  },
  "widgets": {
   "application/vnd.jupyter.widget-state+json": {
    "158103e34c304b938aed9b5b594e3daf": {
     "model_module": "@jupyter-widgets/controls",
     "model_module_version": "1.5.0",
     "model_name": "DescriptionStyleModel",
     "state": {
      "_model_module": "@jupyter-widgets/controls",
      "_model_module_version": "1.5.0",
      "_model_name": "DescriptionStyleModel",
      "_view_count": null,
      "_view_module": "@jupyter-widgets/base",
      "_view_module_version": "1.2.0",
      "_view_name": "StyleView",
      "description_width": ""
     }
    },
    "3cdf77f4c21e45dbb022f87c6bcd0bbd": {
     "model_module": "@jupyter-widgets/base",
     "model_module_version": "1.2.0",
     "model_name": "LayoutModel",
     "state": {
      "_model_module": "@jupyter-widgets/base",
      "_model_module_version": "1.2.0",
      "_model_name": "LayoutModel",
      "_view_count": null,
      "_view_module": "@jupyter-widgets/base",
      "_view_module_version": "1.2.0",
      "_view_name": "LayoutView",
      "align_content": null,
      "align_items": null,
      "align_self": null,
      "border": null,
      "bottom": null,
      "display": null,
      "flex": null,
      "flex_flow": null,
      "grid_area": null,
      "grid_auto_columns": null,
      "grid_auto_flow": null,
      "grid_auto_rows": null,
      "grid_column": null,
      "grid_gap": null,
      "grid_row": null,
      "grid_template_areas": null,
      "grid_template_columns": null,
      "grid_template_rows": null,
      "height": null,
      "justify_content": null,
      "justify_items": null,
      "left": null,
      "margin": null,
      "max_height": null,
      "max_width": null,
      "min_height": null,
      "min_width": null,
      "object_fit": null,
      "object_position": null,
      "order": null,
      "overflow": null,
      "overflow_x": null,
      "overflow_y": null,
      "padding": null,
      "right": null,
      "top": null,
      "visibility": null,
      "width": null
     }
    },
    "54ac1fb3669f460292d6b1b7b526065f": {
     "model_module": "@jupyter-widgets/base",
     "model_module_version": "1.2.0",
     "model_name": "LayoutModel",
     "state": {
      "_model_module": "@jupyter-widgets/base",
      "_model_module_version": "1.2.0",
      "_model_name": "LayoutModel",
      "_view_count": null,
      "_view_module": "@jupyter-widgets/base",
      "_view_module_version": "1.2.0",
      "_view_name": "LayoutView",
      "align_content": null,
      "align_items": null,
      "align_self": null,
      "border": null,
      "bottom": null,
      "display": null,
      "flex": null,
      "flex_flow": null,
      "grid_area": null,
      "grid_auto_columns": null,
      "grid_auto_flow": null,
      "grid_auto_rows": null,
      "grid_column": null,
      "grid_gap": null,
      "grid_row": null,
      "grid_template_areas": null,
      "grid_template_columns": null,
      "grid_template_rows": null,
      "height": null,
      "justify_content": null,
      "justify_items": null,
      "left": null,
      "margin": null,
      "max_height": null,
      "max_width": null,
      "min_height": null,
      "min_width": null,
      "object_fit": null,
      "object_position": null,
      "order": null,
      "overflow": null,
      "overflow_x": null,
      "overflow_y": null,
      "padding": null,
      "right": null,
      "top": null,
      "visibility": null,
      "width": null
     }
    },
    "8a57bf3cf7704b2389322f0151c1ceae": {
     "model_module": "@jupyter-widgets/controls",
     "model_module_version": "1.5.0",
     "model_name": "ProgressStyleModel",
     "state": {
      "_model_module": "@jupyter-widgets/controls",
      "_model_module_version": "1.5.0",
      "_model_name": "ProgressStyleModel",
      "_view_count": null,
      "_view_module": "@jupyter-widgets/base",
      "_view_module_version": "1.2.0",
      "_view_name": "StyleView",
      "bar_color": null,
      "description_width": ""
     }
    },
    "8e9e802449bb46baa1183997f40c3b5d": {
     "model_module": "@jupyter-widgets/controls",
     "model_module_version": "1.5.0",
     "model_name": "FloatProgressModel",
     "state": {
      "_dom_classes": [],
      "_model_module": "@jupyter-widgets/controls",
      "_model_module_version": "1.5.0",
      "_model_name": "FloatProgressModel",
      "_view_count": null,
      "_view_module": "@jupyter-widgets/controls",
      "_view_module_version": "1.5.0",
      "_view_name": "ProgressView",
      "bar_style": "",
      "description": "",
      "description_tooltip": null,
      "layout": "IPY_MODEL_d7b3a733a31440c89090a91e8aca2dcc",
      "max": 1,
      "min": 0,
      "orientation": "horizontal",
      "style": "IPY_MODEL_8a57bf3cf7704b2389322f0151c1ceae",
      "value": 1
     }
    },
    "d7b3a733a31440c89090a91e8aca2dcc": {
     "model_module": "@jupyter-widgets/base",
     "model_module_version": "1.2.0",
     "model_name": "LayoutModel",
     "state": {
      "_model_module": "@jupyter-widgets/base",
      "_model_module_version": "1.2.0",
      "_model_name": "LayoutModel",
      "_view_count": null,
      "_view_module": "@jupyter-widgets/base",
      "_view_module_version": "1.2.0",
      "_view_name": "LayoutView",
      "align_content": null,
      "align_items": null,
      "align_self": null,
      "border": null,
      "bottom": null,
      "display": null,
      "flex": null,
      "flex_flow": null,
      "grid_area": null,
      "grid_auto_columns": null,
      "grid_auto_flow": null,
      "grid_auto_rows": null,
      "grid_column": null,
      "grid_gap": null,
      "grid_row": null,
      "grid_template_areas": null,
      "grid_template_columns": null,
      "grid_template_rows": null,
      "height": null,
      "justify_content": null,
      "justify_items": null,
      "left": null,
      "margin": null,
      "max_height": null,
      "max_width": null,
      "min_height": null,
      "min_width": null,
      "object_fit": null,
      "object_position": null,
      "order": null,
      "overflow": null,
      "overflow_x": null,
      "overflow_y": null,
      "padding": null,
      "right": null,
      "top": null,
      "visibility": null,
      "width": null
     }
    },
    "f65dd33605c843a8916b5f57ad87edf3": {
     "model_module": "@jupyter-widgets/controls",
     "model_module_version": "1.5.0",
     "model_name": "VBoxModel",
     "state": {
      "_dom_classes": [],
      "_model_module": "@jupyter-widgets/controls",
      "_model_module_version": "1.5.0",
      "_model_name": "VBoxModel",
      "_view_count": null,
      "_view_module": "@jupyter-widgets/controls",
      "_view_module_version": "1.5.0",
      "_view_name": "VBoxView",
      "box_style": "",
      "children": [
       "IPY_MODEL_fc6d0b217ac146e3aa5f8974dcaba423",
       "IPY_MODEL_8e9e802449bb46baa1183997f40c3b5d"
      ],
      "layout": "IPY_MODEL_54ac1fb3669f460292d6b1b7b526065f"
     }
    },
    "fc6d0b217ac146e3aa5f8974dcaba423": {
     "model_module": "@jupyter-widgets/controls",
     "model_module_version": "1.5.0",
     "model_name": "LabelModel",
     "state": {
      "_dom_classes": [],
      "_model_module": "@jupyter-widgets/controls",
      "_model_module_version": "1.5.0",
      "_model_name": "LabelModel",
      "_view_count": null,
      "_view_module": "@jupyter-widgets/controls",
      "_view_module_version": "1.5.0",
      "_view_name": "LabelView",
      "description": "",
      "description_tooltip": null,
      "layout": "IPY_MODEL_3cdf77f4c21e45dbb022f87c6bcd0bbd",
      "placeholder": "​",
      "style": "IPY_MODEL_158103e34c304b938aed9b5b594e3daf",
      "value": " 0.29MB of 0.29MB uploaded (0.00MB deduped)\r"
     }
    }
   }
  }
 },
 "nbformat": 4,
 "nbformat_minor": 1
}
