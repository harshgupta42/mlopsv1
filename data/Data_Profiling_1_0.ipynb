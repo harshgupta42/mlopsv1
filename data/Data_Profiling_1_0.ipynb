{
  "nbformat": 4,
  "nbformat_minor": 0,
  "metadata": {
    "colab": {
      "name": "Data Profiling 1.0 .ipynb",
      "provenance": [],
      "collapsed_sections": []
    },
    "kernelspec": {
      "name": "python3",
      "display_name": "Python 3"
    },
    "language_info": {
      "name": "python"
    },
    "accelerator": "GPU"
  },
  "cells": [
    {
      "cell_type": "markdown",
      "metadata": {
        "id": "l_rxUhyW750q"
      },
      "source": [
        "## Data Profiling:\n",
        "\n",
        "https://github.com/pandas-profiling/pandas-profiling"
      ]
    },
    {
      "cell_type": "code",
      "metadata": {
        "id": "OU8HPuuI-SpH"
      },
      "source": [
        "#!pip install pandas==0.25 \n",
        "!pip install -U pandas-profiling==2.8.0\n",
        "#!jupyter nbextension enable --py widgetsnbextension"
      ],
      "execution_count": null,
      "outputs": []
    },
    {
      "cell_type": "code",
      "metadata": {
        "id": "4EIo1yt-71lS"
      },
      "source": [
        "import numpy as np\n",
        "import pandas as pd\n",
        "import pandas_profiling\n",
        "from pandas_profiling import ProfileReport"
      ],
      "execution_count": null,
      "outputs": []
    },
    {
      "cell_type": "code",
      "metadata": {
        "id": "leVqaFTn9pKo"
      },
      "source": [
        "pd.__version__"
      ],
      "execution_count": null,
      "outputs": []
    },
    {
      "cell_type": "code",
      "metadata": {
        "id": "W3qws4Ax9zYs"
      },
      "source": [
        "np.__version__"
      ],
      "execution_count": null,
      "outputs": []
    },
    {
      "cell_type": "markdown",
      "metadata": {
        "id": "J_SL2ZkKOl1-"
      },
      "source": [
        "## Loading the dataset"
      ]
    },
    {
      "cell_type": "code",
      "metadata": {
        "id": "ZlunJe6J8A0W"
      },
      "source": [
        "cars_df = pd.read_csv( \"https://drive.google.com/uc?export=download&id=1V_VBbyjGj6vvD0A90S5Lk0DG90djz28B\" )"
      ],
      "execution_count": null,
      "outputs": []
    },
    {
      "cell_type": "code",
      "metadata": {
        "id": "NRJbpf9F9Kzq"
      },
      "source": [
        "cars_df.head(5)"
      ],
      "execution_count": null,
      "outputs": []
    },
    {
      "cell_type": "markdown",
      "metadata": {
        "id": "R0Hb-KuAOn6h"
      },
      "source": [
        "## Creating the data profile"
      ]
    },
    {
      "cell_type": "code",
      "metadata": {
        "id": "n-sd6Mfv8USZ"
      },
      "source": [
        "profile = ProfileReport(cars_df, title = 'Used Cars Data Profiling Report')"
      ],
      "execution_count": null,
      "outputs": []
    },
    {
      "cell_type": "code",
      "metadata": {
        "id": "rWANFIGORAJl"
      },
      "source": [
        "profile.to_notebook_iframe()"
      ],
      "execution_count": null,
      "outputs": []
    },
    {
      "cell_type": "code",
      "metadata": {
        "id": "uf1nPoyw-p3U"
      },
      "source": [
        "profile.to_file(\"usedcar_report.html\")"
      ],
      "execution_count": null,
      "outputs": []
    },
    {
      "cell_type": "code",
      "metadata": {
        "id": "UuSoyRZYRFFR"
      },
      "source": [
        ""
      ],
      "execution_count": null,
      "outputs": []
    }
  ]
}